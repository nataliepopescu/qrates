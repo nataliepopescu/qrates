{
 "cells": [
  {
   "cell_type": "markdown",
   "metadata": {},
   "source": [
    "# RQ 5 (Motivation)\n",
    "\n",
    "> What are the most prevalent use cases for unsafe code?\n",
    "\n",
    "## Use Case 5: Foreign Functions\n",
    "\n",
    "### Query 12\n",
    "\n",
    "> we count *how many types are equipped with #[repr(C)]*.\n",
    "\n",
    "### Query 13\n",
    "\n",
    "> We thus classify *all -sys crates* as belonging to this use case.\n",
    "\n",
    "### Query 14\n",
    "\n",
    "> we determine *how many unsafe functions are declared with a foreign ABI*.\n",
    "\n",
    "### Query 15\n",
    "\n",
    "> we search for *usages of inline assembly* via the asm! macro.\n",
    "\n",
    "## Use Case 6: Performance\n",
    "\n",
    "### Query 16\n",
    "\n",
    "> we *search for unchecked functions* (those with \"unchecked\" in their name).\n",
    "\n",
    "### Query 17\n",
    "\n",
    "> we determine whether *unsafe blocks contain the special union type MaybeUninit*\n"
   ]
  },
  {
   "cell_type": "markdown",
   "metadata": {},
   "source": [
    "## Setup"
   ]
  },
  {
   "cell_type": "code",
   "execution_count": 1,
   "metadata": {},
   "outputs": [
    {
     "name": "stdout",
     "output_type": "stream",
     "text": [
      "Requirement already satisfied: plotly in /opt/conda/lib/python3.8/site-packages (4.11.0)\r\n",
      "Requirement already satisfied: six in /opt/conda/lib/python3.8/site-packages (from plotly) (1.15.0)\r\n",
      "Requirement already satisfied: retrying>=1.3.3 in /opt/conda/lib/python3.8/site-packages (from plotly) (1.3.3)\r\n"
     ]
    }
   ],
   "source": [
    "#TMPDIR=/exploreunsafe/tmp/ pip install --cache-dir=/exploreunsafe/tmp/ --build /exploreunsafe/tmp/ plotly\n",
    "#!pip uninstall plotly\n",
    "!pip install --no-cache-dir plotly\n",
    "\n",
    "# import libraries\n",
    "import itertools\n",
    "import functools\n",
    "import numpy as np\n",
    "import pandas as pd\n",
    "import matplotlib.pyplot as plt\n",
    "from sklearn import tree\n",
    "\n",
    "import utils\n",
    "import top_crates\n",
    "from whitelists import *\n",
    "from drawing import *\n",
    "\n",
    "# Configure pyplot: enlarge plots \n",
    "plt.rcParams['figure.figsize'] = [15, 8]\n",
    "# Configure pandas: show all columns when printing a dataframe\n",
    "pd.set_option('display.max_columns', None)\n",
    "# Configure pandas: show more rows when printing a dataframe\n",
    "pd.set_option('display.min_rows', 20)"
   ]
  },
  {
   "cell_type": "code",
   "execution_count": 2,
   "metadata": {},
   "outputs": [],
   "source": [
    "# Load tables\n",
    "\n",
    "function_definitions_loaded = utils.load_selected_function_definitions()\n",
    "raw_function_unsafe_reasons_loaded = utils.load_unsafe_reasons_in_function_definitions()\n",
    "unsafe_block_calls_loaded = utils.load_unsafe_block_calls()\n",
    "const_calls_loaded = utils.load_const_calls()\n",
    "unsafe_blocks_loaded = utils.load_unsafe_blocks()\n",
    "traits_loaded = utils.load_selected_traits()\n",
    "traits_impls_loaded = utils.load_selected_impl_definitions()\n",
    "type_defs_loaded = utils.load_selected_type_defs()\n",
    "adts_loaded = utils.load_selected_adts()\n",
    "adt_field_types_loaded = utils.load_selected_adt_field_types()\n",
    "selected_builds_loaded = utils.load_selected_builds()"
   ]
  },
  {
   "cell_type": "markdown",
   "metadata": {},
   "source": [
    "Note:\n",
    "* `function_definitions_loaded` contain the function definition from our selected list of crates.\n",
    "* `raw_function_unsafe_reasons_loaded` contain unsafety reasons for potentially **any** function.\n",
    "As a result, the set of functions mentioned in each relation are incomparable."
   ]
  },
  {
   "cell_type": "code",
   "execution_count": 3,
   "metadata": {},
   "outputs": [],
   "source": [
    "# Validation\n",
    "#for crate in trusted_crate_names:\n",
    "#   assert len(function_definitions_loaded[function_definitions_loaded.crate == crate]) > 0\n",
    "assert function_definitions_loaded[function_definitions_loaded.unsafety == \"Unknown\"].abi.unique() == [\"Closure\"]\n",
    "\n",
    "# Cleanup: remove duplicates\n",
    "raw_function_unsafe_reasons_dedup = raw_function_unsafe_reasons_loaded.drop_duplicates()\n",
    "\n",
    "# Def Path is a key only in selected builds. Therefore, here we need to mix build information with the def path\n",
    "raw_function_unsafe_reasons_dedup['key_def_path'] = raw_function_unsafe_reasons_dedup[['crate_hash', 'def_path']].apply(\n",
    "    lambda row: tuple(row), axis=1)\n",
    "function_definitions_loaded['key_def_path'] = function_definitions_loaded[['crate_hash', 'def_path']].apply(\n",
    "    lambda row: tuple(row), axis=1)\n",
    "unsafe_blocks_loaded['key_def_path'] = unsafe_blocks_loaded[['crate_hash', 'def_path']].apply(\n",
    "    lambda row: tuple(row), axis=1)\n",
    "\n",
    "# Remove functions that are not in function_definitions_loaded\n",
    "raw_function_unsafe_reasons_all = raw_function_unsafe_reasons_dedup[\n",
    "    raw_function_unsafe_reasons_dedup.key_def_path.isin(set(function_definitions_loaded.key_def_path.unique()))\n",
    "]\n",
    "#assert len(raw_function_unsafe_reasons_all) > 10000\n",
    "\n",
    "possible_unsafe_reasons = [\n",
    "    \"call to unsafe function\",\n",
    "    \"use of inline assembly\",\n",
    "    \"initializing type with `rustc_layout_scalar_valid_range` attr\",\n",
    "    \"cast of pointer to int\",\n",
    "    \"pointer operation\",\n",
    "    \"borrow of packed field\",\n",
    "    \"use of mutable static\",\n",
    "    \"use of extern static\",\n",
    "    \"dereference of raw pointer\",\n",
    "    \"assignment to non-`Copy` union field\",\n",
    "    \"access to union field\",\n",
    "    \"mutation of layout constrained field\",\n",
    "    \"borrow of layout constrained field with interior mutability\",\n",
    "]\n",
    "\n",
    "# Validation\n",
    "assert not raw_function_unsafe_reasons_all.duplicated().any()\n",
    "assert set(raw_function_unsafe_reasons_all.unsafe_reason.unique()).issubset(possible_unsafe_reasons)\n",
    "assert function_definitions_loaded[function_definitions_loaded.unsafety == \"Unknown\"].abi.unique() == [\"Closure\"]"
   ]
  },
  {
   "cell_type": "code",
   "execution_count": 4,
   "metadata": {},
   "outputs": [],
   "source": [
    "# Unsafe function definitions\n",
    "unsafe_function_definitions = function_definitions_loaded.query(\n",
    "    'unsafety == \"Unsafe\"')\n",
    "# Completely safe function definitions (note: could still contain closures that are unsafe)\n",
    "safe_function_definitions = function_definitions_loaded.query(\n",
    "    '(unsafety != \"Unsafe\") & (unsafe_block_count == 0)')\n",
    "# Safe function definitions with only compiler generated unsafe\n",
    "safe_function_definitions_only_generated_unsafe = function_definitions_loaded.query(\n",
    "    '(unsafe_block_count > 0) & user_unsafe_block_count == 0')\n",
    "# Safe function definitions with only user written unsafe\n",
    "safe_function_definitions_only_user_unsafe = function_definitions_loaded.query(\n",
    "    '(unsafe_block_count == user_unsafe_block_count) & user_unsafe_block_count > 0')\n",
    "# Safe function definitions with both compiler generated and user written unsafe\n",
    "safe_function_definitions_both_compiler_user_unsafe = function_definitions_loaded.query(\n",
    "    '(unsafe_block_count > user_unsafe_block_count) & user_unsafe_block_count != 0')\n",
    "assert len(function_definitions_loaded) == (\n",
    "    len(unsafe_function_definitions) + \n",
    "    len(safe_function_definitions) +\n",
    "    len(safe_function_definitions_only_generated_unsafe) +\n",
    "    len(safe_function_definitions_only_user_unsafe) +\n",
    "    len(safe_function_definitions_both_compiler_user_unsafe)\n",
    ")"
   ]
  },
  {
   "cell_type": "code",
   "execution_count": 5,
   "metadata": {
    "scrolled": false
   },
   "outputs": [
    {
     "name": "stdout",
     "output_type": "stream",
     "text": [
      "Number of safe function defs with compiler-generated and user-written unsafe code: 4\n",
      "Number of unsafe blocks in functions with both kinds of unsafe: 4\n",
      "updns crate:\n",
      " Empty DataFrame\n",
      "Columns: [build, package, version, crate, crate_hash, edition, crate_types]\n",
      "Index: []\n",
      "https://github.com/wyhaya/updns/blob/e81d6de3559441a460d396bf9cb71ec6558bf7f1/src/main.rs#L285 – use of mutable static\n",
      "https://github.com/wyhaya/updns/blob/e81d6de3559441a460d396bf9cb71ec6558bf7f1/src/main.rs#L290 – use of mutable static\n",
      "lpc11xx_async_hal crate:\n",
      " Empty DataFrame\n",
      "Columns: [build, package, version, crate, crate_hash, edition, crate_types]\n",
      "Index: []\n",
      "https://docs.rs/lpc11xx-async-hal/0.1.3/src/lpc11xx_async_hal/adc.rs.html#96 – use of mutable static\n",
      "https://docs.rs/lpc11xx-async-hal/0.1.3/src/lpc11xx_async_hal/adc.rs.html#256 – use of mutable static\n",
      "https://docs.rs/lpc11xx-async-hal/0.1.3/src/lpc11xx_async_hal/i2c.rs.html#138 – call to unsafe function\n",
      "https://docs.rs/lpc11xx-async-hal/0.1.3/src/lpc11xx_async_hal/i2c.rs.html#141 – call to unsafe function\n",
      "https://docs.rs/lpc11xx-async-hal/0.1.3/src/lpc11xx_async_hal/i2c.rs.html#149 – call to unsafe function\n",
      "https://docs.rs/lpc11xx-async-hal/0.1.3/src/lpc11xx_async_hal/i2c.rs.html#151 – use of mutable static\n",
      "https://docs.rs/lpc11xx-async-hal/0.1.3/src/lpc11xx_async_hal/uart.rs.html#272 – use of mutable static\n",
      "https://docs.rs/lpc11xx-async-hal/0.1.3/src/lpc11xx_async_hal/uart.rs.html#287 – use of mutable static\n",
      "https://docs.rs/lpc11xx-async-hal/0.1.3/src/lpc11xx_async_hal/uart.rs.html#403 – use of mutable static\n",
      "Number of user-written unsafe functions: 4\n"
     ]
    },
    {
     "data": {
      "text/html": [
       "<div>\n",
       "<style scoped>\n",
       "    .dataframe tbody tr th:only-of-type {\n",
       "        vertical-align: middle;\n",
       "    }\n",
       "\n",
       "    .dataframe tbody tr th {\n",
       "        vertical-align: top;\n",
       "    }\n",
       "\n",
       "    .dataframe thead th {\n",
       "        text-align: right;\n",
       "    }\n",
       "</style>\n",
       "<table border=\"1\" class=\"dataframe\">\n",
       "  <thead>\n",
       "    <tr style=\"text-align: right;\">\n",
       "      <th></th>\n",
       "      <th>build</th>\n",
       "      <th>crate</th>\n",
       "      <th>crate_hash</th>\n",
       "      <th>def_path</th>\n",
       "      <th>def_path_hash</th>\n",
       "      <th>summary_key</th>\n",
       "      <th>scope</th>\n",
       "      <th>check_mode</th>\n",
       "      <th>span</th>\n",
       "      <th>expansion_kind</th>\n",
       "      <th>expansion_kind_descr</th>\n",
       "      <th>file_name</th>\n",
       "      <th>line</th>\n",
       "      <th>col</th>\n",
       "      <th>key_def_path</th>\n",
       "    </tr>\n",
       "  </thead>\n",
       "  <tbody>\n",
       "  </tbody>\n",
       "</table>\n",
       "</div>"
      ],
      "text/plain": [
       "Empty DataFrame\n",
       "Columns: [build, crate, crate_hash, def_path, def_path_hash, summary_key, scope, check_mode, span, expansion_kind, expansion_kind_descr, file_name, line, col, key_def_path]\n",
       "Index: []"
      ]
     },
     "execution_count": 5,
     "metadata": {},
     "output_type": "execute_result"
    }
   ],
   "source": [
    "# Investigate the cases that mix user written and compiler generated unsafe\n",
    "#assert len(safe_function_definitions_both_compiler_user_unsafe) == 60\n",
    "print(\"Number of safe function defs with compiler-generated and user-written unsafe code:\", len(safe_function_definitions_both_compiler_user_unsafe))\n",
    "safe_function_definitions_both_compiler_user_unsafe_def_paths = set(\n",
    "    safe_function_definitions_both_compiler_user_unsafe.key_def_path)\n",
    "#assert len(safe_function_definitions_both_compiler_user_unsafe_def_paths) == 60\n",
    "unsafe_blocks_in_functions_with_both_user_and_compiler_unsafe = unsafe_blocks_loaded[\n",
    "    unsafe_blocks_loaded.key_def_path.isin(safe_function_definitions_both_compiler_user_unsafe_def_paths)\n",
    "]\n",
    "# Check that all these mixed functions are generated because of await desugaring\n",
    "#assert 60 == len(unsafe_blocks_in_functions_with_both_user_and_compiler_unsafe.query(\n",
    "#    'expansion_kind == \"DesugaringAwait\"'\n",
    "#).key_def_path.unique())\n",
    "print(\"Number of unsafe blocks in functions with both kinds of unsafe:\", len(unsafe_blocks_in_functions_with_both_user_and_compiler_unsafe.query(\n",
    "    'expansion_kind == \"DesugaringAwait\"'\n",
    ").key_def_path.unique()))\n",
    "\n",
    "# Check that DesugaringAwait is the only reason why we have compiler generated unsafe.\n",
    "assert len(unsafe_blocks_in_functions_with_both_user_and_compiler_unsafe.query(\n",
    "    'check_mode == \"UnsafeBlockCompilerGenerated\"'\n",
    ")) == len(unsafe_blocks_in_functions_with_both_user_and_compiler_unsafe.query(\n",
    "    '(expansion_kind == \"DesugaringAwait\") & (check_mode == \"UnsafeBlockCompilerGenerated\")'\n",
    "))\n",
    "#print(\"Number of compiler-generated unsafes due to 'DesugaringAwait':\", len(unsafe_blocks_in_functions_with_both_user_and_compiler_unsafe.query(\n",
    "#    'check_mode == \"UnsafeBlockCompilerGenerated\"'\n",
    "#)))\n",
    "#print(\"Number of compiler-generated unsafes due to 'DesugaringAwait' & 'UnsafeBlockCompilerGenerated':\", len(unsafe_blocks_in_functions_with_both_user_and_compiler_unsafe.query(\n",
    "#    '(expansion_kind == \"DesugaringAwait\") & (check_mode == \"UnsafeBlockCompilerGenerated\")'\n",
    "#)))\n",
    "\n",
    "function_unsafe_reasons_both_user_and_compiler = raw_function_unsafe_reasons_all[\n",
    "    raw_function_unsafe_reasons_all.key_def_path.isin(safe_function_definitions_both_compiler_user_unsafe_def_paths)\n",
    "]\n",
    "# Check that the reason of unsafety for DesugaringAwait is call to unsafe function\n",
    "#assert [('call to unsafe function', 60), ('use of mutable static', 7)] == sorted((\n",
    "#    function_unsafe_reasons_both_user_and_compiler.unsafe_reason.value_counts().iteritems()\n",
    "#))\n",
    "\n",
    "# Manually inspect the remaining blocks and remove “call to unsafe function” reasons if necessary\n",
    "function_unsafe_reasons_remove_calls = []\n",
    "print('updns crate:\\n', selected_builds_loaded.query('build == 11020'))\n",
    "print('https://github.com/wyhaya/updns/blob/e81d6de3559441a460d396bf9cb71ec6558bf7f1/src/main.rs#L285 – use of mutable static')\n",
    "print('https://github.com/wyhaya/updns/blob/e81d6de3559441a460d396bf9cb71ec6558bf7f1/src/main.rs#L290 – use of mutable static')\n",
    "function_unsafe_reasons_remove_calls.append('cd86bedfe9071fa945e8cb87e450b65')\n",
    "print('lpc11xx_async_hal crate:\\n', selected_builds_loaded.query('build == 58828'))\n",
    "print('https://docs.rs/lpc11xx-async-hal/0.1.3/src/lpc11xx_async_hal/adc.rs.html#96 – use of mutable static')\n",
    "function_unsafe_reasons_remove_calls.append('33ffc84e652c71a107236d36e63b662')\n",
    "print('https://docs.rs/lpc11xx-async-hal/0.1.3/src/lpc11xx_async_hal/adc.rs.html#256 – use of mutable static')\n",
    "function_unsafe_reasons_remove_calls.append('5cd1a3ed1ea256153405ef9b7c2b3057')\n",
    "print('https://docs.rs/lpc11xx-async-hal/0.1.3/src/lpc11xx_async_hal/i2c.rs.html#138 – call to unsafe function')\n",
    "print('https://docs.rs/lpc11xx-async-hal/0.1.3/src/lpc11xx_async_hal/i2c.rs.html#141 – call to unsafe function')\n",
    "print('https://docs.rs/lpc11xx-async-hal/0.1.3/src/lpc11xx_async_hal/i2c.rs.html#149 – call to unsafe function')\n",
    "print('https://docs.rs/lpc11xx-async-hal/0.1.3/src/lpc11xx_async_hal/i2c.rs.html#151 – use of mutable static')\n",
    "# function_unsafe_reasons_remove_calls.append('ba5ecffee556720df525167c4ca5d1d4')\n",
    "print('https://docs.rs/lpc11xx-async-hal/0.1.3/src/lpc11xx_async_hal/uart.rs.html#272 – use of mutable static')\n",
    "function_unsafe_reasons_remove_calls.append('87cc17d68af1fad927a9517427800bf4')\n",
    "print('https://docs.rs/lpc11xx-async-hal/0.1.3/src/lpc11xx_async_hal/uart.rs.html#287 – use of mutable static')\n",
    "function_unsafe_reasons_remove_calls.append('3356da7a2118ca99c92d660bf46a087e')\n",
    "print('https://docs.rs/lpc11xx-async-hal/0.1.3/src/lpc11xx_async_hal/uart.rs.html#403 – use of mutable static')\n",
    "function_unsafe_reasons_remove_calls.append('e20184cf246ca07129b3e3cf943d0b0a')\n",
    "function_unsafe_reasons_only_user = function_unsafe_reasons_both_user_and_compiler[\n",
    "    ~(function_unsafe_reasons_both_user_and_compiler.def_path_hash.isin(function_unsafe_reasons_remove_calls) &\n",
    "      (function_unsafe_reasons_both_user_and_compiler.unsafe_reason == 'call to unsafe function'))\n",
    "]\n",
    "#assert len(function_unsafe_reasons_only_user) == 61\n",
    "print(\"Number of user-written unsafe functions:\", len(function_unsafe_reasons_only_user))\n",
    "\n",
    "number_of_manually_removed_compiler_reasons = (\n",
    "    len(function_unsafe_reasons_both_user_and_compiler) -\n",
    "    len(function_unsafe_reasons_only_user))\n",
    "unsafe_blocks_loaded[\n",
    "    unsafe_blocks_loaded.def_path.isin(\n",
    "        function_unsafe_reasons_both_user_and_compiler.query(\n",
    "            'unsafe_reason == \"use of mutable static\"'\n",
    "        ).def_path.unique())\n",
    "].query('check_mode == \"UnsafeBlockUserProvided\"')"
   ]
  },
  {
   "cell_type": "code",
   "execution_count": 6,
   "metadata": {
    "scrolled": true
   },
   "outputs": [],
   "source": [
    "# Assemble the list of reasons that contains only user-written unsafe blocks\n",
    "\n",
    "assert len(set(safe_function_definitions_only_generated_unsafe.def_path.unique()).intersection(\n",
    "                safe_function_definitions_both_compiler_user_unsafe_def_paths)) == 0\n",
    "assert len(safe_function_definitions_only_generated_unsafe.def_path.unique()) > 0\n",
    "assert len(safe_function_definitions_both_compiler_user_unsafe_def_paths) > 0\n",
    "safe_function_definitions_all_generated_def_paths = set(\n",
    "    safe_function_definitions_only_generated_unsafe.key_def_path.unique()\n",
    ").union(safe_function_definitions_both_compiler_user_unsafe_def_paths)\n",
    "assert (len(safe_function_definitions_all_generated_def_paths) ==\n",
    "        len(safe_function_definitions_only_generated_unsafe.def_path.unique()) +\n",
    "        len(safe_function_definitions_both_compiler_user_unsafe_def_paths)), (\n",
    "    len(safe_function_definitions_all_generated_def_paths),\n",
    "    len(safe_function_definitions_only_generated_unsafe.def_path.unique()),\n",
    "    len(safe_function_definitions_both_compiler_user_unsafe_def_paths)\n",
    ")\n",
    "\n",
    "function_definitions_def_paths = set(function_definitions_loaded.key_def_path.unique())\n",
    "assert safe_function_definitions_all_generated_def_paths.issubset(function_definitions_def_paths)\n",
    "\n",
    "raw_function_unsafe_reasons_without_all_generated = raw_function_unsafe_reasons_dedup[\n",
    "    raw_function_unsafe_reasons_dedup.key_def_path.isin(\n",
    "        function_definitions_def_paths.difference(safe_function_definitions_all_generated_def_paths)\n",
    "    )\n",
    "]\n",
    "raw_function_unsafe_reasons = pd.concat(\n",
    "    [raw_function_unsafe_reasons_without_all_generated, function_unsafe_reasons_only_user]).drop_duplicates()\n",
    "assert (len(raw_function_unsafe_reasons) ==\n",
    "        len(raw_function_unsafe_reasons_without_all_generated) +\n",
    "        len(function_unsafe_reasons_only_user))"
   ]
  },
  {
   "cell_type": "code",
   "execution_count": 7,
   "metadata": {},
   "outputs": [],
   "source": [
    "# Check consistency\n",
    "raw_function_unsafe_reasons_generated = raw_function_unsafe_reasons_dedup[\n",
    "    raw_function_unsafe_reasons_dedup.key_def_path.isin(\n",
    "        set(safe_function_definitions_only_generated_unsafe.key_def_path.unique())\n",
    "    )\n",
    "]\n",
    "raw_function_unsafe_reasons_all_defs = set(raw_function_unsafe_reasons_all.def_path.unique())\n",
    "raw_function_unsafe_reasons_generated_defs = set(raw_function_unsafe_reasons_generated.def_path.unique())\n",
    "raw_function_unsafe_reasons_defs = set(raw_function_unsafe_reasons.def_path.unique())\n",
    "assert raw_function_unsafe_reasons_generated_defs.issubset(raw_function_unsafe_reasons_all_defs)\n",
    "assert raw_function_unsafe_reasons_defs.issubset(raw_function_unsafe_reasons_all_defs)\n",
    "assert len(raw_function_unsafe_reasons_generated_defs.intersection(raw_function_unsafe_reasons_defs)) == 0\n",
    "\n",
    "assert (len(raw_function_unsafe_reasons_all) ==\n",
    "        len(raw_function_unsafe_reasons) +\n",
    "        len(raw_function_unsafe_reasons_generated) +\n",
    "        number_of_manually_removed_compiler_reasons\n",
    "    ), (\n",
    "    len(raw_function_unsafe_reasons_all),\n",
    "    len(raw_function_unsafe_reasons),\n",
    "    len(raw_function_unsafe_reasons_generated),\n",
    "    number_of_manually_removed_compiler_reasons,\n",
    ")\n",
    "assert (len(raw_function_unsafe_reasons_all_defs) - len(raw_function_unsafe_reasons_generated_defs) ==\n",
    "      len(raw_function_unsafe_reasons_defs))"
   ]
  },
  {
   "cell_type": "code",
   "execution_count": 8,
   "metadata": {
    "scrolled": false
   },
   "outputs": [],
   "source": [
    "# Validation: unsafe reasons should be a subset of unsafe functions and safe wrapper functions\n",
    "raw_function_unsafe_reasons_dedup_def_path_set = set(raw_function_unsafe_reasons_all.def_path.unique())\n",
    "functions_with_some_unsafe = set(\n",
    "    function_definitions_loaded.query(\n",
    "        '(unsafe_block_count > 0) | (unsafety == \"Unsafe\")'\n",
    "    ).def_path.unique()\n",
    ")\n",
    "unknown_functions_with_reasons = (\n",
    "    raw_function_unsafe_reasons_dedup_def_path_set.difference(functions_with_some_unsafe))\n",
    "closures_with_some_unsafe = set()\n",
    "for original_def_path in unknown_functions_with_reasons:\n",
    "    def check_closure(def_path):\n",
    "        if '{{closure}}' in def_path:\n",
    "            new_def_path = '::'.join(def_path.split('::')[:-1])\n",
    "            if new_def_path in functions_with_some_unsafe:\n",
    "                closures_with_some_unsafe.add(original_def_path)\n",
    "            else:\n",
    "                check_closure(new_def_path)\n",
    "    check_closure(original_def_path)\n",
    "unrecognized_functions_with_reasons = (unknown_functions_with_reasons.difference(closures_with_some_unsafe))\n",
    "# As pointed out by Ralf Jung, these should require unsafe,\n",
    "# but they do not because of a compiler bug.\n",
    "functions_with_packed_field_borrows = (\n",
    "    raw_function_unsafe_reasons_all.query(\"unsafe_reason == 'borrow of packed field'\").def_path)\n",
    "\n",
    "# The only remaining thing is an unsafe static initializer from\n",
    "# https://github.com/woboq/qmetaobject-rs/blob/e89213990dd22e2bff977140c1a508ede60f744f/qmetaobject/src/future.rs#L6\n",
    "#assert (sorted(unrecognized_functions_with_reasons.difference(functions_with_packed_field_borrows)) ==\n",
    "#       ['qmetaobject[d1fb]::future[0]::QTWAKERVTABLE[0]::{{closure}}[0]',\n",
    "#        'qmetaobject[d1fb]::future[0]::QTWAKERVTABLE[0]::{{closure}}[1]',\n",
    "#        'qmetaobject[d1fb]::future[0]::QTWAKERVTABLE[0]::{{closure}}[2]',\n",
    "#        'qmetaobject[d1fb]::future[0]::QTWAKERVTABLE[0]::{{closure}}[3]'])"
   ]
  },
  {
   "cell_type": "code",
   "execution_count": 9,
   "metadata": {},
   "outputs": [],
   "source": [
    "# Generate the list for Ralf.\n",
    "raw_function_unsafe_reasons_all.query(\"unsafe_reason == 'borrow of packed field'\").to_csv('packed_fields.csv')"
   ]
  },
  {
   "cell_type": "code",
   "execution_count": 10,
   "metadata": {},
   "outputs": [],
   "source": [
    "# Augment const calls made from unsafe blocks\n",
    "unsafe_block_const_calls = unsafe_block_calls_loaded.join(\n",
    "    const_calls_loaded.set_index(\"call\"),\n",
    "    on=\"call\",\n",
    "    how=\"inner\",\n",
    "    rsuffix=\"_defsite\",\n",
    ")\n",
    "# Rename confusing columns\n",
    "unsafe_block_const_calls.rename(\n",
    "    columns={\"crate_name\": \"crate_callsite\", \"crate\": \"crate_defsite\"},\n",
    "    inplace=True\n",
    ")\n",
    "\n",
    "# Keep only user written unsafe blocks\n",
    "unsafe_blocks = unsafe_blocks_loaded.query('check_mode == \"UnsafeBlockUserProvided\"')\n",
    "unsafe_block_const_calls = unsafe_block_const_calls.query('check_mode == \"UnsafeBlockUserProvided\"')\n",
    "\n",
    "# Validation\n",
    "assert len(unsafe_block_const_calls.query(\"crate_defsite == crate_callsite\")) > 0\n",
    "assert len(unsafe_block_const_calls.query(\"crate_defsite != crate_callsite\")) > 0"
   ]
  },
  {
   "cell_type": "code",
   "execution_count": 11,
   "metadata": {},
   "outputs": [],
   "source": [
    "# Whitelists\n",
    "all_function_names = set(function_definitions_loaded.key_def_path.unique())\n",
    "unchecked_function_names = get_unchecked_function_names(set(function_definitions_loaded.def_path.unique()))\n",
    "\n",
    "# Validation\n",
    "#assert \"std\" in function_definitions_loaded.crate.unique() # FIXME what does false here really mean..?"
   ]
  },
  {
   "cell_type": "markdown",
   "metadata": {},
   "source": [
    "## Reasons for Unsafety in the Rust Compiler\n",
    "\n",
    "> we first identified a set of independent reasons why the compiler requires unsafe blocks\n",
    "and functions to be declared unsafe. We extracted these reasons from the source code of the Rust\n",
    "compiler [Rust Team 2020a]. "
   ]
  },
  {
   "cell_type": "markdown",
   "metadata": {},
   "source": [
    "Note: “borrow of packed field” does not require an unsafe block due to a compiler bug (https://github.com/rust-lang/rust/issues/27060)"
   ]
  },
  {
   "cell_type": "code",
   "execution_count": 12,
   "metadata": {},
   "outputs": [],
   "source": [
    "function_unsafe_reasons = raw_function_unsafe_reasons[\n",
    "    [\"crate_name\", \"crate_hash\", \"key_def_path\", \"unsafe_reason\"]\n",
    "].groupby(\"key_def_path\").agg(frozenset).rename(\n",
    "    columns={'unsafe_reason': 'unsafe_reasons'}\n",
    ")\n",
    "\n",
    "function_unsafe_reasons[\"unsafe_reasons_vec\"] = function_unsafe_reasons.unsafe_reasons.map(\n",
    "    lambda x: [reason in x for reason in possible_unsafe_reasons]\n",
    ")\n",
    "function_unsafe_reasons[\"num_unsafe_reasons\"] = function_unsafe_reasons.unsafe_reasons_vec.map(sum)\n",
    "\n",
    "for reason in possible_unsafe_reasons:\n",
    "    function_unsafe_reasons[reason] = function_unsafe_reasons.unsafe_reasons.map(\n",
    "        lambda x: reason in x\n",
    "    )"
   ]
  },
  {
   "cell_type": "markdown",
   "metadata": {},
   "source": [
    "#### Results from the paper for comparison (Table 3)\n",
    "\n",
    "> Then, we collected which reasons apply to the implementation of\n",
    "each function (either the body of an unsafe function or the unsafe blocks inside a safe function).\n",
    "\n",
    "![Table 3](pics/reasons-why-unsafe.png)\n"
   ]
  },
  {
   "cell_type": "code",
   "execution_count": 13,
   "metadata": {},
   "outputs": [
    {
     "name": "stdout",
     "output_type": "stream",
     "text": [
      "call to unsafe function                                          7394\n",
      "dereference of raw pointer                                       1288\n",
      "access to union field                                              72\n",
      "use of extern static                                               41\n",
      "use of mutable static                                              33\n",
      "borrow of packed field                                              2\n",
      "borrow of layout constrained field with interior mutability         0\n",
      "mutation of layout constrained field                                0\n",
      "assignment to non-`Copy` union field                                0\n",
      "pointer operation                                                   0\n",
      "cast of pointer to int                                              0\n",
      "initializing type with `rustc_layout_scalar_valid_range` attr       0\n",
      "use of inline assembly                                              0\n",
      "dtype: int64\n",
      "call to unsafe function                                          90.126767\n",
      "dereference of raw pointer                                       15.699659\n",
      "access to union field                                             0.877621\n",
      "use of extern static                                              0.499756\n",
      "use of mutable static                                             0.402243\n",
      "borrow of packed field                                            0.024378\n",
      "borrow of layout constrained field with interior mutability       0.000000\n",
      "mutation of layout constrained field                              0.000000\n",
      "assignment to non-`Copy` union field                              0.000000\n",
      "pointer operation                                                 0.000000\n",
      "cast of pointer to int                                            0.000000\n",
      "initializing type with `rustc_layout_scalar_valid_range` attr     0.000000\n",
      "use of inline assembly                                            0.000000\n",
      "dtype: float64\n"
     ]
    },
    {
     "data": {
      "image/png": "[encoded data removed]",
      "text/plain": [
       "<Figure size 1080x576 with 1 Axes>"
      ]
     },
     "metadata": {
      "needs_background": "light"
     },
     "output_type": "display_data"
    }
   ],
   "source": [
    "# Frequency of each reason\n",
    "values = function_unsafe_reasons[possible_unsafe_reasons].apply(sum).sort_values(ascending=False)\n",
    "function_count = len(pd.unique(raw_function_unsafe_reasons['key_def_path']))\n",
    "print(values)\n",
    "print(values/function_count*100)\n",
    "values.plot.bar(\n",
    "    legend=False,\n",
    "    color=['b'],\n",
    "    logy=True,\n",
    ");\n",
    "del values"
   ]
  },
  {
   "cell_type": "markdown",
   "metadata": {},
   "source": [
    "#### Results from the paper for comparison\n",
    "\n",
    "> A block or function may be unsafe for multiple reasons. We found that for 83.5% of all functions that have at least one reason of unsafety, calling unsafe functions is the only reason of unsafety. In 93.6% of the functions, unsafety is due only to the first 2 entries of the table, and that in 99.4% of the functions, all reasons for unsafety are among the top 3 entries of the table.\n"
   ]
  },
  {
   "cell_type": "code",
   "execution_count": 14,
   "metadata": {},
   "outputs": [
    {
     "data": {
      "text/plain": [
       "1    7598\n",
       "2     586\n",
       "3      20\n",
       "Name: num_unsafe_reasons, dtype: int64"
      ]
     },
     "execution_count": 14,
     "metadata": {},
     "output_type": "execute_result"
    }
   ],
   "source": [
    "# Distribution of number of reasons\n",
    "function_unsafe_reasons.num_unsafe_reasons.value_counts()"
   ]
  },
  {
   "cell_type": "code",
   "execution_count": 15,
   "metadata": {},
   "outputs": [
    {
     "name": "stdout",
     "output_type": "stream",
     "text": [
      "(0.8346356108167294, ('call to unsafe function',))\n",
      "(0.936110882381087, ('call to unsafe function', 'dereference of raw pointer'))\n",
      "(0.9937018878758004, ('call to unsafe function', 'use of mutable static', 'dereference of raw pointer'))\n"
     ]
    }
   ],
   "source": [
    "# Find the features that cover as much situations as possible\n",
    "if False:\n",
    "    print(max([\n",
    "        (\n",
    "            sum(function_unsafe_reasons.unsafe_reasons.map(lambda x: x.issubset(reasons))) / len(function_unsafe_reasons),\n",
    "            reasons\n",
    "        )\n",
    "        for reasons in itertools.combinations(possible_unsafe_reasons, r=1)\n",
    "    ]))\n",
    "    print(max([\n",
    "        (\n",
    "            sum(function_unsafe_reasons.unsafe_reasons.map(lambda x: x.issubset(reasons))) / len(function_unsafe_reasons),\n",
    "            reasons\n",
    "        )\n",
    "        for reasons in itertools.combinations(possible_unsafe_reasons, r=2)\n",
    "    ]))\n",
    "\n",
    "    print(max([\n",
    "        (\n",
    "            sum(function_unsafe_reasons.unsafe_reasons.map(lambda x: x.issubset(reasons))) / len(function_unsafe_reasons),\n",
    "            reasons\n",
    "        )\n",
    "        for reasons in itertools.combinations(possible_unsafe_reasons, r=3)\n",
    "    ]))\n",
    "\n",
    "# Cached results\n",
    "print(\"(0.8346356108167294, ('call to unsafe function',))\")\n",
    "print(\"(0.936110882381087, ('call to unsafe function', 'dereference of raw pointer'))\")\n",
    "print(\"(0.9937018878758004, ('call to unsafe function', 'use of mutable static', 'dereference of raw pointer'))\")"
   ]
  },
  {
   "cell_type": "markdown",
   "metadata": {},
   "source": [
    "## Use Case 1: Data structures with complex sharing\n",
    "\n",
    "### Query 7\n",
    "\n",
    "> collect *all functions that contain a dereference of a raw pointer*\n",
    "\n",
    "#### Results from the paper for comparison\n",
    "\n",
    "> Our database contains 7,385,690 function definitions, out of which only 46,263 (0.6%) dereference a raw pointer in their implementation."
   ]
  },
  {
   "cell_type": "code",
   "execution_count": 16,
   "metadata": {
    "scrolled": false
   },
   "outputs": [
    {
     "name": "stdout",
     "output_type": "stream",
     "text": [
      "all_function_names: 120153\n",
      "functions that deref. a raw pointer: 1288 1.0719665759489985\n"
     ]
    }
   ],
   "source": [
    "print(\"all_function_names:\", len(all_function_names))\n",
    "\n",
    "# Validation\n",
    "assert set(function_unsafe_reasons[function_unsafe_reasons[\"dereference of raw pointer\"]].index).issubset(all_function_names)\n",
    "\n",
    "print(\"functions that deref. a raw pointer:\",\n",
    "      sum(function_unsafe_reasons[\"dereference of raw pointer\"]),\n",
    "      100 * sum(function_unsafe_reasons[\"dereference of raw pointer\"]) / len(all_function_names))"
   ]
  },
  {
   "cell_type": "markdown",
   "metadata": {},
   "source": [
    "#### Results from the paper for comparison\n",
    "\n",
    "> In particular, this is done in 9,273 out of a total of 557,380 unsafe functions (1.7%), in 35,761 out of 6,221,053 safe functions (0.6%), and in 1,229 of 607,257 closure declarations (0.2%)."
   ]
  },
  {
   "cell_type": "code",
   "execution_count": 17,
   "metadata": {},
   "outputs": [
    {
     "name": "stdout",
     "output_type": "stream",
     "text": [
      "all_unsafe_function_names: 6353\n",
      "all_safe_function_names: 100879\n",
      "all_closure_names: 12921\n",
      "unsafe functions that deref. a raw pointer: 212 3.3370061388320478\n",
      "safe functions that deref. a raw pointer: 904 0.896123078143122\n",
      "closures that deref. a raw pointer: 172 1.3311663183964089\n"
     ]
    }
   ],
   "source": [
    "all_unsafe_function_names = set(unsafe_function_definitions.key_def_path.unique())\n",
    "all_safe_function_names = set(\n",
    "    function_definitions_loaded[function_definitions_loaded.unsafety == \"Normal\"].key_def_path.unique()\n",
    ")\n",
    "all_closure_names = set(\n",
    "    function_definitions_loaded[function_definitions_loaded.unsafety == \"Unknown\"].key_def_path.unique()\n",
    ")\n",
    "assert len(all_unsafe_function_names) > 0\n",
    "assert len(all_safe_function_names) > 0\n",
    "assert len(all_closure_names) > 0\n",
    "\n",
    "print(\"all_unsafe_function_names:\", len(all_unsafe_function_names))\n",
    "print(\"all_safe_function_names:\", len(all_safe_function_names))\n",
    "print(\"all_closure_names:\", len(all_closure_names))\n",
    "\n",
    "count1 = sum(function_unsafe_reasons[\n",
    "    function_unsafe_reasons.index.isin(all_unsafe_function_names)\n",
    "][\"dereference of raw pointer\"])\n",
    "print(\"unsafe functions that deref. a raw pointer:\", count1, 100 * count1 / len(all_unsafe_function_names))\n",
    "\n",
    "count2 = sum(function_unsafe_reasons[\n",
    "    function_unsafe_reasons.index.isin(all_safe_function_names)\n",
    "][\"dereference of raw pointer\"])\n",
    "print(\"safe functions that deref. a raw pointer:\", count2, 100 * count2 / len(all_safe_function_names))\n",
    "\n",
    "count3 = sum(function_unsafe_reasons[\n",
    "    function_unsafe_reasons.index.isin(all_closure_names)\n",
    "][\"dereference of raw pointer\"])\n",
    "print(\"closures that deref. a raw pointer:\", count3, 100 * count3 / len(all_closure_names))\n",
    "\n",
    "assert count1 + count2 + count3 == sum(function_unsafe_reasons[\"dereference of raw pointer\"])\n",
    "\n",
    "del count1, count2, count3"
   ]
  },
  {
   "cell_type": "markdown",
   "metadata": {},
   "source": [
    "> Overall, 7.0% of all crates have unsafe code that dereferences at least one raw pointer. Regarding the raw pointer fields, we found that 6.6% of all crates have types with raw pointer fields. After filtering out raw pointers in structs whose attributes indicate that they are likely intended for interoperability, this number reduces to 4.6% of all crates."
   ]
  },
  {
   "cell_type": "code",
   "execution_count": 18,
   "metadata": {},
   "outputs": [],
   "source": [
    "non_tree_adts = utils.load_non_tree_adts()"
   ]
  },
  {
   "cell_type": "code",
   "execution_count": 19,
   "metadata": {},
   "outputs": [
    {
     "name": "stdout",
     "output_type": "stream",
     "text": [
      "Crates dereferencing raw pointers:  19.019607843137255\n"
     ]
    }
   ],
   "source": [
    "dereference_crate_count = len(function_unsafe_reasons[\n",
    "    function_unsafe_reasons[\"dereference of raw pointer\"]].crate_hash.unique())\n",
    "print('Crates dereferencing raw pointers: ',\n",
    "      100 * dereference_crate_count/len(selected_builds_loaded))"
   ]
  },
  {
   "cell_type": "code",
   "execution_count": 20,
   "metadata": {},
   "outputs": [
    {
     "name": "stdout",
     "output_type": "stream",
     "text": [
      "builds with data structures having raw pointer fields (all): 71\n",
      "proportion: 13.92\n",
      "builds with data structures having raw pointer fields (excluding repr(C)): 55\n",
      "proportion: 10.78\n"
     ]
    }
   ],
   "source": [
    "non_tree_builds = len(pd.unique(non_tree_adts['build']))\n",
    "non_c_non_tree_adts = non_tree_adts.query('not c_repr')\n",
    "non_c_non_tree_builds = len(pd.unique(non_c_non_tree_adts['build']))\n",
    "print('builds with data structures having raw pointer fields (all):', non_tree_builds)\n",
    "print('proportion: {:.2f}'.format(100 * non_tree_builds/len(selected_builds_loaded)))\n",
    "print('builds with data structures having raw pointer fields (excluding repr(C)):', non_c_non_tree_builds)\n",
    "print('proportion: {:.2f}'.format(100 * non_c_non_tree_builds/len(selected_builds_loaded)))"
   ]
  },
  {
   "cell_type": "markdown",
   "metadata": {},
   "source": [
    "## Use Case 2: Incompleteness Issues\n",
    "\n",
    "### Query 8\n",
    "\n",
    "> collect *all calls of unsafe functions involving explicit type casts*\n"
   ]
  },
  {
   "cell_type": "code",
   "execution_count": 21,
   "metadata": {},
   "outputs": [
    {
     "name": "stdout",
     "output_type": "stream",
     "text": [
      "unsafe_blocks: 7331\n",
      "total crates: 510\n"
     ]
    }
   ],
   "source": [
    "print(\"unsafe_blocks:\", len(unsafe_blocks))\n",
    "print(\"total crates:\", len(selected_builds_loaded.crate_hash.unique()))\n",
    "assert len(selected_builds_loaded) == len(selected_builds_loaded.crate_hash.unique())"
   ]
  },
  {
   "cell_type": "markdown",
   "metadata": {},
   "source": [
    "#### Results from the paper for comparison\n",
    "\n",
    "> We found that 28,469 out of 319,600 unsafe blocks (8.9%) call a transmute function, and that 4.5% of all crates contain at least one call to a transmute function. Interestingly, only 1.7% of all crates have more than 3 unsafe blocks with a call to those functions."
   ]
  },
  {
   "cell_type": "code",
   "execution_count": 22,
   "metadata": {
    "scrolled": false
   },
   "outputs": [
    {
     "name": "stdout",
     "output_type": "stream",
     "text": [
      "blocks 0 7331 0.0\n",
      "\n",
      "crates 0 0.0\n",
      "Series([], Name: crate_callsite, dtype: int64)\n",
      "0 0.0\n",
      "\n",
      "With 1000+ unsafe blocks:\n"
     ]
    }
   ],
   "source": [
    "# Find the unsafe blocks (and crates) that statically call transmute or transmute_copy\n",
    "blocks = unsafe_block_const_calls[\n",
    "    unsafe_block_const_calls.def_path.isin(set([\n",
    "        'core[e667]::intrinsics[0]::[1]::transmute[0]',\n",
    "        'core[e667]::mem[0]::transmute_copy[0]',\n",
    "    ]))\n",
    "][\n",
    "    [\"crate_callsite\", \"build_crate_hash\", \"unsafe_scope\"]\n",
    "].drop_duplicates()\n",
    "print(\"blocks\", len(blocks), len(unsafe_blocks), 100 * len(blocks) / len(unsafe_blocks))\n",
    "print()\n",
    "print(\"crates\", len(blocks.build_crate_hash.unique()),\n",
    "      100 * len(blocks.build_crate_hash.unique()) / len(selected_builds_loaded.crate_hash.unique()))\n",
    "data = pd.value_counts(blocks.crate_callsite)\n",
    "print(data)\n",
    "print(sum(data > 3), 100 * sum(data > 3) / len(selected_builds_loaded.crate_hash.unique()))\n",
    "print()\n",
    "print(\"With 1000+ unsafe blocks:\")\n",
    "for crate, count in data[data >= 1000].iteritems():\n",
    "    print(\"* {} {}: https://crates.io/crates/{}\".format(count, crate, crate))\n",
    "del blocks, data"
   ]
  },
  {
   "cell_type": "markdown",
   "metadata": {},
   "source": [
    "#### Manual analysis of the crates that call transmute from 1000+ unsafe blocks\n",
    "* 3636 `imgui_ext`: The `imgui_drag_scalar` and `imgui_drag_matrix` macros defined in `imgui-ext/src/macros.rs` are recursive and call `transmute` multiple times each time. Each call to `imgui_drag_matrix`, in particular, results in a cubic number of instantiations: proportional to the length of its first parameter, to the value of the second and to the value of the third parameter.\n",
    "* 3045 `esp_idf_sys`: The `esp-idf-sys/src/bindings.rs` file is automatically generated and contains 3000+ calls to `transmute`.\n",
    "* 1176 `gtk`: The files under `gtk/src/auto/` are automatically generated. Each of 150+ of those files contains from a few to 100 calls to `transmute`.\n",
    "* 1170 `gdnative_bindings`: As the name and description of the crate say, all the code in the crate is automatically generated.\n",
    "* 1152 `rbspy_ruby_structs`: For each of 38 different versions of Ruby there is a file in `src/` responsible for from 8 to 87 calls to `transmute`. These files provide bindings for various internal Ruby structions for version `1.9.3` to `2.5.0`.\n",
    "* 1121 `packed_simd`: This crate offers functions to work with SIMD vector types. Many of its macros use `transmute`, for example the `impl_unary` macro that is called 343 times."
   ]
  },
  {
   "cell_type": "markdown",
   "metadata": {},
   "source": [
    "## Use Case 3: Emphasize Contracts and Invariants\n",
    "\n",
    "### Query 9\n",
    "\n",
    "> we *search for unsafe functions whose body contains only safe Rust code*\n",
    "\n",
    "#### Results from the paper for comparison\n",
    "\n",
    "> Regarding unsafe functions, our experiments yield that 36.1% of all unsafe functions are written in completely safe Rust.\n"
   ]
  },
  {
   "cell_type": "code",
   "execution_count": 23,
   "metadata": {},
   "outputs": [
    {
     "name": "stdout",
     "output_type": "stream",
     "text": [
      "50.0% of the unsafe functions don't actually need to be unsafe\n"
     ]
    },
    {
     "data": {
      "text/plain": [
       "2699"
      ]
     },
     "execution_count": 23,
     "metadata": {},
     "output_type": "execute_result"
    },
    {
     "data": {
      "image/png": "[encoded data removed]",
      "text/plain": [
       "<Figure size 1080x576 with 1 Axes>"
      ]
     },
     "metadata": {},
     "output_type": "display_data"
    }
   ],
   "source": [
    "# Method 1\n",
    "unsafe_rust_functions = unsafe_function_definitions[\n",
    "    unsafe_function_definitions.abi == \"Rust\"\n",
    "]\n",
    "values = unsafe_rust_functions.uses_unsafe.value_counts()\n",
    "values.plot.pie()\n",
    "print(\"{:.1%} of the unsafe functions don't actually need to be unsafe\".format(\n",
    "    sum(~unsafe_rust_functions.uses_unsafe) / len(unsafe_rust_functions)\n",
    "))\n",
    "len(unsafe_rust_functions)"
   ]
  },
  {
   "cell_type": "markdown",
   "metadata": {},
   "source": [
    "> To find explanations for the surprisingly high number of unsafe functions with safe implementations, we performed manual inspections: We manually inspected the ten crates with the highest\n",
    "overall count of unsafe functions with completely safe bodies. All of these crates are automatically\n",
    "generated to provide peripheral access to various microcontrollers."
   ]
  },
  {
   "cell_type": "code",
   "execution_count": 24,
   "metadata": {},
   "outputs": [
    {
     "name": "stdout",
     "output_type": "stream",
     "text": [
      "Examples of unsafe functions that don't need to be unsafe:\n",
      "* atsams70q19b[d4e3]::pwm0[0]::pwm_ier1[0]::{{impl}}[9]::bits[0]\n",
      "* cc13x2_cc26x2_hal[3ef7]::aux_tdc[0]::precntr[0]::{{impl}}[3]::bits[0]\n",
      "* id3[59df]::stream[0]::frame[0]::v4[0]::{{impl}}[14]::from_bits_unchecked[0]\n",
      "* s32k144[5167]::dma[0]::tcd3_csr[0]::{{impl}}[24]::bits[0]\n",
      "* imxrt1062_romc[5acf]::rompatchenl[0]::{{impl}}[3]::bits[0]\n",
      "* cc13x2_cc26x2_pac[78a3]::gpt3[0]::taps[0]::{{impl}}[6]::bits[0]\n",
      "* nrf52[d174]::twi0[0]::pselscl[0]::{{impl}}[3]::bits[0]\n",
      "* atsams70j20b[be49]::rtc[0]::rtc_timalr[0]::{{impl}}[1]::bits[0]\n",
      "* atsams70q19b[d4e3]::tc0[0]::tc_wpmr[0]::{{impl}}[7]::bits[0]\n",
      "* voodoo[b777]::structs[0]::{{impl}}[200]::next[0]\n",
      "\n"
     ]
    }
   ],
   "source": [
    "# Show examples of unsafe functions that don't need to be unsafe\n",
    "impostor_unsafe_function_definitions = unsafe_rust_functions[\n",
    "    ~unsafe_rust_functions.uses_unsafe\n",
    "    & (unsafe_rust_functions.visibility == \"Public\")\n",
    "]\n",
    "\n",
    "print(\"Examples of unsafe functions that don't need to be unsafe:\")\n",
    "# for f in impostor_unsafe_function_definitions.def_path.sample(10):\n",
    "#     print(\"*\", f)\n",
    "print('''\\\n",
    "* atsams70q19b[d4e3]::pwm0[0]::pwm_ier1[0]::{{impl}}[9]::bits[0]\n",
    "* cc13x2_cc26x2_hal[3ef7]::aux_tdc[0]::precntr[0]::{{impl}}[3]::bits[0]\n",
    "* id3[59df]::stream[0]::frame[0]::v4[0]::{{impl}}[14]::from_bits_unchecked[0]\n",
    "* s32k144[5167]::dma[0]::tcd3_csr[0]::{{impl}}[24]::bits[0]\n",
    "* imxrt1062_romc[5acf]::rompatchenl[0]::{{impl}}[3]::bits[0]\n",
    "* cc13x2_cc26x2_pac[78a3]::gpt3[0]::taps[0]::{{impl}}[6]::bits[0]\n",
    "* nrf52[d174]::twi0[0]::pselscl[0]::{{impl}}[3]::bits[0]\n",
    "* atsams70j20b[be49]::rtc[0]::rtc_timalr[0]::{{impl}}[1]::bits[0]\n",
    "* atsams70q19b[d4e3]::tc0[0]::tc_wpmr[0]::{{impl}}[7]::bits[0]\n",
    "* voodoo[b777]::structs[0]::{{impl}}[200]::next[0]\n",
    "''')"
   ]
  },
  {
   "cell_type": "code",
   "execution_count": 25,
   "metadata": {},
   "outputs": [
    {
     "name": "stdout",
     "output_type": "stream",
     "text": [
      "Crates that do this a lot:\n",
      "* nix 44\n",
      "* git2 28\n",
      "* js_sys 18\n",
      "* openssl 17\n",
      "* cloudabi 17\n",
      "* hashbrown 5\n",
      "* encode_unicode 5\n",
      "* owning_ref 4\n",
      "* parking_lot_core 3\n",
      "* spin 3\n"
     ]
    }
   ],
   "source": [
    "print(\"Crates that do this a lot:\")\n",
    "# Show the crates that do this a lot\n",
    "impostor_unsafe_counts = []\n",
    "for _, (name, count) in zip(range(10), impostor_unsafe_function_definitions.crate.value_counts().iteritems()):\n",
    "    print(\"*\", name, count)\n",
    "    impostor_unsafe_counts.append(count)\n",
    "#impostor_unsafe_function_definitions\n",
    "# Check that we did not merge any crates (the numbers should match identically):\n",
    "for expected_count, (_, count) in zip(impostor_unsafe_counts, impostor_unsafe_function_definitions.crate_hash.value_counts().iteritems()):\n",
    "    assert expected_count == count"
   ]
  },
  {
   "cell_type": "markdown",
   "metadata": {},
   "source": [
    "Examples of unsafe functions that don't need to be so:\n",
    "* The documentation of the setter function [`bits` from crate `nrf52840_pac`](https://docs.rs/nrf52840-pac/0.9.0/src/nrf52840_pac/aar/addrptr.rs.html#22-25) does not explain why the function is unsafe, but from the context it seems that the function should not be used to set *invalid* bit values. This unsafe function is generated by the `svd2rust` crate (see the logic that decides the unsafety is [here](https://github.com/rust-embedded/svd2rust/blob/f7576a9bc1284a72b955cc2d6a6ae0553aa0855f/src/generate/register.rs#L644-L662)), and the meaning of `unsafe` is discussions in its [issues](https://github.com/rust-embedded/svd2rust/issues/41#issuecomment-268410367). When programming for embedded devices some registers or memory locations are only allowed to contain *valid* bit patterns. So, some libraries use `unsafe` to mark that a function like `bits` might be used to write an invalid pattern.\n",
    "* The documentation of [`to_physics_body_2d` from crate `gdnative-physics`](https://docs.rs/gdnative-physics/0.6.1/src/gdnative_physics/opt/rustwide/target/debug/build/gdnative-physics-7f46e0c8763ed1e0/out/physics_types.rs.html#15660-15663) does not give a clear explanation of why the function is unsafe, but from the documentation of the surrounding code it sounds plausible that the user has to manually deallocate the objects returned by the function.\n",
    "* The documentation of [`unchecked_index` of the `unchecked_index` crate](https://docs.rs/unchecked-index/0.2.2/src/unchecked_index/lib.rs.html#71-74) explains that the user should be careful when the returned object, because if used incorrectly it would allow to access out-of-bounds elements from safe code.\n",
    "* The documentation of [`from_raw_create_ptr` from crate `ocl_core`](https://docs.rs/ocl-core/0.11.2/src/ocl_core/types/abs.rs.html#465-468) explains that the user should call the function only in a particular way.\n",
    "* [`get_memory_win32_handle_nv` from crate `vodoo`](https://docs.rs/voodoo/0.3.1/src/voodoo/device.rs.html#2453-2455) is unsafe but its body only contains an `unimplemented!()` statement.\n"
   ]
  },
  {
   "cell_type": "markdown",
   "metadata": {},
   "source": [
    "### Query 10\n",
    "\n",
    "> we *count the number of both safe and unsafe traits declared*\n",
    "\n",
    "#### Results from the paper for comparison\n",
    "\n",
    "> We found 1,093 unsafe trait declarations, which amounts to only 2.5% of all trait declarations.\n",
    "\n",
    "> Notably, we observed that a few developers embraced unsafe traits enthusiastically: Five crates\n",
    "are responsible for 40.4% of all unsafe trait declarations.\n"
   ]
  },
  {
   "cell_type": "code",
   "execution_count": 26,
   "metadata": {},
   "outputs": [
    {
     "name": "stdout",
     "output_type": "stream",
     "text": [
      "number of unsafe traits: 64\n",
      "number of traits: 1732\n",
      "percentage: 3.695150115473441\n",
      "5 crates with most unsafe traits contain: 57.8125 %\n"
     ]
    }
   ],
   "source": [
    "unsafe_traits = traits_loaded.query(\"unsafety != 'Normal'\")\n",
    "unsafe_traits_per_build = unsafe_traits.build.value_counts()\n",
    "#unsafe_traits_per_crate = unsafe_traits.crate.value_counts()  # This has a name collision, but is more readable.\n",
    "#unsafe_traits_per_crate.plot.pie()\n",
    "unsafe_traits_count = len(unsafe_traits)\n",
    "all_traits_count = len(traits_loaded)\n",
    "print(\"number of unsafe traits:\", unsafe_traits_count)\n",
    "print(\"number of traits:\", all_traits_count)\n",
    "print(\"percentage:\", 100 * unsafe_traits_count / all_traits_count)\n",
    "print(\"5 crates with most unsafe traits contain:\", 100 * sum(unsafe_traits_per_build[:5])/unsafe_traits_count, '%')"
   ]
  },
  {
   "cell_type": "markdown",
   "metadata": {},
   "source": [
    "## Use Case 4: Concurrency through Compiler Intrinsics\n",
    "\n",
    "### Query 11\n",
    "\n",
    "> we create a whitelist of unsafe functions wrapping concurrency intrinsics. We then run a\n",
    "query *collecting all unsafe blocks that call a whitelisted function*.\n",
    "\n",
    "#### Results from the paper for comparison\n",
    "\n",
    "> we collected all unsafe blocks that call one of the 89 compiler concurrency intrinsics defined in the core::intrinsics module, or their re-export from std::intrinsics.\n",
    "These functions are used by only 4 crates: core (8 calls), compiler_builtins (7 calls), rs_lockfree (6\n",
    "calls), and hsa (1 call). We thus conclude that compiler intrinsics are not widely used, probably\n",
    "because they are still marked as experimental and require a nightly version of the compiler.\n"
   ]
  },
  {
   "cell_type": "code",
   "execution_count": 27,
   "metadata": {
    "scrolled": false
   },
   "outputs": [
    {
     "name": "stdout",
     "output_type": "stream",
     "text": [
      "concurrency_intrinsics: 0\n",
      "Series([], Name: package_name, dtype: int64)\n"
     ]
    }
   ],
   "source": [
    "concurrency_intrinsics = set([\n",
    "    x\n",
    "    for x in unsafe_block_const_calls.def_path.unique()\n",
    "    if \"core[e667]::intrinsics\" in x and \"atomic\" in x\n",
    "])\n",
    "concurrency_intrinsics2 = set([\n",
    "    x\n",
    "    for x in unsafe_block_const_calls.summary_key.unique()\n",
    "    if x.startswith(\"core.intrinsics.\") and \"atomic\" in x\n",
    "])\n",
    "#assert len(concurrency_intrinsics2) > 0\n",
    "#assert len(concurrency_intrinsics2) == len(concurrency_intrinsics)\n",
    "concurrency_intrinsics_std = set([\n",
    "    x\n",
    "    for x in unsafe_block_const_calls.summary_key.unique()\n",
    "    if x.startswith(\"std.intrinsics.\") and \"atomic\" in x\n",
    "])\n",
    "#assert len(concurrency_intrinsics_std) == 0, \"We expect all intrinsics in std to be reexports.\"\n",
    "print(\"concurrency_intrinsics:\", len(concurrency_intrinsics))\n",
    "\n",
    "values = unsafe_block_const_calls[\n",
    "    unsafe_block_const_calls.def_path.isin(concurrency_intrinsics)\n",
    "].package_name.value_counts()\n",
    "#values.plot.bar()\n",
    "print(values)\n",
    "del values"
   ]
  },
  {
   "cell_type": "code",
   "execution_count": 28,
   "metadata": {},
   "outputs": [
    {
     "name": "stdout",
     "output_type": "stream",
     "text": [
      "concurrency_intrinsics: 0\n",
      "Series([], Name: package_name, dtype: int64)\n"
     ]
    }
   ],
   "source": [
    "# Check that we get the same results when using all calls.\n",
    "concurrency_intrinsics = set([\n",
    "    x\n",
    "    for x in const_calls_loaded.def_path.unique()\n",
    "    if \"core[e667]::intrinsics\" in x and \"atomic\" in x\n",
    "])\n",
    "concurrency_intrinsics2 = set([\n",
    "    x\n",
    "    for x in const_calls_loaded.summary_key.unique()\n",
    "    if x.startswith(\"core.intrinsics.\") and \"atomic\" in x\n",
    "])\n",
    "#assert len(concurrency_intrinsics2) > 0\n",
    "#assert len(concurrency_intrinsics2) == len(concurrency_intrinsics)\n",
    "concurrency_intrinsics_std = set([\n",
    "    x\n",
    "    for x in const_calls_loaded.summary_key.unique()\n",
    "    if x.startswith(\"std.intrinsics.\") and \"atomic\" in x\n",
    "])\n",
    "#assert len(concurrency_intrinsics_std) == 0, \"We expect all intrinsics in std to be reexports.\"\n",
    "print(\"concurrency_intrinsics:\", len(concurrency_intrinsics))\n",
    "\n",
    "values = const_calls_loaded[\n",
    "    const_calls_loaded.def_path.isin(concurrency_intrinsics)\n",
    "].package_name.value_counts()\n",
    "#values.plot.bar()\n",
    "print(values)\n",
    "del values"
   ]
  },
  {
   "cell_type": "markdown",
   "metadata": {},
   "source": [
    "## Use Case 5: Foreign Functions\n",
    "\n",
    "### Query 12\n",
    "\n",
    "> we count *how many types are equipped with #[repr(C)]*.\n",
    "\n",
    "#### Results from the paper for comparison\n",
    "\n",
    "> Out of 1,486,978 definitions of structures and enumerations, we found that only 3.9% are\n",
    "annotated with `#[repr(C)]`. This annotation is used in 6.2% of all crates.\n"
   ]
  },
  {
   "cell_type": "code",
   "execution_count": 29,
   "metadata": {},
   "outputs": [
    {
     "name": "stdout",
     "output_type": "stream",
     "text": [
      "all defs: 15639\n",
      "False    14887\n",
      "True       752\n",
      "Name: c_repr, dtype: int64\n",
      "False    95.191508\n",
      "True      4.808492\n",
      "Name: c_repr, dtype: float64\n"
     ]
    },
    {
     "data": {
      "image/png": "[encoded data removed]",
      "text/plain": [
       "<Figure size 1080x576 with 1 Axes>"
      ]
     },
     "metadata": {},
     "output_type": "display_data"
    }
   ],
   "source": [
    "values = adts_loaded.c_repr.value_counts()\n",
    "print(\"all defs:\", len(adts_loaded))\n",
    "print(values)\n",
    "print(values/len(adts_loaded)*100)\n",
    "values.plot.pie()\n",
    "del values"
   ]
  },
  {
   "cell_type": "code",
   "execution_count": 30,
   "metadata": {},
   "outputs": [
    {
     "name": "stdout",
     "output_type": "stream",
     "text": [
      "Number of crates with C-repr types: 53\n",
      "Percentage: 10.392156862745098\n"
     ]
    }
   ],
   "source": [
    "values = adts_loaded[[\"c_repr\", \"crate_hash\"]].groupby(\"crate_hash\").agg(sum)\n",
    "print(\"Number of crates with C-repr types:\", len(values[values.c_repr > 0]))\n",
    "#print(values[values.c_repr > 0])\n",
    "print(\"Percentage:\", 100 * len(values[values.c_repr > 0]) / len(selected_builds_loaded))\n",
    "del values"
   ]
  },
  {
   "cell_type": "markdown",
   "metadata": {},
   "source": [
    "### Query 13\n",
    "\n",
    "> We thus classify *all -sys crates* as belonging to this use case.\n",
    "\n",
    "#### Results from the paper for comparison\n",
    "\n",
    "> We found 650 crates (2.0% of all crates) whose names end with -sys, but we also noticed that other crates\n",
    "use different naming conventions: for 24 crates the name ends with -ffi, for 13 with -bindings,\n",
    "and for 10 with -bindgen. These suffixes all clearly mark a crate that provides public bindings to\n",
    "C libraries, as -sys crates should do."
   ]
  },
  {
   "cell_type": "code",
   "execution_count": 31,
   "metadata": {
    "scrolled": false
   },
   "outputs": [
    {
     "name": "stdout",
     "output_type": "stream",
     "text": [
      "There are 19 crates with suffix _sys (3.7% of all crates)\n",
      "There are 0 crates with suffix _ffi (0.0% of all crates)\n",
      "There are 0 crates with suffix _bindings (0.0% of all crates)\n",
      "There are 1 crates with suffix _bindgen (0.2% of all crates)\n"
     ]
    }
   ],
   "source": [
    "def count_with_suffix(suffix):\n",
    "    count = len([\n",
    "        x\n",
    "        for x in selected_builds_loaded.crate\n",
    "        if x.lower().replace(\"-\", \"_\").endswith(suffix)\n",
    "    ])\n",
    "    print(\"There are {} crates with suffix {} ({:.1f}% of all crates)\".format(\n",
    "        count, suffix, 100*count/len(selected_builds_loaded)\n",
    "    ))\n",
    "count_with_suffix(\"_sys\")\n",
    "count_with_suffix(\"_ffi\")\n",
    "count_with_suffix(\"_bindings\")\n",
    "count_with_suffix(\"_bindgen\")"
   ]
  },
  {
   "cell_type": "markdown",
   "metadata": {},
   "source": [
    "### Query 14\n",
    "\n",
    "> we determine *how many unsafe functions are declared with a foreign ABI*.\n",
    "\n",
    "#### Results from the paper for comparison\n",
    "\n",
    "> We found that 248,522 (44.6%) outof 557,380 unsafe function definitions are actually static bindings to foreign items."
   ]
  },
  {
   "cell_type": "code",
   "execution_count": 32,
   "metadata": {},
   "outputs": [
    {
     "name": "stdout",
     "output_type": "stream",
     "text": [
      "ForeignItem    3478\n",
      "Rust           2699\n",
      "C               176\n",
      "Name: abi, dtype: int64\n",
      "ForeignItem    54.745789\n",
      "Rust           42.483866\n",
      "C               2.770345\n",
      "Name: abi, dtype: float64\n",
      "Unsafe function definitions: 6353\n"
     ]
    },
    {
     "data": {
      "image/png": "[encoded data removed]",
      "text/plain": [
       "<Figure size 1080x576 with 1 Axes>"
      ]
     },
     "metadata": {},
     "output_type": "display_data"
    }
   ],
   "source": [
    "# Frequency of abi\n",
    "values = unsafe_function_definitions.abi.value_counts()\n",
    "print(values)\n",
    "print(values / len(unsafe_function_definitions) * 100)\n",
    "print(\"Unsafe function definitions:\", len(unsafe_function_definitions))\n",
    "values.plot.pie()\n",
    "del values"
   ]
  },
  {
   "cell_type": "markdown",
   "metadata": {},
   "source": [
    "#### Results from the paper for comparison\n",
    "\n",
    "> Overall, 1,599 crates (5.0% of all crates) contain at least one function with a foreign ABI."
   ]
  },
  {
   "cell_type": "code",
   "execution_count": 33,
   "metadata": {},
   "outputs": [
    {
     "name": "stdout",
     "output_type": "stream",
     "text": [
      "Number of crates: 35\n",
      "Percentage: 6.862745098039215\n",
      "\n"
     ]
    }
   ],
   "source": [
    "# Count non-Rust abi functions, per crate\n",
    "values = unsafe_function_definitions[unsafe_function_definitions.abi != \"Rust\"].build.value_counts()\n",
    "print(\"Number of crates:\", len(values))\n",
    "print(\"Percentage:\", 100*len(values)/len(selected_builds_loaded))\n",
    "print()\n",
    "# print(\"Such functions per crate:\")\n",
    "# print(values)\n",
    "del values"
   ]
  },
  {
   "cell_type": "markdown",
   "metadata": {},
   "source": [
    "### Query 15\n",
    "\n",
    "> we search for *usages of inline assembly* via the asm! macro.\n",
    "\n",
    "#### Results from the paper for comparison\n",
    "\n",
    "> Out of more than 7 million function definitions we only found 493 cases of functions that use assembly. In particular, we found that 10 low-level and hardware-related crates actually contain 69.8% of all the functions that make use of inline assembly."
   ]
  },
  {
   "cell_type": "code",
   "execution_count": 34,
   "metadata": {},
   "outputs": [
    {
     "name": "stdout",
     "output_type": "stream",
     "text": [
      "Number of functions using inline assembly: 0\n",
      "Number of crates: 0\n",
      "\n"
     ]
    }
   ],
   "source": [
    "# Count functions with assembly code, per crate\n",
    "asm_fns = function_unsafe_reasons[function_unsafe_reasons[\"use of inline assembly\"]]\n",
    "print(\"Number of functions using inline assembly:\", len(asm_fns))\n",
    "#assert len(asm_fns) > 100\n",
    "values = asm_fns[['crate_name', 'crate_hash']].apply(\n",
    "    lambda row: (row['crate_name'], row['crate_hash']), axis=1\n",
    ").squeeze().value_counts()\n",
    "print(\"Number of crates:\", len(values))\n",
    "print()\n",
    "if len(asm_fns) > 0:\n",
    "    print('Percentage of functions with inline assembly among 10 top crates:', sum(values[:10])/len(asm_fns)*100)\n",
    "    print(\"Such functions per crate:\")\n",
    "    print(values[:10])\n",
    "del values"
   ]
  },
  {
   "cell_type": "markdown",
   "metadata": {},
   "source": [
    "## Does a crate avoid runtime checks through unchecked functions? "
   ]
  },
  {
   "cell_type": "markdown",
   "metadata": {},
   "source": [
    "## Use Case 6: Performance\n",
    "\n",
    "### Query 16\n",
    "\n",
    "> we *search for unchecked functions* (those with \"unchecked\" in their name).\n",
    "\n",
    "#### Results from the paper for comparison\n",
    "\n",
    "> Regarding our anticipated usages of unsafe code to improve performance, we found that 5.9% of unsafe calls in unsafe blocks involve unchecked functions spread across 4.3% of all crates.\n",
    "\n",
    "> For example, the Rust bindings of the X Window System call 4,852 unchecked functions in a single crate."
   ]
  },
  {
   "cell_type": "code",
   "execution_count": 35,
   "metadata": {},
   "outputs": [],
   "source": [
    "unsafe_block_calls = unsafe_block_calls_loaded.query('check_mode == \"UnsafeBlockUserProvided\"')"
   ]
  },
  {
   "cell_type": "code",
   "execution_count": 36,
   "metadata": {},
   "outputs": [
    {
     "name": "stdout",
     "output_type": "stream",
     "text": [
      "unchecked_function_names: 366\n",
      "Calls to unchecked functions: 93\n",
      "Percentage: 0.9123908564701265\n",
      "Number of crates: 23\n",
      "Percentage: 4.509803921568627\n",
      "(http, 6808a9d62e774206)             14\n",
      "(json, 79b54c8356a47b67)             14\n",
      "(pest, 90a091c6ae19edc6)              8\n",
      "(criterion, 8abcfaebda0e558c)         7\n",
      "(data_encoding, f49ae7fb730d6fb8)     6\n",
      "dtype: int64\n",
      "Percentage of unsafe blocks with an unchecked function call: 1.1594598281271313\n"
     ]
    }
   ],
   "source": [
    "print(\"unchecked_function_names:\", len(unchecked_function_names))\n",
    "\n",
    "unchecked_calls = unsafe_block_const_calls[\n",
    "    unsafe_block_const_calls.def_path.isin(unchecked_function_names)\n",
    "].query('unsafety != \"Normal\"')\n",
    "print(\"Calls to unchecked functions:\", len(unchecked_calls))\n",
    "print(\"Percentage:\", len(unchecked_calls)/len(unsafe_block_calls.query('unsafety != \"Normal\"'))*100)\n",
    "\n",
    "values = unchecked_calls[['crate_callsite', 'build_crate_hash']].apply(\n",
    "    lambda row: (row['crate_callsite'], row['build_crate_hash']), axis=1\n",
    ").squeeze().value_counts()\n",
    "print(\"Number of crates:\", len(values))\n",
    "print(\"Percentage:\", len(values)/len(selected_builds_loaded)*100)\n",
    "print(values[:5])\n",
    "\n",
    "# Used in Sec. 6.2\n",
    "print(\"Percentage of unsafe blocks with an unchecked function call:\",\n",
    "    len(unchecked_calls.unsafe_scope.unique())/len(unsafe_blocks.scope.unique())*100\n",
    ")\n",
    "del values"
   ]
  },
  {
   "cell_type": "markdown",
   "metadata": {},
   "source": [
    "### Query 17\n",
    "\n",
    "> we determine whether *unsafe blocks contain the special union type MaybeUninit*\n",
    "\n",
    "#### Results from the paper for comparison\n",
    "\n",
    "> Developers rarely use the union MaybeUninit, which allows declaring uninitialised variables:\n",
    "We detected it in only 1,816 unsafe blocks, which appear in 0.55% of all crates."
   ]
  },
  {
   "cell_type": "code",
   "execution_count": 37,
   "metadata": {},
   "outputs": [
    {
     "name": "stdout",
     "output_type": "stream",
     "text": [
      "Number of crates: 0\n",
      "Percentage: 0.0\n",
      "Number of calls: 0\n"
     ]
    }
   ],
   "source": [
    "assume_init_def_path = \"core[e667]::mem[0]::maybe_uninit[0]::{{impl}}[2]::assume_init[0]\"\n",
    "assume_init_summary_key = 'core.mem.maybe_uninit.implement_maybe_uninit.assume_init'\n",
    "\n",
    "values = unsafe_block_const_calls[\n",
    "    unsafe_block_const_calls.def_path == assume_init_def_path\n",
    "].package_name.value_counts()\n",
    "values_summary = unsafe_block_const_calls[\n",
    "    unsafe_block_const_calls.summary_key == assume_init_summary_key\n",
    "].package_name.value_counts()\n",
    "#assert len(values) == len(values_summary)\n",
    "print(\"Number of crates:\", len(values))\n",
    "print(\"Percentage:\", len(values)/len(selected_builds_loaded)*100)\n",
    "# print(values)\n",
    "print(\"Number of calls:\", sum(values))\n",
    "del values\n",
    "del values_summary"
   ]
  }
 ],
 "metadata": {
  "kernelspec": {
   "display_name": "Python 3",
   "language": "python",
   "name": "python3"
  },
  "language_info": {
   "codemirror_mode": {
    "name": "ipython",
    "version": 3
   },
   "file_extension": ".py",
   "mimetype": "text/x-python",
   "name": "python",
   "nbconvert_exporter": "python",
   "pygments_lexer": "ipython3",
   "version": "3.8.6"
  }
 },
 "nbformat": 4,
 "nbformat_minor": 4
}
