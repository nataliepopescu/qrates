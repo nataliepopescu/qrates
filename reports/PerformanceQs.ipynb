{
 "cells": [
  {
   "cell_type": "code",
   "execution_count": 3,
   "metadata": {},
   "outputs": [],
   "source": [
    "import matplotlib.pyplot as plt\n",
    "import pandas as pd\n",
    "import utils\n",
    "from whitelists import *\n",
    "from sorted_crates import *\n",
    "from top_crates import *\n",
    "import functools\n",
    "\n",
    "# Configure pyplot: enlarge plots \n",
    "plt.rcParams['figure.figsize'] = [15, 8]\n",
    "# Configure pandas: show all columns when printing a dataframe\n",
    "pd.set_option('display.max_columns', None)\n",
    "# Configure pandas: show more rows when printing a dataframe\n",
    "pd.set_option('display.min_rows', 20)"
   ]
  },
  {
   "cell_type": "code",
   "execution_count": 4,
   "metadata": {},
   "outputs": [],
   "source": [
    "# Load tables\n",
    "function_definitions = utils.load_selected_function_definitions()\n",
    "raw_function_unsafe_reasons = utils.load_unsafe_reasons_in_function_definitions()\n",
    "unsafe_block_calls = utils.load_unsafe_block_calls()\n",
    "const_calls = utils.load_const_calls()\n",
    "unsafe_blocks = utils.load_unsafe_blocks()\n",
    "traits = utils.load_selected_traits()\n",
    "traits_impls = utils.load_selected_impl_definitions()\n",
    "type_defs = utils.load_selected_type_defs()\n",
    "adts = utils.load_selected_adts()\n",
    "adt_field_types = utils.load_selected_adt_field_types()\n",
    "selected_builds = utils.load_selected_builds()"
   ]
  },
  {
   "cell_type": "code",
   "execution_count": 5,
   "metadata": {},
   "outputs": [],
   "source": [
    "# Cleanup: remove duplicates\n",
    "raw_function_unsafe_reasons = raw_function_unsafe_reasons.drop_duplicates()\n",
    "\n",
    "# Remove functions that are not in function_definitions\n",
    "raw_function_unsafe_reasons = raw_function_unsafe_reasons[\n",
    "    raw_function_unsafe_reasons.def_path.isin(set(function_definitions.def_path.unique()))\n",
    "]\n",
    "\n",
    "possible_unsafe_reasons = [\n",
    "    \"call to unsafe function\",\n",
    "    \"use of inline assembly\",\n",
    "    \"initializing type with `rustc_layout_scalar_valid_range` attr\",\n",
    "    \"cast of pointer to int\",\n",
    "    \"pointer operation\",\n",
    "    \"borrow of packed field\",\n",
    "    \"use of mutable static\",\n",
    "    \"use of extern static\",\n",
    "    \"dereference of raw pointer\",\n",
    "    \"assignment to non-`Copy` union field\",\n",
    "    \"access to union field\",\n",
    "    \"mutation of layout constrained field\",\n",
    "    \"borrow of layout constrained field with interior mutability\",\n",
    "]\n",
    "\n",
    "# Map reasons -> number\n",
    "function_unsafe_reasons = raw_function_unsafe_reasons[\n",
    "    [\"crate_name\", \"crate_hash\", \"def_path\", \"unsafe_reason\"]\n",
    "].groupby(\"def_path\").agg(frozenset).rename(\n",
    "    columns={'unsafe_reason': 'unsafe_reasons'}\n",
    ")\n",
    "\n",
    "function_unsafe_reasons[\"unsafe_reasons_vec\"] = function_unsafe_reasons.unsafe_reasons.map(\n",
    "    lambda x: [reason in x for reason in possible_unsafe_reasons]\n",
    ")\n",
    "function_unsafe_reasons[\"num_unsafe_reasons\"] = function_unsafe_reasons.unsafe_reasons_vec.map(sum)\n",
    "\n",
    "for reason in possible_unsafe_reasons:\n",
    "    function_unsafe_reasons[reason] = function_unsafe_reasons.unsafe_reasons.map(\n",
    "        lambda x: reason in x\n",
    "    )\n",
    "\n",
    "# Augment const calls made from unsafe blocks\n",
    "unsafe_block_const_calls = unsafe_block_calls.join(\n",
    "    const_calls.set_index(\"call\"),\n",
    "    on=\"call\",\n",
    "    how=\"inner\",\n",
    "    rsuffix=\"_defsite\",\n",
    ")\n",
    "# Rename confusing columns\n",
    "unsafe_block_const_calls.rename(\n",
    "    columns={\"crate_name\": \"crate_callsite\", \"crate\": \"crate_defsite\"},\n",
    "    inplace=True\n",
    ")\n",
    "const_calls.rename(\n",
    "    columns={\"crate_name\": \"crate_callsite\", \"crate\": \"crate_defsite\"},\n",
    "    inplace=True\n",
    ")\n",
    "\n",
    "# Preprocessing\n",
    "crates = pd.DataFrame({\n",
    "    \"crate\": selected_builds.crate,\n",
    "    \"crate_hash\": selected_builds.crate_hash,\n",
    "    \"package\": selected_builds.package.map(lambda x: str(x).lower().replace(\"-\", \"_\")),\n",
    "})\n",
    "user_written_unsafe_blocks = unsafe_blocks[unsafe_blocks.check_mode == \"UnsafeBlockUserProvided\"]\n",
    "unsafe_function_definitions = function_definitions[function_definitions.unsafety == \"Unsafe\"]\n",
    "unsafe_traits = traits[traits.unsafety == \"Unsafe\"]\n",
    "unsafe_traits_impls = traits_impls[traits_impls.unsafety == \"Unsafe\"]"
   ]
  },
  {
   "cell_type": "code",
   "execution_count": 6,
   "metadata": {},
   "outputs": [],
   "source": [
    "# Whitelists\n",
    "# 250\n",
    "function_definitions_250_set = set([\n",
    "    x\n",
    "    for x in function_definitions.crate\n",
    "    if x in sorted_crates[:250]\n",
    "])\n",
    "function_definitions_250 = function_definitions[\n",
    "    function_definitions.crate.isin(function_definitions_250_set)\n",
    "]\n",
    "all_function_names_250 = set(function_definitions_250.def_path.unique())\n",
    "unchecked_function_names_250 = get_unchecked_function_names(all_function_names_250)\n",
    "unguarded_function_names_250 = get_unguarded_function_names(all_function_names_250)\n",
    "\n",
    "# 500\n",
    "function_definitions_500_set = set([\n",
    "    x\n",
    "    for x in function_definitions.crate\n",
    "    if x in sorted_crates[:500]\n",
    "])\n",
    "function_definitions_500 = function_definitions[\n",
    "    function_definitions.crate.isin(function_definitions_500_set)\n",
    "]\n",
    "all_function_names_500 = set(function_definitions_500.def_path.unique())\n",
    "unchecked_function_names_500 = get_unchecked_function_names(all_function_names_500)\n",
    "unguarded_function_names_500 = get_unguarded_function_names(all_function_names_500)\n",
    "\n",
    "# 1000\n",
    "function_definitions_1000_set = set([\n",
    "    x\n",
    "    for x in function_definitions.crate\n",
    "    if x in sorted_crates[:1000]\n",
    "])\n",
    "function_definitions_1000 = function_definitions[\n",
    "    function_definitions.crate.isin(function_definitions_1000_set)\n",
    "]\n",
    "all_function_names_1000 = set(function_definitions_1000.def_path.unique())\n",
    "unchecked_function_names_1000 = get_unchecked_function_names(all_function_names_1000)\n",
    "unguarded_function_names_1000 = get_unguarded_function_names(all_function_names_1000)\n",
    "\n",
    "all_function_names = set(function_definitions.def_path.unique())\n",
    "unchecked_function_names = get_unchecked_function_names(all_function_names)\n",
    "unguarded_function_names = get_unguarded_function_names(all_function_names)"
   ]
  },
  {
   "cell_type": "code",
   "execution_count": 7,
   "metadata": {},
   "outputs": [],
   "source": [
    "# Calls\n",
    "all_calls = utils.load_all_calls()\n",
    "unsafe_calls = all_calls.query(\"unsafety != 'Normal'\")\n",
    "assert len(pd.unique(unsafe_calls.unsafety)) == 1\n",
    "\n",
    "# 250\n",
    "#all_calls_250_set = set([\n",
    "#    x\n",
    "#    for x in all_calls.crate\n",
    "#    if x in sorted_crates[:250]\n",
    "#])\n",
    "#all_calls_250 = all_calls[\n",
    "#    all_calls.crate.isin(all_calls_250_set)\n",
    "#]\n",
    "#unsafe_calls_250 = all_calls_250.query(\"unsafety != 'Normal'\")\n",
    "#assert len(pd.unique(unsafe_calls_250.unsafety)) == 1"
   ]
  },
  {
   "cell_type": "code",
   "execution_count": 8,
   "metadata": {},
   "outputs": [],
   "source": [
    "# Top X Crates\n",
    "def norm(x):\n",
    "    return x.lower().replace(\"-\", \"_\")\n",
    "\n",
    "top_250_compiling_crates = set(map(norm, sorted_crates[:250])) & set(map(norm, selected_builds.package.unique()))\n",
    "top_250_crates_set = set(sorted_crates[:250])\n",
    "top_250_mask = selected_builds.package.map(lambda x: x.replace(\"-\", \"_\") in top_250_crates_set)\n",
    "top_250_builds = selected_builds[top_250_mask][\n",
    "    ~selected_builds[top_250_mask][\"package\"].duplicated()\n",
    "]\n",
    "top_500_compiling_crates = set(map(norm, sorted_crates[:500])) & set(map(norm, selected_builds.package.unique()))\n",
    "top_500_crates_set = set(sorted_crates[:500])\n",
    "top_500_mask = selected_builds.package.map(lambda x: x.replace(\"-\", \"_\") in top_500_crates_set)\n",
    "top_500_builds = selected_builds[top_500_mask][\n",
    "    ~selected_builds[top_500_mask][\"package\"].duplicated()\n",
    "]\n",
    "top_1000_compiling_crates = set(map(norm, sorted_crates[:1000])) & set(map(norm, selected_builds.package.unique()))\n",
    "top_1000_crates_set = set(sorted_crates[:1000])\n",
    "top_1000_mask = selected_builds.package.map(lambda x: x.replace(\"-\", \"_\") in top_1000_crates_set)\n",
    "top_1000_builds = selected_builds[top_1000_mask][\n",
    "    ~selected_builds[top_1000_mask][\"package\"].duplicated()\n",
    "]"
   ]
  },
  {
   "cell_type": "code",
   "execution_count": 9,
   "metadata": {},
   "outputs": [
    {
     "name": "stdout",
     "output_type": "stream",
     "text": [
      "Number of compiling crates in top 250:\t 246\n",
      "Number of builds in top 250:\t\t 146\n",
      "Number of expected crates in top 250:\t 250\n"
     ]
    }
   ],
   "source": [
    "print(\"Number of compiling crates in top 250:\\t\", len(top_250_compiling_crates))\n",
    "print(\"Number of builds in top 250:\\t\\t\", len(top_250_builds))\n",
    "print(\"Number of expected crates in top 250:\\t\", len(sorted_crates[:250]))"
   ]
  },
  {
   "cell_type": "code",
   "execution_count": 10,
   "metadata": {},
   "outputs": [
    {
     "name": "stdout",
     "output_type": "stream",
     "text": [
      "Number of compiling crates in top 500:\t 487\n",
      "Number of builds in top 500:\t\t 293\n",
      "Number of expected crates in top 500:\t 500\n"
     ]
    }
   ],
   "source": [
    "print(\"Number of compiling crates in top 500:\\t\", len(top_500_compiling_crates))\n",
    "print(\"Number of builds in top 500:\\t\\t\", len(top_500_builds))\n",
    "print(\"Number of expected crates in top 500:\\t\", len(sorted_crates[:500]))"
   ]
  },
  {
   "cell_type": "code",
   "execution_count": 11,
   "metadata": {},
   "outputs": [
    {
     "name": "stdout",
     "output_type": "stream",
     "text": [
      "Number of compiling crates in top 1000:\t 948\n",
      "Number of builds in top 1000:\t\t 543\n",
      "Number of expected crates in top 1000:\t 1000\n"
     ]
    }
   ],
   "source": [
    "print(\"Number of compiling crates in top 1000:\\t\", len(top_1000_compiling_crates))\n",
    "print(\"Number of builds in top 1000:\\t\\t\", len(top_1000_builds))\n",
    "print(\"Number of expected crates in top 1000:\\t\", len(sorted_crates[:1000]))"
   ]
  },
  {
   "cell_type": "code",
   "execution_count": 12,
   "metadata": {},
   "outputs": [
    {
     "name": "stdout",
     "output_type": "stream",
     "text": [
      "Number of selected builds:\t 4608\n",
      "Number of crates total:\t\t 4608\n"
     ]
    }
   ],
   "source": [
    "print(\"Number of selected builds:\\t\", len(selected_builds))\n",
    "print(\"Number of crates total:\\t\\t\", len(crates))"
   ]
  },
  {
   "cell_type": "code",
   "execution_count": 13,
   "metadata": {},
   "outputs": [
    {
     "name": "stdout",
     "output_type": "stream",
     "text": [
      "4244\n",
      "7225\n",
      "18971\n",
      "138077\n"
     ]
    }
   ],
   "source": [
    "# Unsafe Blocks\n",
    "unsafe_blocks_250_set = set([\n",
    "    x\n",
    "    for x in unsafe_blocks.crate\n",
    "    if x in sorted_crates[:250]\n",
    "])\n",
    "unsafe_blocks_250 = unsafe_blocks[\n",
    "    unsafe_blocks.crate.isin(unsafe_blocks_250_set)\n",
    "]\n",
    "\n",
    "unsafe_blocks_500_set = set([\n",
    "    x\n",
    "    for x in unsafe_blocks.crate\n",
    "    if x in sorted_crates[:500]\n",
    "])\n",
    "unsafe_blocks_500 = unsafe_blocks[\n",
    "    unsafe_blocks.crate.isin(unsafe_blocks_500_set)\n",
    "]\n",
    "\n",
    "unsafe_blocks_1000_set = set([\n",
    "    x\n",
    "    for x in unsafe_blocks.crate\n",
    "    if x in sorted_crates[:1000]\n",
    "])\n",
    "unsafe_blocks_1000 = unsafe_blocks[\n",
    "    unsafe_blocks.crate.isin(unsafe_blocks_1000_set)\n",
    "]\n",
    "\n",
    "print(len(unsafe_blocks_250))\n",
    "print(len(unsafe_blocks_500))\n",
    "print(len(unsafe_blocks_1000))\n",
    "print(len(unsafe_blocks))"
   ]
  },
  {
   "cell_type": "code",
   "execution_count": 14,
   "metadata": {},
   "outputs": [
    {
     "name": "stdout",
     "output_type": "stream",
     "text": [
      "3001\n",
      "4399\n",
      "12528\n",
      "79236\n"
     ]
    }
   ],
   "source": [
    "# User Written Unsafe Blocks\n",
    "user_written_unsafe_blocks_250_set = set([\n",
    "    x\n",
    "    for x in user_written_unsafe_blocks.crate\n",
    "    if x in sorted_crates[:250]\n",
    "])\n",
    "user_written_unsafe_blocks_250 = user_written_unsafe_blocks[\n",
    "    user_written_unsafe_blocks.crate.isin(user_written_unsafe_blocks_250_set)\n",
    "]\n",
    "\n",
    "user_written_unsafe_blocks_500_set = set([\n",
    "    x\n",
    "    for x in user_written_unsafe_blocks.crate\n",
    "    if x in sorted_crates[:500]\n",
    "])\n",
    "user_written_unsafe_blocks_500 = user_written_unsafe_blocks[\n",
    "    user_written_unsafe_blocks.crate.isin(user_written_unsafe_blocks_500_set)\n",
    "]\n",
    "\n",
    "user_written_unsafe_blocks_1000_set = set([\n",
    "    x\n",
    "    for x in user_written_unsafe_blocks.crate\n",
    "    if x in sorted_crates[:1000]\n",
    "])\n",
    "user_written_unsafe_blocks_1000 = user_written_unsafe_blocks[\n",
    "    user_written_unsafe_blocks.crate.isin(user_written_unsafe_blocks_1000_set)\n",
    "]\n",
    "\n",
    "print(len(user_written_unsafe_blocks_250))\n",
    "print(len(user_written_unsafe_blocks_500))\n",
    "print(len(user_written_unsafe_blocks_1000))\n",
    "print(len(user_written_unsafe_blocks))"
   ]
  },
  {
   "cell_type": "code",
   "execution_count": 15,
   "metadata": {},
   "outputs": [
    {
     "name": "stdout",
     "output_type": "stream",
     "text": [
      "1599\n",
      "2079\n",
      "9593\n",
      "97742\n"
     ]
    }
   ],
   "source": [
    "# Unsafe Function Definitions\n",
    "unsafe_function_definitions_250_set = set([\n",
    "    x\n",
    "    for x in unsafe_function_definitions.crate\n",
    "    if x in sorted_crates[:250]\n",
    "])\n",
    "unsafe_function_definitions_250 = unsafe_function_definitions[\n",
    "    unsafe_function_definitions.crate.isin(unsafe_function_definitions_250_set)\n",
    "]\n",
    "\n",
    "unsafe_function_definitions_500_set = set([\n",
    "    x\n",
    "    for x in unsafe_function_definitions.crate\n",
    "    if x in sorted_crates[:500]\n",
    "])\n",
    "unsafe_function_definitions_500 = unsafe_function_definitions[\n",
    "    unsafe_function_definitions.crate.isin(unsafe_function_definitions_500_set)\n",
    "]\n",
    "\n",
    "unsafe_function_definitions_1000_set = set([\n",
    "    x\n",
    "    for x in unsafe_function_definitions.crate\n",
    "    if x in sorted_crates[:1000]\n",
    "])\n",
    "unsafe_function_definitions_1000 = unsafe_function_definitions[\n",
    "    unsafe_function_definitions.crate.isin(unsafe_function_definitions_1000_set)\n",
    "]\n",
    "\n",
    "print(len(unsafe_function_definitions_250))\n",
    "print(len(unsafe_function_definitions_500))\n",
    "print(len(unsafe_function_definitions_1000))\n",
    "print(len(unsafe_function_definitions))"
   ]
  },
  {
   "cell_type": "code",
   "execution_count": 16,
   "metadata": {},
   "outputs": [
    {
     "name": "stdout",
     "output_type": "stream",
     "text": [
      "34\n",
      "43\n",
      "113\n",
      "609\n"
     ]
    }
   ],
   "source": [
    "# Unsafe Traits\n",
    "unsafe_traits_250_set = set([\n",
    "    x\n",
    "    for x in unsafe_traits.crate\n",
    "    if x in sorted_crates[:250]\n",
    "])\n",
    "unsafe_traits_250 = unsafe_traits[\n",
    "    unsafe_traits.crate.isin(unsafe_traits_250_set)\n",
    "]\n",
    "\n",
    "unsafe_traits_500_set = set([\n",
    "    x\n",
    "    for x in unsafe_traits.crate\n",
    "    if x in sorted_crates[:500]\n",
    "])\n",
    "unsafe_traits_500 = unsafe_traits[\n",
    "    unsafe_traits.crate.isin(unsafe_traits_500_set)\n",
    "]\n",
    "\n",
    "unsafe_traits_1000_set = set([\n",
    "    x\n",
    "    for x in unsafe_traits.crate\n",
    "    if x in sorted_crates[:1000]\n",
    "])\n",
    "unsafe_traits_1000 = unsafe_traits[\n",
    "    unsafe_traits.crate.isin(unsafe_traits_1000_set)\n",
    "]\n",
    "\n",
    "print(len(unsafe_traits_250))\n",
    "print(len(unsafe_traits_500))\n",
    "print(len(unsafe_traits_1000))\n",
    "print(len(unsafe_traits))"
   ]
  },
  {
   "cell_type": "code",
   "execution_count": 17,
   "metadata": {},
   "outputs": [
    {
     "name": "stdout",
     "output_type": "stream",
     "text": [
      "733\n",
      "960\n",
      "1776\n",
      "14472\n"
     ]
    }
   ],
   "source": [
    "# Unsafe Trait Implementations\n",
    "unsafe_traits_impls_250_set = set([\n",
    "    x\n",
    "    for x in unsafe_traits_impls.crate\n",
    "    if x in sorted_crates[:250]\n",
    "])\n",
    "unsafe_traits_impls_250 = unsafe_traits_impls[\n",
    "    unsafe_traits_impls.crate.isin(unsafe_traits_impls_250_set)\n",
    "]\n",
    "\n",
    "unsafe_traits_impls_500_set = set([\n",
    "    x\n",
    "    for x in unsafe_traits_impls.crate\n",
    "    if x in sorted_crates[:500]\n",
    "])\n",
    "unsafe_traits_impls_500 = unsafe_traits_impls[\n",
    "    unsafe_traits_impls.crate.isin(unsafe_traits_impls_500_set)\n",
    "]\n",
    "\n",
    "unsafe_traits_impls_1000_set = set([\n",
    "    x\n",
    "    for x in unsafe_traits_impls.crate\n",
    "    if x in sorted_crates[:1000]\n",
    "])\n",
    "unsafe_traits_impls_1000 = unsafe_traits_impls[\n",
    "    unsafe_traits_impls.crate.isin(unsafe_traits_impls_1000_set)\n",
    "]\n",
    "\n",
    "print(len(unsafe_traits_impls_250))\n",
    "print(len(unsafe_traits_impls_500))\n",
    "print(len(unsafe_traits_impls_1000))\n",
    "print(len(unsafe_traits_impls))"
   ]
  },
  {
   "cell_type": "code",
   "execution_count": 18,
   "metadata": {},
   "outputs": [
    {
     "name": "stdout",
     "output_type": "stream",
     "text": [
      "5977\n",
      "9942\n",
      "42711\n",
      "303016\n"
     ]
    }
   ],
   "source": [
    "# Const Calls\n",
    "const_calls_250_set = set([\n",
    "    x\n",
    "    for x in const_calls.crate_defsite\n",
    "    if x in sorted_crates[:250]\n",
    "])\n",
    "const_calls_250 = const_calls[\n",
    "    const_calls.crate_defsite.isin(const_calls_250_set)\n",
    "]\n",
    "\n",
    "const_calls_500_set = set([\n",
    "    x\n",
    "    for x in const_calls.crate_defsite\n",
    "    if x in sorted_crates[:500]\n",
    "])\n",
    "const_calls_500 = const_calls[\n",
    "    const_calls.crate_defsite.isin(const_calls_500_set)\n",
    "]\n",
    "\n",
    "const_calls_1000_set = set([\n",
    "    x\n",
    "    for x in const_calls.crate_defsite\n",
    "    if x in sorted_crates[:1000]\n",
    "])\n",
    "const_calls_1000 = const_calls[\n",
    "    const_calls.crate_defsite.isin(const_calls_1000_set)\n",
    "]\n",
    "\n",
    "print(len(const_calls_250))\n",
    "print(len(const_calls_500))\n",
    "print(len(const_calls_1000))\n",
    "print(len(const_calls))"
   ]
  },
  {
   "cell_type": "code",
   "execution_count": 19,
   "metadata": {},
   "outputs": [
    {
     "name": "stdout",
     "output_type": "stream",
     "text": [
      "5977\n",
      "9942\n",
      "42711\n",
      "303016\n"
     ]
    }
   ],
   "source": [
    "# Unsafe Block Const Calls\n",
    "unsafe_block_const_calls_250_set = set([\n",
    "    x\n",
    "    for x in unsafe_block_const_calls.crate_defsite\n",
    "    if x in sorted_crates[:250]\n",
    "])\n",
    "unsafe_block_const_calls_250 = unsafe_block_const_calls[\n",
    "    unsafe_block_const_calls.crate_defsite.isin(unsafe_block_const_calls_250_set)\n",
    "]\n",
    "\n",
    "unsafe_block_const_calls_500_set = set([\n",
    "    x\n",
    "    for x in unsafe_block_const_calls.crate_defsite\n",
    "    if x in sorted_crates[:500]\n",
    "])\n",
    "unsafe_block_const_calls_500 = unsafe_block_const_calls[\n",
    "    unsafe_block_const_calls.crate_defsite.isin(unsafe_block_const_calls_500_set)\n",
    "]\n",
    "\n",
    "unsafe_block_const_calls_1000_set = set([\n",
    "    x\n",
    "    for x in unsafe_block_const_calls.crate_defsite\n",
    "    if x in sorted_crates[:1000]\n",
    "])\n",
    "unsafe_block_const_calls_1000 = unsafe_block_const_calls[\n",
    "    unsafe_block_const_calls.crate_defsite.isin(unsafe_block_const_calls_1000_set)\n",
    "]\n",
    "\n",
    "print(len(unsafe_block_const_calls_250))\n",
    "print(len(unsafe_block_const_calls_500))\n",
    "print(len(unsafe_block_const_calls_1000))\n",
    "print(len(unsafe_block_const_calls))"
   ]
  },
  {
   "cell_type": "code",
   "execution_count": 20,
   "metadata": {},
   "outputs": [
    {
     "name": "stdout",
     "output_type": "stream",
     "text": [
      "ForeignItem    876\n",
      "Rust           676\n",
      "C               47\n",
      "Name: abi, dtype: int64\n",
      "ForeignItem    54.784240\n",
      "Rust           42.276423\n",
      "C               2.939337\n",
      "Name: abi, dtype: float64\n",
      "Unsafe function definitions: 1599\n"
     ]
    },
    {
     "data": {
      "image/png": "[encoded data removed]",
      "text/plain": [
       "<Figure size 1080x576 with 1 Axes>"
      ]
     },
     "metadata": {},
     "output_type": "display_data"
    }
   ],
   "source": [
    "# Frequency of abi DEFINITIONS - top 250\n",
    "values = unsafe_function_definitions_250.abi.value_counts()\n",
    "print(values)\n",
    "print(values / len(unsafe_function_definitions_250) * 100)\n",
    "print(\"Unsafe function definitions:\", len(unsafe_function_definitions_250))\n",
    "values.plot.pie()\n",
    "del values"
   ]
  },
  {
   "cell_type": "code",
   "execution_count": 21,
   "metadata": {},
   "outputs": [
    {
     "name": "stdout",
     "output_type": "stream",
     "text": [
      "Rust           1093\n",
      "ForeignItem     908\n",
      "C                78\n",
      "Name: abi, dtype: int64\n",
      "Rust           52.573353\n",
      "ForeignItem    43.674844\n",
      "C               3.751804\n",
      "Name: abi, dtype: float64\n",
      "Unsafe function definitions: 2079\n"
     ]
    },
    {
     "data": {
      "image/png": "[encoded data removed]",
      "text/plain": [
       "<Figure size 1080x576 with 1 Axes>"
      ]
     },
     "metadata": {},
     "output_type": "display_data"
    }
   ],
   "source": [
    "# Frequency of abi DEFINITIONS - top 500\n",
    "values = unsafe_function_definitions_500.abi.value_counts()\n",
    "print(values)\n",
    "print(values / len(unsafe_function_definitions_500) * 100)\n",
    "print(\"Unsafe function definitions:\", len(unsafe_function_definitions_500))\n",
    "values.plot.pie()\n",
    "del values"
   ]
  },
  {
   "cell_type": "code",
   "execution_count": 22,
   "metadata": {},
   "outputs": [
    {
     "name": "stdout",
     "output_type": "stream",
     "text": [
      "Rust           5227\n",
      "ForeignItem    4223\n",
      "C               141\n",
      "sysv64            2\n",
      "Name: abi, dtype: int64\n",
      "Rust           54.487647\n",
      "ForeignItem    44.021682\n",
      "C               1.469822\n",
      "sysv64          0.020849\n",
      "Name: abi, dtype: float64\n",
      "Unsafe function definitions: 9593\n"
     ]
    },
    {
     "data": {
      "image/png": "[encoded data removed]",
      "text/plain": [
       "<Figure size 1080x576 with 1 Axes>"
      ]
     },
     "metadata": {},
     "output_type": "display_data"
    }
   ],
   "source": [
    "# Frequency of abi DEFINITIONS - top 1000\n",
    "values = unsafe_function_definitions_1000.abi.value_counts()\n",
    "print(values)\n",
    "print(values / len(unsafe_function_definitions_1000) * 100)\n",
    "print(\"Unsafe function definitions:\", len(unsafe_function_definitions_1000))\n",
    "values.plot.pie()\n",
    "del values"
   ]
  },
  {
   "cell_type": "code",
   "execution_count": 23,
   "metadata": {},
   "outputs": [
    {
     "name": "stdout",
     "output_type": "stream",
     "text": [
      "ForeignItem    52604\n",
      "Rust           42094\n",
      "C               3040\n",
      "sysv64             2\n",
      "system             2\n",
      "Name: abi, dtype: int64\n",
      "ForeignItem    53.819238\n",
      "Rust           43.066440\n",
      "C               3.110229\n",
      "sysv64          0.002046\n",
      "system          0.002046\n",
      "Name: abi, dtype: float64\n",
      "Unsafe function definitions: 97742\n"
     ]
    },
    {
     "data": {
      "image/png": "[encoded data removed]",
      "text/plain": [
       "<Figure size 1080x576 with 1 Axes>"
      ]
     },
     "metadata": {},
     "output_type": "display_data"
    }
   ],
   "source": [
    "# Frequency of abi DEFINITIONS - ALL\n",
    "values = unsafe_function_definitions.abi.value_counts()\n",
    "print(values)\n",
    "print(values / len(unsafe_function_definitions) * 100)\n",
    "print(\"Unsafe function definitions:\", len(unsafe_function_definitions))\n",
    "values.plot.pie()\n",
    "del values"
   ]
  },
  {
   "cell_type": "code",
   "execution_count": 24,
   "metadata": {},
   "outputs": [
    {
     "name": "stdout",
     "output_type": "stream",
     "text": [
      "Number of crates that define unsafe Rust functions:\t 52\n",
      "Names and counts of 20 crates with most defined unsafe Rust functions:\n",
      "\n",
      "openssl             80\n",
      "cloudabi            66\n",
      "tokio               54\n",
      "wasi                45\n",
      "nix                 37\n",
      "bytes               34\n",
      "hashbrown           34\n",
      "parking_lot         27\n",
      "memchr              26\n",
      "hyper               25\n",
      "lock_api            23\n",
      "parking_lot_core    21\n",
      "encoding_rs         20\n",
      "rand_chacha         18\n",
      "dtoa                14\n",
      "anyhow              11\n",
      "httparse            11\n",
      "backtrace            9\n",
      "ryu                  9\n",
      "smallvec             9\n",
      "Name: crate, dtype: int64\n"
     ]
    }
   ],
   "source": [
    "# Which crates define unsafe Rust functions? - top 250\n",
    "def_unsafe_rust_funcs_250 = unsafe_function_definitions_250[\n",
    "    unsafe_function_definitions_250.abi == \"Rust\"\n",
    "]\n",
    "\n",
    "values = def_unsafe_rust_funcs_250.crate.value_counts()\n",
    "\n",
    "print(\"Number of crates that define unsafe Rust functions:\\t\", len(values))\n",
    "print(\"Names and counts of 20 crates with most defined unsafe Rust functions:\")\n",
    "print()\n",
    "print(values[:20])\n",
    "del values"
   ]
  },
  {
   "cell_type": "code",
   "execution_count": 25,
   "metadata": {},
   "outputs": [
    {
     "name": "stdout",
     "output_type": "stream",
     "text": [
      "Number of crates that define unsafe Rust functions:\t 87\n",
      "Names and counts of 20 crates with most defined unsafe Rust functions:\n",
      "\n",
      "git2                108\n",
      "openssl              80\n",
      "blake2b_simd         77\n",
      "cloudabi             66\n",
      "tokio                54\n",
      "wasi                 45\n",
      "tendril              40\n",
      "widestring           38\n",
      "nix                  37\n",
      "hashbrown            34\n",
      "bytes                34\n",
      "ascii                33\n",
      "parking_lot          27\n",
      "memchr               26\n",
      "hyper                25\n",
      "lock_api             23\n",
      "parking_lot_core     21\n",
      "encoding_rs          20\n",
      "rand_chacha          18\n",
      "bumpalo              16\n",
      "Name: crate, dtype: int64\n"
     ]
    }
   ],
   "source": [
    "# Which crates define unsafe Rust functions? - top 500\n",
    "def_unsafe_rust_funcs_500 = unsafe_function_definitions_500[\n",
    "    unsafe_function_definitions_500.abi == \"Rust\"\n",
    "]\n",
    "\n",
    "values = def_unsafe_rust_funcs_500.crate.value_counts()\n",
    "\n",
    "print(\"Number of crates that define unsafe Rust functions:\\t\", len(values))\n",
    "print(\"Names and counts of 20 crates with most defined unsafe Rust functions:\")\n",
    "print()\n",
    "print(values[:20])\n",
    "del values"
   ]
  },
  {
   "cell_type": "code",
   "execution_count": 26,
   "metadata": {},
   "outputs": [
    {
     "name": "stdout",
     "output_type": "stream",
     "text": [
      "Number of crates that define unsafe Rust functions:\t 152\n",
      "Names and counts of 20 crates with most defined unsafe Rust functions:\n",
      "\n",
      "gleam             2095\n",
      "glib               841\n",
      "nalgebra           220\n",
      "stdweb             157\n",
      "alga               153\n",
      "git2               108\n",
      "ndarray             84\n",
      "dlmalloc            80\n",
      "openssl             80\n",
      "blake2b_simd        77\n",
      "cloudabi            66\n",
      "tokio               54\n",
      "wasi                45\n",
      "tendril             40\n",
      "widestring          38\n",
      "nix                 37\n",
      "winit               35\n",
      "matrixmultiply      35\n",
      "bytes               34\n",
      "hashbrown           34\n",
      "Name: crate, dtype: int64\n"
     ]
    }
   ],
   "source": [
    "# Which crates define unsafe Rust functions? - top 1000\n",
    "def_unsafe_rust_funcs_1000 = unsafe_function_definitions_1000[\n",
    "    unsafe_function_definitions_1000.abi == \"Rust\"\n",
    "]\n",
    "\n",
    "values = def_unsafe_rust_funcs_1000.crate.value_counts()\n",
    "\n",
    "print(\"Number of crates that define unsafe Rust functions:\\t\", len(values))\n",
    "print(\"Names and counts of 20 crates with most defined unsafe Rust functions:\")\n",
    "print()\n",
    "print(values[:20])\n",
    "del values"
   ]
  },
  {
   "cell_type": "code",
   "execution_count": 27,
   "metadata": {},
   "outputs": [
    {
     "name": "stdout",
     "output_type": "stream",
     "text": [
      "Number of crates that define unsafe Rust functions:\t 922\n",
      "Names and counts of 20 crates with most defined unsafe Rust functions:\n",
      "\n",
      "gtk            4424\n",
      "gio            2836\n",
      "lapacke        2205\n",
      "gleam          2095\n",
      "sparkle        1789\n",
      "glium          1774\n",
      "glow           1566\n",
      "gstreamer      1324\n",
      "stm32f30x      1249\n",
      "lapack         1103\n",
      "glib            841\n",
      "webkit2gtk      828\n",
      "mallumo_gls     825\n",
      "js_sys          803\n",
      "gc              717\n",
      "gfx_gl          703\n",
      "gl              695\n",
      "ash             692\n",
      "atk             679\n",
      "pango           595\n",
      "Name: crate, dtype: int64\n"
     ]
    }
   ],
   "source": [
    "# Which crates define unsafe Rust functions? - ALL\n",
    "def_unsafe_rust_funcs = unsafe_function_definitions[\n",
    "    unsafe_function_definitions.abi == \"Rust\"\n",
    "]\n",
    "\n",
    "values = def_unsafe_rust_funcs.crate.value_counts()\n",
    "\n",
    "print(\"Number of crates that define unsafe Rust functions:\\t\", len(values))\n",
    "print(\"Names and counts of 20 crates with most defined unsafe Rust functions:\")\n",
    "print()\n",
    "print(values[:20])\n",
    "del values"
   ]
  },
  {
   "cell_type": "code",
   "execution_count": 28,
   "metadata": {},
   "outputs": [
    {
     "name": "stdout",
     "output_type": "stream",
     "text": [
      "Number of crates that define C functions:\t 4\n",
      "Names and counts:\n",
      "\n",
      "libc         27\n",
      "openssl      18\n",
      "backtrace     1\n",
      "ring          1\n",
      "Name: crate, dtype: int64\n"
     ]
    }
   ],
   "source": [
    "# Which crates define C functions? - top 250\n",
    "def_c_funcs_250 = unsafe_function_definitions_250[\n",
    "    unsafe_function_definitions_250.abi == \"C\"\n",
    "]\n",
    "\n",
    "values = def_c_funcs_250.crate.value_counts()\n",
    "\n",
    "print(\"Number of crates that define C functions:\\t\", len(values))\n",
    "print(\"Names and counts:\")\n",
    "print()\n",
    "print(values)\n",
    "del values"
   ]
  },
  {
   "cell_type": "code",
   "execution_count": 29,
   "metadata": {},
   "outputs": [
    {
     "name": "stdout",
     "output_type": "stream",
     "text": [
      "Number of crates that define C functions:\t 5\n",
      "Names and counts:\n",
      "\n",
      "miniz_oxide_c_api    31\n",
      "libc                 27\n",
      "openssl              18\n",
      "backtrace             1\n",
      "ring                  1\n",
      "Name: crate, dtype: int64\n"
     ]
    }
   ],
   "source": [
    "# Which crates define C functions? - top 500\n",
    "def_c_funcs_500 = unsafe_function_definitions_500[\n",
    "    unsafe_function_definitions_500.abi == \"C\"\n",
    "]\n",
    "\n",
    "values = def_c_funcs_500.crate.value_counts()\n",
    "\n",
    "print(\"Number of crates that define C functions:\\t\", len(values))\n",
    "print(\"Names and counts:\")\n",
    "print()\n",
    "print(values)\n",
    "del values"
   ]
  },
  {
   "cell_type": "code",
   "execution_count": 30,
   "metadata": {},
   "outputs": [
    {
     "name": "stdout",
     "output_type": "stream",
     "text": [
      "Number of crates that define C functions:\t 12\n",
      "Names and counts:\n",
      "\n",
      "glib                 39\n",
      "miniz_oxide_c_api    31\n",
      "libc                 27\n",
      "openssl              18\n",
      "block                15\n",
      "winit                 4\n",
      "onig                  2\n",
      "backtrace             1\n",
      "secp256k1             1\n",
      "ring                  1\n",
      "zmq                   1\n",
      "rusqlite              1\n",
      "Name: crate, dtype: int64\n"
     ]
    }
   ],
   "source": [
    "# Which crates define C functions? - top 1000\n",
    "def_c_funcs_1000 = unsafe_function_definitions_1000[\n",
    "    unsafe_function_definitions_1000.abi == \"C\"\n",
    "]\n",
    "\n",
    "values = def_c_funcs_1000.crate.value_counts()\n",
    "\n",
    "print(\"Number of crates that define C functions:\\t\", len(values))\n",
    "print(\"Names and counts:\")\n",
    "print()\n",
    "print(values)\n",
    "del values"
   ]
  },
  {
   "cell_type": "code",
   "execution_count": 31,
   "metadata": {},
   "outputs": [
    {
     "name": "stdout",
     "output_type": "stream",
     "text": [
      "Number of crates that define C functions:\t 68\n",
      "Names and counts:\n",
      "\n",
      "gtk                    1330\n",
      "gio                     310\n",
      "webkit2gtk              134\n",
      "gstreamer               120\n",
      "wasm_bindgen             96\n",
      "pyo3                     96\n",
      "cxx                      92\n",
      "lodepng                  77\n",
      "gstreamer_base           74\n",
      "gmp_mpfr_sys             68\n",
      "                       ... \n",
      "wasmer_clif_backend       1\n",
      "argv                      1\n",
      "ring                      1\n",
      "findshlibs                1\n",
      "libarchive                1\n",
      "xkbcommon                 1\n",
      "nettle                    1\n",
      "async_timer               1\n",
      "backtrace                 1\n",
      "harfbuzz                  1\n",
      "Name: crate, Length: 68, dtype: int64\n"
     ]
    }
   ],
   "source": [
    "# Which crates define C functions? - ALL\n",
    "def_c_funcs = unsafe_function_definitions[\n",
    "    unsafe_function_definitions.abi == \"C\"\n",
    "]\n",
    "\n",
    "values = def_c_funcs.crate.value_counts()\n",
    "\n",
    "print(\"Number of crates that define C functions:\\t\", len(values))\n",
    "print(\"Names and counts:\")\n",
    "print()\n",
    "print(values)\n",
    "del values"
   ]
  },
  {
   "cell_type": "code",
   "execution_count": 32,
   "metadata": {},
   "outputs": [
    {
     "name": "stdout",
     "output_type": "stream",
     "text": [
      "Number of crates that define Foreign Items:\t 5\n",
      "Names and counts of 20 crates with most defined Foreign Items:\n",
      "\n",
      "libc         704\n",
      "ring          74\n",
      "cloudabi      49\n",
      "wasi          45\n",
      "backtrace      4\n",
      "Name: crate, dtype: int64\n"
     ]
    }
   ],
   "source": [
    "# Which crates define Foreign Items? - top 250\n",
    "def_fi_funcs_250 = unsafe_function_definitions_250[\n",
    "    unsafe_function_definitions_250.abi == \"ForeignItem\"\n",
    "]\n",
    "\n",
    "values = def_fi_funcs_250.crate.value_counts()\n",
    "\n",
    "print(\"Number of crates that define Foreign Items:\\t\", len(values))\n",
    "print(\"Names and counts of 20 crates with most defined Foreign Items:\")\n",
    "print()\n",
    "print(values[:20])\n",
    "del values"
   ]
  },
  {
   "cell_type": "code",
   "execution_count": 33,
   "metadata": {},
   "outputs": [
    {
     "name": "stdout",
     "output_type": "stream",
     "text": [
      "Number of crates that define Foreign Items:\t 11\n",
      "Names and counts of 20 crates with most defined Foreign Items:\n",
      "\n",
      "libc          704\n",
      "ring           74\n",
      "cloudabi       49\n",
      "wasi           45\n",
      "termios        13\n",
      "xattr           8\n",
      "libloading      5\n",
      "backtrace       4\n",
      "termion         3\n",
      "errno           2\n",
      "term_size       1\n",
      "Name: crate, dtype: int64\n"
     ]
    }
   ],
   "source": [
    "# Which crates define Foreign Items? - top 500\n",
    "def_fi_funcs_500 = unsafe_function_definitions_500[\n",
    "    unsafe_function_definitions_500.abi == \"ForeignItem\"\n",
    "]\n",
    "\n",
    "values = def_fi_funcs_500.crate.value_counts()\n",
    "\n",
    "print(\"Number of crates that define Foreign Items:\\t\", len(values))\n",
    "print(\"Names and counts of 20 crates with most defined Foreign Items:\")\n",
    "print()\n",
    "print(values[:20])\n",
    "del values"
   ]
  },
  {
   "cell_type": "code",
   "execution_count": 34,
   "metadata": {},
   "outputs": [
    {
     "name": "stdout",
     "output_type": "stream",
     "text": [
      "Number of crates that define Foreign Items:\t 24\n",
      "Names and counts of 20 crates with most defined Foreign Items:\n",
      "\n",
      "x11               1626\n",
      "stdweb             940\n",
      "libc               704\n",
      "xcb                482\n",
      "onig_sys           146\n",
      "ring                74\n",
      "objc                54\n",
      "cloudabi            49\n",
      "wasi                45\n",
      "secp256k1           27\n",
      "cgl                 26\n",
      "termios             13\n",
      "xattr                8\n",
      "libloading           5\n",
      "shared_library       4\n",
      "backtrace            4\n",
      "psm                  4\n",
      "termion              3\n",
      "users                2\n",
      "errno                2\n",
      "Name: crate, dtype: int64\n"
     ]
    }
   ],
   "source": [
    "# Which crates define Foreign Items? - top 1000\n",
    "def_fi_funcs_1000 = unsafe_function_definitions_1000[\n",
    "    unsafe_function_definitions_1000.abi == \"ForeignItem\"\n",
    "]\n",
    "\n",
    "values = def_fi_funcs_1000.crate.value_counts()\n",
    "\n",
    "print(\"Number of crates that define Foreign Items:\\t\", len(values))\n",
    "print(\"Names and counts of 20 crates with most defined Foreign Items:\")\n",
    "print()\n",
    "print(values[:20])\n",
    "del values"
   ]
  },
  {
   "cell_type": "code",
   "execution_count": 35,
   "metadata": {},
   "outputs": [
    {
     "name": "stdout",
     "output_type": "stream",
     "text": [
      "Number of crates that define Foreign Items:\t 291\n",
      "Names and counts of 20 crates with most defined Foreign Items:\n",
      "\n",
      "gtk_sys                4144\n",
      "lapacke_sys            2205\n",
      "libxml                 1945\n",
      "gio_sys                1865\n",
      "rust_hawktracer_sys    1700\n",
      "x11                    1626\n",
      "glib_sys               1494\n",
      "glib_2_0_sys           1477\n",
      "gstreamer_sys          1457\n",
      "ffmpeg_sys             1327\n",
      "alsa_sys               1281\n",
      "sdl2_sys               1192\n",
      "lapack_sys             1103\n",
      "nettle_sys              972\n",
      "stdweb                  940\n",
      "libsodium_sys           863\n",
      "libsodium_ffi           796\n",
      "python3_sys             738\n",
      "openssl_sys             733\n",
      "pyo3                    720\n",
      "Name: crate, dtype: int64\n"
     ]
    }
   ],
   "source": [
    "# Which crates define Foreign Items? - ALL\n",
    "def_fi_funcs = unsafe_function_definitions[\n",
    "    unsafe_function_definitions.abi == \"ForeignItem\"\n",
    "]\n",
    "\n",
    "values = def_fi_funcs.crate.value_counts()\n",
    "\n",
    "print(\"Number of crates that define Foreign Items:\\t\", len(values))\n",
    "print(\"Names and counts of 20 crates with most defined Foreign Items:\")\n",
    "print()\n",
    "print(values[:20])\n",
    "del values"
   ]
  },
  {
   "cell_type": "code",
   "execution_count": 36,
   "metadata": {},
   "outputs": [
    {
     "name": "stdout",
     "output_type": "stream",
     "text": [
      "C       1664\n",
      "Rust     913\n",
      "Name: abi, dtype: int64\n",
      "C       64.571207\n",
      "Rust    35.428793\n",
      "Name: abi, dtype: float64\n",
      "Unsafe calls: 2577\n"
     ]
    },
    {
     "data": {
      "image/png": "[encoded data removed]",
      "text/plain": [
       "<Figure size 1080x576 with 1 Axes>"
      ]
     },
     "metadata": {},
     "output_type": "display_data"
    }
   ],
   "source": [
    "# Frequency of abi CALLS - top 250\n",
    "unsafe_const_calls_250 = const_calls_250[\n",
    "    const_calls_250.unsafety == \"Unsafe\"\n",
    "]\n",
    "values = unsafe_const_calls_250.abi.value_counts()\n",
    "print(values)\n",
    "print(values / len(unsafe_const_calls_250) * 100)\n",
    "print(\"Unsafe calls:\", len(unsafe_const_calls_250))\n",
    "values.plot.pie()\n",
    "del values"
   ]
  },
  {
   "cell_type": "code",
   "execution_count": 37,
   "metadata": {},
   "outputs": [
    {
     "name": "stdout",
     "output_type": "stream",
     "text": [
      "Rust    2340\n",
      "C       1690\n",
      "Name: abi, dtype: int64\n",
      "Rust    58.064516\n",
      "C       41.935484\n",
      "Name: abi, dtype: float64\n",
      "Unsafe calls: 4030\n"
     ]
    },
    {
     "data": {
      "image/png": "[encoded data removed]",
      "text/plain": [
       "<Figure size 1080x576 with 1 Axes>"
      ]
     },
     "metadata": {},
     "output_type": "display_data"
    }
   ],
   "source": [
    "# Frequency of abi CALLS - top 500\n",
    "unsafe_const_calls_500 = const_calls_500[\n",
    "    const_calls_500.unsafety == \"Unsafe\"\n",
    "]\n",
    "values = unsafe_const_calls_500.abi.value_counts()\n",
    "print(values)\n",
    "print(values / len(unsafe_const_calls_500) * 100)\n",
    "print(\"Unsafe calls:\", len(unsafe_const_calls_500))\n",
    "values.plot.pie()\n",
    "del values"
   ]
  },
  {
   "cell_type": "code",
   "execution_count": 38,
   "metadata": {},
   "outputs": [
    {
     "name": "stdout",
     "output_type": "stream",
     "text": [
      "Rust      9711\n",
      "C         3236\n",
      "sysv64       2\n",
      "Name: abi, dtype: int64\n",
      "Rust      74.994208\n",
      "C         24.990347\n",
      "sysv64     0.015445\n",
      "Name: abi, dtype: float64\n",
      "Unsafe calls: 12949\n"
     ]
    },
    {
     "data": {
      "image/png": "[encoded data removed]",
      "text/plain": [
       "<Figure size 1080x576 with 1 Axes>"
      ]
     },
     "metadata": {},
     "output_type": "display_data"
    }
   ],
   "source": [
    "# Frequency of abi CALLS - top 1000\n",
    "unsafe_const_calls_1000 = const_calls_1000[\n",
    "    const_calls_1000.unsafety == \"Unsafe\"\n",
    "]\n",
    "values = unsafe_const_calls_1000.abi.value_counts()\n",
    "print(values)\n",
    "print(values / len(unsafe_const_calls_1000) * 100)\n",
    "print(\"Unsafe calls:\", len(unsafe_const_calls_1000))\n",
    "values.plot.pie()\n",
    "del values"
   ]
  },
  {
   "cell_type": "code",
   "execution_count": 39,
   "metadata": {},
   "outputs": [
    {
     "name": "stdout",
     "output_type": "stream",
     "text": [
      "Rust                  72644\n",
      "C                     29301\n",
      "rust-intrinsic        18032\n",
      "platform-intrinsic     3018\n",
      "system                  272\n",
      "sysv64                    2\n",
      "Name: abi, dtype: int64\n",
      "Rust                  58.931280\n",
      "C                     23.769966\n",
      "rust-intrinsic        14.628171\n",
      "platform-intrinsic     2.448304\n",
      "system                 0.220656\n",
      "sysv64                 0.001622\n",
      "Name: abi, dtype: float64\n",
      "Unsafe calls: 123269\n"
     ]
    },
    {
     "data": {
      "image/png": "[encoded data removed]",
      "text/plain": [
       "<Figure size 1080x576 with 1 Axes>"
      ]
     },
     "metadata": {},
     "output_type": "display_data"
    }
   ],
   "source": [
    "# Frequency of abi CALLS - ALL\n",
    "unsafe_const_calls = const_calls[\n",
    "    const_calls.unsafety == \"Unsafe\"\n",
    "]\n",
    "values = unsafe_const_calls.abi.value_counts()\n",
    "print(values)\n",
    "print(values / len(unsafe_const_calls) * 100)\n",
    "print(\"Unsafe calls:\", len(unsafe_const_calls))\n",
    "values.plot.pie()\n",
    "del values"
   ]
  },
  {
   "cell_type": "code",
   "execution_count": 40,
   "metadata": {},
   "outputs": [
    {
     "name": "stdout",
     "output_type": "stream",
     "text": [
      "Number of crates that call unsafe Rust functions:\t 42\n",
      "Names and counts of 20 crates with most unsafe Rust function calls:\n",
      "\n",
      "hashbrown           144\n",
      "nix                 127\n",
      "lock_api             83\n",
      "bytes                79\n",
      "socket2              53\n",
      "encoding_rs          48\n",
      "tokio                46\n",
      "arrayvec             36\n",
      "parking_lot_core     31\n",
      "smallvec             29\n",
      "openssl              25\n",
      "bstr                 20\n",
      "rand_chacha          18\n",
      "http                 18\n",
      "httparse             18\n",
      "memchr               18\n",
      "thread_local         12\n",
      "byteorder            11\n",
      "syn                  11\n",
      "parking_lot           7\n",
      "Name: crate_defsite, dtype: int64\n",
      "Number of crates that call unsafe Rust functions from user-written blocks:\t 42\n",
      "Names and counts of 20 crates with most user-written unsafe Rust function calls:\n",
      "\n",
      "hashbrown           144\n",
      "nix                 127\n",
      "lock_api             83\n",
      "bytes                79\n",
      "socket2              53\n",
      "encoding_rs          48\n",
      "tokio                46\n",
      "arrayvec             36\n",
      "parking_lot_core     31\n",
      "smallvec             29\n",
      "openssl              25\n",
      "bstr                 20\n",
      "rand_chacha          18\n",
      "http                 18\n",
      "httparse             18\n",
      "memchr               18\n",
      "thread_local         12\n",
      "byteorder            11\n",
      "syn                  11\n",
      "parking_lot           7\n",
      "Name: crate_defsite, dtype: int64\n"
     ]
    }
   ],
   "source": [
    "# Which crates call unsafe Rust functions? - top 250\n",
    "calls_unsafe_rust_funcs_250 = unsafe_const_calls_250[\n",
    "    unsafe_const_calls_250.abi == \"Rust\"\n",
    "]\n",
    "\n",
    "values = calls_unsafe_rust_funcs_250.crate_defsite.value_counts()\n",
    "\n",
    "print(\"Number of crates that call unsafe Rust functions:\\t\", len(values))\n",
    "print(\"Names and counts of 20 crates with most unsafe Rust function calls:\")\n",
    "print()\n",
    "print(values[:20])\n",
    "del values\n",
    "\n",
    "# Filter by user-written blocks\n",
    "uw_calls_unsafe_rust_funcs_250 = calls_unsafe_rust_funcs_250[\n",
    "    calls_unsafe_rust_funcs_250.check_mode == \"UnsafeBlockUserProvided\"\n",
    "]\n",
    "\n",
    "values = uw_calls_unsafe_rust_funcs_250.crate_defsite.value_counts()\n",
    "\n",
    "print(\"Number of crates that call unsafe Rust functions from user-written blocks:\\t\", len(values))\n",
    "print(\"Names and counts of 20 crates with most user-written unsafe Rust function calls:\")\n",
    "print()\n",
    "print(values[:20])\n",
    "del values"
   ]
  },
  {
   "cell_type": "code",
   "execution_count": 41,
   "metadata": {},
   "outputs": [
    {
     "name": "stdout",
     "output_type": "stream",
     "text": [
      "Number of crates that call unsafe Rust functions:\t 71\n",
      "Names and counts of 20 crates with most unsafe Rust function calls:\n",
      "\n",
      "libloading          551\n",
      "git2                318\n",
      "combine             210\n",
      "hashbrown           144\n",
      "nix                 127\n",
      "image                96\n",
      "lock_api             83\n",
      "bytes                79\n",
      "tendril              56\n",
      "socket2              53\n",
      "encoding_rs          48\n",
      "tokio                46\n",
      "arrayvec             36\n",
      "parking_lot_core     31\n",
      "smallvec             29\n",
      "openssl              25\n",
      "curl                 23\n",
      "memmap               20\n",
      "bstr                 20\n",
      "json                 19\n",
      "Name: crate_defsite, dtype: int64\n",
      "Number of crates that call unsafe Rust functions from user-written blocks:\t 71\n",
      "Names and counts of 20 crates with most user-written unsafe Rust function calls:\n",
      "\n",
      "libloading          551\n",
      "git2                318\n",
      "combine             210\n",
      "hashbrown           144\n",
      "nix                 127\n",
      "image                96\n",
      "lock_api             83\n",
      "bytes                79\n",
      "tendril              56\n",
      "socket2              53\n",
      "encoding_rs          48\n",
      "tokio                46\n",
      "arrayvec             36\n",
      "parking_lot_core     31\n",
      "smallvec             29\n",
      "openssl              25\n",
      "curl                 23\n",
      "memmap               20\n",
      "bstr                 20\n",
      "json                 19\n",
      "Name: crate_defsite, dtype: int64\n"
     ]
    }
   ],
   "source": [
    "# Which crates call unsafe Rust functions? - top 500\n",
    "calls_unsafe_rust_funcs_500 = unsafe_const_calls_500[\n",
    "    unsafe_const_calls_500.abi == \"Rust\"\n",
    "]\n",
    "\n",
    "values = calls_unsafe_rust_funcs_500.crate_defsite.value_counts()\n",
    "\n",
    "print(\"Number of crates that call unsafe Rust functions:\\t\", len(values))\n",
    "print(\"Names and counts of 20 crates with most unsafe Rust function calls:\")\n",
    "print()\n",
    "print(values[:20])\n",
    "del values\n",
    "\n",
    "# Filter by user-written blocks\n",
    "uw_calls_unsafe_rust_funcs_500 = calls_unsafe_rust_funcs_500[\n",
    "    calls_unsafe_rust_funcs_500.check_mode == \"UnsafeBlockUserProvided\"\n",
    "]\n",
    "\n",
    "values = uw_calls_unsafe_rust_funcs_500.crate_defsite.value_counts()\n",
    "\n",
    "print(\"Number of crates that call unsafe Rust functions from user-written blocks:\\t\", len(values))\n",
    "print(\"Names and counts of 20 crates with most user-written unsafe Rust function calls:\")\n",
    "print()\n",
    "print(values[:20])\n",
    "del values"
   ]
  },
  {
   "cell_type": "code",
   "execution_count": 42,
   "metadata": {},
   "outputs": [
    {
     "name": "stdout",
     "output_type": "stream",
     "text": [
      "Number of crates that call unsafe Rust functions:\t 120\n",
      "Names and counts of 20 crates with most unsafe Rust function calls:\n",
      "\n",
      "glib           4769\n",
      "nalgebra       1032\n",
      "libloading      551\n",
      "gleam           399\n",
      "stdweb          359\n",
      "git2            318\n",
      "combine         210\n",
      "ndarray         176\n",
      "hashbrown       144\n",
      "nix             127\n",
      "objc            115\n",
      "image            96\n",
      "rental           96\n",
      "lock_api         83\n",
      "bytes            79\n",
      "dbus             58\n",
      "tendril          56\n",
      "socket2          53\n",
      "encoding_rs      48\n",
      "tokio            46\n",
      "Name: crate_defsite, dtype: int64\n",
      "Number of crates that call unsafe Rust functions from user-written blocks:\t 120\n",
      "Names and counts of 20 crates with most user-written unsafe Rust function calls:\n",
      "\n",
      "glib           4769\n",
      "nalgebra       1032\n",
      "libloading      551\n",
      "gleam           399\n",
      "stdweb          359\n",
      "git2            318\n",
      "combine         210\n",
      "ndarray         176\n",
      "hashbrown       144\n",
      "nix             127\n",
      "objc            115\n",
      "image            96\n",
      "rental           96\n",
      "lock_api         83\n",
      "bytes            79\n",
      "dbus             58\n",
      "tendril          56\n",
      "socket2          53\n",
      "encoding_rs      48\n",
      "tokio            46\n",
      "Name: crate_defsite, dtype: int64\n"
     ]
    }
   ],
   "source": [
    "# Which crates call unsafe Rust functions? - 1000\n",
    "calls_unsafe_rust_funcs_1000 = unsafe_const_calls_1000[\n",
    "    unsafe_const_calls_1000.abi == \"Rust\"\n",
    "]\n",
    "\n",
    "values = calls_unsafe_rust_funcs_1000.crate_defsite.value_counts()\n",
    "\n",
    "print(\"Number of crates that call unsafe Rust functions:\\t\", len(values))\n",
    "print(\"Names and counts of 20 crates with most unsafe Rust function calls:\")\n",
    "print()\n",
    "print(values[:20])\n",
    "del values\n",
    "\n",
    "# Filter by user-written blocks\n",
    "uw_calls_unsafe_rust_funcs_1000 = calls_unsafe_rust_funcs_1000[\n",
    "    calls_unsafe_rust_funcs_1000.check_mode == \"UnsafeBlockUserProvided\"\n",
    "]\n",
    "\n",
    "values = uw_calls_unsafe_rust_funcs_1000.crate_defsite.value_counts()\n",
    "\n",
    "print(\"Number of crates that call unsafe Rust functions from user-written blocks:\\t\", len(values))\n",
    "print(\"Names and counts of 20 crates with most user-written unsafe Rust function calls:\")\n",
    "print()\n",
    "print(values[:20])\n",
    "del values"
   ]
  },
  {
   "cell_type": "code",
   "execution_count": 43,
   "metadata": {},
   "outputs": [
    {
     "name": "stdout",
     "output_type": "stream",
     "text": [
      "Number of crates that call unsafe Rust functions:\t 609\n",
      "Names and counts of 20 crates with most unsafe Rust function calls:\n",
      "\n",
      "core                44248\n",
      "glib                 4769\n",
      "std                  1745\n",
      "alloc                1361\n",
      "nalgebra             1032\n",
      "al_sys                768\n",
      "gstreamer             742\n",
      "pyo3                  695\n",
      "js_sys                692\n",
      "sample                625\n",
      "wasm_bindgen          605\n",
      "glium                 561\n",
      "libloading            551\n",
      "packed_simd           462\n",
      "sparkle               413\n",
      "gleam                 399\n",
      "stdweb                359\n",
      "git2                  318\n",
      "unic_langid_impl      310\n",
      "gfx_gl                256\n",
      "Name: crate_defsite, dtype: int64\n",
      "Number of crates that call unsafe Rust functions from user-written blocks:\t 609\n",
      "Names and counts of 20 crates with most user-written unsafe Rust function calls:\n",
      "\n",
      "core                36353\n",
      "glib                 4769\n",
      "std                  1745\n",
      "alloc                1361\n",
      "nalgebra             1032\n",
      "al_sys                768\n",
      "gstreamer             742\n",
      "pyo3                  695\n",
      "js_sys                692\n",
      "sample                625\n",
      "wasm_bindgen          605\n",
      "glium                 561\n",
      "libloading            551\n",
      "packed_simd           462\n",
      "sparkle               413\n",
      "gleam                 399\n",
      "stdweb                359\n",
      "git2                  318\n",
      "unic_langid_impl      310\n",
      "gfx_gl                256\n",
      "Name: crate_defsite, dtype: int64\n"
     ]
    }
   ],
   "source": [
    "# Which crates call unsafe Rust functions? - ALL\n",
    "calls_unsafe_rust_funcs = unsafe_const_calls[\n",
    "    unsafe_const_calls.abi == \"Rust\"\n",
    "]\n",
    "\n",
    "values = calls_unsafe_rust_funcs.crate_defsite.value_counts()\n",
    "\n",
    "print(\"Number of crates that call unsafe Rust functions:\\t\", len(values))\n",
    "print(\"Names and counts of 20 crates with most unsafe Rust function calls:\")\n",
    "print()\n",
    "print(values[:20])\n",
    "del values\n",
    "\n",
    "# Filter by user-written blocks\n",
    "uw_calls_unsafe_rust_funcs = calls_unsafe_rust_funcs[\n",
    "    calls_unsafe_rust_funcs.check_mode == \"UnsafeBlockUserProvided\"\n",
    "]\n",
    "\n",
    "values = uw_calls_unsafe_rust_funcs.crate_defsite.value_counts()\n",
    "\n",
    "print(\"Number of crates that call unsafe Rust functions from user-written blocks:\\t\", len(values))\n",
    "print(\"Names and counts of 20 crates with most user-written unsafe Rust function calls:\")\n",
    "print()\n",
    "print(values[:20])\n",
    "del values"
   ]
  },
  {
   "cell_type": "code",
   "execution_count": 44,
   "metadata": {},
   "outputs": [
    {
     "name": "stdout",
     "output_type": "stream",
     "text": [
      "Number of crates that call C functions:\t 3\n",
      "Names and counts of 20 crates with most C function calls:\n",
      "\n",
      "libc         1606\n",
      "ring           55\n",
      "backtrace       3\n",
      "Name: crate_defsite, dtype: int64\n"
     ]
    }
   ],
   "source": [
    "# Which crates call C functions? - top 250\n",
    "calls_c_funcs_250 = unsafe_const_calls_250[\n",
    "    unsafe_const_calls_250.abi == \"C\"\n",
    "]\n",
    "\n",
    "values = calls_c_funcs_250.crate_defsite.value_counts()\n",
    "\n",
    "print(\"Number of crates that call C functions:\\t\", len(values))\n",
    "print(\"Names and counts of 20 crates with most C function calls:\")\n",
    "print()\n",
    "print(values[:20])\n",
    "del values"
   ]
  },
  {
   "cell_type": "code",
   "execution_count": 45,
   "metadata": {},
   "outputs": [
    {
     "name": "stdout",
     "output_type": "stream",
     "text": [
      "Number of crates that call C functions:\t 8\n",
      "Names and counts of 20 crates with most C function calls:\n",
      "\n",
      "libc          1606\n",
      "ring            55\n",
      "termios         13\n",
      "libloading       5\n",
      "errno            3\n",
      "backtrace        3\n",
      "termion          3\n",
      "xattr            2\n",
      "Name: crate_defsite, dtype: int64\n"
     ]
    }
   ],
   "source": [
    "# Which crates call C functions? - top 500\n",
    "calls_c_funcs_500 = unsafe_const_calls_500[\n",
    "    unsafe_const_calls_500.abi == \"C\"\n",
    "]\n",
    "\n",
    "values = calls_c_funcs_500.crate_defsite.value_counts()\n",
    "\n",
    "print(\"Number of crates that call C functions:\\t\", len(values))\n",
    "print(\"Names and counts of 20 crates with most C function calls:\")\n",
    "print()\n",
    "print(values[:20])\n",
    "del values"
   ]
  },
  {
   "cell_type": "code",
   "execution_count": 46,
   "metadata": {},
   "outputs": [
    {
     "name": "stdout",
     "output_type": "stream",
     "text": [
      "Number of crates that call C functions:\t 18\n",
      "Names and counts of 20 crates with most C function calls:\n",
      "\n",
      "libc              1606\n",
      "stdweb             937\n",
      "xcb                429\n",
      "objc               101\n",
      "ring                55\n",
      "onig_sys            33\n",
      "secp256k1           28\n",
      "termios             13\n",
      "x11                 12\n",
      "libloading           5\n",
      "termion              3\n",
      "backtrace            3\n",
      "errno                3\n",
      "xattr                2\n",
      "users                2\n",
      "shared_library       2\n",
      "clear_on_drop        1\n",
      "block                1\n",
      "Name: crate_defsite, dtype: int64\n"
     ]
    }
   ],
   "source": [
    "# Which crates call C functions? - top 1000\n",
    "calls_c_funcs_1000 = unsafe_const_calls_1000[\n",
    "    unsafe_const_calls_1000.abi == \"C\"\n",
    "]\n",
    "\n",
    "values = calls_c_funcs_1000.crate_defsite.value_counts()\n",
    "\n",
    "print(\"Number of crates that call C functions:\\t\", len(values))\n",
    "print(\"Names and counts of 20 crates with most C function calls:\")\n",
    "print()\n",
    "print(values[:20])\n",
    "del values"
   ]
  },
  {
   "cell_type": "code",
   "execution_count": 47,
   "metadata": {},
   "outputs": [
    {
     "name": "stdout",
     "output_type": "stream",
     "text": [
      "Number of crates that call C functions:\t 238\n",
      "Names and counts of 20 crates with most C function calls:\n",
      "\n",
      "gtk_sys               3356\n",
      "gsl_sys               2216\n",
      "libc                  1606\n",
      "glib_sys              1592\n",
      "gstreamer_sys         1548\n",
      "gio_sys               1369\n",
      "gobject_sys            955\n",
      "stdweb                 937\n",
      "openssl_sys            750\n",
      "libgit2_sys            544\n",
      "gdk_sys                479\n",
      "gmp_mpfr_sys           478\n",
      "pyo3                   439\n",
      "alsa_sys               429\n",
      "xcb                    429\n",
      "ncurses                399\n",
      "csfml_graphics_sys     397\n",
      "sdl2_sys               395\n",
      "webkit2gtk_sys         378\n",
      "libpulse_sys           363\n",
      "Name: crate_defsite, dtype: int64\n"
     ]
    }
   ],
   "source": [
    "# Which crates call C functions? - ALL\n",
    "calls_c_funcs = unsafe_const_calls[\n",
    "    unsafe_const_calls.abi == \"C\"\n",
    "]\n",
    "\n",
    "values = calls_c_funcs.crate_defsite.value_counts()\n",
    "\n",
    "print(\"Number of crates that call C functions:\\t\", len(values))\n",
    "print(\"Names and counts of 20 crates with most C function calls:\")\n",
    "print()\n",
    "print(values[:20])\n",
    "del values"
   ]
  },
  {
   "cell_type": "code",
   "execution_count": 48,
   "metadata": {},
   "outputs": [
    {
     "name": "stdout",
     "output_type": "stream",
     "text": [
      "Total number of SIMD calls:\t 0\n",
      "Number of crates that call SIMD functions:\t 0\n",
      "Crates that call SIMD functions:\n",
      "[]\n"
     ]
    }
   ],
   "source": [
    "# SIMD const calls total - top 250\n",
    "simd_functions_250 = set([\n",
    "    x\n",
    "    for x in const_calls_250.def_path.unique()\n",
    "    if x.startswith('core[7bab]::core_arch')\n",
    "])\n",
    "simd_calls = const_calls_250[\n",
    "    const_calls_250.def_path.isin(simd_functions_250)\n",
    "]\n",
    "\n",
    "print(\"Total number of SIMD calls:\\t\", len(simd_calls))\n",
    "\n",
    "# Get names of unique SIMD-calling crates\n",
    "simd_crates = simd_calls.crate_callsite.unique()\n",
    "\n",
    "print(\"Number of crates that call SIMD functions:\\t\", len(simd_crates))\n",
    "print(\"Crates that call SIMD functions:\")\n",
    "print(simd_crates)\n",
    "del simd_calls, simd_crates"
   ]
  },
  {
   "cell_type": "code",
   "execution_count": 49,
   "metadata": {},
   "outputs": [
    {
     "name": "stdout",
     "output_type": "stream",
     "text": [
      "Total number of SIMD calls:\t 0\n",
      "Number of crates that call SIMD functions:\t 0\n",
      "Crates that call SIMD functions:\n",
      "[]\n"
     ]
    }
   ],
   "source": [
    "# SIMD const calls total - top 500\n",
    "simd_functions_500 = set([\n",
    "    x\n",
    "    for x in const_calls_500.def_path.unique()\n",
    "    if x.startswith('core[7bab]::core_arch')\n",
    "])\n",
    "simd_calls = const_calls_500[\n",
    "    const_calls_500.def_path.isin(simd_functions_500)\n",
    "]\n",
    "\n",
    "print(\"Total number of SIMD calls:\\t\", len(simd_calls))\n",
    "\n",
    "# Get names of unique SIMD-calling crates\n",
    "simd_crates = simd_calls.crate_callsite.unique()\n",
    "\n",
    "print(\"Number of crates that call SIMD functions:\\t\", len(simd_crates))\n",
    "print(\"Crates that call SIMD functions:\")\n",
    "print(simd_crates)\n",
    "del simd_calls, simd_crates"
   ]
  },
  {
   "cell_type": "code",
   "execution_count": 50,
   "metadata": {},
   "outputs": [
    {
     "name": "stdout",
     "output_type": "stream",
     "text": [
      "Total number of SIMD calls:\t 0\n",
      "Number of crates that call SIMD functions:\t 0\n",
      "Crates that call SIMD functions:\n",
      "[]\n"
     ]
    }
   ],
   "source": [
    "# SIMD const calls total - top 1000\n",
    "simd_functions_1000 = set([\n",
    "    x\n",
    "    for x in const_calls_1000.def_path.unique()\n",
    "    if x.startswith('core[7bab]::core_arch')\n",
    "])\n",
    "simd_calls = const_calls_1000[\n",
    "    const_calls_1000.def_path.isin(simd_functions_1000)\n",
    "]\n",
    "\n",
    "print(\"Total number of SIMD calls:\\t\", len(simd_calls))\n",
    "\n",
    "# Get names of unique SIMD-calling crates\n",
    "simd_crates = simd_calls.crate_callsite.unique()\n",
    "\n",
    "print(\"Number of crates that call SIMD functions:\\t\", len(simd_crates))\n",
    "print(\"Crates that call SIMD functions:\")\n",
    "print(simd_crates)\n",
    "del simd_calls, simd_crates"
   ]
  },
  {
   "cell_type": "code",
   "execution_count": 51,
   "metadata": {},
   "outputs": [
    {
     "name": "stdout",
     "output_type": "stream",
     "text": [
      "Total number of SIMD calls:\t 0\n",
      "Number of crates that call SIMD functions:\t 0\n",
      "Crates that call SIMD functions:\n",
      "[]\n"
     ]
    }
   ],
   "source": [
    "# SIMD const calls total\n",
    "simd_functions = set([\n",
    "    x\n",
    "    for x in const_calls.def_path.unique()\n",
    "    if x.startswith('core[7bab]::core_arch')\n",
    "])\n",
    "simd_calls = const_calls[\n",
    "    const_calls.def_path.isin(simd_functions)\n",
    "]\n",
    "\n",
    "print(\"Total number of SIMD calls:\\t\", len(simd_calls))\n",
    "\n",
    "# Get names of unique SIMD-calling crates\n",
    "simd_crates = simd_calls.crate_callsite.unique()\n",
    "\n",
    "print(\"Number of crates that call SIMD functions:\\t\", len(simd_crates))\n",
    "print(\"Crates that call SIMD functions:\")\n",
    "print(simd_crates)\n",
    "del simd_calls, simd_crates"
   ]
  },
  {
   "cell_type": "code",
   "execution_count": 52,
   "metadata": {},
   "outputs": [
    {
     "name": "stdout",
     "output_type": "stream",
     "text": [
      "Number of functions using inline assembly:\t 0\n"
     ]
    }
   ],
   "source": [
    "# Count functions with assembly code, per crate\n",
    "asm_fns = function_unsafe_reasons[function_unsafe_reasons[\"use of inline assembly\"]]\n",
    "print(\"Number of functions using inline assembly:\\t\", len(asm_fns))\n",
    "if len(asm_fns) > 0:\n",
    "    values = asm_fns[['crate_name', 'crate_hash']].apply(\n",
    "        lambda row: (row['crate_name'], row['crate_hash']), axis=1\n",
    "    ).squeeze().value_counts()\n",
    "    print(\"Number of crates:\", len(values))\n",
    "    print()\n",
    "    print('Percentage of functions with inline assembly among 10 top crates:', sum(values[:10])/len(asm_fns)*100)\n",
    "    print(\"Such functions per crate:\")\n",
    "    print(values[:10])\n",
    "    asm_fns\n",
    "    del values"
   ]
  },
  {
   "cell_type": "code",
   "execution_count": 53,
   "metadata": {},
   "outputs": [
    {
     "name": "stdout",
     "output_type": "stream",
     "text": [
      "unchecked_function_names_250:\t 66\n",
      "Calls to unchecked functions:\t 42\n",
      "Number of crates:\t\t 9\n",
      "Percentage:\t\t\t 3.5999999999999996\n",
      "(http, 3b69d46729b6a1c5)           14\n",
      "(arrayvec, 8b3935291d8f38d1)        6\n",
      "(bstr, e4470b7aafa9657c)            6\n",
      "(actix_utils, b536c544022d3c9d)     6\n",
      "(h2, 5043567644ccd6c3)              4\n",
      "dtype: int64\n",
      "Percentage of unsafe blocks with an unchecked function call:\t 1.3680781758957654\n"
     ]
    }
   ],
   "source": [
    "# Unchecked functions - top 250\n",
    "print(\"unchecked_function_names_250:\\t\", len(unchecked_function_names_250))\n",
    "\n",
    "const_unchecked_calls_250 = const_calls_250[\n",
    "    const_calls_250.def_path.isin(unchecked_function_names_250)\n",
    "]\n",
    "unchecked_calls_250 = unsafe_block_const_calls_250[\n",
    "    unsafe_block_const_calls_250.def_path.isin(unchecked_function_names_250)\n",
    "]\n",
    "assert(len(const_unchecked_calls_250) == len(unchecked_calls_250))\n",
    "\n",
    "print(\"Calls to unchecked functions:\\t\", len(unchecked_calls_250))\n",
    "#print(\"Percentage:\\t\\t\\t\", len(unchecked_calls_250)/len(unsafe_calls_250)*100)\n",
    "\n",
    "# Top unchecked() calling code\n",
    "values = unchecked_calls_250 [['crate_callsite', 'build_crate_hash']].apply(\n",
    "    lambda row: (row['crate_callsite'], row['build_crate_hash']), axis=1\n",
    ").squeeze().value_counts()\n",
    "print(\"Number of crates:\\t\\t\", len(values))\n",
    "print(\"Percentage:\\t\\t\\t\", len(values)/250*100)\n",
    "print(values[:5])\n",
    "\n",
    "# Used in Sec. 6.2\n",
    "print(\"Percentage of unsafe blocks with an unchecked function call:\\t\",\n",
    "    len(unchecked_calls_250.unsafe_scope.unique())/len(unsafe_block_const_calls_250.unsafe_scope.unique())*100\n",
    ")\n",
    "del values"
   ]
  },
  {
   "cell_type": "code",
   "execution_count": 54,
   "metadata": {},
   "outputs": [
    {
     "name": "stdout",
     "output_type": "stream",
     "text": [
      "unchecked_function_names_500:\t 169\n",
      "Calls to unchecked functions:\t 89\n",
      "Number of crates:\t\t 17\n",
      "Percentage:\t\t\t 3.4000000000000004\n",
      "(json, ded027994e328267)         14\n",
      "(http, 3b69d46729b6a1c5)         14\n",
      "(pest, e0b79869a7275259)          8\n",
      "(criterion, 8c5606e6f0d134c)      7\n",
      "(bytecount, 26bfc892c82d25c9)     6\n",
      "dtype: int64\n",
      "Percentage of unsafe blocks with an unchecked function call:\t 1.7215727948990436\n"
     ]
    }
   ],
   "source": [
    "# Unchecked functions - top 500\n",
    "print(\"unchecked_function_names_500:\\t\", len(unchecked_function_names_500))\n",
    "\n",
    "const_unchecked_calls_500 = const_calls_500[\n",
    "    const_calls_500.def_path.isin(unchecked_function_names_500)\n",
    "]\n",
    "unchecked_calls_500 = unsafe_block_const_calls_500[\n",
    "    unsafe_block_const_calls_500.def_path.isin(unchecked_function_names_500)\n",
    "]\n",
    "assert(len(const_unchecked_calls_500) == len(unchecked_calls_500))\n",
    "\n",
    "print(\"Calls to unchecked functions:\\t\", len(unchecked_calls_500))\n",
    "#print(\"Percentage:\\t\\t\\t\", len(unchecked_calls)/len(unsafe_calls)*100)\n",
    "\n",
    "# Top unchecked() calling code\n",
    "values = unchecked_calls_500[['crate_callsite', 'build_crate_hash']].apply(\n",
    "    lambda row: (row['crate_callsite'], row['build_crate_hash']), axis=1\n",
    ").squeeze().value_counts()\n",
    "print(\"Number of crates:\\t\\t\", len(values))\n",
    "print(\"Percentage:\\t\\t\\t\", len(values)/500*100)\n",
    "print(values[:5])\n",
    "\n",
    "# Used in Sec. 6.2\n",
    "print(\"Percentage of unsafe blocks with an unchecked function call:\\t\",\n",
    "    len(unchecked_calls_500.unsafe_scope.unique())/len(unsafe_block_const_calls_500.unsafe_scope.unique())*100\n",
    ")\n",
    "del values"
   ]
  },
  {
   "cell_type": "code",
   "execution_count": 55,
   "metadata": {},
   "outputs": [
    {
     "name": "stdout",
     "output_type": "stream",
     "text": [
      "unchecked_function_names_1000:\t 971\n",
      "Calls to unchecked functions:\t 1128\n",
      "Number of crates:\t\t 28\n",
      "Percentage:\t\t\t 2.8000000000000003\n",
      "(nalgebra, a113c0e4a3911470)    837\n",
      "(dbus, 5cba9142055d8dfd)         48\n",
      "(xcb, 3cb77ef3fe226d8)           44\n",
      "(stdweb, 4cdd5adf39190f1)        36\n",
      "(winit, 862dcffb234e8085)        27\n",
      "dtype: int64\n",
      "Percentage of unsafe blocks with an unchecked function call:\t 2.3241618931355057\n"
     ]
    }
   ],
   "source": [
    "# Unchecked functions - top 1000\n",
    "print(\"unchecked_function_names_1000:\\t\", len(unchecked_function_names_1000))\n",
    "\n",
    "const_unchecked_calls_1000 = const_calls_1000[\n",
    "    const_calls_1000.def_path.isin(unchecked_function_names_1000)\n",
    "]\n",
    "unchecked_calls_1000 = unsafe_block_const_calls_1000[\n",
    "    unsafe_block_const_calls_1000.def_path.isin(unchecked_function_names_1000)\n",
    "]\n",
    "assert(len(const_unchecked_calls_1000) == len(unchecked_calls_1000))\n",
    "\n",
    "print(\"Calls to unchecked functions:\\t\", len(unchecked_calls_1000))\n",
    "#print(\"Percentage:\\t\\t\\t\", len(unchecked_calls)/len(unsafe_calls)*100)\n",
    "\n",
    "# Top unchecked() calling code\n",
    "values = unchecked_calls_1000[['crate_callsite', 'build_crate_hash']].apply(\n",
    "    lambda row: (row['crate_callsite'], row['build_crate_hash']), axis=1\n",
    ").squeeze().value_counts()\n",
    "print(\"Number of crates:\\t\\t\", len(values))\n",
    "print(\"Percentage:\\t\\t\\t\", len(values)/1000*100)\n",
    "print(values[:5])\n",
    "\n",
    "# Used in Sec. 6.2\n",
    "print(\"Percentage of unsafe blocks with an unchecked function call:\\t\",\n",
    "    len(unchecked_calls_1000.unsafe_scope.unique())/len(unsafe_block_const_calls_1000.unsafe_scope.unique())*100\n",
    ")\n",
    "del values"
   ]
  },
  {
   "cell_type": "code",
   "execution_count": 56,
   "metadata": {},
   "outputs": [
    {
     "name": "stdout",
     "output_type": "stream",
     "text": [
      "unchecked_function_names:\t 2987\n",
      "Calls to unchecked functions:\t 2112\n",
      "Percentage:\t\t\t 0.14028701714065567\n",
      "Number of crates:\t\t 105\n",
      "Percentage:\t\t\t 2.278645833333333\n",
      "(nalgebra, a113c0e4a3911470)       837\n",
      "(packed_simd, 542d705a24f3b9de)    414\n",
      "(domain, db5e81a44e0e0cbe)          61\n",
      "(dbus, 5cba9142055d8dfd)            48\n",
      "(xcb, 3cb77ef3fe226d8)              44\n",
      "dtype: int64\n",
      "Percentage of unsafe blocks with an unchecked function call:\t 1.089091771222989\n"
     ]
    }
   ],
   "source": [
    "# Unchecked functions - ALL\n",
    "print(\"unchecked_function_names:\\t\", len(unchecked_function_names))\n",
    "\n",
    "const_unchecked_calls = const_calls[\n",
    "    const_calls.def_path.isin(unchecked_function_names)\n",
    "]\n",
    "unchecked_calls = unsafe_block_const_calls[\n",
    "    unsafe_block_const_calls.def_path.isin(unchecked_function_names)\n",
    "]\n",
    "assert(len(const_unchecked_calls) == len(unchecked_calls))\n",
    "\n",
    "print(\"Calls to unchecked functions:\\t\", len(unchecked_calls))\n",
    "print(\"Percentage:\\t\\t\\t\", len(unchecked_calls)/len(unsafe_calls)*100)\n",
    "\n",
    "# Top unchecked() calling code\n",
    "values = unchecked_calls[['crate_callsite', 'build_crate_hash']].apply(\n",
    "    lambda row: (row['crate_callsite'], row['build_crate_hash']), axis=1\n",
    ").squeeze().value_counts()\n",
    "print(\"Number of crates:\\t\\t\", len(values))\n",
    "print(\"Percentage:\\t\\t\\t\", len(values)/len(selected_builds)*100)\n",
    "print(values[:5])\n",
    "\n",
    "# Used in Sec. 6.2\n",
    "print(\"Percentage of unsafe blocks with an unchecked function call:\\t\",\n",
    "    len(unchecked_calls.unsafe_scope.unique())/len(unsafe_block_const_calls.unsafe_scope.unique())*100\n",
    ")\n",
    "del values"
   ]
  },
  {
   "cell_type": "code",
   "execution_count": 57,
   "metadata": {},
   "outputs": [
    {
     "name": "stdout",
     "output_type": "stream",
     "text": [
      "Number of crates:\t 12\n",
      "Percentage: 4.8\n",
      "http[f3e7]::byte_str[0]::{{impl}}[0]::from_utf8_unchecked[0]          14\n",
      "arrayvec[a8ec]::{{impl}}[1]::get_unchecked_ptr[0]                      5\n",
      "slab[93b6]::{{impl}}[1]::get_unchecked_mut[0]                          5\n",
      "bstr[ba21]::ext_slice[0]::ByteSlice[0]::to_str_unchecked[0]            4\n",
      "h2[815f]::hpack[0]::header[0]::{{impl}}[4]::from_utf8_unchecked[0]     4\n",
      "dtype: int64\n"
     ]
    }
   ],
   "source": [
    "# Top called unchecked() code - 250\n",
    "values = unchecked_calls_250[['def_path']].apply(\n",
    "    lambda row: (row['def_path']), axis=1\n",
    ").squeeze().value_counts()\n",
    "print(\"Number of crates:\\t\", len(values))\n",
    "print(\"Percentage:\", len(values)/250*100)\n",
    "print(values[:5])\n",
    "del values"
   ]
  },
  {
   "cell_type": "code",
   "execution_count": 58,
   "metadata": {},
   "outputs": [
    {
     "name": "stdout",
     "output_type": "stream",
     "text": [
      "Number of crates:\t 26\n",
      "Percentage: 5.2\n",
      "http[f3e7]::byte_str[0]::{{impl}}[0]::from_utf8_unchecked[0]                              14\n",
      "json[ceec]::number[0]::{{impl}}[0]::from_parts_unchecked[0]                               14\n",
      "criterion[2010]::stats[0]::univariate[0]::percentiles[0]::{{impl}}[0]::at_unchecked[0]     7\n",
      "bytecount[9944]::integer_simd[0]::usize_load_unchecked[0]                                  6\n",
      "pest[8329]::position[0]::{{impl}}[0]::new_unchecked[0]                                     6\n",
      "dtype: int64\n"
     ]
    }
   ],
   "source": [
    "# Top called unchecked() code - 500\n",
    "values = unchecked_calls_500[['def_path']].apply(\n",
    "    lambda row: (row['def_path']), axis=1\n",
    ").squeeze().value_counts()\n",
    "print(\"Number of crates:\\t\", len(values))\n",
    "print(\"Percentage:\", len(values)/500*100)\n",
    "print(values[:5])\n",
    "del values"
   ]
  },
  {
   "cell_type": "code",
   "execution_count": 59,
   "metadata": {},
   "outputs": [
    {
     "name": "stdout",
     "output_type": "stream",
     "text": [
      "Number of crates:\t 106\n",
      "Percentage: 10.6\n",
      "nalgebra[ac71]::base[0]::indexing[0]::{{impl}}[8]::get_unchecked_mut[0]    512\n",
      "nalgebra[ac71]::base[0]::indexing[0]::{{impl}}[8]::get_unchecked[0]        148\n",
      "nalgebra[ac71]::base[0]::matrix[0]::{{impl}}[7]::vget_unchecked[0]          40\n",
      "nalgebra[ac71]::base[0]::matrix[0]::{{impl}}[8]::vget_unchecked_mut[0]      37\n",
      "dbus[e68f]::strings[0]::{{impl}}[10]::from_slice_unchecked[0]               34\n",
      "dtype: int64\n"
     ]
    }
   ],
   "source": [
    "# Top called unchecked() code - 1000\n",
    "values = unchecked_calls_1000[['def_path']].apply(\n",
    "    lambda row: (row['def_path']), axis=1\n",
    ").squeeze().value_counts()\n",
    "print(\"Number of crates:\\t\", len(values))\n",
    "print(\"Percentage:\", len(values)/1000*100)\n",
    "print(values[:5])\n",
    "del values"
   ]
  },
  {
   "cell_type": "code",
   "execution_count": 60,
   "metadata": {},
   "outputs": [
    {
     "name": "stdout",
     "output_type": "stream",
     "text": [
      "Number of crates:\t 732\n",
      "Percentage: 15.885416666666666\n",
      "nalgebra[ac71]::base[0]::indexing[0]::{{impl}}[8]::get_unchecked_mut[0]    512\n",
      "nalgebra[ac71]::base[0]::indexing[0]::{{impl}}[8]::get_unchecked[0]        148\n",
      "nalgebra[ac71]::base[0]::matrix[0]::{{impl}}[7]::vget_unchecked[0]          40\n",
      "nalgebra[ac71]::base[0]::matrix[0]::{{impl}}[8]::vget_unchecked_mut[0]      37\n",
      "dbus[e68f]::strings[0]::{{impl}}[10]::from_slice_unchecked[0]               34\n",
      "dtype: int64\n"
     ]
    }
   ],
   "source": [
    "# Top called unchecked() code - ALL\n",
    "values = unchecked_calls[['def_path']].apply(\n",
    "    lambda row: (row['def_path']), axis=1\n",
    ").squeeze().value_counts()\n",
    "print(\"Number of crates:\\t\", len(values))\n",
    "print(\"Percentage:\", len(values)/len(selected_builds)*100)\n",
    "print(values[:5])\n",
    "del values"
   ]
  },
  {
   "cell_type": "code",
   "execution_count": 61,
   "metadata": {},
   "outputs": [
    {
     "name": "stdout",
     "output_type": "stream",
     "text": [
      "unguarded_function_names:\t 2\n",
      "Calls to unguarded functions:\t 1\n",
      "Percentage:\t\t\t 6.642377705523469e-05\n"
     ]
    },
    {
     "ename": "AttributeError",
     "evalue": "'tuple' object has no attribute 'value_counts'",
     "output_type": "error",
     "traceback": [
      "\u001b[0;31m---------------------------------------------------------------------------\u001b[0m",
      "\u001b[0;31mAttributeError\u001b[0m                            Traceback (most recent call last)",
      "\u001b[0;32m<ipython-input-61-de1ff12dd890>\u001b[0m in \u001b[0;36m<module>\u001b[0;34m\u001b[0m\n\u001b[1;32m     13\u001b[0m \u001b[0mprint\u001b[0m\u001b[0;34m(\u001b[0m\u001b[0;34m\"Percentage:\\t\\t\\t\"\u001b[0m\u001b[0;34m,\u001b[0m \u001b[0mlen\u001b[0m\u001b[0;34m(\u001b[0m\u001b[0munguarded_calls\u001b[0m\u001b[0;34m)\u001b[0m\u001b[0;34m/\u001b[0m\u001b[0mlen\u001b[0m\u001b[0;34m(\u001b[0m\u001b[0munsafe_calls\u001b[0m\u001b[0;34m)\u001b[0m\u001b[0;34m*\u001b[0m\u001b[0;36m100\u001b[0m\u001b[0;34m)\u001b[0m\u001b[0;34m\u001b[0m\u001b[0;34m\u001b[0m\u001b[0m\n\u001b[1;32m     14\u001b[0m \u001b[0;34m\u001b[0m\u001b[0m\n\u001b[0;32m---> 15\u001b[0;31m values = unguarded_calls[['crate_callsite', 'build_crate_hash']].apply(\n\u001b[0m\u001b[1;32m     16\u001b[0m     \u001b[0;32mlambda\u001b[0m \u001b[0mrow\u001b[0m\u001b[0;34m:\u001b[0m \u001b[0;34m(\u001b[0m\u001b[0mrow\u001b[0m\u001b[0;34m[\u001b[0m\u001b[0;34m'crate_callsite'\u001b[0m\u001b[0;34m]\u001b[0m\u001b[0;34m,\u001b[0m \u001b[0mrow\u001b[0m\u001b[0;34m[\u001b[0m\u001b[0;34m'build_crate_hash'\u001b[0m\u001b[0;34m]\u001b[0m\u001b[0;34m)\u001b[0m\u001b[0;34m,\u001b[0m \u001b[0maxis\u001b[0m\u001b[0;34m=\u001b[0m\u001b[0;36m1\u001b[0m\u001b[0;34m\u001b[0m\u001b[0;34m\u001b[0m\u001b[0m\n\u001b[1;32m     17\u001b[0m ).squeeze().value_counts()\n",
      "\u001b[0;31mAttributeError\u001b[0m: 'tuple' object has no attribute 'value_counts'"
     ]
    }
   ],
   "source": [
    "# Unguarded functions\n",
    "print(\"unguarded_function_names:\\t\", len(unguarded_function_names))\n",
    "\n",
    "const_unguarded_calls = const_calls[\n",
    "    const_calls.def_path.isin(unguarded_function_names)\n",
    "]\n",
    "unguarded_calls = unsafe_block_const_calls[\n",
    "    unsafe_block_const_calls.def_path.isin(unguarded_function_names)\n",
    "]\n",
    "assert(len(const_unguarded_calls) == len(unguarded_calls))\n",
    "\n",
    "print(\"Calls to unguarded functions:\\t\", len(unguarded_calls))\n",
    "print(\"Percentage:\\t\\t\\t\", len(unguarded_calls)/len(unsafe_calls)*100)\n",
    "\n",
    "values = unguarded_calls[['crate_callsite', 'build_crate_hash']].apply(\n",
    "    lambda row: (row['crate_callsite'], row['build_crate_hash']), axis=1\n",
    ").squeeze().value_counts()\n",
    "print(\"Number of crates:\\t\\t\", len(values))\n",
    "print(\"Percentage:\\t\\t\\t\", len(values)/len(selected_builds)*100)\n",
    "print(values[:5])\n",
    "\n",
    "print(\"Percentage of unsafe blocks with an unguarded function call:\\t\",\n",
    "     len(unguarded_calls.unsafe_scope.unique())/len(unsafe_block_const_calls.unsafe_scope.unique())*100\n",
    ")\n",
    "del values"
   ]
  },
  {
   "cell_type": "code",
   "execution_count": 62,
   "metadata": {},
   "outputs": [],
   "source": [
    "### Filter by user-written unsafe code - 250\n",
    "user_written_unsafe_const_calls_250 = const_calls_250[\n",
    "    const_calls_250.check_mode == \"UnsafeBlockUserProvided\"\n",
    "]\n",
    "\n",
    "# Filter by target language\n",
    "user_written_unsafe_const_calls_rust_250 = user_written_unsafe_const_calls_250[\n",
    "    user_written_unsafe_const_calls_250.abi == \"Rust\"\n",
    "]\n",
    "user_written_unsafe_const_calls_fi_250 = user_written_unsafe_const_calls_250[\n",
    "    user_written_unsafe_const_calls_250.abi == \"ForeignItem\"\n",
    "]\n",
    "user_written_unsafe_const_calls_c_250 = user_written_unsafe_const_calls_250[\n",
    "    user_written_unsafe_const_calls_250.abi == \"C\"\n",
    "]\n",
    "\n",
    "# Filter for perf-mot functions within Rust\n",
    "perf_mot_unsafe_rust_250 = set([\n",
    "    x\n",
    "    for x in user_written_unsafe_const_calls_rust_250.def_path.unique()\n",
    "    if x.startswith('core[7bab]::core_arch') \n",
    "        or x.startswith('core[7bab]::intrinsics[0]::[1]::transmute[0]')\n",
    "        or x.startswith('core[7bab]::intrinsics[0]::write_bytes[0]')\n",
    "        or x.startswith('core[7bab]::intrinsics[0]::copy[0]')\n",
    "        or x.startswith('core[7bab]::intrinsics[0]::copy_nonoverlapping[0]')\n",
    "        or x.startswith('core[7bab]::mem[0]::transmute_copy[0]')\n",
    "        or x.startswith('core[7bab]::slice[0]::from_raw_parts[0]')\n",
    "        or x.startswith('core[7bab]::slice[0]::from_raw_parts_mut[0]')\n",
    "        or x.startswith('core[7bab]::slice[0]::{{impl}}[0]::as_ptr[0]')\n",
    "        or x.startswith('core[7bab]::slice[0]::{{impl}}[0]::as_mut_ptr[0]')\n",
    "        or (\"unchecked\" in x)\n",
    "        or (\"unguarded\" in x)\n",
    "        or (\"asm!\" in x) # FIXME\n",
    "])"
   ]
  },
  {
   "cell_type": "code",
   "execution_count": 63,
   "metadata": {},
   "outputs": [],
   "source": [
    "### Filter by user-written unsafe code - 500\n",
    "user_written_unsafe_const_calls_500 = const_calls_500[\n",
    "    const_calls_500.check_mode == \"UnsafeBlockUserProvided\"\n",
    "]\n",
    "\n",
    "# Filter by target language\n",
    "user_written_unsafe_const_calls_rust_500 = user_written_unsafe_const_calls_500[\n",
    "    user_written_unsafe_const_calls_500.abi == \"Rust\"\n",
    "]\n",
    "user_written_unsafe_const_calls_fi_500 = user_written_unsafe_const_calls_500[\n",
    "    user_written_unsafe_const_calls_500.abi == \"ForeignItem\"\n",
    "]\n",
    "user_written_unsafe_const_calls_c_500 = user_written_unsafe_const_calls_500[\n",
    "    user_written_unsafe_const_calls_500.abi == \"C\"\n",
    "]\n",
    "\n",
    "# Filter for perf-mot functions within Rust\n",
    "perf_mot_unsafe_rust_500 = set([\n",
    "    x\n",
    "    for x in user_written_unsafe_const_calls_rust_500.def_path.unique()\n",
    "    if x.startswith('core[7bab]::core_arch') \n",
    "        or x.startswith('core[7bab]::intrinsics[0]::[1]::transmute[0]')\n",
    "        or x.startswith('core[7bab]::intrinsics[0]::write_bytes[0]')\n",
    "        or x.startswith('core[7bab]::intrinsics[0]::copy[0]')\n",
    "        or x.startswith('core[7bab]::intrinsics[0]::copy_nonoverlapping[0]')\n",
    "        or x.startswith('core[7bab]::mem[0]::transmute_copy[0]')\n",
    "        or x.startswith('core[7bab]::slice[0]::from_raw_parts[0]')\n",
    "        or x.startswith('core[7bab]::slice[0]::from_raw_parts_mut[0]')\n",
    "        or x.startswith('core[7bab]::slice[0]::{{impl}}[0]::as_ptr[0]')\n",
    "        or x.startswith('core[7bab]::slice[0]::{{impl}}[0]::as_mut_ptr[0]')\n",
    "        or (\"unchecked\" in x)\n",
    "        or (\"unguarded\" in x)\n",
    "        or (\"asm!\" in x) # FIXME\n",
    "])"
   ]
  },
  {
   "cell_type": "code",
   "execution_count": 64,
   "metadata": {},
   "outputs": [],
   "source": [
    "### Filter by user-written unsafe code\n",
    "user_written_unsafe_const_calls = const_calls[\n",
    "    const_calls.check_mode == \"UnsafeBlockUserProvided\"\n",
    "]\n",
    "\n",
    "# Filter by target language\n",
    "user_written_unsafe_const_calls_rust = user_written_unsafe_const_calls[\n",
    "    user_written_unsafe_const_calls.abi == \"Rust\"\n",
    "]\n",
    "user_written_unsafe_const_calls_fi = user_written_unsafe_const_calls[\n",
    "    user_written_unsafe_const_calls.abi == \"ForeignItem\"\n",
    "]\n",
    "user_written_unsafe_const_calls_c = user_written_unsafe_const_calls[\n",
    "    user_written_unsafe_const_calls.abi == \"C\"\n",
    "]\n",
    "\n",
    "# Filter for perf-mot functions within Rust\n",
    "perf_mot_unsafe_rust = set([\n",
    "    x\n",
    "    for x in user_written_unsafe_const_calls_rust.def_path.unique()\n",
    "    if x.startswith('core[7bab]::core_arch') \n",
    "        or x.startswith('core[7bab]::intrinsics[0]::[1]::transmute[0]')\n",
    "        or x.startswith('core[7bab]::intrinsics[0]::write_bytes[0]')\n",
    "        or x.startswith('core[7bab]::intrinsics[0]::copy[0]')\n",
    "        or x.startswith('core[7bab]::intrinsics[0]::copy_nonoverlapping[0]')\n",
    "        or x.startswith('core[7bab]::mem[0]::transmute_copy[0]')\n",
    "        or x.startswith('core[7bab]::slice[0]::from_raw_parts[0]')\n",
    "        or x.startswith('core[7bab]::slice[0]::from_raw_parts_mut[0]')\n",
    "        or x.startswith('core[7bab]::slice[0]::{{impl}}[0]::as_ptr[0]')\n",
    "        or x.startswith('core[7bab]::slice[0]::{{impl}}[0]::as_mut_ptr[0]')\n",
    "        or (\"unchecked\" in x)\n",
    "        or (\"unguarded\" in x)\n",
    "        or (\"asm!\" in x) # FIXME\n",
    "])"
   ]
  },
  {
   "cell_type": "code",
   "execution_count": 65,
   "metadata": {},
   "outputs": [],
   "source": [
    "### Filter by user-written unsafe code - 1000\n",
    "user_written_unsafe_const_calls_1000 = const_calls_1000[\n",
    "    const_calls_1000.check_mode == \"UnsafeBlockUserProvided\"\n",
    "]\n",
    "\n",
    "# Filter by target language\n",
    "user_written_unsafe_const_calls_rust_1000 = user_written_unsafe_const_calls_1000[\n",
    "    user_written_unsafe_const_calls_1000.abi == \"Rust\"\n",
    "]\n",
    "user_written_unsafe_const_calls_fi_1000 = user_written_unsafe_const_calls_1000[\n",
    "    user_written_unsafe_const_calls_1000.abi == \"ForeignItem\"\n",
    "]\n",
    "user_written_unsafe_const_calls_c_1000 = user_written_unsafe_const_calls_1000[\n",
    "    user_written_unsafe_const_calls_1000.abi == \"C\"\n",
    "]\n",
    "\n",
    "# Filter for perf-mot functions within Rust\n",
    "perf_mot_unsafe_rust_1000 = set([\n",
    "    x\n",
    "    for x in user_written_unsafe_const_calls_rust_1000.def_path.unique()\n",
    "    if x.startswith('core[7bab]::core_arch') \n",
    "        or x.startswith('core[7bab]::intrinsics[0]::[1]::transmute[0]')\n",
    "        or x.startswith('core[7bab]::intrinsics[0]::write_bytes[0]')\n",
    "        or x.startswith('core[7bab]::intrinsics[0]::copy[0]')\n",
    "        or x.startswith('core[7bab]::intrinsics[0]::copy_nonoverlapping[0]')\n",
    "        or x.startswith('core[7bab]::mem[0]::transmute_copy[0]')\n",
    "        or x.startswith('core[7bab]::slice[0]::from_raw_parts[0]')\n",
    "        or x.startswith('core[7bab]::slice[0]::from_raw_parts_mut[0]')\n",
    "        or x.startswith('core[7bab]::slice[0]::{{impl}}[0]::as_ptr[0]')\n",
    "        or x.startswith('core[7bab]::slice[0]::{{impl}}[0]::as_mut_ptr[0]')\n",
    "        or (\"unchecked\" in x)\n",
    "        or (\"unguarded\" in x)\n",
    "        or (\"asm!\" in x) # FIXME\n",
    "])"
   ]
  },
  {
   "cell_type": "code",
   "execution_count": 66,
   "metadata": {},
   "outputs": [],
   "source": [
    "# Performance-motivated Rust calls\n",
    "# 250\n",
    "perf_mot_unsafe_rust_calls_250 = user_written_unsafe_const_calls_rust_250[\n",
    "    user_written_unsafe_const_calls_rust_250.def_path.isin(perf_mot_unsafe_rust_250)\n",
    "]\n",
    "pmu_rust_calls_250 = perf_mot_unsafe_rust_calls_250[['crate_callsite', 'build_crate_hash']].apply(\n",
    "    lambda row: (row['crate_callsite'], row['build_crate_hash']), axis=1\n",
    ")\n",
    "# 500\n",
    "perf_mot_unsafe_rust_calls_500 = user_written_unsafe_const_calls_rust_500[\n",
    "    user_written_unsafe_const_calls_rust_500.def_path.isin(perf_mot_unsafe_rust_500)\n",
    "]\n",
    "pmu_rust_calls_500 = perf_mot_unsafe_rust_calls_500[['crate_callsite', 'build_crate_hash']].apply(\n",
    "    lambda row: (row['crate_callsite'], row['build_crate_hash']), axis=1\n",
    ")\n",
    "# 1000\n",
    "perf_mot_unsafe_rust_calls_1000 = user_written_unsafe_const_calls_rust_1000[\n",
    "    user_written_unsafe_const_calls_rust_1000.def_path.isin(perf_mot_unsafe_rust_1000)\n",
    "]\n",
    "pmu_rust_calls_1000 = perf_mot_unsafe_rust_calls_1000[['crate_callsite', 'build_crate_hash']].apply(\n",
    "    lambda row: (row['crate_callsite'], row['build_crate_hash']), axis=1\n",
    ")\n",
    "# ALL\n",
    "perf_mot_unsafe_rust_calls = user_written_unsafe_const_calls_rust[\n",
    "    user_written_unsafe_const_calls_rust.def_path.isin(perf_mot_unsafe_rust)\n",
    "]\n",
    "pmu_rust_calls = perf_mot_unsafe_rust_calls[['crate_callsite', 'build_crate_hash']].apply(\n",
    "    lambda row: (row['crate_callsite'], row['build_crate_hash']), axis=1\n",
    ")\n",
    "\n",
    "# ForeignItem calls\n",
    "fi_calls_250 = user_written_unsafe_const_calls_fi_250[['crate_callsite', 'build_crate_hash']].apply(\n",
    "    lambda row: (row['crate_callsite'], row['build_crate_hash']), axis=1\n",
    ")\n",
    "fi_calls_500 = user_written_unsafe_const_calls_fi_500[['crate_callsite', 'build_crate_hash']].apply(\n",
    "    lambda row: (row['crate_callsite'], row['build_crate_hash']), axis=1\n",
    ")\n",
    "fi_calls_1000 = user_written_unsafe_const_calls_fi_1000[['crate_callsite', 'build_crate_hash']].apply(\n",
    "    lambda row: (row['crate_callsite'], row['build_crate_hash']), axis=1\n",
    ")\n",
    "fi_calls = user_written_unsafe_const_calls_fi[['crate_callsite', 'build_crate_hash']].apply(\n",
    "    lambda row: (row['crate_callsite'], row['build_crate_hash']), axis=1\n",
    ")\n",
    "\n",
    "# C calls\n",
    "c_calls_250 = user_written_unsafe_const_calls_c_250[['crate_callsite', 'build_crate_hash']].apply(\n",
    "    lambda row: (row['crate_callsite'], row['build_crate_hash']), axis=1\n",
    ")\n",
    "c_calls_500 = user_written_unsafe_const_calls_c_500[['crate_callsite', 'build_crate_hash']].apply(\n",
    "    lambda row: (row['crate_callsite'], row['build_crate_hash']), axis=1\n",
    ")\n",
    "c_calls_1000 = user_written_unsafe_const_calls_c_1000[['crate_callsite', 'build_crate_hash']].apply(\n",
    "    lambda row: (row['crate_callsite'], row['build_crate_hash']), axis=1\n",
    ")\n",
    "c_calls = user_written_unsafe_const_calls_c[['crate_callsite', 'build_crate_hash']].apply(\n",
    "    lambda row: (row['crate_callsite'], row['build_crate_hash']), axis=1\n",
    ")\n",
    "\n",
    "len_all = len(perf_mot_unsafe_rust_calls) + len(user_written_unsafe_const_calls_fi) + len(user_written_unsafe_const_calls_c)\n",
    "len_all_250 = len(perf_mot_unsafe_rust_calls_250) + len(user_written_unsafe_const_calls_fi_250) + len(user_written_unsafe_const_calls_c_250)\n",
    "len_all_500 = len(perf_mot_unsafe_rust_calls_500) + len(user_written_unsafe_const_calls_fi_500) + len(user_written_unsafe_const_calls_c_500)\n",
    "len_all_1000 = len(perf_mot_unsafe_rust_calls_1000) + len(user_written_unsafe_const_calls_fi_1000) + len(user_written_unsafe_const_calls_c_1000)\n",
    "#len_all_1000 = len(perf_mot_unsafe_rust_calls_1000) + len(user_written_unsafe_const_calls_fi_1000 + len(user_written_unsafe_const_calls_c_1000)"
   ]
  },
  {
   "cell_type": "code",
   "execution_count": 67,
   "metadata": {},
   "outputs": [
    {
     "name": "stdout",
     "output_type": "stream",
     "text": [
      "Total number of (user-written) PMU Rust calls:\t 70\n",
      "Percent out of unsafe const calls:\t\t 1.1711560983771123\n",
      "Number of crates:\t 17\n",
      "Percentage:\t\t 6.800000000000001\n",
      "\n",
      "Total number of ForeignItem calls:\t 0\n",
      "Percent out of unsafe const calls:\t 0.0\n",
      "Number of crates:\t 0\n",
      "Percentage:\t\t 0.0\n",
      "\n",
      "Total number of C calls:\t\t 1678\n",
      "Percent out of unsafe const calls:\t 28.07428475823992\n",
      "Number of crates:\t 217\n",
      "Percentage:\t\t 86.8\n",
      "\n",
      "Total number of (user-written) PMU calls:\t\t 1748\n",
      "Out of total number user-written unsafe const calls:\t 5977\n",
      "Percent user-written PMU out of const calls:\t\t 29.245440856617034\n",
      "Number of crates:\t 234\n",
      "Percentage:\t\t 93.60000000000001\n"
     ]
    }
   ],
   "source": [
    "# 250\n",
    "print(\"Total number of (user-written) PMU Rust calls:\\t\", len(perf_mot_unsafe_rust_calls_250))\n",
    "print(\"Percent out of unsafe const calls:\\t\\t\", len(perf_mot_unsafe_rust_calls_250)/len(user_written_unsafe_const_calls_250)*100)\n",
    "print(\"Number of crates:\\t\", len(pmu_rust_calls_250.value_counts()))\n",
    "print(\"Percentage:\\t\\t\", len(pmu_rust_calls_250.value_counts())/250*100)\n",
    "print()\n",
    "\n",
    "print(\"Total number of ForeignItem calls:\\t\", len(user_written_unsafe_const_calls_fi_250))\n",
    "print(\"Percent out of unsafe const calls:\\t\", len(user_written_unsafe_const_calls_fi_250)/len(user_written_unsafe_const_calls_250)*100)\n",
    "print(\"Number of crates:\\t\", len(fi_calls_250.value_counts()))\n",
    "print(\"Percentage:\\t\\t\", len(fi_calls_250.value_counts())/250*100)\n",
    "print()\n",
    "\n",
    "print(\"Total number of C calls:\\t\\t\", len(user_written_unsafe_const_calls_c_250))\n",
    "print(\"Percent out of unsafe const calls:\\t\", len(user_written_unsafe_const_calls_c_250)/len(user_written_unsafe_const_calls_250)*100)\n",
    "print(\"Number of crates:\\t\", len(c_calls_250.value_counts()))\n",
    "print(\"Percentage:\\t\\t\", len(c_calls_250.value_counts())/250*100)\n",
    "print()\n",
    "\n",
    "print(\"Total number of (user-written) PMU calls:\\t\\t\", len_all_250)\n",
    "print(\"Out of total number user-written unsafe const calls:\\t\", len(user_written_unsafe_const_calls_250))\n",
    "print(\"Percent user-written PMU out of const calls:\\t\\t\", len_all_250/len(user_written_unsafe_const_calls_250)*100)\n",
    "\n",
    "block_frames = [pmu_rust_calls_250, fi_calls_250, c_calls_250]\n",
    "block_values = pd.concat(block_frames)[0].value_counts()\n",
    "print(\"Number of crates:\\t\", len(block_values))\n",
    "print(\"Percentage:\\t\\t\", len(block_values)/250*100)\n",
    "del len_all_250, block_frames, block_values"
   ]
  },
  {
   "cell_type": "code",
   "execution_count": 68,
   "metadata": {},
   "outputs": [
    {
     "name": "stdout",
     "output_type": "stream",
     "text": [
      "Total number of (user-written) PMU Rust calls:\t 126\n",
      "Percent out of unsafe const calls:\t\t 1.2673506336753169\n",
      "Number of crates:\t 25\n",
      "Percentage:\t\t 5.0\n",
      "\n",
      "Total number of ForeignItem calls:\t 0\n",
      "Percent out of unsafe const calls:\t 0.0\n",
      "Number of crates:\t 0\n",
      "Percentage:\t\t 0.0\n",
      "\n",
      "Total number of C calls:\t\t 1704\n",
      "Percent out of unsafe const calls:\t 17.139408569704283\n",
      "Number of crates:\t 221\n",
      "Percentage:\t\t 44.2\n",
      "\n",
      "Total number of (user-written) PMU calls:\t\t 1830\n",
      "Out of total number user-written unsafe const calls:\t 9942\n",
      "Percent user-written PMU out of const calls:\t\t 18.406759203379604\n",
      "Number of crates:\t 246\n",
      "Percentage:\t\t 49.2\n"
     ]
    }
   ],
   "source": [
    "# 500\n",
    "print(\"Total number of (user-written) PMU Rust calls:\\t\", len(perf_mot_unsafe_rust_calls_500))\n",
    "print(\"Percent out of unsafe const calls:\\t\\t\", len(perf_mot_unsafe_rust_calls_500)/len(user_written_unsafe_const_calls_500)*100)\n",
    "print(\"Number of crates:\\t\", len(pmu_rust_calls_500.value_counts()))\n",
    "print(\"Percentage:\\t\\t\", len(pmu_rust_calls_500.value_counts())/500*100)\n",
    "print()\n",
    "\n",
    "print(\"Total number of ForeignItem calls:\\t\", len(user_written_unsafe_const_calls_fi_500))\n",
    "print(\"Percent out of unsafe const calls:\\t\", len(user_written_unsafe_const_calls_fi_500)/len(user_written_unsafe_const_calls_500)*100)\n",
    "print(\"Number of crates:\\t\", len(fi_calls_500.value_counts()))\n",
    "print(\"Percentage:\\t\\t\", len(fi_calls_500.value_counts())/500*100)\n",
    "print()\n",
    "\n",
    "print(\"Total number of C calls:\\t\\t\", len(user_written_unsafe_const_calls_c_500))\n",
    "print(\"Percent out of unsafe const calls:\\t\", len(user_written_unsafe_const_calls_c_500)/len(user_written_unsafe_const_calls_500)*100)\n",
    "print(\"Number of crates:\\t\", len(c_calls_500.value_counts()))\n",
    "print(\"Percentage:\\t\\t\", len(c_calls_500.value_counts())/500*100)\n",
    "print()\n",
    "\n",
    "print(\"Total number of (user-written) PMU calls:\\t\\t\", len_all_500)\n",
    "print(\"Out of total number user-written unsafe const calls:\\t\", len(user_written_unsafe_const_calls_500))\n",
    "print(\"Percent user-written PMU out of const calls:\\t\\t\", len_all_500/len(user_written_unsafe_const_calls_500)*100)\n",
    "\n",
    "block_frames = [pmu_rust_calls_500, fi_calls_500, c_calls_500]\n",
    "block_values = pd.concat(block_frames)[0].value_counts()\n",
    "print(\"Number of crates:\\t\", len(block_values))\n",
    "print(\"Percentage:\\t\\t\", len(block_values)/500*100)\n",
    "del len_all_500, block_frames, block_values"
   ]
  },
  {
   "cell_type": "code",
   "execution_count": 69,
   "metadata": {},
   "outputs": [
    {
     "name": "stdout",
     "output_type": "stream",
     "text": [
      "Total number of (user-written) PMU Rust calls:\t 1442\n",
      "Percent out of unsafe const calls:\t\t 3.3761794385521293\n",
      "Number of crates:\t 39\n",
      "Percentage:\t\t 3.9\n",
      "\n",
      "Total number of ForeignItem calls:\t 0\n",
      "Percent out of unsafe const calls:\t 0.0\n",
      "Number of crates:\t 0\n",
      "Percentage:\t\t 0.0\n",
      "\n",
      "Total number of C calls:\t\t 3250\n",
      "Percent out of unsafe const calls:\t 7.609280981480181\n",
      "Number of crates:\t 231\n",
      "Percentage:\t\t 23.1\n",
      "\n",
      "Total number of (user-written) PMU calls:\t\t 4692\n",
      "Out of total number user-written unsafe const calls:\t 42711\n",
      "Percent user-written PMU out of const calls:\t\t 10.98546042003231\n",
      "Number of crates:\t 267\n",
      "Percentage:\t\t 26.700000000000003\n"
     ]
    }
   ],
   "source": [
    "# 1000\n",
    "print(\"Total number of (user-written) PMU Rust calls:\\t\", len(perf_mot_unsafe_rust_calls_1000))\n",
    "print(\"Percent out of unsafe const calls:\\t\\t\", len(perf_mot_unsafe_rust_calls_1000)/len(user_written_unsafe_const_calls_1000)*100)\n",
    "print(\"Number of crates:\\t\", len(pmu_rust_calls_1000.value_counts()))\n",
    "print(\"Percentage:\\t\\t\", len(pmu_rust_calls_1000.value_counts())/1000*100)\n",
    "print()\n",
    "\n",
    "print(\"Total number of ForeignItem calls:\\t\", len(user_written_unsafe_const_calls_fi_1000))\n",
    "print(\"Percent out of unsafe const calls:\\t\", len(user_written_unsafe_const_calls_fi_1000)/len(user_written_unsafe_const_calls_1000)*100)\n",
    "print(\"Number of crates:\\t\", len(fi_calls_1000.value_counts()))\n",
    "print(\"Percentage:\\t\\t\", len(fi_calls_1000.value_counts())/1000*100)\n",
    "print()\n",
    "\n",
    "print(\"Total number of C calls:\\t\\t\", len(user_written_unsafe_const_calls_c_1000))\n",
    "print(\"Percent out of unsafe const calls:\\t\", len(user_written_unsafe_const_calls_c_1000)/len(user_written_unsafe_const_calls_1000)*100)\n",
    "print(\"Number of crates:\\t\", len(c_calls_1000.value_counts()))\n",
    "print(\"Percentage:\\t\\t\", len(c_calls_1000.value_counts())/1000*100)\n",
    "print()\n",
    "\n",
    "print(\"Total number of (user-written) PMU calls:\\t\\t\", len_all_1000)\n",
    "print(\"Out of total number user-written unsafe const calls:\\t\", len(user_written_unsafe_const_calls_1000))\n",
    "print(\"Percent user-written PMU out of const calls:\\t\\t\", len_all_1000/len(user_written_unsafe_const_calls_1000)*100)\n",
    "\n",
    "block_frames = [pmu_rust_calls_1000, fi_calls_1000, c_calls_1000]\n",
    "block_values = pd.concat(block_frames)[0].value_counts()\n",
    "print(\"Number of crates:\\t\", len(block_values))\n",
    "print(\"Percentage:\\t\\t\", len(block_values)/1000*100)\n",
    "del len_all_1000, block_frames, block_values"
   ]
  },
  {
   "cell_type": "code",
   "execution_count": 70,
   "metadata": {},
   "outputs": [
    {
     "name": "stdout",
     "output_type": "stream",
     "text": [
      "Total number of (user-written) PMU Rust calls:\t 9174\n",
      "Percent out of unsafe const calls:\t\t 3.757141394491655\n",
      "Number of crates:\t 514\n",
      "Percentage:\t\t 11.15451388888889\n",
      "\n",
      "Total number of ForeignItem calls:\t 0\n",
      "Percent out of unsafe const calls:\t 0.0\n",
      "Number of crates:\t 0\n",
      "Percentage:\t\t 0.0\n",
      "\n",
      "Total number of C calls:\t\t 29315\n",
      "Percent out of unsafe const calls:\t 12.005733592710147\n",
      "Number of crates:\t 421\n",
      "Percentage:\t\t 9.136284722222223\n",
      "\n",
      "Total number of (user-written) PMU calls:\t\t 38489\n",
      "Out of total number user-written unsafe const calls:\t 244175\n",
      "Percent user-written PMU out of const calls:\t\t 15.762874987201803\n",
      "Number of crates:\t 860\n",
      "Percentage:\t\t 18.663194444444446\n"
     ]
    }
   ],
   "source": [
    "# ALL\n",
    "print(\"Total number of (user-written) PMU Rust calls:\\t\", len(perf_mot_unsafe_rust_calls))\n",
    "print(\"Percent out of unsafe const calls:\\t\\t\", len(perf_mot_unsafe_rust_calls)/len(user_written_unsafe_const_calls)*100)\n",
    "print(\"Number of crates:\\t\", len(pmu_rust_calls.value_counts()))\n",
    "print(\"Percentage:\\t\\t\", len(pmu_rust_calls.value_counts())/len(selected_builds)*100)\n",
    "print()\n",
    "\n",
    "print(\"Total number of ForeignItem calls:\\t\", len(user_written_unsafe_const_calls_fi))\n",
    "print(\"Percent out of unsafe const calls:\\t\", len(user_written_unsafe_const_calls_fi)/len(user_written_unsafe_const_calls)*100)\n",
    "print(\"Number of crates:\\t\", len(fi_calls.value_counts()))\n",
    "print(\"Percentage:\\t\\t\", len(fi_calls.value_counts())/len(selected_builds)*100)\n",
    "print()\n",
    "\n",
    "print(\"Total number of C calls:\\t\\t\", len(user_written_unsafe_const_calls_c))\n",
    "print(\"Percent out of unsafe const calls:\\t\", len(user_written_unsafe_const_calls_c)/len(user_written_unsafe_const_calls)*100)\n",
    "print(\"Number of crates:\\t\", len(c_calls.value_counts()))\n",
    "print(\"Percentage:\\t\\t\", len(c_calls.value_counts())/len(selected_builds)*100)\n",
    "print()\n",
    "\n",
    "print(\"Total number of (user-written) PMU calls:\\t\\t\", len_all)\n",
    "print(\"Out of total number user-written unsafe const calls:\\t\", len(user_written_unsafe_const_calls))\n",
    "print(\"Percent user-written PMU out of const calls:\\t\\t\", len_all/len(user_written_unsafe_const_calls)*100)\n",
    "\n",
    "block_frames = [pmu_rust_calls, fi_calls, c_calls]\n",
    "block_values = pd.concat(block_frames)[0].value_counts()\n",
    "print(\"Number of crates:\\t\", len(block_values))\n",
    "print(\"Percentage:\\t\\t\", len(block_values)/len(selected_builds)*100)\n",
    "del len_all, block_frames, block_values"
   ]
  },
  {
   "cell_type": "code",
   "execution_count": 71,
   "metadata": {},
   "outputs": [
    {
     "name": "stdout",
     "output_type": "stream",
     "text": [
      "Total number of ForeignItem definitions: 876\n",
      "Percent out of unsafe definitions:\t 54.78424015009381\n",
      "Number of crates:\t 5\n",
      "Percentage:\t\t 2.0\n",
      "\n",
      "Total number of C definitions:\t\t 47\n",
      "Percent out of unsafe definitions:\t 2.9393370856785492\n",
      "Number of crates:\t 4\n",
      "Percentage:\t\t 1.6\n",
      "\n",
      "Total number of PMU definitions:\t 923\n",
      "Total number of unsafe function defs:\t 1599\n",
      "Percent PMU out of unsafe definitions:\t 57.72357723577236\n",
      "Number of crates:\t 6\n",
      "Percentage:\t\t 2.4\n"
     ]
    }
   ],
   "source": [
    "# 250\n",
    "len_all = len(def_c_funcs_250) + len(def_fi_funcs_250)\n",
    "\n",
    "print(\"Total number of ForeignItem definitions:\", len(def_fi_funcs_250))\n",
    "print(\"Percent out of unsafe definitions:\\t\", len(def_fi_funcs_250)/len(unsafe_function_definitions_250)*100)\n",
    "print(\"Number of crates:\\t\", len(def_fi_funcs_250.crate.value_counts()))\n",
    "print(\"Percentage:\\t\\t\", len(def_fi_funcs_250.crate.value_counts())/250*100)\n",
    "print()\n",
    "\n",
    "print(\"Total number of C definitions:\\t\\t\", len(def_c_funcs_250))\n",
    "print(\"Percent out of unsafe definitions:\\t\", len(def_c_funcs_250)/len(unsafe_function_definitions_250)*100)\n",
    "print(\"Number of crates:\\t\", len(def_c_funcs_250.crate.value_counts()))\n",
    "print(\"Percentage:\\t\\t\", len(def_c_funcs_250.crate.value_counts())/250*100)\n",
    "print()\n",
    "\n",
    "print(\"Total number of PMU definitions:\\t\", len_all)\n",
    "print(\"Total number of unsafe function defs:\\t\", len(unsafe_function_definitions_250))\n",
    "print(\"Percent PMU out of unsafe definitions:\\t\", len_all/len(unsafe_function_definitions_250)*100)\n",
    "\n",
    "block_frames = [def_c_funcs_250, def_fi_funcs_250]\n",
    "block_values = pd.concat(block_frames).crate.value_counts()\n",
    "print(\"Number of crates:\\t\", len(block_values))\n",
    "print(\"Percentage:\\t\\t\", len(block_values)/250*100)\n",
    "del len_all, block_frames, block_values"
   ]
  },
  {
   "cell_type": "code",
   "execution_count": 72,
   "metadata": {},
   "outputs": [
    {
     "name": "stdout",
     "output_type": "stream",
     "text": [
      "Total number of ForeignItem definitions: 908\n",
      "Percent out of unsafe definitions:\t 43.67484367484368\n",
      "Number of crates:\t 11\n",
      "Percentage:\t\t 2.1999999999999997\n",
      "\n",
      "Total number of C definitions:\t\t 78\n",
      "Percent out of unsafe definitions:\t 3.751803751803752\n",
      "Number of crates:\t 5\n",
      "Percentage:\t\t 1.0\n",
      "\n",
      "Total number of PMU definitions:\t 986\n",
      "Total number of unsafe function defs:\t 2079\n",
      "Percent PMU out of unsafe definitions:\t 47.42664742664743\n",
      "Number of crates:\t 13\n",
      "Percentage:\t\t 2.6\n"
     ]
    }
   ],
   "source": [
    "# 500\n",
    "len_all = len(def_c_funcs_500) + len(def_fi_funcs_500)\n",
    "\n",
    "print(\"Total number of ForeignItem definitions:\", len(def_fi_funcs_500))\n",
    "print(\"Percent out of unsafe definitions:\\t\", len(def_fi_funcs_500)/len(unsafe_function_definitions_500)*100)\n",
    "print(\"Number of crates:\\t\", len(def_fi_funcs_500.crate.value_counts()))\n",
    "print(\"Percentage:\\t\\t\", len(def_fi_funcs_500.crate.value_counts())/500*100)\n",
    "print()\n",
    "\n",
    "print(\"Total number of C definitions:\\t\\t\", len(def_c_funcs_500))\n",
    "print(\"Percent out of unsafe definitions:\\t\", len(def_c_funcs_500)/len(unsafe_function_definitions_500)*100)\n",
    "print(\"Number of crates:\\t\", len(def_c_funcs_500.crate.value_counts()))\n",
    "print(\"Percentage:\\t\\t\", len(def_c_funcs_500.crate.value_counts())/500*100)\n",
    "print()\n",
    "\n",
    "print(\"Total number of PMU definitions:\\t\", len_all)\n",
    "print(\"Total number of unsafe function defs:\\t\", len(unsafe_function_definitions_500))\n",
    "print(\"Percent PMU out of unsafe definitions:\\t\", len_all/len(unsafe_function_definitions_500)*100)\n",
    "\n",
    "block_frames = [def_c_funcs_500, def_fi_funcs_500]\n",
    "block_values = pd.concat(block_frames).crate.value_counts()\n",
    "print(\"Number of crates:\\t\", len(block_values))\n",
    "print(\"Percentage:\\t\\t\", len(block_values)/500*100)\n",
    "del len_all, block_frames, block_values"
   ]
  },
  {
   "cell_type": "code",
   "execution_count": 73,
   "metadata": {},
   "outputs": [
    {
     "name": "stdout",
     "output_type": "stream",
     "text": [
      "Total number of ForeignItem definitions: 4223\n",
      "Percent out of unsafe definitions:\t 44.021682476806006\n",
      "Number of crates:\t 24\n",
      "Percentage:\t\t 2.4\n",
      "\n",
      "Total number of C definitions:\t\t 141\n",
      "Percent out of unsafe definitions:\t 1.4698217450224123\n",
      "Number of crates:\t 12\n",
      "Percentage:\t\t 1.2\n",
      "\n",
      "Total number of PMU definitions:\t 4364\n",
      "Total number of unsafe function defs:\t 9593\n",
      "Percent PMU out of unsafe definitions:\t 45.491504221828414\n",
      "Number of crates:\t 31\n",
      "Percentage:\t\t 3.1\n"
     ]
    }
   ],
   "source": [
    "# 1000\n",
    "len_all = len(def_c_funcs_1000) + len(def_fi_funcs_1000)\n",
    "\n",
    "print(\"Total number of ForeignItem definitions:\", len(def_fi_funcs_1000))\n",
    "print(\"Percent out of unsafe definitions:\\t\", len(def_fi_funcs_1000)/len(unsafe_function_definitions_1000)*100)\n",
    "print(\"Number of crates:\\t\", len(def_fi_funcs_1000.crate.value_counts()))\n",
    "print(\"Percentage:\\t\\t\", len(def_fi_funcs_1000.crate.value_counts())/1000*100)\n",
    "print()\n",
    "\n",
    "print(\"Total number of C definitions:\\t\\t\", len(def_c_funcs_1000))\n",
    "print(\"Percent out of unsafe definitions:\\t\", len(def_c_funcs_1000)/len(unsafe_function_definitions_1000)*100)\n",
    "print(\"Number of crates:\\t\", len(def_c_funcs_1000.crate.value_counts()))\n",
    "print(\"Percentage:\\t\\t\", len(def_c_funcs_1000.crate.value_counts())/1000*100)\n",
    "print()\n",
    "\n",
    "print(\"Total number of PMU definitions:\\t\", len_all)\n",
    "print(\"Total number of unsafe function defs:\\t\", len(unsafe_function_definitions_1000))\n",
    "print(\"Percent PMU out of unsafe definitions:\\t\", len_all/len(unsafe_function_definitions_1000)*100)\n",
    "\n",
    "block_frames = [def_c_funcs_1000, def_fi_funcs_1000]\n",
    "block_values = pd.concat(block_frames).crate.value_counts()\n",
    "print(\"Number of crates:\\t\", len(block_values))\n",
    "print(\"Percentage:\\t\\t\", len(block_values)/1000*100)\n",
    "del len_all, block_frames, block_values"
   ]
  },
  {
   "cell_type": "code",
   "execution_count": 74,
   "metadata": {},
   "outputs": [
    {
     "name": "stdout",
     "output_type": "stream",
     "text": [
      "Total number of ForeignItem definitions: 52604\n",
      "Percent out of unsafe definitions:\t 53.81923840314297\n",
      "Number of crates:\t 291\n",
      "Percentage:\t\t 6.315104166666667\n",
      "\n",
      "Total number of C definitions:\t\t 3040\n",
      "Percent out of unsafe definitions:\t 3.110228970145894\n",
      "Number of crates:\t 68\n",
      "Percentage:\t\t 1.4756944444444444\n",
      "\n",
      "Total number of PMU definitions:\t 55644\n",
      "Total number of unsafe function defs:\t 97742\n",
      "Percent PMU out of unsafe definitions:\t 56.929467373288865\n",
      "Number of crates:\t 339\n",
      "Percentage:\t\t 7.356770833333333\n"
     ]
    }
   ],
   "source": [
    "# ALL\n",
    "len_all = len(def_c_funcs) + len(def_fi_funcs)\n",
    "\n",
    "print(\"Total number of ForeignItem definitions:\", len(def_fi_funcs))\n",
    "print(\"Percent out of unsafe definitions:\\t\", len(def_fi_funcs)/len(unsafe_function_definitions)*100)\n",
    "print(\"Number of crates:\\t\", len(def_fi_funcs.crate.value_counts()))\n",
    "print(\"Percentage:\\t\\t\", len(def_fi_funcs.crate.value_counts())/len(selected_builds)*100)\n",
    "print()\n",
    "\n",
    "print(\"Total number of C definitions:\\t\\t\", len(def_c_funcs))\n",
    "print(\"Percent out of unsafe definitions:\\t\", len(def_c_funcs)/len(unsafe_function_definitions)*100)\n",
    "print(\"Number of crates:\\t\", len(def_c_funcs.crate.value_counts()))\n",
    "print(\"Percentage:\\t\\t\", len(def_c_funcs.crate.value_counts())/len(selected_builds)*100)\n",
    "print()\n",
    "\n",
    "print(\"Total number of PMU definitions:\\t\", len_all)\n",
    "print(\"Total number of unsafe function defs:\\t\", len(unsafe_function_definitions))\n",
    "print(\"Percent PMU out of unsafe definitions:\\t\", len_all/len(unsafe_function_definitions)*100)\n",
    "\n",
    "block_frames = [def_c_funcs, def_fi_funcs]\n",
    "block_values = pd.concat(block_frames).crate.value_counts()\n",
    "print(\"Number of crates:\\t\", len(block_values))\n",
    "print(\"Percentage:\\t\\t\", len(block_values)/len(selected_builds)*100)\n",
    "del len_all, block_frames, block_values"
   ]
  },
  {
   "cell_type": "code",
   "execution_count": 75,
   "metadata": {},
   "outputs": [
    {
     "name": "stdout",
     "output_type": "stream",
     "text": [
      "Number of crates:\t 234\n",
      "Percentage:\t\t 93.60000000000001\n",
      "\n",
      "List of 20 crates with the most performance-motivated unsafe code:\n",
      "(nix, 678cd5ce34476c9a)                 361\n",
      "(rppal, ffa4b1889edf67fd)                75\n",
      "(ring, 40eb50384ac3d18e)                 57\n",
      "(vmm_sys_util, 3d5ead8aec3ca7b3)         47\n",
      "(cicada, 35ea477f2c491a29)               40\n",
      "(cicada, a099a20c369f3e98)               38\n",
      "(pnet_datalink, 9173d425e8aaab78)        34\n",
      "(xcb, 3cb77ef3fe226d8)                   32\n",
      "(parity_daemonize, 71394dca4dc049f0)     30\n",
      "(gaol, 114cccb67db990a0)                 30\n",
      "(ipc_channel, 34e56c505fb54cde)          28\n",
      "(unix_socket, 2afb9325604aa852)          27\n",
      "(unix_socket, 7acbaaf995f79bfb)          25\n",
      "(socket2, 28347540f0e15d0)               24\n",
      "(palaver, 89cb2b6034f6246)               22\n",
      "(bigint, 50f14a752d4b1bb7)               20\n",
      "(subprocess, 73eac1743f6f6b21)           19\n",
      "(openat, 20f793f1c5233953)               18\n",
      "(mio_uds, 6a876696e63942cd)              17\n",
      "(smoltcp, 884a74124ac5a888)              17\n",
      "Name: 0, dtype: int64\n"
     ]
    }
   ],
   "source": [
    "# Total PMU code - top 250\n",
    "block_frames = [pmu_rust_calls_250, c_calls_250, fi_calls_250, def_c_funcs_250, def_fi_funcs_250] # defs actually make no difference\n",
    "block_values = pd.concat(block_frames)[0].value_counts()\n",
    "\n",
    "print(\"Number of crates:\\t\", len(block_values))\n",
    "print(\"Percentage:\\t\\t\", len(block_values)/250*100)\n",
    "print()\n",
    "print(\"List of 20 crates with the most performance-motivated unsafe code:\")\n",
    "print(block_values[:20])\n",
    "del block_frames, block_values"
   ]
  },
  {
   "cell_type": "code",
   "execution_count": 76,
   "metadata": {},
   "outputs": [
    {
     "name": "stdout",
     "output_type": "stream",
     "text": [
      "Number of crates:\t 246\n",
      "Percentage:\t\t 49.2\n",
      "\n",
      "List of 20 crates with the most performance-motivated unsafe code:\n",
      "(nix, 678cd5ce34476c9a)                 361\n",
      "(rppal, ffa4b1889edf67fd)                75\n",
      "(ring, 40eb50384ac3d18e)                 57\n",
      "(vmm_sys_util, 3d5ead8aec3ca7b3)         47\n",
      "(cicada, 35ea477f2c491a29)               40\n",
      "(cicada, a099a20c369f3e98)               38\n",
      "(pnet_datalink, 9173d425e8aaab78)        34\n",
      "(xcb, 3cb77ef3fe226d8)                   32\n",
      "(gaol, 114cccb67db990a0)                 30\n",
      "(parity_daemonize, 71394dca4dc049f0)     30\n",
      "(ipc_channel, 34e56c505fb54cde)          28\n",
      "(unix_socket, 2afb9325604aa852)          27\n",
      "(unix_socket, 7acbaaf995f79bfb)          25\n",
      "(socket2, 28347540f0e15d0)               24\n",
      "(palaver, 89cb2b6034f6246)               22\n",
      "(bigint, 50f14a752d4b1bb7)               20\n",
      "(subprocess, 73eac1743f6f6b21)           19\n",
      "(openat, 20f793f1c5233953)               18\n",
      "(mio_uds, 6a876696e63942cd)              17\n",
      "(smoltcp, 884a74124ac5a888)              17\n",
      "Name: 0, dtype: int64\n"
     ]
    }
   ],
   "source": [
    "# Total PMU code - top 500\n",
    "block_frames = [pmu_rust_calls_500, c_calls_500, fi_calls_500, def_c_funcs_500, def_fi_funcs_500] # defs actually make no difference\n",
    "block_values = pd.concat(block_frames)[0].value_counts()\n",
    "\n",
    "print(\"Number of crates:\\t\", len(block_values))\n",
    "print(\"Percentage:\\t\\t\", len(block_values)/500*100)\n",
    "print()\n",
    "print(\"List of 20 crates with the most performance-motivated unsafe code:\")\n",
    "print(block_values[:20])\n",
    "del block_frames, block_values"
   ]
  },
  {
   "cell_type": "code",
   "execution_count": 77,
   "metadata": {},
   "outputs": [
    {
     "name": "stdout",
     "output_type": "stream",
     "text": [
      "Number of crates:\t 267\n",
      "Percentage:\t\t 26.700000000000003\n",
      "\n",
      "List of 20 crates with the most performance-motivated unsafe code:\n",
      "(stdweb, 4cdd5adf39190f1)               1246\n",
      "(nalgebra, a113c0e4a3911470)             843\n",
      "(xcb, 3cb77ef3fe226d8)                   461\n",
      "(nix, 678cd5ce34476c9a)                  361\n",
      "(rppal, ffa4b1889edf67fd)                 75\n",
      "(ring, 40eb50384ac3d18e)                  57\n",
      "(objc_foundation, 41868713323b9168)       55\n",
      "(dbus, 5cba9142055d8dfd)                  50\n",
      "(vmm_sys_util, 3d5ead8aec3ca7b3)          47\n",
      "(objc, 62bb7e68ca55d3b4)                  46\n",
      "(cicada, 35ea477f2c491a29)                40\n",
      "(cicada, a099a20c369f3e98)                38\n",
      "(winit, 862dcffb234e8085)                 36\n",
      "(pnet_datalink, 9173d425e8aaab78)         34\n",
      "(onig, 9af9e56abecc247c)                  33\n",
      "(parity_daemonize, 71394dca4dc049f0)      30\n",
      "(gaol, 114cccb67db990a0)                  30\n",
      "(secp256k1, 86859b972864a6cc)             28\n",
      "(ipc_channel, 34e56c505fb54cde)           28\n",
      "(ndarray_linalg, dd4b18c3dca44129)        27\n",
      "Name: 0, dtype: int64\n"
     ]
    }
   ],
   "source": [
    "# Total PMU code - top 1000\n",
    "block_frames = [pmu_rust_calls_1000, c_calls_1000, fi_calls_1000, def_c_funcs_1000, def_fi_funcs_1000] # defs actually make no difference\n",
    "block_values = pd.concat(block_frames)[0].value_counts()\n",
    "\n",
    "print(\"Number of crates:\\t\", len(block_values))\n",
    "print(\"Percentage:\\t\\t\", len(block_values)/1000*100)\n",
    "print()\n",
    "print(\"List of 20 crates with the most performance-motivated unsafe code:\")\n",
    "print(block_values[:20])\n",
    "del block_frames, block_values"
   ]
  },
  {
   "cell_type": "code",
   "execution_count": 78,
   "metadata": {},
   "outputs": [
    {
     "name": "stdout",
     "output_type": "stream",
     "text": [
      "Number of crates:\t 860\n",
      "Percentage:\t\t 18.663194444444446\n",
      "\n",
      "List of 20 crates with the most performance-motivated unsafe code:\n",
      "(gtk, 5c143efe52cc473)                  4416\n",
      "(rgsl, 4136569a712e2d1)                 2218\n",
      "(gio, c363e7b555ce811e)                 1690\n",
      "(gstreamer, 8bd9c6b379e0f24f)           1675\n",
      "(stdweb, 4cdd5adf39190f1)               1247\n",
      "(nalgebra, a113c0e4a3911470)             884\n",
      "(packed_simd, 542d705a24f3b9de)          803\n",
      "(glib, 91caf09cd739f092)                 763\n",
      "(openssl, ab21152c56e5fe09)              751\n",
      "(sample, 131f3215edcab1b5)               631\n",
      "(intl_pluralrules, 52f91061a05d5efe)     619\n",
      "(sfml, 286cc7c66d8424fb)                 580\n",
      "(git2, 3892a469ef8bab9b)                 542\n",
      "(gdk, 7d68658e7cf4a3ec)                  520\n",
      "(rug, cd64c471a095e33b)                  499\n",
      "(xcb, 3cb77ef3fe226d8)                   469\n",
      "(webkit2gtk, ea74eb022d8ef39)            457\n",
      "(futures_util, 7dffd8890b571a1a)         450\n",
      "(pyo3, 11b6ad706d094a7a)                 446\n",
      "(alsa, b101cdb54894196d)                 438\n",
      "Name: 0, dtype: int64\n"
     ]
    }
   ],
   "source": [
    "# Total PMU code - ALL\n",
    "block_frames = [pmu_rust_calls, c_calls, fi_calls, def_c_funcs, def_fi_funcs] # defs actually make no difference\n",
    "block_values = pd.concat(block_frames)[0].value_counts()\n",
    "\n",
    "print(\"Number of crates:\\t\", len(block_values))\n",
    "print(\"Percentage:\\t\\t\", len(block_values)/len(selected_builds)*100)\n",
    "print()\n",
    "print(\"List of 20 crates with the most performance-motivated unsafe code:\")\n",
    "print(block_values[:20])\n",
    "del block_frames, block_values"
   ]
  },
  {
   "cell_type": "code",
   "execution_count": 79,
   "metadata": {},
   "outputs": [
    {
     "name": "stdout",
     "output_type": "stream",
     "text": [
      "Number of crates that use get_unchecked[_mut]:\t 4\n"
     ]
    },
    {
     "data": {
      "text/plain": [
       "(actix_utils, 2.0.0)    6\n",
       "(arrayvec, 0.5.2)       5\n",
       "(once_cell, 1.5.2)      2\n",
       "(petgraph, 0.5.1)       2\n",
       "dtype: int64"
      ]
     },
     "execution_count": 79,
     "metadata": {},
     "output_type": "execute_result"
    }
   ],
   "source": [
    "# Filter for perf-mot functions within Rust - 250\n",
    "unchecked_250 = set([\n",
    "    x\n",
    "    for x in user_written_unsafe_const_calls_rust_250.def_path.unique()\n",
    "    if (\"get_unchecked\" in x)\n",
    "])\n",
    "\n",
    "unchecked_calls_250 = user_written_unsafe_const_calls_rust_250[\n",
    "    user_written_unsafe_const_calls_rust_250.def_path.isin(unchecked_250)\n",
    "]\n",
    "cleaned_unchecked_calls_250 = unchecked_calls_250[['crate_callsite', 'package_version']].apply(\n",
    "    lambda row: (row['crate_callsite'], row['package_version']), axis=1\n",
    ").squeeze().value_counts()\n",
    "print(\"Number of crates that use get_unchecked[_mut]:\\t\", len(cleaned_unchecked_calls_250))\n",
    "cleaned_unchecked_calls_250"
   ]
  },
  {
   "cell_type": "code",
   "execution_count": 80,
   "metadata": {},
   "outputs": [
    {
     "name": "stdout",
     "output_type": "stream",
     "text": [
      "Number of crates that use get_unchecked[_mut]:\t 4\n"
     ]
    },
    {
     "data": {
      "text/plain": [
       "(actix_utils, 2.0.0)    6\n",
       "(arrayvec, 0.5.2)       5\n",
       "(once_cell, 1.5.2)      2\n",
       "(petgraph, 0.5.1)       2\n",
       "dtype: int64"
      ]
     },
     "execution_count": 80,
     "metadata": {},
     "output_type": "execute_result"
    }
   ],
   "source": [
    "# Filter for perf-mot functions within Rust - 500\n",
    "unchecked_500 = set([\n",
    "    x\n",
    "    for x in user_written_unsafe_const_calls_rust_500.def_path.unique()\n",
    "    if (\"get_unchecked\" in x)\n",
    "])\n",
    "\n",
    "unchecked_calls_500 = user_written_unsafe_const_calls_rust_500[\n",
    "    user_written_unsafe_const_calls_rust_500.def_path.isin(unchecked_500)\n",
    "]\n",
    "cleaned_unchecked_calls_500 = unchecked_calls_500[['crate_callsite', 'package_version']].apply(\n",
    "    lambda row: (row['crate_callsite'], row['package_version']), axis=1\n",
    ").squeeze().value_counts()\n",
    "print(\"Number of crates that use get_unchecked[_mut]:\\t\", len(cleaned_unchecked_calls_500))\n",
    "cleaned_unchecked_calls_500"
   ]
  },
  {
   "cell_type": "code",
   "execution_count": 81,
   "metadata": {},
   "outputs": [
    {
     "name": "stdout",
     "output_type": "stream",
     "text": [
      "Number of crates that use get_unchecked[_mut]:\t 6\n"
     ]
    },
    {
     "data": {
      "text/plain": [
       "(nalgebra, 0.23.1)      780\n",
       "(actix_utils, 2.0.0)      6\n",
       "(arrayvec, 0.5.2)         5\n",
       "(once_cell, 1.5.2)        2\n",
       "(petgraph, 0.5.1)         2\n",
       "(alga, 0.9.3)             1\n",
       "dtype: int64"
      ]
     },
     "execution_count": 81,
     "metadata": {},
     "output_type": "execute_result"
    }
   ],
   "source": [
    "# Filter for perf-mot functions within Rust - 1000\n",
    "unchecked_1000 = set([\n",
    "    x\n",
    "    for x in user_written_unsafe_const_calls_rust_1000.def_path.unique()\n",
    "    if (\"get_unchecked\" in x)\n",
    "])\n",
    "\n",
    "unchecked_calls_1000 = user_written_unsafe_const_calls_rust_1000[\n",
    "    user_written_unsafe_const_calls_rust_1000.def_path.isin(unchecked_1000)\n",
    "]\n",
    "cleaned_unchecked_calls_1000 = unchecked_calls_1000[['crate_callsite', 'package_version']].apply(\n",
    "    lambda row: (row['crate_callsite'], row['package_version']), axis=1\n",
    ").squeeze().value_counts()\n",
    "print(\"Number of crates that use get_unchecked[_mut]:\\t\", len(cleaned_unchecked_calls_1000))\n",
    "cleaned_unchecked_calls_1000"
   ]
  },
  {
   "cell_type": "code",
   "execution_count": 82,
   "metadata": {},
   "outputs": [
    {
     "name": "stdout",
     "output_type": "stream",
     "text": [
      "Number of crates that use get_unchecked[_mut]:\t 211\n"
     ]
    },
    {
     "data": {
      "text/plain": [
       "(nalgebra, 0.23.1)                820\n",
       "(lexical_core, 0.7.4)             245\n",
       "(vek, 0.12.1)                     167\n",
       "(packed_simd, 0.3.3)              122\n",
       "(futures_util, 0.3.8)             121\n",
       "(encoding_rs, 0.8.26)             113\n",
       "(tokio, 0.3.4)                     79\n",
       "(futures_util, 0.3.0-alpha.19)     79\n",
       "(async_std, 1.7.0)                 67\n",
       "(priority_queue, 1.0.3)            54\n",
       "                                 ... \n",
       "(async_compat, 0.1.4)               1\n",
       "(futures_batch, 0.6.0)              1\n",
       "(heim_common, 0.0.11)               1\n",
       "(crossbeam_channel, 0.5.0)          1\n",
       "(abomonation, 0.7.3)                1\n",
       "(kafka, 0.8.0)                      1\n",
       "(rw_stream_sink, 0.2.1)             1\n",
       "(tower_test, 0.3.0)                 1\n",
       "(hyper_unix_connector, 0.1.5)       1\n",
       "(prost, 0.6.1)                      1\n",
       "Length: 211, dtype: int64"
      ]
     },
     "execution_count": 82,
     "metadata": {},
     "output_type": "execute_result"
    }
   ],
   "source": [
    "# Filter for perf-mot functions within Rust\n",
    "unchecked = set([\n",
    "    x\n",
    "    for x in user_written_unsafe_const_calls_rust.def_path.unique()\n",
    "    if (\"get_unchecked\" in x)\n",
    "])\n",
    "\n",
    "unchecked_calls = user_written_unsafe_const_calls_rust[\n",
    "    user_written_unsafe_const_calls_rust.def_path.isin(unchecked)\n",
    "]\n",
    "cleaned_unchecked_calls = unchecked_calls[['crate_callsite', 'package_version']].apply(\n",
    "    lambda row: (row['crate_callsite'], row['package_version']), axis=1\n",
    ").squeeze().value_counts()\n",
    "print(\"Number of crates that use get_unchecked[_mut]:\\t\", len(cleaned_unchecked_calls))\n",
    "cleaned_unchecked_calls"
   ]
  },
  {
   "cell_type": "code",
   "execution_count": 87,
   "metadata": {},
   "outputs": [
    {
     "name": "stdout",
     "output_type": "stream",
     "text": [
      "('nalgebra', '0.23.1') 820\n",
      "('lexical_core', '0.7.4') 245\n",
      "('vek', '0.12.1') 167\n",
      "('packed_simd', '0.3.3') 122\n",
      "('futures_util', '0.3.8') 121\n",
      "('encoding_rs', '0.8.26') 113\n",
      "('tokio', '0.3.4') 79\n",
      "('futures_util', '0.3.0-alpha.19') 79\n",
      "('async_std', '1.7.0') 67\n",
      "('priority_queue', '1.0.3') 54\n",
      "('rulinalg', '0.4.2') 54\n",
      "('futures_lite', '1.11.2') 48\n",
      "('tract_core', '0.11.2') 47\n",
      "('chess', '3.1.1') 45\n",
      "('cryptoxide', '0.2.1') 39\n",
      "('quickersort', '3.0.1') 32\n",
      "('actix_web', '3.2.0') 31\n",
      "('ssmarshal', '1.0.0') 31\n",
      "('pdqsort', '1.0.3') 30\n",
      "('rayon', '1.5.0') 30\n",
      "('pdqselect', '0.1.0') 30\n",
      "('rustc_rayon', '0.3.0') 30\n",
      "('actix_http', '2.1.0') 25\n",
      "('crypto', '0.2.36') 24\n",
      "('imageproc', '0.22.0') 24\n",
      "('crypto', '0.3.1') 24\n",
      "('ocl', '0.19.3') 24\n",
      "('fil_ocl', '0.19.4') 24\n",
      "('reed_solomon', '0.2.1') 23\n",
      "('permutate', '0.3.2') 22\n",
      "('ego_tree', '0.6.2') 22\n",
      "('hyper', '0.13.9') 21\n",
      "('actix_service', '1.0.6') 20\n",
      "('shaman', '0.1.0') 18\n",
      "('warp', '0.2.5') 18\n",
      "('actix', '0.10.0') 18\n",
      "('ccl', '5.1.5') 17\n",
      "('rand_hc', '0.2.0') 16\n",
      "('combine', '4.4.0') 16\n",
      "('tiberius', '0.4.15') 15\n",
      "('goblin', '0.2.3') 15\n",
      "('halfbrown', '0.1.11') 15\n",
      "('futures_intrusive', '0.4.0') 13\n",
      "('imagefmt', '4.0.0') 12\n",
      "('elastic_array', '0.11.0') 12\n",
      "('heapless', '0.5.6') 12\n",
      "('elastic_array', '0.10.0') 12\n",
      "('dmsort', '1.0.1') 12\n",
      "('json', '0.12.4') 12\n",
      "('actix_utils', '2.0.0') 11\n",
      "('capnp', '0.13.6') 11\n",
      "('slotmap', '0.4.0') 10\n",
      "('crossbeam_deque', '0.8.0') 10\n",
      "('fixedbitset', '0.3.1') 10\n",
      "('httparse', '1.3.4') 9\n",
      "('multistream_select', '0.8.5') 9\n",
      "('compression', '0.1.5') 9\n",
      "('smallbitvec', '2.5.0') 9\n",
      "('minisign', '0.6.0') 8\n",
      "('tract_linalg', '0.11.2') 8\n",
      "('rustfft', '4.0.0') 8\n",
      "('superslice', '1.0.0') 8\n",
      "('ordslice', '0.3.0') 8\n",
      "('id_tree', '1.7.0') 7\n",
      "('sled', '0.34.6') 7\n",
      "('pagecache', '0.19.4') 7\n",
      "('tower_util', '0.3.1') 7\n",
      "('sample', '0.11.0') 6\n",
      "('order_stat', '0.1.3') 6\n",
      "('tokio_postgres', '0.6.0') 6\n",
      "('timely_sort', '0.1.6') 6\n",
      "('async_smtp', '0.3.4') 5\n",
      "('futures_codec', '0.4.1') 5\n",
      "('futures_task', '0.3.8') 5\n",
      "('futures_core', '0.3.0-alpha.19') 5\n",
      "('terminfo', '0.7.3') 5\n",
      "('conquer_once', '0.2.1') 5\n",
      "('futures_test', '0.3.0-alpha.19') 5\n",
      "('snap', '1.0.3') 5\n",
      "('futures_test', '0.3.8') 5\n",
      "('reqwest', '0.10.9') 5\n",
      "('tokio_tower', '0.4.0') 5\n",
      "('str_stack', '0.1.0') 5\n",
      "('tonic', '0.3.1') 5\n",
      "('arrayvec', '0.5.2') 5\n",
      "('geo_types', '0.6.1') 5\n",
      "('splay_tree', '0.2.10') 5\n",
      "('petgraph', '0.5.1') 5\n",
      "('arraydeque', '0.4.5') 4\n",
      "('ryu', '1.0.5') 4\n",
      "('tower_load', '0.3.0') 4\n",
      "('slash_formatter', '3.1.0') 4\n",
      "('futures_retry', '0.5.0') 4\n",
      "('async_compression', '0.3.6') 4\n",
      "('ocl_core', '0.11.2') 4\n",
      "('async_tar', '0.3.0') 4\n",
      "('swc_visit', '0.2.2') 4\n",
      "('siphasher', '0.3.3') 4\n",
      "('nphysics2d', '0.18.0') 4\n",
      "('min_max_heap', '1.3.0') 4\n",
      "('nphysics3d', '0.18.0') 4\n",
      "('hash32', '0.1.1') 4\n",
      "('fil_ocl_core', '0.11.3') 4\n",
      "('ratsio', '0.3.0-alpha.6') 4\n",
      "('imgref', '1.7.0') 3\n",
      "('sized_chunks', '0.6.2') 3\n",
      "('genawaiter', '0.99.1') 3\n",
      "('rusoto_signature', '0.45.0') 3\n",
      "('bstr', '0.2.14') 3\n",
      "('concurrent_queue', '1.2.2') 3\n",
      "('tower_buffer', '0.3.0') 3\n",
      "('runtime', '0.3.0-alpha.8') 3\n",
      "('tower_retry', '0.3.0') 3\n",
      "('differential_dataflow', '0.11.0') 3\n",
      "('slice_deque', '0.3.0') 3\n",
      "('tower_balance', '0.3.0') 3\n",
      "('c_vec', '2.0.0') 3\n",
      "('runtime_tokio', '0.3.0-alpha.6') 3\n",
      "('claxon', '0.4.3') 3\n",
      "('radix64', '0.6.2') 3\n",
      "('gotham', '0.5.0') 3\n",
      "('vtparse', '0.2.2') 3\n",
      "('pulsar', '1.0.1') 3\n",
      "('crossbeam_queue', '0.3.0') 3\n",
      "('async_macros', '2.0.0') 3\n",
      "('mysql_async', '0.25.0') 3\n",
      "('criterion', '0.3.3') 2\n",
      "('hdrsample', '6.0.4') 2\n",
      "('ndarray', '0.13.1') 2\n",
      "('bio', '0.32.0') 2\n",
      "('async_timer', '0.7.4') 2\n",
      "('tower_load_shed', '0.3.0') 2\n",
      "('futures_sink', '0.3.8') 2\n",
      "('primal_sieve', '0.3.1') 2\n",
      "('tower_discover', '0.3.0') 2\n",
      "('gio', '0.9.1') 2\n",
      "('nakadion', '0.28.14') 2\n",
      "('garando_syntax', '0.1.0') 2\n",
      "('hdrhistogram', '7.1.0') 2\n",
      "('unchecked_index', '0.2.2') 2\n",
      "('libp2p_pnet', '0.19.2') 2\n",
      "('tokio_serde_json', '0.3.0') 2\n",
      "('bollard', '0.8.0') 2\n",
      "('cxx', '1.0.1') 2\n",
      "('hyperlocal', '0.7.0') 2\n",
      "('odds', '0.4.0') 2\n",
      "('shakmaty', '0.16.4') 2\n",
      "('android_logger', '0.9.0') 2\n",
      "('generic_array', '0.14.4') 2\n",
      "('futf', '0.1.4') 2\n",
      "('rand_core', '0.5.1') 2\n",
      "('crypto_ops', '0.1.1') 2\n",
      "('once_cell', '1.5.2') 2\n",
      "('actix_web_prom', '0.5.0') 2\n",
      "('primal_bit', '0.3.0') 2\n",
      "('futures_sink', '0.3.0-alpha.19') 2\n",
      "('criterion_stats', '0.3.0') 2\n",
      "('vulkano', '0.19.0') 2\n",
      "('rle_decode_fast', '1.0.1') 2\n",
      "('httpbis', '0.9.1') 2\n",
      "('tracing', '0.1.21') 2\n",
      "('base_x', '0.2.8') 1\n",
      "('tracing_futures', '0.2.4') 1\n",
      "('tokio_io_pool', '0.2.0-alpha.4') 1\n",
      "('bitcoin_hashes', '0.9.4') 1\n",
      "('opentelemetry', '0.10.0') 1\n",
      "('grcov', '0.5.15') 1\n",
      "('cstr_core', '0.2.2') 1\n",
      "('owned_ttf_parser', '0.8.0') 1\n",
      "('alga', '0.9.3') 1\n",
      "('roaring', '0.6.1') 1\n",
      "('rusty_machine', '0.5.4') 1\n",
      "('jsonrpsee', '0.1.0') 1\n",
      "('quick_protobuf', '0.8.0') 1\n",
      "('sluice', '0.5.3') 1\n",
      "('redis', '0.17.0') 1\n",
      "('async_stream', '0.3.0') 1\n",
      "('futures_diagnose', '1.0.1') 1\n",
      "('rust_htslib', '0.35.0') 1\n",
      "('treebitmap', '0.4.0') 1\n",
      "('zipkin', '0.4.1') 1\n",
      "('widestring', '0.4.3') 1\n",
      "('core_foundation', '0.9.1') 1\n",
      "('rants', '0.5.0') 1\n",
      "('smallstr', '0.2.0') 1\n",
      "('smartstring', '0.2.5') 1\n",
      "('cortex_m', '0.7.0') 1\n",
      "('tokio_serde', '0.7.1') 1\n",
      "('monster', '0.1.28') 1\n",
      "('quicksink', '0.1.2') 1\n",
      "('binary_heap_plus', '0.4.0') 1\n",
      "('actix_web_actors', '3.0.0') 1\n",
      "('tower_timeout', '0.3.0') 1\n",
      "('rustc_ap_syntax_pos', '634.0.0') 1\n",
      "('prost_amino', '0.6.0') 1\n",
      "('aho_corasick', '0.7.15') 1\n",
      "('c_utf8', '0.1.0') 1\n",
      "('actix_codec', '0.3.0') 1\n",
      "('copyless', '0.1.5') 1\n",
      "('failsafe', '1.0.0') 1\n",
      "('needletail', '0.4.0') 1\n",
      "('async_compat', '0.1.4') 1\n",
      "('futures_batch', '0.6.0') 1\n",
      "('heim_common', '0.0.11') 1\n",
      "('crossbeam_channel', '0.5.0') 1\n",
      "('abomonation', '0.7.3') 1\n",
      "('kafka', '0.8.0') 1\n",
      "('rw_stream_sink', '0.2.1') 1\n",
      "('tower_test', '0.3.0') 1\n",
      "('hyper_unix_connector', '0.1.5') 1\n",
      "('prost', '0.6.1') 1\n"
     ]
    }
   ],
   "source": [
    "for k,v in cleaned_unchecked_calls.iteritems():\n",
    "    print(k, v)"
   ]
  },
  {
   "cell_type": "code",
   "execution_count": null,
   "metadata": {},
   "outputs": [],
   "source": []
  }
 ],
 "metadata": {
  "kernelspec": {
   "display_name": "Python 3",
   "language": "python",
   "name": "python3"
  },
  "language_info": {
   "codemirror_mode": {
    "name": "ipython",
    "version": 3
   },
   "file_extension": ".py",
   "mimetype": "text/x-python",
   "name": "python",
   "nbconvert_exporter": "python",
   "pygments_lexer": "ipython3",
   "version": "3.8.6"
  }
 },
 "nbformat": 4,
 "nbformat_minor": 4
}
