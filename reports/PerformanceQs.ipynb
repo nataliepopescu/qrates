{
 "cells": [
  {
   "cell_type": "code",
   "execution_count": 1,
   "metadata": {},
   "outputs": [],
   "source": [
    "import matplotlib.pyplot as plt\n",
    "import pandas as pd\n",
    "import utils\n",
    "from whitelists import *\n",
    "import top_crates\n",
    "import functools\n",
    "\n",
    "# Configure pyplot: enlarge plots \n",
    "plt.rcParams['figure.figsize'] = [15, 8]\n",
    "# Configure pandas: show all columns when printing a dataframe\n",
    "pd.set_option('display.max_columns', None)\n",
    "# Configure pandas: show more rows when printing a dataframe\n",
    "pd.set_option('display.min_rows', 20)"
   ]
  },
  {
   "cell_type": "code",
   "execution_count": 2,
   "metadata": {},
   "outputs": [],
   "source": [
    "# Load tables\n",
    "function_definitions = utils.load_selected_function_definitions()\n",
    "raw_function_unsafe_reasons = utils.load_unsafe_reasons_in_function_definitions()\n",
    "unsafe_block_calls = utils.load_unsafe_block_calls()\n",
    "const_calls = utils.load_const_calls()\n",
    "unsafe_blocks = utils.load_unsafe_blocks()\n",
    "traits = utils.load_selected_traits()\n",
    "traits_impls = utils.load_selected_impl_definitions()\n",
    "type_defs = utils.load_selected_type_defs()\n",
    "adts = utils.load_selected_adts()\n",
    "adt_field_types = utils.load_selected_adt_field_types()\n",
    "selected_builds = utils.load_selected_builds()"
   ]
  },
  {
   "cell_type": "code",
   "execution_count": 3,
   "metadata": {},
   "outputs": [],
   "source": [
    "# Cleanup: remove duplicates\n",
    "raw_function_unsafe_reasons = raw_function_unsafe_reasons.drop_duplicates()\n",
    "\n",
    "# Remove functions that are not in function_definitions\n",
    "raw_function_unsafe_reasons = raw_function_unsafe_reasons[\n",
    "    raw_function_unsafe_reasons.def_path.isin(set(function_definitions.def_path.unique()))\n",
    "]\n",
    "\n",
    "possible_unsafe_reasons = [\n",
    "    \"call to unsafe function\",\n",
    "    \"use of inline assembly\",\n",
    "    \"initializing type with `rustc_layout_scalar_valid_range` attr\",\n",
    "    \"cast of pointer to int\",\n",
    "    \"pointer operation\",\n",
    "    \"borrow of packed field\",\n",
    "    \"use of mutable static\",\n",
    "    \"use of extern static\",\n",
    "    \"dereference of raw pointer\",\n",
    "    \"assignment to non-`Copy` union field\",\n",
    "    \"access to union field\",\n",
    "    \"mutation of layout constrained field\",\n",
    "    \"borrow of layout constrained field with interior mutability\",\n",
    "]\n",
    "\n",
    "# Map reasons -> number\n",
    "function_unsafe_reasons = raw_function_unsafe_reasons[\n",
    "    [\"crate_name\", \"crate_hash\", \"def_path\", \"unsafe_reason\"]\n",
    "].groupby(\"def_path\").agg(frozenset).rename(\n",
    "    columns={'unsafe_reason': 'unsafe_reasons'}\n",
    ")\n",
    "\n",
    "function_unsafe_reasons[\"unsafe_reasons_vec\"] = function_unsafe_reasons.unsafe_reasons.map(\n",
    "    lambda x: [reason in x for reason in possible_unsafe_reasons]\n",
    ")\n",
    "function_unsafe_reasons[\"num_unsafe_reasons\"] = function_unsafe_reasons.unsafe_reasons_vec.map(sum)\n",
    "\n",
    "for reason in possible_unsafe_reasons:\n",
    "    function_unsafe_reasons[reason] = function_unsafe_reasons.unsafe_reasons.map(\n",
    "        lambda x: reason in x\n",
    "    )\n",
    "\n",
    "# Augment const calls made from unsafe blocks\n",
    "unsafe_block_const_calls = unsafe_block_calls.join(\n",
    "    const_calls.set_index(\"call\"),\n",
    "    on=\"call\",\n",
    "    how=\"inner\",\n",
    "    rsuffix=\"_defsite\",\n",
    ")\n",
    "# Rename confusing columns\n",
    "unsafe_block_const_calls.rename(\n",
    "    columns={\"crate_name\": \"crate_callsite\", \"crate\": \"crate_defsite\"},\n",
    "    inplace=True\n",
    ")\n",
    "\n",
    "# Preprocessing\n",
    "unsafe_function_definitions = function_definitions[function_definitions.unsafety == \"Unsafe\"]\n",
    "\n",
    "crates = pd.DataFrame({\n",
    "    \"crate\": selected_builds.crate,\n",
    "    \"crate_hash\": selected_builds.crate_hash,\n",
    "    \"package\": selected_builds.package.map(lambda x: str(x).lower().replace(\"-\", \"_\")),\n",
    "})\n",
    "user_written_unsafe_blocks = unsafe_blocks[unsafe_blocks.check_mode == \"UnsafeBlockUserProvided\"]\n",
    "unsafe_function_definitions = function_definitions[function_definitions.unsafety == \"Unsafe\"]\n",
    "unsafe_traits = traits[traits.unsafety == \"Unsafe\"]\n",
    "unsafe_traits_impls = traits_impls[traits_impls.unsafety == \"Unsafe\"]"
   ]
  },
  {
   "cell_type": "code",
   "execution_count": 4,
   "metadata": {},
   "outputs": [
    {
     "data": {
      "text/plain": [
       "510"
      ]
     },
     "execution_count": 4,
     "metadata": {},
     "output_type": "execute_result"
    }
   ],
   "source": [
    "len(selected_builds)"
   ]
  },
  {
   "cell_type": "code",
   "execution_count": 5,
   "metadata": {},
   "outputs": [
    {
     "name": "stdout",
     "output_type": "stream",
     "text": [
      "Number of crates: 510\n",
      "has_no_unsafe             259\n",
      "has_unsafe                251\n",
      "has_unsafe_blocks         220\n",
      "has_unsafe_functions      165\n",
      "has_unsafe_trait_impls     73\n",
      "has_unsafe_traits          25\n",
      "dtype: int64\n",
      "has_no_unsafe             50.784314\n",
      "has_unsafe                49.215686\n",
      "has_unsafe_blocks         43.137255\n",
      "has_unsafe_functions      32.352941\n",
      "has_unsafe_trait_impls    14.313725\n",
      "has_unsafe_traits          4.901961\n",
      "dtype: float64\n"
     ]
    },
    {
     "data": {
      "image/png": "[encoded data removed]",
      "text/plain": [
       "<Figure size 1080x576 with 1 Axes>"
      ]
     },
     "metadata": {
      "needs_background": "light"
     },
     "output_type": "display_data"
    }
   ],
   "source": [
    "join_key = \"crate_hash\"\n",
    "crates[\"has_unsafe_blocks\"] = crates[join_key].isin(set(user_written_unsafe_blocks[join_key].unique()))\n",
    "crates[\"has_unsafe_functions\"] = crates[join_key].isin(set(unsafe_function_definitions[join_key].unique()))\n",
    "crates[\"has_unsafe_traits\"] = crates[join_key].isin(set(unsafe_traits[join_key].unique()))\n",
    "crates[\"has_unsafe_trait_impls\"] = crates[join_key].isin(set(unsafe_traits_impls[join_key].unique()))\n",
    "\n",
    "feature_names = [\n",
    "    \"has_unsafe_blocks\",\n",
    "    \"has_unsafe_functions\",\n",
    "    \"has_unsafe_traits\",\n",
    "    \"has_unsafe_trait_impls\",\n",
    "]\n",
    "\n",
    "crates[\"has_unsafe\"] = functools.reduce(lambda x, y: x | y, [crates[f] for f in feature_names])\n",
    "feature_names.append(\"has_unsafe\")\n",
    "\n",
    "crates[\"has_no_unsafe\"] = ~crates[\"has_unsafe\"]\n",
    "feature_names.append(\"has_no_unsafe\")\n",
    "\n",
    "print(\"Number of crates: {}\".format(len(crates)))\n",
    "\n",
    "feature_freq = crates[feature_names].apply(sum).sort_values(ascending=False)\n",
    "feature_freq.plot.bar(subplots=True, color=\"blue\", title=\"Features per crate\")\n",
    "print(feature_freq)\n",
    "print(feature_freq / len(crates) * 100)"
   ]
  },
  {
   "cell_type": "code",
   "execution_count": 6,
   "metadata": {},
   "outputs": [
    {
     "name": "stdout",
     "output_type": "stream",
     "text": [
      "11333\n",
      "7331\n",
      "6353\n",
      "64\n",
      "1431\n"
     ]
    }
   ],
   "source": [
    "print(len(unsafe_blocks))\n",
    "print(len(user_written_unsafe_blocks))\n",
    "print(len(unsafe_function_definitions))\n",
    "print(len(unsafe_traits))\n",
    "print(len(unsafe_traits_impls))"
   ]
  },
  {
   "cell_type": "code",
   "execution_count": 7,
   "metadata": {},
   "outputs": [
    {
     "name": "stdout",
     "output_type": "stream",
     "text": [
      "ForeignItem    3478\n",
      "Rust           2699\n",
      "C               176\n",
      "Name: abi, dtype: int64\n",
      "ForeignItem    54.745789\n",
      "Rust           42.483866\n",
      "C               2.770345\n",
      "Name: abi, dtype: float64\n",
      "Unsafe function definitions: 6353\n"
     ]
    },
    {
     "data": {
      "image/png": "[encoded data removed]",
      "text/plain": [
       "<Figure size 1080x576 with 1 Axes>"
      ]
     },
     "metadata": {},
     "output_type": "display_data"
    }
   ],
   "source": [
    "# Frequency of abi\n",
    "values = unsafe_function_definitions.abi.value_counts()\n",
    "print(values)\n",
    "print(values / len(unsafe_function_definitions) * 100)\n",
    "print(\"Unsafe function definitions:\", len(unsafe_function_definitions))\n",
    "values.plot.pie()\n",
    "del values"
   ]
  },
  {
   "cell_type": "code",
   "execution_count": 8,
   "metadata": {},
   "outputs": [
    {
     "name": "stdout",
     "output_type": "stream",
     "text": [
      "Number of crates that call C functions:\t 7\n",
      "Unique crate names:\n",
      "\tbacktrace\n",
      "\tlibc\n",
      "\twasm_bindgen\n",
      "\tminiz_oxide_c_api\n",
      "\tsecurity_framework\n",
      "\topenssl\n",
      "\tring\n"
     ]
    }
   ],
   "source": [
    "# Which crates call C functions?\n",
    "c_funcs = []\n",
    "for i, s in unsafe_function_definitions.iterrows():\n",
    "    if 'C' in s.abi:\n",
    "        c_funcs.append(s.crate)\n",
    "\n",
    "c_funcs = list(dict.fromkeys(c_funcs))\n",
    "\n",
    "print(\"Number of crates that call C functions:\\t\", len(c_funcs))\n",
    "print(\"Unique crate names:\")\n",
    "\n",
    "for crate in c_funcs:\n",
    "    print(\"\\t\" + crate)"
   ]
  },
  {
   "cell_type": "code",
   "execution_count": 9,
   "metadata": {},
   "outputs": [
    {
     "name": "stdout",
     "output_type": "stream",
     "text": [
      "Number of crates that call foreign functions:\t 31\n",
      "Unique crate names:\n",
      "\tbacktrace\n",
      "\tclang_sys\n",
      "\tcurl_sys\n",
      "\topenssl_sys\n",
      "\tcore_foundation_sys\n",
      "\tinotify_sys\n",
      "\tterm_size\n",
      "\tlibc\n",
      "\tfuchsia_zircon_sys\n",
      "\ttime\n",
      "\tminiz_sys\n",
      "\tlibssh2_sys\n",
      "\tlibz_sys\n",
      "\tlibgit2_sys\n",
      "\tbrotli_sys\n",
      "\tcloudabi\n",
      "\txattr\n",
      "\ttermios\n",
      "\tbzip2_sys\n",
      "\tlibsqlite3_sys\n",
      "\tsecurity_framework_sys\n",
      "\tbacktrace_sys\n",
      "\terrno\n",
      "\tlibloading\n",
      "\tcrypto\n",
      "\tlzma_sys\n",
      "\twasi\n",
      "\tfuchsia_cprng\n",
      "\thermit_abi\n",
      "\ttermion\n",
      "\tring\n"
     ]
    }
   ],
   "source": [
    "# Which crates call foreign functions?\n",
    "f_funcs = []\n",
    "for i, s in unsafe_function_definitions.iterrows():\n",
    "    if 'ForeignItem' in s.abi:\n",
    "        f_funcs.append(s.crate)\n",
    "\n",
    "f_funcs_unique = list(dict.fromkeys(f_funcs))\n",
    "\n",
    "print(\"Number of crates that call foreign functions:\\t\", len(f_funcs_unique))\n",
    "print(\"Unique crate names:\")\n",
    "\n",
    "for crate in f_funcs_unique:\n",
    "    print(\"\\t\" + crate)"
   ]
  },
  {
   "cell_type": "code",
   "execution_count": 10,
   "metadata": {},
   "outputs": [
    {
     "name": "stdout",
     "output_type": "stream",
     "text": [
      "Total number of SIMD calls:\t 391\n"
     ]
    }
   ],
   "source": [
    "# SIMD const calls total\n",
    "const_calls_loaded = utils.load_const_calls()\n",
    "const_calls_loaded.rename(\n",
    "    columns={\"crate_name\": \"crate_callsite\", \"crate\": \"crate_defsite\"},\n",
    "    inplace=True\n",
    ")\n",
    "simd_functions = set([\n",
    "    x\n",
    "    for x in const_calls_loaded.def_path.unique()\n",
    "    if x.startswith('core[7bab]::core_arch')\n",
    "])\n",
    "simd_calls = const_calls_loaded[\n",
    "    const_calls_loaded.def_path.isin(simd_functions)\n",
    "]\n",
    "\n",
    "# SIMD const calls unsafe only\n",
    "unsafe_simd_functions = set([\n",
    "    x\n",
    "    for x in unsafe_block_const_calls.def_path.unique()\n",
    "    if x.startswith('core[7bab]::core_arch')\n",
    "])\n",
    "unsafe_simd_calls = unsafe_block_const_calls[\n",
    "    unsafe_block_const_calls.def_path.isin(unsafe_simd_functions)\n",
    "]\n",
    "\n",
    "# Both should be equal since can only call SIMD in unsafe blocks\n",
    "#assert len(unsafe_simd_calls) == len(simd_calls)\n",
    "\n",
    "print(\"Total number of SIMD calls:\\t\", len(simd_calls))"
   ]
  },
  {
   "cell_type": "code",
   "execution_count": 11,
   "metadata": {},
   "outputs": [
    {
     "name": "stdout",
     "output_type": "stream",
     "text": [
      "Number of crates that call SIMD functions:\t 7\n",
      "Crates that call SIMD functions:\n",
      "\t ['bstr' 'hashbrown' 'ahash' 'ppv_lite86' 'sha2' 'sha1' 'rdrand']\n"
     ]
    }
   ],
   "source": [
    "# Get names of unique SIMD-calling crates\n",
    "simd_crates = simd_calls.crate_callsite.unique()\n",
    "\n",
    "print(\"Number of crates that call SIMD functions:\\t\", len(simd_crates))\n",
    "print(\"Crates that call SIMD functions:\\n\\t\", simd_crates)"
   ]
  },
  {
   "cell_type": "code",
   "execution_count": 12,
   "metadata": {},
   "outputs": [
    {
     "name": "stdout",
     "output_type": "stream",
     "text": [
      "Number of functions using inline assembly:\t 0\n"
     ]
    }
   ],
   "source": [
    "# Count functions with assembly code, per crate\n",
    "asm_fns = function_unsafe_reasons[function_unsafe_reasons[\"use of inline assembly\"]]\n",
    "print(\"Number of functions using inline assembly:\\t\", len(asm_fns))\n",
    "if len(asm_fns) > 0:\n",
    "    values = asm_fns[['crate_name', 'crate_hash']].apply(\n",
    "        lambda row: (row['crate_name'], row['crate_hash']), axis=1\n",
    "    ).squeeze().value_counts()\n",
    "    print(\"Number of crates:\", len(values))\n",
    "    print()\n",
    "    print('Percentage of functions with inline assembly among 10 top crates:', sum(values[:10])/len(asm_fns)*100)\n",
    "    print(\"Such functions per crate:\")\n",
    "    print(values[:10])\n",
    "    asm_fns\n",
    "    del values"
   ]
  },
  {
   "cell_type": "code",
   "execution_count": 13,
   "metadata": {},
   "outputs": [],
   "source": [
    "# Whitelists\n",
    "all_function_names = set(function_definitions.def_path.unique())\n",
    "unchecked_function_names = get_unchecked_function_names(all_function_names)\n",
    "unguarded_function_names = get_unguarded_function_names(all_function_names)\n",
    "\n",
    "all_calls = utils.load_all_calls()\n",
    "\n",
    "unsafe_calls = all_calls.query(\"unsafety != 'Normal'\")\n",
    "assert len(pd.unique(unsafe_calls.unsafety)) == 1"
   ]
  },
  {
   "cell_type": "code",
   "execution_count": 14,
   "metadata": {},
   "outputs": [
    {
     "name": "stdout",
     "output_type": "stream",
     "text": [
      "unchecked_function_names: 366\n",
      "Calls to unchecked functions: 93\n",
      "Percentage: 0.0967812431706784\n",
      "Number of crates: 23\n",
      "Percentage: 4.509803921568627\n",
      "(http, 6808a9d62e774206)         14\n",
      "(json, 79b54c8356a47b67)         14\n",
      "(pest, 90a091c6ae19edc6)          8\n",
      "(criterion, 8abcfaebda0e558c)     7\n",
      "(bytecount, f10097f5caefdc70)     6\n",
      "dtype: int64\n",
      "Percentage of unsafe blocks with an unchecked function call: 0.7737119970872018\n"
     ]
    }
   ],
   "source": [
    "# Unchecked functions\n",
    "print(\"unchecked_function_names:\", len(unchecked_function_names))\n",
    "\n",
    "const_unchecked_calls = const_calls_loaded[\n",
    "    const_calls_loaded.def_path.isin(unchecked_function_names)\n",
    "]\n",
    "unchecked_calls = unsafe_block_const_calls[\n",
    "    unsafe_block_const_calls.def_path.isin(unchecked_function_names)\n",
    "]\n",
    "assert(len(const_unchecked_calls) == len(unchecked_calls))\n",
    "\n",
    "print(\"Calls to unchecked functions:\", len(unchecked_calls))\n",
    "print(\"Percentage:\", len(unchecked_calls)/len(unsafe_calls)*100)\n",
    "\n",
    "values = unchecked_calls[['crate_callsite', 'build_crate_hash']].apply(\n",
    "    lambda row: (row['crate_callsite'], row['build_crate_hash']), axis=1\n",
    ").squeeze().value_counts()\n",
    "print(\"Number of crates:\", len(values))\n",
    "print(\"Percentage:\", len(values)/len(selected_builds)*100)\n",
    "print(values[:5])\n",
    "\n",
    "# Used in Sec. 6.2\n",
    "print(\"Percentage of unsafe blocks with an unchecked function call:\",\n",
    "    len(unchecked_calls.unsafe_scope.unique())/len(unsafe_block_const_calls.unsafe_scope.unique())*100\n",
    ")\n",
    "del values"
   ]
  },
  {
   "cell_type": "code",
   "execution_count": 15,
   "metadata": {},
   "outputs": [
    {
     "name": "stdout",
     "output_type": "stream",
     "text": [
      "unguarded_function_names: 0\n",
      "Calls to unguarded functions: 0\n",
      "Percentage: 0.0\n",
      "Number of crates: 0\n",
      "Percentage: 0.0\n",
      "Series([], dtype: int64)\n",
      "Percentage of unsafe blocks with an unguarded function call: 0.0\n"
     ]
    }
   ],
   "source": [
    "# Unguarded functions\n",
    "print(\"unguarded_function_names:\", len(unguarded_function_names))\n",
    "\n",
    "const_unguarded_calls = const_calls_loaded[\n",
    "    const_calls_loaded.def_path.isin(unguarded_function_names)\n",
    "]\n",
    "unguarded_calls = unsafe_block_const_calls[\n",
    "    unsafe_block_const_calls.def_path.isin(unguarded_function_names)\n",
    "]\n",
    "assert(len(const_unguarded_calls) == len(unguarded_calls))\n",
    "\n",
    "print(\"Calls to unguarded functions:\", len(unguarded_calls))\n",
    "print(\"Percentage:\", len(unguarded_calls)/len(unsafe_calls)*100)\n",
    "\n",
    "values = unguarded_calls[['crate_callsite', 'build_crate_hash']].apply(\n",
    "    lambda row: (row['crate_callsite'], row['build_crate_hash']), axis=1\n",
    ").squeeze().value_counts()\n",
    "print(\"Number of crates:\", len(values))\n",
    "print(\"Percentage:\", len(values)/len(selected_builds)*100)\n",
    "print(values[:5])\n",
    "\n",
    "print(\"Percentage of unsafe blocks with an unguarded function call:\",\n",
    "     len(unguarded_calls.unsafe_scope.unique())/len(unsafe_block_const_calls.unsafe_scope.unique())*100\n",
    ")\n",
    "del values"
   ]
  },
  {
   "cell_type": "code",
   "execution_count": 16,
   "metadata": {},
   "outputs": [
    {
     "name": "stdout",
     "output_type": "stream",
     "text": [
      "all_unsafe_function_names: 6353\n",
      "all_safe_function_names: 100879\n",
      "all_closure_names: 12921\n",
      "unsafe functions with a pointer operation: 0 0.0\n",
      "safe functions with a pointer operation: 0 0.0\n",
      "closures with a pointer operation: 0 0.0\n"
     ]
    }
   ],
   "source": [
    "# Pointer operations (not just dereferences)\n",
    "all_unsafe_function_names = set(unsafe_function_definitions.def_path.unique())\n",
    "all_safe_function_names = set(function_definitions[function_definitions.unsafety == \"Normal\"].def_path.unique())\n",
    "all_closure_names = set(function_definitions[function_definitions.unsafety == \"Unknown\"].def_path.unique())\n",
    "assert len(all_unsafe_function_names) > 0\n",
    "assert len(all_safe_function_names) > 0\n",
    "assert len(all_closure_names) > 0\n",
    "\n",
    "print(\"all_unsafe_function_names:\", len(all_unsafe_function_names))\n",
    "print(\"all_safe_function_names:\", len(all_safe_function_names))\n",
    "print(\"all_closure_names:\", len(all_closure_names))\n",
    "\n",
    "count1 = sum(function_unsafe_reasons[\n",
    "    function_unsafe_reasons.index.isin(all_unsafe_function_names)\n",
    "][\"pointer operation\"])    # FIXME what is classified as a pointer operation?\n",
    "print(\"unsafe functions with a pointer operation:\", count1, 100 * count1 / len(all_unsafe_function_names))\n",
    "\n",
    "count2 = sum(function_unsafe_reasons[\n",
    "    function_unsafe_reasons.index.isin(all_safe_function_names)\n",
    "][\"pointer operation\"])    # FIXME what is classified as a pointer operation?\n",
    "print(\"safe functions with a pointer operation:\", count2, 100 * count2 / len(all_safe_function_names))\n",
    "\n",
    "count3 = sum(function_unsafe_reasons[\n",
    "    function_unsafe_reasons.index.isin(all_closure_names)\n",
    "][\"pointer operation\"])    # FIXME what is classified as a pointer operation?\n",
    "print(\"closures with a pointer operation:\", count3, 100 * count3 / len(all_closure_names))"
   ]
  },
  {
   "cell_type": "code",
   "execution_count": 17,
   "metadata": {},
   "outputs": [
    {
     "name": "stdout",
     "output_type": "stream",
     "text": [
      "Number of functions using pointer operations: 0\n"
     ]
    }
   ],
   "source": [
    "# Count functions with pointer operations (another method)\n",
    "ptr_op_fns = function_unsafe_reasons[function_unsafe_reasons[\"pointer operation\"]]\n",
    "print(\"Number of functions using pointer operations:\", len(ptr_op_fns))\n",
    "if len(ptr_op_fns) > 0:\n",
    "    values = ptr_op_fns[['crate_name', 'crate_hash']].apply(\n",
    "        lambda row: (row['crate_name'], row['crate_hash']), axis=1\n",
    "    ).squeeze().value_counts()\n",
    "    print(\"Number of crates:\", len(values))\n",
    "    print()\n",
    "    print('Percentage of functions with pointer operations among 10 top crates:', sum(values[:10])/len(ptr_op_fns)*100)\n",
    "    print(\"Such functions per crate:\")\n",
    "    print(values[:10])\n",
    "    ptr_op_fns\n",
    "    del values"
   ]
  },
  {
   "cell_type": "code",
   "execution_count": 18,
   "metadata": {},
   "outputs": [
    {
     "name": "stdout",
     "output_type": "stream",
     "text": [
      "blocks 469 11333 4.138357010500309\n",
      "\n",
      "crates 63 12.352941176470589\n",
      "cgmath                  88\n",
      "ahash                   65\n",
      "byteorder               40\n",
      "wasm_bindgen            21\n",
      "cast                    20\n",
      "itoa                    20\n",
      "crypto                  17\n",
      "git2                    14\n",
      "memchr                  12\n",
      "nix                     11\n",
      "                        ..\n",
      "linked_hash_map          1\n",
      "tokio_reactor            1\n",
      "argon2                   1\n",
      "ordered_float            1\n",
      "socket2                  1\n",
      "signal_hook_registry     1\n",
      "tokio_current_thread     1\n",
      "libsqlite3_sys           1\n",
      "scoped_threadpool        1\n",
      "sha1                     1\n",
      "Name: crate_callsite, Length: 63, dtype: int64\n",
      "26 5.098039215686274\n",
      "\n",
      "With 1000+ unsafe blocks:\n"
     ]
    }
   ],
   "source": [
    "# How many calls to performance-motivated intrinsic functions\n",
    "blocks = const_calls_loaded[ #unsafe_block_const_calls[\n",
    "    const_calls_loaded.def_path.isin(set([ #unsafe_block_const_calls.def_path.isin(set([\n",
    "        'core[7bab]::intrinsics[0]::[1]::transmute[0]',\n",
    "        'core[7bab]::intrinsics[0]::write_bytes[0]',\n",
    "        'core[7bab]::intrinsics[0]::copy[0]',\n",
    "        'core[7bab]::intrinsics[0]::copy_nonoverlapping[0]',\n",
    "    ]))\n",
    "][\n",
    "    [\"crate_callsite\", \"build_crate_hash\", \"unsafe_scope\"]\n",
    "].drop_duplicates()\n",
    "print(\"blocks\", len(blocks), len(unsafe_blocks), 100 * len(blocks) / len(unsafe_blocks))\n",
    "print()\n",
    "print(\"crates\", len(blocks.build_crate_hash.unique()),\n",
    "      100 * len(blocks.build_crate_hash.unique()) / len(selected_builds.crate_hash.unique()))\n",
    "data = pd.value_counts(blocks.crate_callsite)\n",
    "print(data)\n",
    "print(sum(data > 3), 100 * sum(data > 3) / len(selected_builds.crate_hash.unique()))\n",
    "print()\n",
    "print(\"With 1000+ unsafe blocks:\")\n",
    "for crate, count in data[data >= 1000].iteritems():\n",
    "    print(\"* {} {}: https://crates.io/crates/{}\".format(count, crate, crate))\n",
    "del blocks, data"
   ]
  },
  {
   "cell_type": "code",
   "execution_count": 19,
   "metadata": {},
   "outputs": [
    {
     "name": "stdout",
     "output_type": "stream",
     "text": [
      "blocks 8 11333 0.07059031147974941\n",
      "\n",
      "crates 3 0.5882352941176471\n",
      "crossbeam_channel     6\n",
      "ring                  1\n",
      "const_random_macro    1\n",
      "Name: crate_callsite, dtype: int64\n",
      "1 0.19607843137254902\n",
      "\n",
      "With 1000+ unsafe blocks:\n"
     ]
    }
   ],
   "source": [
    "# How many calls to performance-motivated mem functions\n",
    "blocks = const_calls_loaded[ #unsafe_block_const_calls[\n",
    "    const_calls_loaded.def_path.isin(set([ #unsafe_block_const_calls.def_path.isin(set([\n",
    "        'core[7bab]::mem[0]::transmute_copy[0]',\n",
    "    ]))\n",
    "][\n",
    "    [\"crate_callsite\", \"build_crate_hash\", \"unsafe_scope\"]\n",
    "].drop_duplicates()\n",
    "print(\"blocks\", len(blocks), len(unsafe_blocks), 100 * len(blocks) / len(unsafe_blocks))\n",
    "print()\n",
    "print(\"crates\", len(blocks.build_crate_hash.unique()),\n",
    "      100 * len(blocks.build_crate_hash.unique()) / len(selected_builds.crate_hash.unique()))\n",
    "data = pd.value_counts(blocks.crate_callsite)\n",
    "print(data)\n",
    "print(sum(data > 3), 100 * sum(data > 3) / len(selected_builds.crate_hash.unique()))\n",
    "print()\n",
    "print(\"With 1000+ unsafe blocks:\")\n",
    "for crate, count in data[data >= 1000].iteritems():\n",
    "    print(\"* {} {}: https://crates.io/crates/{}\".format(count, crate, crate))\n",
    "del blocks, data"
   ]
  },
  {
   "cell_type": "code",
   "execution_count": 20,
   "metadata": {},
   "outputs": [
    {
     "name": "stdout",
     "output_type": "stream",
     "text": [
      "blocks 656 11333 5.7884055413394515\n",
      "\n",
      "crates 71 13.92156862745098\n",
      "openssl                 119\n",
      "generic_array            73\n",
      "byteorder                57\n",
      "ring                     49\n",
      "rand                     44\n",
      "nix                      38\n",
      "git2                     31\n",
      "encoding_rs              24\n",
      "image                    13\n",
      "ahash                    12\n",
      "                       ... \n",
      "crossbeam_channel         1\n",
      "xz2                       1\n",
      "wait_timeout              1\n",
      "compiletest_rs            1\n",
      "signal_hook_registry      1\n",
      "console                   1\n",
      "inotify                   1\n",
      "sha1                      1\n",
      "tar                       1\n",
      "block_padding             1\n",
      "Name: crate_callsite, Length: 71, dtype: int64\n",
      "30 5.882352941176471\n",
      "\n",
      "With 1000+ unsafe blocks:\n"
     ]
    }
   ],
   "source": [
    "# How many calls to performance-motivated slice functions\n",
    "blocks = const_calls_loaded[ #unsafe_block_const_calls[\n",
    "    const_calls_loaded.def_path.isin(set([ #unsafe_block_const_calls.def_path.isin(set([\n",
    "        'core[7bab]::slice[0]::from_raw_parts[0]',\n",
    "        'core[7bab]::slice[0]::from_raw_parts_mut[0]',\n",
    "        'core[7bab]::slice[0]::{{impl}}[0]::as_ptr[0]',\n",
    "        'core[7bab]::slice[0]::{{impl}}[0]::as_mut_ptr[0]',\n",
    "    ]))\n",
    "][\n",
    "    [\"crate_callsite\", \"build_crate_hash\", \"unsafe_scope\"]\n",
    "].drop_duplicates()\n",
    "print(\"blocks\", len(blocks), len(unsafe_blocks), 100 * len(blocks) / len(unsafe_blocks))\n",
    "print()\n",
    "print(\"crates\", len(blocks.build_crate_hash.unique()),\n",
    "      100 * len(blocks.build_crate_hash.unique()) / len(selected_builds.crate_hash.unique()))\n",
    "data = pd.value_counts(blocks.crate_callsite)\n",
    "print(data)\n",
    "print(sum(data > 3), 100 * sum(data > 3) / len(selected_builds.crate_hash.unique()))\n",
    "print()\n",
    "print(\"With 1000+ unsafe blocks:\")\n",
    "for crate, count in data[data >= 1000].iteritems():\n",
    "    print(\"* {} {}: https://crates.io/crates/{}\".format(count, crate, crate))\n",
    "del blocks, data"
   ]
  },
  {
   "cell_type": "code",
   "execution_count": 21,
   "metadata": {},
   "outputs": [],
   "source": [
    "# Filter by user-written unsafe code\n",
    "user_written_unsafe_const_calls = const_calls_loaded[ #unsafe_block_const_calls[\n",
    "    #unsafe_block_const_calls.check_mode == \"UnsafeBlockUserProvided\"\n",
    "    const_calls_loaded.check_mode == \"UnsafeBlockUserProvided\"\n",
    "]\n",
    "\n",
    "# Filter by target language\n",
    "user_written_unsafe_const_calls_rust = user_written_unsafe_const_calls[\n",
    "    user_written_unsafe_const_calls.abi == \"Rust\"\n",
    "]\n",
    "user_written_unsafe_const_calls_fi = user_written_unsafe_const_calls[\n",
    "    user_written_unsafe_const_calls.abi == \"ForeignItem\"\n",
    "]\n",
    "user_written_unsafe_const_calls_c = user_written_unsafe_const_calls[\n",
    "    user_written_unsafe_const_calls.abi == \"C\"\n",
    "]\n",
    "\n",
    "perf_mot_unsafe_rust = set([\n",
    "    x\n",
    "    for x in user_written_unsafe_const_calls_rust.def_path.unique()\n",
    "    if x.startswith('core[7bab]::core_arch') \n",
    "        or x.startswith('core[7bab]::intrinsics[0]::[1]::transmute[0]')\n",
    "        or x.startswith('core[7bab]::intrinsics[0]::write_bytes[0]')\n",
    "        or x.startswith('core[7bab]::intrinsics[0]::copy[0]')\n",
    "        or x.startswith('core[7bab]::intrinsics[0]::copy_nonoverlapping[0]')\n",
    "        or x.startswith('core[7bab]::mem[0]::transmute_copy[0]')\n",
    "        or x.startswith('core[7bab]::slice[0]::from_raw_parts[0]')\n",
    "        or x.startswith('core[7bab]::slice[0]::from_raw_parts_mut[0]')\n",
    "        or x.startswith('core[7bab]::slice[0]::{{impl}}[0]::as_ptr[0]')\n",
    "        or x.startswith('core[7bab]::slice[0]::{{impl}}[0]::as_mut_ptr[0]')\n",
    "        or (\"unchecked\" in x)\n",
    "        or (\"unguarded\" in x)\n",
    "        or (\"asm!\" in x)\n",
    "])"
   ]
  },
  {
   "cell_type": "code",
   "execution_count": 38,
   "metadata": {},
   "outputs": [
    {
     "name": "stdout",
     "output_type": "stream",
     "text": [
      "Total number of (user-written) performance-motivated Rust calls:\t 3394\n",
      "Total number of (user-written) performance-motivated Foreign calls:\t 0\n",
      "Total number of (user-written) performance-motivated C calls:\t\t 2252\n",
      "Total number of (user-written) performance-motivated calls:\t\t 5646\n",
      "Out of total number user-written unsafe const calls:\t 23734\n",
      "Percentage of user-written unsafe block const calls that are performance-motivated:\n",
      "\t 23.78865762197691\n"
     ]
    }
   ],
   "source": [
    "# Performance-motivated Rust calls from within an unsafe BLOCK\n",
    "perf_mot_unsafe_rust_calls = user_written_unsafe_const_calls_rust[\n",
    "    user_written_unsafe_const_calls_rust.def_path.isin(perf_mot_unsafe_rust)\n",
    "]\n",
    "pmu_rust_values = perf_mot_unsafe_rust_calls[['crate_callsite', 'build_crate_hash']].apply(\n",
    "    lambda row: (row['crate_callsite'], row['build_crate_hash']), axis=1\n",
    ")#.squeeze().value_counts()\n",
    "\n",
    "# ForeignItem calls\n",
    "pmu_fi_values = user_written_unsafe_const_calls_fi[['crate_callsite', 'build_crate_hash']].apply(\n",
    "    lambda row: (row['crate_callsite'], row['build_crate_hash']), axis=1\n",
    ")#.squeeze().value_counts()\n",
    "\n",
    "# C calls\n",
    "pmu_c_values = user_written_unsafe_const_calls_c[['crate_callsite', 'build_crate_hash']].apply(\n",
    "    lambda row: (row['crate_callsite'], row['build_crate_hash']), axis=1\n",
    ")#.squeeze().value_counts()\n",
    "\n",
    "len_all = len(perf_mot_unsafe_rust_calls) + len(user_written_unsafe_const_calls_fi) + len(user_written_unsafe_const_calls_c)\n",
    "\n",
    "print(\"Total number of (user-written) performance-motivated Rust calls:\\t\", len(perf_mot_unsafe_rust_calls))\n",
    "print(\"Total number of (user-written) performance-motivated Foreign calls:\\t\", len(user_written_unsafe_const_calls_fi))\n",
    "print(\"Total number of (user-written) performance-motivated C calls:\\t\\t\", len(user_written_unsafe_const_calls_c))\n",
    "print(\"Total number of (user-written) performance-motivated calls:\\t\\t\", len_all)\n",
    "\n",
    "print(\"Out of total number user-written unsafe const calls:\\t\", len(user_written_unsafe_const_calls))\n",
    "print(\"Percentage of user-written unsafe block const calls that are performance-motivated:\\n\\t\", \n",
    "      (len_all/len(user_written_unsafe_const_calls))*100)"
   ]
  },
  {
   "cell_type": "code",
   "execution_count": 56,
   "metadata": {},
   "outputs": [
    {
     "name": "stdout",
     "output_type": "stream",
     "text": [
      "Number of crates:\t 155\n",
      "Percentage:\t 30.392156862745097\n",
      "\n",
      "List of crates that have performance-motivated unsafe code:\n"
     ]
    },
    {
     "data": {
      "text/plain": [
       "(openssl, e0a61a472766a940)               903\n",
       "(git2, 1f7321677b9caa95)                  578\n",
       "(futures_util, 12b18cbb38d82e85)          455\n",
       "(nix, 887ec1e304ae466c)                   414\n",
       "(ppv_lite86, 8f7f8b0411c06b17)            366\n",
       "(lexical_core, e1470018361eb732)          258\n",
       "(tokio, 8c26b051124c49b3)                 221\n",
       "(actix_web, baf8718645b0d8b)              190\n",
       "(encoding_rs, 31e96fc597d9d5fc)           178\n",
       "(core_foundation, fd9e7bfc17ad8030)       170\n",
       "(ring, 57d7c3f120e595e4)                  164\n",
       "(byteorder, 6c647b065da2cdba)             142\n",
       "(generic_array, de092b675d6ebae)           82\n",
       "(security_framework, 870f742179095607)     81\n",
       "(ahash, d6afb292932ea61a)                  77\n",
       "(crypto, 44cdc7433e3acc7d)                 76\n",
       "(hyper, 7113324d1b5fa109)                  71\n",
       "(rand, 7ee2ef94785bad32)                   68\n",
       "(rayon, adfcf1b0135a2616)                  63\n",
       "(itoa, cd6daa548f6d5ead)                   60\n",
       "Name: 0, dtype: int64"
      ]
     },
     "execution_count": 56,
     "metadata": {},
     "output_type": "execute_result"
    }
   ],
   "source": [
    "block_frames = [pmu_rust_values, pmu_fi_values, pmu_c_values]\n",
    "block_values = pd.concat(block_frames)[0].value_counts()\n",
    "\n",
    "print(\"Number of crates:\\t\", len(block_values))\n",
    "print(\"Percentage:\\t\", len(block_values)/len(selected_builds)*100)\n",
    "print()\n",
    "print(\"List of crates that have performance-motivated unsafe code:\")\n",
    "block_values[:20]"
   ]
  },
  {
   "cell_type": "code",
   "execution_count": 57,
   "metadata": {},
   "outputs": [
    {
     "name": "stdout",
     "output_type": "stream",
     "text": [
      "Number of crates: 510\n",
      "has_unsafe_blocks    220\n",
      "dtype: int64\n",
      "has_unsafe_blocks    43.137255\n",
      "dtype: float64\n"
     ]
    }
   ],
   "source": [
    "# For comparison, number of crates that have an unsafe block, period\n",
    "join_key = \"crate_hash\"\n",
    "crates[\"has_unsafe_blocks\"] = crates[join_key].isin(set(user_written_unsafe_blocks[join_key].unique()))\n",
    "\n",
    "feature_names = [\n",
    "    \"has_unsafe_blocks\",\n",
    "]\n",
    "\n",
    "print(\"Number of crates: {}\".format(len(crates)))\n",
    "\n",
    "feature_freq = crates[feature_names].apply(sum).sort_values(ascending=False)\n",
    "print(feature_freq)\n",
    "print(feature_freq / len(crates) * 100)"
   ]
  },
  {
   "cell_type": "code",
   "execution_count": 58,
   "metadata": {},
   "outputs": [],
   "source": [
    "# Moving on to unsafe FUNCTIONS\n",
    "unsafe_rust_functions = unsafe_function_definitions[\n",
    "    unsafe_function_definitions.abi == \"Rust\"\n",
    "]"
   ]
  },
  {
   "cell_type": "code",
   "execution_count": 59,
   "metadata": {},
   "outputs": [
    {
     "name": "stdout",
     "output_type": "stream",
     "text": [
      "Number of actually unsafe Rust functions:\t 1349\n"
     ]
    }
   ],
   "source": [
    "# Not yet sure if we want to use this; maybe in the dedicated paper section but not in intro\n",
    "actually_unsafe_rust_functions = unsafe_rust_functions[\n",
    "    unsafe_rust_functions.uses_unsafe == True\n",
    "]\n",
    "\n",
    "print(\"Number of actually unsafe Rust functions:\\t\", len(actually_unsafe_rust_functions))"
   ]
  },
  {
   "cell_type": "code",
   "execution_count": null,
   "metadata": {},
   "outputs": [],
   "source": []
  }
 ],
 "metadata": {
  "kernelspec": {
   "display_name": "Python 3",
   "language": "python",
   "name": "python3"
  },
  "language_info": {
   "codemirror_mode": {
    "name": "ipython",
    "version": 3
   },
   "file_extension": ".py",
   "mimetype": "text/x-python",
   "name": "python",
   "nbconvert_exporter": "python",
   "pygments_lexer": "ipython3",
   "version": "3.8.6"
  }
 },
 "nbformat": 4,
 "nbformat_minor": 4
}
