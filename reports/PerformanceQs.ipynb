{
 "cells": [
  {
   "cell_type": "code",
   "execution_count": 1,
   "metadata": {},
   "outputs": [],
   "source": [
    "import matplotlib.pyplot as plt\n",
    "import pandas as pd\n",
    "import utils\n",
    "from whitelists import *\n",
    "import top_crates\n",
    "import functools\n",
    "\n",
    "# Configure pyplot: enlarge plots \n",
    "plt.rcParams['figure.figsize'] = [15, 8]\n",
    "# Configure pandas: show all columns when printing a dataframe\n",
    "pd.set_option('display.max_columns', None)\n",
    "# Configure pandas: show more rows when printing a dataframe\n",
    "pd.set_option('display.min_rows', 20)"
   ]
  },
  {
   "cell_type": "code",
   "execution_count": 2,
   "metadata": {},
   "outputs": [],
   "source": [
    "# Load tables\n",
    "function_definitions = utils.load_selected_function_definitions()\n",
    "raw_function_unsafe_reasons = utils.load_unsafe_reasons_in_function_definitions()\n",
    "unsafe_block_calls = utils.load_unsafe_block_calls()\n",
    "const_calls = utils.load_const_calls()\n",
    "unsafe_blocks = utils.load_unsafe_blocks()\n",
    "traits = utils.load_selected_traits()\n",
    "traits_impls = utils.load_selected_impl_definitions()\n",
    "type_defs = utils.load_selected_type_defs()\n",
    "adts = utils.load_selected_adts()\n",
    "adt_field_types = utils.load_selected_adt_field_types()\n",
    "selected_builds = utils.load_selected_builds()"
   ]
  },
  {
   "cell_type": "code",
   "execution_count": 3,
   "metadata": {},
   "outputs": [],
   "source": [
    "# Cleanup: remove duplicates\n",
    "raw_function_unsafe_reasons = raw_function_unsafe_reasons.drop_duplicates()\n",
    "\n",
    "# Remove functions that are not in function_definitions\n",
    "raw_function_unsafe_reasons = raw_function_unsafe_reasons[\n",
    "    raw_function_unsafe_reasons.def_path.isin(set(function_definitions.def_path.unique()))\n",
    "]\n",
    "\n",
    "possible_unsafe_reasons = [\n",
    "    \"call to unsafe function\",\n",
    "    \"use of inline assembly\",\n",
    "    \"initializing type with `rustc_layout_scalar_valid_range` attr\",\n",
    "    \"cast of pointer to int\",\n",
    "    \"pointer operation\",\n",
    "    \"borrow of packed field\",\n",
    "    \"use of mutable static\",\n",
    "    \"use of extern static\",\n",
    "    \"dereference of raw pointer\",\n",
    "    \"assignment to non-`Copy` union field\",\n",
    "    \"access to union field\",\n",
    "    \"mutation of layout constrained field\",\n",
    "    \"borrow of layout constrained field with interior mutability\",\n",
    "]\n",
    "\n",
    "# Map reasons -> number\n",
    "function_unsafe_reasons = raw_function_unsafe_reasons[\n",
    "    [\"crate_name\", \"crate_hash\", \"def_path\", \"unsafe_reason\"]\n",
    "].groupby(\"def_path\").agg(frozenset).rename(\n",
    "    columns={'unsafe_reason': 'unsafe_reasons'}\n",
    ")\n",
    "\n",
    "function_unsafe_reasons[\"unsafe_reasons_vec\"] = function_unsafe_reasons.unsafe_reasons.map(\n",
    "    lambda x: [reason in x for reason in possible_unsafe_reasons]\n",
    ")\n",
    "function_unsafe_reasons[\"num_unsafe_reasons\"] = function_unsafe_reasons.unsafe_reasons_vec.map(sum)\n",
    "\n",
    "for reason in possible_unsafe_reasons:\n",
    "    function_unsafe_reasons[reason] = function_unsafe_reasons.unsafe_reasons.map(\n",
    "        lambda x: reason in x\n",
    "    )\n",
    "\n",
    "# Augment const calls made from unsafe blocks\n",
    "unsafe_block_const_calls = unsafe_block_calls.join(\n",
    "    const_calls.set_index(\"call\"),\n",
    "    on=\"call\",\n",
    "    how=\"inner\",\n",
    "    rsuffix=\"_defsite\",\n",
    ")\n",
    "# Rename confusing columns\n",
    "unsafe_block_const_calls.rename(\n",
    "    columns={\"crate_name\": \"crate_callsite\", \"crate\": \"crate_defsite\"},\n",
    "    inplace=True\n",
    ")\n",
    "\n",
    "# Preprocessing\n",
    "unsafe_function_definitions = function_definitions[function_definitions.unsafety == \"Unsafe\"]\n",
    "\n",
    "crates = pd.DataFrame({\n",
    "    \"crate\": selected_builds.crate,\n",
    "    \"crate_hash\": selected_builds.crate_hash,\n",
    "    \"package\": selected_builds.package.map(lambda x: str(x).lower().replace(\"-\", \"_\")),\n",
    "})\n",
    "user_written_unsafe_blocks = unsafe_blocks[unsafe_blocks.check_mode == \"UnsafeBlockUserProvided\"]\n",
    "unsafe_function_definitions = function_definitions[function_definitions.unsafety == \"Unsafe\"]\n",
    "unsafe_traits = traits[traits.unsafety == \"Unsafe\"]\n",
    "unsafe_traits_impls = traits_impls[traits_impls.unsafety == \"Unsafe\"]"
   ]
  },
  {
   "cell_type": "code",
   "execution_count": 4,
   "metadata": {},
   "outputs": [
    {
     "data": {
      "text/plain": [
       "304"
      ]
     },
     "execution_count": 4,
     "metadata": {},
     "output_type": "execute_result"
    }
   ],
   "source": [
    "len(selected_builds)"
   ]
  },
  {
   "cell_type": "code",
   "execution_count": 5,
   "metadata": {},
   "outputs": [
    {
     "name": "stdout",
     "output_type": "stream",
     "text": [
      "Number of crates: 304\n",
      "has_unsafe                166\n",
      "has_unsafe_blocks         148\n",
      "has_no_unsafe             138\n",
      "has_unsafe_functions      111\n",
      "has_unsafe_trait_impls     59\n",
      "has_unsafe_traits          20\n",
      "dtype: int64\n",
      "has_unsafe                54.605263\n",
      "has_unsafe_blocks         48.684211\n",
      "has_no_unsafe             45.394737\n",
      "has_unsafe_functions      36.513158\n",
      "has_unsafe_trait_impls    19.407895\n",
      "has_unsafe_traits          6.578947\n",
      "dtype: float64\n"
     ]
    },
    {
     "data": {
      "image/png": "[encoded data removed]",
      "text/plain": [
       "<Figure size 1080x576 with 1 Axes>"
      ]
     },
     "metadata": {
      "needs_background": "light"
     },
     "output_type": "display_data"
    }
   ],
   "source": [
    "join_key = \"crate_hash\"\n",
    "crates[\"has_unsafe_blocks\"] = crates[join_key].isin(set(user_written_unsafe_blocks[join_key].unique()))\n",
    "crates[\"has_unsafe_functions\"] = crates[join_key].isin(set(unsafe_function_definitions[join_key].unique()))\n",
    "crates[\"has_unsafe_traits\"] = crates[join_key].isin(set(unsafe_traits[join_key].unique()))\n",
    "crates[\"has_unsafe_trait_impls\"] = crates[join_key].isin(set(unsafe_traits_impls[join_key].unique()))\n",
    "\n",
    "feature_names = [\n",
    "    \"has_unsafe_blocks\",\n",
    "    \"has_unsafe_functions\",\n",
    "    \"has_unsafe_traits\",\n",
    "    \"has_unsafe_trait_impls\",\n",
    "]\n",
    "\n",
    "crates[\"has_unsafe\"] = functools.reduce(lambda x, y: x | y, [crates[f] for f in feature_names])\n",
    "feature_names.append(\"has_unsafe\")\n",
    "\n",
    "crates[\"has_no_unsafe\"] = ~crates[\"has_unsafe\"]\n",
    "feature_names.append(\"has_no_unsafe\")\n",
    "\n",
    "print(\"Number of crates: {}\".format(len(crates)))\n",
    "\n",
    "feature_freq = crates[feature_names].apply(sum).sort_values(ascending=False)\n",
    "feature_freq.plot.bar(subplots=True, color=\"blue\", title=\"Features per crate\")\n",
    "print(feature_freq)\n",
    "print(feature_freq / len(crates) * 100)"
   ]
  },
  {
   "cell_type": "code",
   "execution_count": 6,
   "metadata": {},
   "outputs": [
    {
     "name": "stdout",
     "output_type": "stream",
     "text": [
      "6913\n",
      "4858\n",
      "4317\n",
      "54\n",
      "1170\n"
     ]
    }
   ],
   "source": [
    "print(len(unsafe_blocks))\n",
    "print(len(user_written_unsafe_blocks))\n",
    "print(len(unsafe_function_definitions))\n",
    "print(len(unsafe_traits))\n",
    "print(len(unsafe_traits_impls))"
   ]
  },
  {
   "cell_type": "code",
   "execution_count": 7,
   "metadata": {},
   "outputs": [
    {
     "name": "stdout",
     "output_type": "stream",
     "text": [
      "ForeignItem    2746\n",
      "Rust           1428\n",
      "C               143\n",
      "Name: abi, dtype: int64\n",
      "ForeignItem    63.608988\n",
      "Rust           33.078527\n",
      "C               3.312486\n",
      "Name: abi, dtype: float64\n",
      "Unsafe function definitions: 4317\n"
     ]
    },
    {
     "data": {
      "image/png": "[encoded data removed]",
      "text/plain": [
       "<Figure size 1080x576 with 1 Axes>"
      ]
     },
     "metadata": {},
     "output_type": "display_data"
    }
   ],
   "source": [
    "# Frequency of abi\n",
    "values = unsafe_function_definitions.abi.value_counts()\n",
    "print(values)\n",
    "print(values / len(unsafe_function_definitions) * 100)\n",
    "print(\"Unsafe function definitions:\", len(unsafe_function_definitions))\n",
    "values.plot.pie()\n",
    "del values"
   ]
  },
  {
   "cell_type": "code",
   "execution_count": 8,
   "metadata": {},
   "outputs": [
    {
     "name": "stdout",
     "output_type": "stream",
     "text": [
      "Number of crates that call C functions:\t 5\n",
      "Unique crate names:\n",
      "\topenssl\n",
      "\tlibc\n",
      "\tbacktrace\n",
      "\tring\n",
      "\twasm_bindgen\n"
     ]
    }
   ],
   "source": [
    "# Which crates call C functions?\n",
    "c_funcs = []\n",
    "for i, s in unsafe_function_definitions.iterrows():\n",
    "    if 'C' in s.abi:\n",
    "        c_funcs.append(s.crate)\n",
    "\n",
    "c_funcs = list(dict.fromkeys(c_funcs))\n",
    "\n",
    "print(\"Number of crates that call C functions:\\t\", len(c_funcs))\n",
    "print(\"Unique crate names:\")\n",
    "\n",
    "for crate in c_funcs:\n",
    "    print(\"\\t\" + crate)"
   ]
  },
  {
   "cell_type": "code",
   "execution_count": 9,
   "metadata": {},
   "outputs": [
    {
     "name": "stdout",
     "output_type": "stream",
     "text": [
      "Number of crates that call foreign functions:\t 17\n",
      "Unique crate names:\n",
      "\tcloudabi\n",
      "\topenssl_sys\n",
      "\ttime\n",
      "\tminiz_sys\n",
      "\tlibgit2_sys\n",
      "\tlibc\n",
      "\tlibz_sys\n",
      "\tbacktrace_sys\n",
      "\tcurl_sys\n",
      "\tcore_foundation_sys\n",
      "\tbacktrace\n",
      "\tfuchsia_zircon_sys\n",
      "\thermit_abi\n",
      "\tfuchsia_cprng\n",
      "\tlibloading\n",
      "\twasi\n",
      "\tring\n"
     ]
    }
   ],
   "source": [
    "# Which crates call foreign functions?\n",
    "f_funcs = []\n",
    "for i, s in unsafe_function_definitions.iterrows():\n",
    "    if 'ForeignItem' in s.abi:\n",
    "        f_funcs.append(s.crate)\n",
    "\n",
    "f_funcs_unique = list(dict.fromkeys(f_funcs))\n",
    "\n",
    "print(\"Number of crates that call foreign functions:\\t\", len(f_funcs_unique))\n",
    "print(\"Unique crate names:\")\n",
    "\n",
    "for crate in f_funcs_unique:\n",
    "    print(\"\\t\" + crate)"
   ]
  },
  {
   "cell_type": "code",
   "execution_count": 59,
   "metadata": {},
   "outputs": [
    {
     "name": "stdout",
     "output_type": "stream",
     "text": [
      "Total number of SIMD calls:\t 0\n"
     ]
    }
   ],
   "source": [
    "# SIMD const calls total\n",
    "const_calls_loaded = utils.load_const_calls()\n",
    "const_calls_loaded.rename(\n",
    "    columns={\"crate_name\": \"crate_callsite\", \"crate\": \"crate_defsite\"},\n",
    "    inplace=True\n",
    ")\n",
    "simd_functions = set([\n",
    "    x\n",
    "    for x in const_calls_loaded.def_path.unique()\n",
    "    if x.startswith('core[7bab]::core_arch')\n",
    "])\n",
    "simd_calls = const_calls_loaded[\n",
    "    const_calls_loaded.def_path.isin(simd_functions)\n",
    "]\n",
    "\n",
    "# SIMD const calls unsafe only\n",
    "unsafe_simd_functions = set([\n",
    "    x\n",
    "    for x in unsafe_block_const_calls.def_path.unique()\n",
    "    if x.startswith('core[7bab]::core_arch')\n",
    "])\n",
    "unsafe_simd_calls = unsafe_block_const_calls[\n",
    "    unsafe_block_const_calls.def_path.isin(unsafe_simd_functions)\n",
    "]\n",
    "\n",
    "# Both should be equal since can only call SIMD in unsafe blocks\n",
    "#assert len(unsafe_simd_calls) == len(simd_calls)\n",
    "\n",
    "print(\"Total number of SIMD calls:\\t\", len(simd_calls))"
   ]
  },
  {
   "cell_type": "code",
   "execution_count": 11,
   "metadata": {},
   "outputs": [
    {
     "name": "stdout",
     "output_type": "stream",
     "text": [
      "Number of crates that call SIMD functions:\t 0\n",
      "Crates that call SIMD functions:\n",
      "\t []\n"
     ]
    }
   ],
   "source": [
    "# Get names of unique SIMD-calling crates\n",
    "simd_crates = simd_calls.crate_callsite.unique()\n",
    "\n",
    "print(\"Number of crates that call SIMD functions:\\t\", len(simd_crates))\n",
    "print(\"Crates that call SIMD functions:\\n\\t\", simd_crates)"
   ]
  },
  {
   "cell_type": "code",
   "execution_count": 12,
   "metadata": {},
   "outputs": [
    {
     "name": "stdout",
     "output_type": "stream",
     "text": [
      "Number of functions using inline assembly:\t 0\n"
     ]
    }
   ],
   "source": [
    "# Count functions with assembly code, per crate\n",
    "asm_fns = function_unsafe_reasons[function_unsafe_reasons[\"use of inline assembly\"]]\n",
    "print(\"Number of functions using inline assembly:\\t\", len(asm_fns))\n",
    "if len(asm_fns) > 0:\n",
    "    values = asm_fns[['crate_name', 'crate_hash']].apply(\n",
    "        lambda row: (row['crate_name'], row['crate_hash']), axis=1\n",
    "    ).squeeze().value_counts()\n",
    "    print(\"Number of crates:\", len(values))\n",
    "    print()\n",
    "    print('Percentage of functions with inline assembly among 10 top crates:', sum(values[:10])/len(asm_fns)*100)\n",
    "    print(\"Such functions per crate:\")\n",
    "    print(values[:10])\n",
    "    asm_fns\n",
    "    del values"
   ]
  },
  {
   "cell_type": "code",
   "execution_count": 13,
   "metadata": {},
   "outputs": [],
   "source": [
    "# Whitelists\n",
    "all_function_names = set(function_definitions.def_path.unique())\n",
    "unchecked_function_names = get_unchecked_function_names(all_function_names)\n",
    "unguarded_function_names = get_unguarded_function_names(all_function_names)\n",
    "\n",
    "all_calls = utils.load_all_calls()\n",
    "\n",
    "unsafe_calls = all_calls.query(\"unsafety != 'Normal'\")\n",
    "assert len(pd.unique(unsafe_calls.unsafety)) == 1"
   ]
  },
  {
   "cell_type": "code",
   "execution_count": 60,
   "metadata": {},
   "outputs": [
    {
     "name": "stdout",
     "output_type": "stream",
     "text": [
      "unchecked_function_names: 153\n",
      "Calls to unchecked functions: 50\n",
      "Percentage: 0.07789739355321171\n",
      "Number of crates: 13\n",
      "Percentage: 4.276315789473684\n",
      "(http, 737a825cc02c86d0)        14\n",
      "(pest, 863da43394265293)         8\n",
      "(bstr, 2a87f86d1622c64a)         6\n",
      "(arrayvec, f95231de97152f87)     6\n",
      "(h2, 9c89f468e6495b69)           4\n",
      "dtype: int64\n",
      "Percentage of unsafe blocks with an unchecked function call: 0.749512816669165\n"
     ]
    }
   ],
   "source": [
    "# Unchecked functions\n",
    "print(\"unchecked_function_names:\", len(unchecked_function_names))\n",
    "\n",
    "const_unchecked_calls = const_calls_loaded[\n",
    "    const_calls_loaded.def_path.isin(unchecked_function_names)\n",
    "]\n",
    "unchecked_calls = unsafe_block_const_calls[\n",
    "    unsafe_block_const_calls.def_path.isin(unchecked_function_names)\n",
    "]\n",
    "assert(len(const_unchecked_calls) == len(unchecked_calls))\n",
    "\n",
    "print(\"Calls to unchecked functions:\", len(unchecked_calls))\n",
    "print(\"Percentage:\", len(unchecked_calls)/len(unsafe_calls)*100)\n",
    "\n",
    "values = unchecked_calls[['crate_callsite', 'build_crate_hash']].apply(\n",
    "    lambda row: (row['crate_callsite'], row['build_crate_hash']), axis=1\n",
    ").squeeze().value_counts()\n",
    "print(\"Number of crates:\", len(values))\n",
    "print(\"Percentage:\", len(values)/len(selected_builds)*100)\n",
    "print(values[:5])\n",
    "\n",
    "# Used in Sec. 6.2\n",
    "print(\"Percentage of unsafe blocks with an unchecked function call:\",\n",
    "    len(unchecked_calls.unsafe_scope.unique())/len(unsafe_block_const_calls.unsafe_scope.unique())*100\n",
    ")\n",
    "del values"
   ]
  },
  {
   "cell_type": "code",
   "execution_count": 61,
   "metadata": {},
   "outputs": [
    {
     "name": "stdout",
     "output_type": "stream",
     "text": [
      "unguarded_function_names: 0\n",
      "Calls to unguarded functions: 0\n",
      "Percentage: 0.0\n",
      "Number of crates: 0\n",
      "Percentage: 0.0\n",
      "Series([], dtype: int64)\n",
      "Percentage of unsafe blocks with an unguarded function call: 0.0\n"
     ]
    }
   ],
   "source": [
    "# Unguarded functions\n",
    "print(\"unguarded_function_names:\", len(unguarded_function_names))\n",
    "\n",
    "const_unguarded_calls = const_calls_loaded[\n",
    "    const_calls_loaded.def_path.isin(unguarded_function_names)\n",
    "]\n",
    "unguarded_calls = unsafe_block_const_calls[\n",
    "    unsafe_block_const_calls.def_path.isin(unguarded_function_names)\n",
    "]\n",
    "assert(len(const_unguarded_calls) == len(unguarded_calls))\n",
    "\n",
    "print(\"Calls to unguarded functions:\", len(unguarded_calls))\n",
    "print(\"Percentage:\", len(unguarded_calls)/len(unsafe_calls)*100)\n",
    "\n",
    "values = unguarded_calls[['crate_callsite', 'build_crate_hash']].apply(\n",
    "    lambda row: (row['crate_callsite'], row['build_crate_hash']), axis=1\n",
    ").squeeze().value_counts()\n",
    "print(\"Number of crates:\", len(values))\n",
    "print(\"Percentage:\", len(values)/len(selected_builds)*100)\n",
    "print(values[:5])\n",
    "\n",
    "print(\"Percentage of unsafe blocks with an unguarded function call:\",\n",
    "     len(unguarded_calls.unsafe_scope.unique())/len(unsafe_block_const_calls.unsafe_scope.unique())*100\n",
    ")\n",
    "del values"
   ]
  },
  {
   "cell_type": "code",
   "execution_count": 62,
   "metadata": {},
   "outputs": [
    {
     "name": "stdout",
     "output_type": "stream",
     "text": [
      "all_unsafe_function_names: 4317\n",
      "all_safe_function_names: 62719\n",
      "all_closure_names: 6734\n",
      "unsafe functions with a pointer operation: 0 0.0\n",
      "safe functions with a pointer operation: 0 0.0\n",
      "closures with a pointer operation: 0 0.0\n"
     ]
    }
   ],
   "source": [
    "# Pointer operations (not just dereferences)\n",
    "all_unsafe_function_names = set(unsafe_function_definitions.def_path.unique())\n",
    "all_safe_function_names = set(function_definitions[function_definitions.unsafety == \"Normal\"].def_path.unique())\n",
    "all_closure_names = set(function_definitions[function_definitions.unsafety == \"Unknown\"].def_path.unique())\n",
    "assert len(all_unsafe_function_names) > 0\n",
    "assert len(all_safe_function_names) > 0\n",
    "assert len(all_closure_names) > 0\n",
    "\n",
    "print(\"all_unsafe_function_names:\", len(all_unsafe_function_names))\n",
    "print(\"all_safe_function_names:\", len(all_safe_function_names))\n",
    "print(\"all_closure_names:\", len(all_closure_names))\n",
    "\n",
    "count1 = sum(function_unsafe_reasons[\n",
    "    function_unsafe_reasons.index.isin(all_unsafe_function_names)\n",
    "][\"pointer operation\"])    # FIXME what is classified as a pointer operation?\n",
    "print(\"unsafe functions with a pointer operation:\", count1, 100 * count1 / len(all_unsafe_function_names))\n",
    "\n",
    "count2 = sum(function_unsafe_reasons[\n",
    "    function_unsafe_reasons.index.isin(all_safe_function_names)\n",
    "][\"pointer operation\"])    # FIXME what is classified as a pointer operation?\n",
    "print(\"safe functions with a pointer operation:\", count2, 100 * count2 / len(all_safe_function_names))\n",
    "\n",
    "count3 = sum(function_unsafe_reasons[\n",
    "    function_unsafe_reasons.index.isin(all_closure_names)\n",
    "][\"pointer operation\"])    # FIXME what is classified as a pointer operation?\n",
    "print(\"closures with a pointer operation:\", count3, 100 * count3 / len(all_closure_names))"
   ]
  },
  {
   "cell_type": "code",
   "execution_count": 63,
   "metadata": {},
   "outputs": [
    {
     "name": "stdout",
     "output_type": "stream",
     "text": [
      "Number of functions using pointer operations: 0\n"
     ]
    }
   ],
   "source": [
    "# Count functions with pointer operations (another method)\n",
    "ptr_op_fns = function_unsafe_reasons[function_unsafe_reasons[\"pointer operation\"]]\n",
    "print(\"Number of functions using pointer operations:\", len(ptr_op_fns))\n",
    "if len(ptr_op_fns) > 0:\n",
    "    values = ptr_op_fns[['crate_name', 'crate_hash']].apply(\n",
    "        lambda row: (row['crate_name'], row['crate_hash']), axis=1\n",
    "    ).squeeze().value_counts()\n",
    "    print(\"Number of crates:\", len(values))\n",
    "    print()\n",
    "    print('Percentage of functions with pointer operations among 10 top crates:', sum(values[:10])/len(ptr_op_fns)*100)\n",
    "    print(\"Such functions per crate:\")\n",
    "    print(values[:10])\n",
    "    ptr_op_fns\n",
    "    del values"
   ]
  },
  {
   "cell_type": "code",
   "execution_count": 65,
   "metadata": {},
   "outputs": [
    {
     "name": "stdout",
     "output_type": "stream",
     "text": [
      "blocks 0 6913 0.0\n",
      "\n",
      "crates 0 0.0\n",
      "Series([], Name: crate_callsite, dtype: int64)\n",
      "0 0.0\n",
      "\n",
      "With 1000+ unsafe blocks:\n"
     ]
    }
   ],
   "source": [
    "# How many calls to performance-motivated intrinsic functions\n",
    "blocks = const_calls_loaded[ #unsafe_block_const_calls[\n",
    "    const_calls_loaded.def_path.isin(set([ #unsafe_block_const_calls.def_path.isin(set([\n",
    "        'core[7bab]::intrinsics[0]::[1]::transmute[0]',\n",
    "        'core[7bab]::intrinsics[0]::write_bytes[0]',\n",
    "        'core[7bab]::intrinsics[0]::copy[0]',\n",
    "        'core[7bab]::intrinsics[0]::copy_nonoverlapping[0]',\n",
    "    ]))\n",
    "][\n",
    "    [\"crate_callsite\", \"build_crate_hash\", \"unsafe_scope\"]\n",
    "].drop_duplicates()\n",
    "print(\"blocks\", len(blocks), len(unsafe_blocks), 100 * len(blocks) / len(unsafe_blocks))\n",
    "print()\n",
    "print(\"crates\", len(blocks.build_crate_hash.unique()),\n",
    "      100 * len(blocks.build_crate_hash.unique()) / len(selected_builds.crate_hash.unique()))\n",
    "data = pd.value_counts(blocks.crate_callsite)\n",
    "print(data)\n",
    "print(sum(data > 3), 100 * sum(data > 3) / len(selected_builds.crate_hash.unique()))\n",
    "print()\n",
    "print(\"With 1000+ unsafe blocks:\")\n",
    "for crate, count in data[data >= 1000].iteritems():\n",
    "    print(\"* {} {}: https://crates.io/crates/{}\".format(count, crate, crate))\n",
    "del blocks, data"
   ]
  },
  {
   "cell_type": "code",
   "execution_count": 66,
   "metadata": {},
   "outputs": [
    {
     "name": "stdout",
     "output_type": "stream",
     "text": [
      "blocks 0 6913 0.0\n",
      "\n",
      "crates 0 0.0\n",
      "Series([], Name: crate_callsite, dtype: int64)\n",
      "0 0.0\n",
      "\n",
      "With 1000+ unsafe blocks:\n"
     ]
    }
   ],
   "source": [
    "# How many calls to performance-motivated mem functions\n",
    "blocks = const_calls_loaded[ #unsafe_block_const_calls[\n",
    "    const_calls_loaded.def_path.isin(set([ #unsafe_block_const_calls.def_path.isin(set([\n",
    "        'core[7bab]::mem[0]::transmute_copy[0]',\n",
    "    ]))\n",
    "][\n",
    "    [\"crate_callsite\", \"build_crate_hash\", \"unsafe_scope\"]\n",
    "].drop_duplicates()\n",
    "print(\"blocks\", len(blocks), len(unsafe_blocks), 100 * len(blocks) / len(unsafe_blocks))\n",
    "print()\n",
    "print(\"crates\", len(blocks.build_crate_hash.unique()),\n",
    "      100 * len(blocks.build_crate_hash.unique()) / len(selected_builds.crate_hash.unique()))\n",
    "data = pd.value_counts(blocks.crate_callsite)\n",
    "print(data)\n",
    "print(sum(data > 3), 100 * sum(data > 3) / len(selected_builds.crate_hash.unique()))\n",
    "print()\n",
    "print(\"With 1000+ unsafe blocks:\")\n",
    "for crate, count in data[data >= 1000].iteritems():\n",
    "    print(\"* {} {}: https://crates.io/crates/{}\".format(count, crate, crate))\n",
    "del blocks, data"
   ]
  },
  {
   "cell_type": "code",
   "execution_count": 67,
   "metadata": {},
   "outputs": [
    {
     "name": "stdout",
     "output_type": "stream",
     "text": [
      "blocks 0 6913 0.0\n",
      "\n",
      "crates 0 0.0\n",
      "Series([], Name: crate_callsite, dtype: int64)\n",
      "0 0.0\n",
      "\n",
      "With 1000+ unsafe blocks:\n"
     ]
    }
   ],
   "source": [
    "# How many calls to performance-motivated slice functions\n",
    "blocks = const_calls_loaded[ #unsafe_block_const_calls[\n",
    "    const_calls_loaded.def_path.isin(set([ #unsafe_block_const_calls.def_path.isin(set([\n",
    "        'core[7bab]::slice[0]::from_raw_parts[0]',\n",
    "        'core[7bab]::slice[0]::from_raw_parts_mut[0]',\n",
    "        'core[7bab]::slice[0]::{{impl}}[0]::as_ptr[0]',\n",
    "        'core[7bab]::slice[0]::{{impl}}[0]::as_mut_ptr[0]',\n",
    "    ]))\n",
    "][\n",
    "    [\"crate_callsite\", \"build_crate_hash\", \"unsafe_scope\"]\n",
    "].drop_duplicates()\n",
    "print(\"blocks\", len(blocks), len(unsafe_blocks), 100 * len(blocks) / len(unsafe_blocks))\n",
    "print()\n",
    "print(\"crates\", len(blocks.build_crate_hash.unique()),\n",
    "      100 * len(blocks.build_crate_hash.unique()) / len(selected_builds.crate_hash.unique()))\n",
    "data = pd.value_counts(blocks.crate_callsite)\n",
    "print(data)\n",
    "print(sum(data > 3), 100 * sum(data > 3) / len(selected_builds.crate_hash.unique()))\n",
    "print()\n",
    "print(\"With 1000+ unsafe blocks:\")\n",
    "for crate, count in data[data >= 1000].iteritems():\n",
    "    print(\"* {} {}: https://crates.io/crates/{}\".format(count, crate, crate))\n",
    "del blocks, data"
   ]
  },
  {
   "cell_type": "code",
   "execution_count": 68,
   "metadata": {},
   "outputs": [],
   "source": [
    "# Filter by user-written unsafe code\n",
    "user_written_unsafe_const_calls = const_calls_loaded[ #unsafe_block_const_calls[\n",
    "    #unsafe_block_const_calls.check_mode == \"UnsafeBlockUserProvided\"\n",
    "    const_calls_loaded.check_mode == \"UnsafeBlockUserProvided\"\n",
    "]\n",
    "\n",
    "# Filter by target language\n",
    "user_written_unsafe_const_calls_rust = user_written_unsafe_const_calls[\n",
    "    user_written_unsafe_const_calls.abi == \"Rust\"\n",
    "]\n",
    "user_written_unsafe_const_calls_fi = user_written_unsafe_const_calls[\n",
    "    user_written_unsafe_const_calls.abi == \"ForeignItem\"\n",
    "]\n",
    "user_written_unsafe_const_calls_c = user_written_unsafe_const_calls[\n",
    "    user_written_unsafe_const_calls.abi == \"C\"\n",
    "]\n",
    "\n",
    "perf_mot_unsafe_rust = set([\n",
    "    x\n",
    "    for x in user_written_unsafe_const_calls_rust.def_path.unique()\n",
    "    if x.startswith('core[7bab]::core_arch') \n",
    "        or x.startswith('core[7bab]::intrinsics[0]::[1]::transmute[0]')\n",
    "        or x.startswith('core[7bab]::intrinsics[0]::write_bytes[0]')\n",
    "        or x.startswith('core[7bab]::intrinsics[0]::copy[0]')\n",
    "        or x.startswith('core[7bab]::intrinsics[0]::copy_nonoverlapping[0]')\n",
    "        or x.startswith('core[7bab]::mem[0]::transmute_copy[0]')\n",
    "        or x.startswith('core[7bab]::slice[0]::from_raw_parts[0]')\n",
    "        or x.startswith('core[7bab]::slice[0]::from_raw_parts_mut[0]')\n",
    "        or x.startswith('core[7bab]::slice[0]::{{impl}}[0]::as_ptr[0]')\n",
    "        or x.startswith('core[7bab]::slice[0]::{{impl}}[0]::as_mut_ptr[0]')\n",
    "        or (\"unchecked\" in x)\n",
    "        or (\"unguarded\" in x)\n",
    "        or (\"asm!\" in x)\n",
    "])"
   ]
  },
  {
   "cell_type": "code",
   "execution_count": 70,
   "metadata": {},
   "outputs": [],
   "source": [
    "# Performance-motivated Rust calls from within an unsafe BLOCK\n",
    "perf_mot_unsafe_rust_calls = user_written_unsafe_const_calls_rust[\n",
    "    user_written_unsafe_const_calls_rust.def_path.isin(perf_mot_unsafe_rust)\n",
    "]\n",
    "pmu_rust_values = perf_mot_unsafe_rust_calls[['crate_callsite', 'build_crate_hash']].apply(\n",
    "    lambda row: (row['crate_callsite'], row['build_crate_hash']), axis=1\n",
    ").squeeze().value_counts()\n",
    "\n",
    "# ForeignItem calls\n",
    "pmu_fi_values = user_written_unsafe_const_calls_fi[['crate_callsite', 'build_crate_hash']].apply(\n",
    "    lambda row: (row['crate_callsite'], row['build_crate_hash']), axis=1\n",
    ").squeeze().value_counts()\n",
    "\n",
    "# C calls\n",
    "pmu_c_values = user_written_unsafe_const_calls_c[['crate_callsite', 'build_crate_hash']].apply(\n",
    "    lambda row: (row['crate_callsite'], row['build_crate_hash']), axis=1\n",
    ").squeeze().value_counts()"
   ]
  },
  {
   "cell_type": "code",
   "execution_count": 71,
   "metadata": {},
   "outputs": [
    {
     "name": "stdout",
     "output_type": "stream",
     "text": [
      "Total number of performance-motivated calls:\t 89\n",
      "Out of total number user-written unsafe const calls:\t 16127\n",
      "Percentage of user-written unsafe block const calls that are performance-motivated:\n",
      "\t 0.5518695355614808\n",
      "\n",
      "Number of crates:\t 89\n",
      "Percentage:\t 29.276315789473685\n"
     ]
    }
   ],
   "source": [
    "block_frames = [pmu_rust_values, pmu_fi_values, pmu_c_values]\n",
    "block_values = pd.concat(block_frames)\n",
    "\n",
    "print(\"Total number of performance-motivated calls:\\t\", len(block_values))\n",
    "print(\"Out of total number user-written unsafe const calls:\\t\", len(user_written_unsafe_block_const_calls))\n",
    "print(\"Percentage of user-written unsafe block const calls that are performance-motivated:\\n\\t\", \n",
    "      (len(block_values) / len(user_written_unsafe_block_const_calls))*100)\n",
    "print()\n",
    "print(\"Number of crates:\\t\", len(block_values))\n",
    "print(\"Percentage:\\t\", len(block_values)/len(selected_builds)*100)"
   ]
  },
  {
   "cell_type": "code",
   "execution_count": 72,
   "metadata": {},
   "outputs": [
    {
     "name": "stdout",
     "output_type": "stream",
     "text": [
      "Number of crates: 304\n",
      "has_unsafe_blocks    148\n",
      "dtype: int64\n",
      "has_unsafe_blocks    48.684211\n",
      "dtype: float64\n"
     ]
    }
   ],
   "source": [
    "# For comparison, number of crates that have an unsafe block, period\n",
    "join_key = \"crate_hash\"\n",
    "crates[\"has_unsafe_blocks\"] = crates[join_key].isin(set(user_written_unsafe_blocks[join_key].unique()))\n",
    "\n",
    "feature_names = [\n",
    "    \"has_unsafe_blocks\",\n",
    "]\n",
    "\n",
    "print(\"Number of crates: {}\".format(len(crates)))\n",
    "\n",
    "feature_freq = crates[feature_names].apply(sum).sort_values(ascending=False)\n",
    "print(feature_freq)\n",
    "print(feature_freq / len(crates) * 100)"
   ]
  },
  {
   "cell_type": "code",
   "execution_count": 73,
   "metadata": {},
   "outputs": [],
   "source": [
    "# Moving on to unsafe FUNCTIONS\n",
    "unsafe_rust_functions = unsafe_function_definitions[\n",
    "    unsafe_function_definitions.abi == \"Rust\"\n",
    "]"
   ]
  },
  {
   "cell_type": "code",
   "execution_count": 75,
   "metadata": {},
   "outputs": [
    {
     "name": "stdout",
     "output_type": "stream",
     "text": [
      "Number of actually unsafe Rust functions:\t 878\n"
     ]
    }
   ],
   "source": [
    "# Not yet sure if we want to use this; maybe in the dedicated paper section but not in intro\n",
    "actually_unsafe_rust_functions = unsafe_rust_functions[\n",
    "    unsafe_rust_functions.uses_unsafe == True\n",
    "]\n",
    "\n",
    "print(\"Number of actually unsafe Rust functions:\\t\", len(actually_unsafe_rust_functions))"
   ]
  }
 ],
 "metadata": {
  "kernelspec": {
   "display_name": "Python 3",
   "language": "python",
   "name": "python3"
  },
  "language_info": {
   "codemirror_mode": {
    "name": "ipython",
    "version": 3
   },
   "file_extension": ".py",
   "mimetype": "text/x-python",
   "name": "python",
   "nbconvert_exporter": "python",
   "pygments_lexer": "ipython3",
   "version": "3.8.6"
  }
 },
 "nbformat": 4,
 "nbformat_minor": 4
}
