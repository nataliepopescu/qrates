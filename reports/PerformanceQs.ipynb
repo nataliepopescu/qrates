{
 "cells": [
  {
   "cell_type": "code",
   "execution_count": 1,
   "metadata": {},
   "outputs": [],
   "source": [
    "import matplotlib.pyplot as plt\n",
    "import pandas as pd\n",
    "import utils\n",
    "from whitelists import *\n",
    "from sorted_crates import *\n",
    "from top_crates import *\n",
    "import functools\n",
    "\n",
    "# Configure pyplot: enlarge plots \n",
    "plt.rcParams['figure.figsize'] = [15, 8]\n",
    "# Configure pandas: show all columns when printing a dataframe\n",
    "pd.set_option('display.max_columns', None)\n",
    "# Configure pandas: show more rows when printing a dataframe\n",
    "pd.set_option('display.min_rows', 20)"
   ]
  },
  {
   "cell_type": "code",
   "execution_count": 2,
   "metadata": {},
   "outputs": [],
   "source": [
    "# Load tables\n",
    "function_definitions = utils.load_selected_function_definitions()\n",
    "raw_function_unsafe_reasons = utils.load_unsafe_reasons_in_function_definitions()\n",
    "unsafe_block_calls = utils.load_unsafe_block_calls()\n",
    "const_calls = utils.load_const_calls()\n",
    "unsafe_blocks = utils.load_unsafe_blocks()\n",
    "traits = utils.load_selected_traits()\n",
    "traits_impls = utils.load_selected_impl_definitions()\n",
    "type_defs = utils.load_selected_type_defs()\n",
    "adts = utils.load_selected_adts()\n",
    "adt_field_types = utils.load_selected_adt_field_types()\n",
    "selected_builds = utils.load_selected_builds()"
   ]
  },
  {
   "cell_type": "code",
   "execution_count": 3,
   "metadata": {},
   "outputs": [],
   "source": [
    "# Cleanup: remove duplicates\n",
    "raw_function_unsafe_reasons = raw_function_unsafe_reasons.drop_duplicates()\n",
    "\n",
    "# Remove functions that are not in function_definitions\n",
    "raw_function_unsafe_reasons = raw_function_unsafe_reasons[\n",
    "    raw_function_unsafe_reasons.def_path.isin(set(function_definitions.def_path.unique()))\n",
    "]\n",
    "\n",
    "possible_unsafe_reasons = [\n",
    "    \"call to unsafe function\",\n",
    "    \"use of inline assembly\",\n",
    "    \"initializing type with `rustc_layout_scalar_valid_range` attr\",\n",
    "    \"cast of pointer to int\",\n",
    "    \"pointer operation\",\n",
    "    \"borrow of packed field\",\n",
    "    \"use of mutable static\",\n",
    "    \"use of extern static\",\n",
    "    \"dereference of raw pointer\",\n",
    "    \"assignment to non-`Copy` union field\",\n",
    "    \"access to union field\",\n",
    "    \"mutation of layout constrained field\",\n",
    "    \"borrow of layout constrained field with interior mutability\",\n",
    "]\n",
    "\n",
    "# Map reasons -> number\n",
    "function_unsafe_reasons = raw_function_unsafe_reasons[\n",
    "    [\"crate_name\", \"crate_hash\", \"def_path\", \"unsafe_reason\"]\n",
    "].groupby(\"def_path\").agg(frozenset).rename(\n",
    "    columns={'unsafe_reason': 'unsafe_reasons'}\n",
    ")\n",
    "\n",
    "function_unsafe_reasons[\"unsafe_reasons_vec\"] = function_unsafe_reasons.unsafe_reasons.map(\n",
    "    lambda x: [reason in x for reason in possible_unsafe_reasons]\n",
    ")\n",
    "function_unsafe_reasons[\"num_unsafe_reasons\"] = function_unsafe_reasons.unsafe_reasons_vec.map(sum)\n",
    "\n",
    "for reason in possible_unsafe_reasons:\n",
    "    function_unsafe_reasons[reason] = function_unsafe_reasons.unsafe_reasons.map(\n",
    "        lambda x: reason in x\n",
    "    )\n",
    "\n",
    "# Augment const calls made from unsafe blocks\n",
    "unsafe_block_const_calls = unsafe_block_calls.join(\n",
    "    const_calls.set_index(\"call\"),\n",
    "    on=\"call\",\n",
    "    how=\"inner\",\n",
    "    rsuffix=\"_defsite\",\n",
    ")\n",
    "# Rename confusing columns\n",
    "unsafe_block_const_calls.rename(\n",
    "    columns={\"crate_name\": \"crate_callsite\", \"crate\": \"crate_defsite\"},\n",
    "    inplace=True\n",
    ")\n",
    "const_calls.rename(\n",
    "    columns={\"crate_name\": \"crate_callsite\", \"crate\": \"crate_defsite\"},\n",
    "    inplace=True\n",
    ")\n",
    "\n",
    "# Preprocessing\n",
    "crates = pd.DataFrame({\n",
    "    \"crate\": selected_builds.crate,\n",
    "    \"crate_hash\": selected_builds.crate_hash,\n",
    "    \"package\": selected_builds.package.map(lambda x: str(x).lower().replace(\"-\", \"_\")),\n",
    "})\n",
    "user_written_unsafe_blocks = unsafe_blocks[unsafe_blocks.check_mode == \"UnsafeBlockUserProvided\"]\n",
    "unsafe_function_definitions = function_definitions[function_definitions.unsafety == \"Unsafe\"]\n",
    "unsafe_traits = traits[traits.unsafety == \"Unsafe\"]\n",
    "unsafe_traits_impls = traits_impls[traits_impls.unsafety == \"Unsafe\"]"
   ]
  },
  {
   "cell_type": "code",
   "execution_count": 4,
   "metadata": {},
   "outputs": [],
   "source": [
    "# Whitelists\n",
    "# 250\n",
    "function_definitions_250_set = set([\n",
    "    x\n",
    "    for x in function_definitions.crate\n",
    "    if x in sorted_crates[:250]\n",
    "])\n",
    "function_definitions_250 = function_definitions[\n",
    "    function_definitions.crate.isin(function_definitions_250_set)\n",
    "]\n",
    "all_function_names_250 = set(function_definitions_250.def_path.unique())\n",
    "unchecked_function_names_250 = get_unchecked_function_names(all_function_names_250)\n",
    "unguarded_function_names_250 = get_unguarded_function_names(all_function_names_250)\n",
    "\n",
    "# 500\n",
    "function_definitions_500_set = set([\n",
    "    x\n",
    "    for x in function_definitions.crate\n",
    "    if x in sorted_crates[:500]\n",
    "])\n",
    "function_definitions_500 = function_definitions[\n",
    "    function_definitions.crate.isin(function_definitions_500_set)\n",
    "]\n",
    "all_function_names_500 = set(function_definitions_500.def_path.unique())\n",
    "unchecked_function_names_500 = get_unchecked_function_names(all_function_names_500)\n",
    "unguarded_function_names_500 = get_unguarded_function_names(all_function_names_500)\n",
    "\n",
    "# 1000\n",
    "function_definitions_1000_set = set([\n",
    "    x\n",
    "    for x in function_definitions.crate\n",
    "    if x in sorted_crates[:1000]\n",
    "])\n",
    "function_definitions_1000 = function_definitions[\n",
    "    function_definitions.crate.isin(function_definitions_1000_set)\n",
    "]\n",
    "all_function_names_1000 = set(function_definitions_1000.def_path.unique())\n",
    "unchecked_function_names_1000 = get_unchecked_function_names(all_function_names_1000)\n",
    "unguarded_function_names_1000 = get_unguarded_function_names(all_function_names_1000)\n",
    "\n",
    "all_function_names = set(function_definitions.def_path.unique())\n",
    "unchecked_function_names = get_unchecked_function_names(all_function_names)\n",
    "unguarded_function_names = get_unguarded_function_names(all_function_names)"
   ]
  },
  {
   "cell_type": "code",
   "execution_count": 5,
   "metadata": {},
   "outputs": [],
   "source": [
    "# Calls\n",
    "all_calls = utils.load_all_calls()\n",
    "unsafe_calls = all_calls.query(\"unsafety != 'Normal'\")\n",
    "assert len(pd.unique(unsafe_calls.unsafety)) == 1\n",
    "\n",
    "# 250\n",
    "#all_calls_250_set = set([\n",
    "#    x\n",
    "#    for x in all_calls.crate\n",
    "#    if x in sorted_crates[:250]\n",
    "#])\n",
    "#all_calls_250 = all_calls[\n",
    "#    all_calls.crate.isin(all_calls_250_set)\n",
    "#]\n",
    "#unsafe_calls_250 = all_calls_250.query(\"unsafety != 'Normal'\")\n",
    "#assert len(pd.unique(unsafe_calls_250.unsafety)) == 1"
   ]
  },
  {
   "cell_type": "code",
   "execution_count": 6,
   "metadata": {},
   "outputs": [],
   "source": [
    "# Top X Crates\n",
    "def norm(x):\n",
    "    return x.lower().replace(\"-\", \"_\")\n",
    "\n",
    "top_250_compiling_crates = set(map(norm, sorted_crates[:250])) & set(map(norm, selected_builds.package.unique()))\n",
    "top_250_crates_set = set(sorted_crates[:250])\n",
    "top_250_mask = selected_builds.package.map(lambda x: x.replace(\"-\", \"_\") in top_250_crates_set)\n",
    "top_250_builds = selected_builds[top_250_mask][\n",
    "    ~selected_builds[top_250_mask][\"package\"].duplicated()\n",
    "]\n",
    "top_500_compiling_crates = set(map(norm, sorted_crates[:500])) & set(map(norm, selected_builds.package.unique()))\n",
    "top_500_crates_set = set(sorted_crates[:500])\n",
    "top_500_mask = selected_builds.package.map(lambda x: x.replace(\"-\", \"_\") in top_500_crates_set)\n",
    "top_500_builds = selected_builds[top_500_mask][\n",
    "    ~selected_builds[top_500_mask][\"package\"].duplicated()\n",
    "]\n",
    "top_1000_compiling_crates = set(map(norm, sorted_crates[:1000])) & set(map(norm, selected_builds.package.unique()))\n",
    "top_1000_crates_set = set(sorted_crates[:1000])\n",
    "top_1000_mask = selected_builds.package.map(lambda x: x.replace(\"-\", \"_\") in top_1000_crates_set)\n",
    "top_1000_builds = selected_builds[top_1000_mask][\n",
    "    ~selected_builds[top_1000_mask][\"package\"].duplicated()\n",
    "]"
   ]
  },
  {
   "cell_type": "code",
   "execution_count": 7,
   "metadata": {},
   "outputs": [
    {
     "name": "stdout",
     "output_type": "stream",
     "text": [
      "Number of compiling crates in top 250:\t 248\n",
      "Number of builds in top 250:\t\t 146\n",
      "Number of expected crates in top 250:\t 250\n"
     ]
    }
   ],
   "source": [
    "print(\"Number of compiling crates in top 250:\\t\", len(top_250_compiling_crates))\n",
    "print(\"Number of builds in top 250:\\t\\t\", len(top_250_builds))\n",
    "print(\"Number of expected crates in top 250:\\t\", len(sorted_crates[:250]))"
   ]
  },
  {
   "cell_type": "code",
   "execution_count": 8,
   "metadata": {},
   "outputs": [
    {
     "name": "stdout",
     "output_type": "stream",
     "text": [
      "Number of compiling crates in top 500:\t 480\n",
      "Number of builds in top 500:\t\t 289\n",
      "Number of expected crates in top 500:\t 500\n"
     ]
    }
   ],
   "source": [
    "print(\"Number of compiling crates in top 500:\\t\", len(top_500_compiling_crates))\n",
    "print(\"Number of builds in top 500:\\t\\t\", len(top_500_builds))\n",
    "print(\"Number of expected crates in top 500:\\t\", len(sorted_crates[:500]))"
   ]
  },
  {
   "cell_type": "code",
   "execution_count": 9,
   "metadata": {},
   "outputs": [
    {
     "name": "stdout",
     "output_type": "stream",
     "text": [
      "Number of compiling crates in top 1000:\t 488\n",
      "Number of builds in top 1000:\t\t 295\n",
      "Number of expected crates in top 1000:\t 1000\n"
     ]
    }
   ],
   "source": [
    "print(\"Number of compiling crates in top 1000:\\t\", len(top_1000_compiling_crates))\n",
    "print(\"Number of builds in top 1000:\\t\\t\", len(top_1000_builds))\n",
    "print(\"Number of expected crates in top 1000:\\t\", len(sorted_crates[:1000]))"
   ]
  },
  {
   "cell_type": "code",
   "execution_count": 10,
   "metadata": {},
   "outputs": [
    {
     "name": "stdout",
     "output_type": "stream",
     "text": [
      "Number of selected builds:\t 510\n",
      "Number of crates total:\t\t 510\n"
     ]
    }
   ],
   "source": [
    "print(\"Number of selected builds:\\t\", len(selected_builds))\n",
    "print(\"Number of crates total:\\t\\t\", len(crates))"
   ]
  },
  {
   "cell_type": "code",
   "execution_count": 11,
   "metadata": {},
   "outputs": [
    {
     "name": "stdout",
     "output_type": "stream",
     "text": [
      "4257\n",
      "7335\n",
      "7496\n",
      "11333\n"
     ]
    }
   ],
   "source": [
    "# Unsafe Blocks\n",
    "unsafe_blocks_250_set = set([\n",
    "    x\n",
    "    for x in unsafe_blocks.crate\n",
    "    if x in sorted_crates[:250]\n",
    "])\n",
    "unsafe_blocks_250 = unsafe_blocks[\n",
    "    unsafe_blocks.crate.isin(unsafe_blocks_250_set)\n",
    "]\n",
    "\n",
    "unsafe_blocks_500_set = set([\n",
    "    x\n",
    "    for x in unsafe_blocks.crate\n",
    "    if x in sorted_crates[:500]\n",
    "])\n",
    "unsafe_blocks_500 = unsafe_blocks[\n",
    "    unsafe_blocks.crate.isin(unsafe_blocks_500_set)\n",
    "]\n",
    "\n",
    "unsafe_blocks_1000_set = set([\n",
    "    x\n",
    "    for x in unsafe_blocks.crate\n",
    "    if x in sorted_crates[:1000]\n",
    "])\n",
    "unsafe_blocks_1000 = unsafe_blocks[\n",
    "    unsafe_blocks.crate.isin(unsafe_blocks_1000_set)\n",
    "]\n",
    "\n",
    "print(len(unsafe_blocks_250))\n",
    "print(len(unsafe_blocks_500))\n",
    "print(len(unsafe_blocks_1000))\n",
    "print(len(unsafe_blocks))"
   ]
  },
  {
   "cell_type": "code",
   "execution_count": 12,
   "metadata": {},
   "outputs": [
    {
     "name": "stdout",
     "output_type": "stream",
     "text": [
      "2996\n",
      "4460\n",
      "4576\n",
      "7331\n"
     ]
    }
   ],
   "source": [
    "# User Written Unsafe Blocks\n",
    "user_written_unsafe_blocks_250_set = set([\n",
    "    x\n",
    "    for x in user_written_unsafe_blocks.crate\n",
    "    if x in sorted_crates[:250]\n",
    "])\n",
    "user_written_unsafe_blocks_250 = user_written_unsafe_blocks[\n",
    "    user_written_unsafe_blocks.crate.isin(user_written_unsafe_blocks_250_set)\n",
    "]\n",
    "\n",
    "user_written_unsafe_blocks_500_set = set([\n",
    "    x\n",
    "    for x in user_written_unsafe_blocks.crate\n",
    "    if x in sorted_crates[:500]\n",
    "])\n",
    "user_written_unsafe_blocks_500 = user_written_unsafe_blocks[\n",
    "    user_written_unsafe_blocks.crate.isin(user_written_unsafe_blocks_500_set)\n",
    "]\n",
    "\n",
    "user_written_unsafe_blocks_1000_set = set([\n",
    "    x\n",
    "    for x in user_written_unsafe_blocks.crate\n",
    "    if x in sorted_crates[:1000]\n",
    "])\n",
    "user_written_unsafe_blocks_1000 = user_written_unsafe_blocks[\n",
    "    user_written_unsafe_blocks.crate.isin(user_written_unsafe_blocks_1000_set)\n",
    "]\n",
    "\n",
    "print(len(user_written_unsafe_blocks_250))\n",
    "print(len(user_written_unsafe_blocks_500))\n",
    "print(len(user_written_unsafe_blocks_1000))\n",
    "print(len(user_written_unsafe_blocks))"
   ]
  },
  {
   "cell_type": "code",
   "execution_count": 13,
   "metadata": {},
   "outputs": [
    {
     "name": "stdout",
     "output_type": "stream",
     "text": [
      "1676\n",
      "2145\n",
      "2146\n",
      "6353\n"
     ]
    }
   ],
   "source": [
    "# Unsafe Function Definitions\n",
    "unsafe_function_definitions_250_set = set([\n",
    "    x\n",
    "    for x in unsafe_function_definitions.crate\n",
    "    if x in sorted_crates[:250]\n",
    "])\n",
    "unsafe_function_definitions_250 = unsafe_function_definitions[\n",
    "    unsafe_function_definitions.crate.isin(unsafe_function_definitions_250_set)\n",
    "]\n",
    "\n",
    "unsafe_function_definitions_500_set = set([\n",
    "    x\n",
    "    for x in unsafe_function_definitions.crate\n",
    "    if x in sorted_crates[:500]\n",
    "])\n",
    "unsafe_function_definitions_500 = unsafe_function_definitions[\n",
    "    unsafe_function_definitions.crate.isin(unsafe_function_definitions_500_set)\n",
    "]\n",
    "\n",
    "unsafe_function_definitions_1000_set = set([\n",
    "    x\n",
    "    for x in unsafe_function_definitions.crate\n",
    "    if x in sorted_crates[:1000]\n",
    "])\n",
    "unsafe_function_definitions_1000 = unsafe_function_definitions[\n",
    "    unsafe_function_definitions.crate.isin(unsafe_function_definitions_1000_set)\n",
    "]\n",
    "\n",
    "print(len(unsafe_function_definitions_250))\n",
    "print(len(unsafe_function_definitions_500))\n",
    "print(len(unsafe_function_definitions_1000))\n",
    "print(len(unsafe_function_definitions))"
   ]
  },
  {
   "cell_type": "code",
   "execution_count": 14,
   "metadata": {},
   "outputs": [
    {
     "name": "stdout",
     "output_type": "stream",
     "text": [
      "33\n",
      "41\n",
      "41\n",
      "64\n"
     ]
    }
   ],
   "source": [
    "# Unsafe Traits\n",
    "unsafe_traits_250_set = set([\n",
    "    x\n",
    "    for x in unsafe_traits.crate\n",
    "    if x in sorted_crates[:250]\n",
    "])\n",
    "unsafe_traits_250 = unsafe_traits[\n",
    "    unsafe_traits.crate.isin(unsafe_traits_250_set)\n",
    "]\n",
    "\n",
    "unsafe_traits_500_set = set([\n",
    "    x\n",
    "    for x in unsafe_traits.crate\n",
    "    if x in sorted_crates[:500]\n",
    "])\n",
    "unsafe_traits_500 = unsafe_traits[\n",
    "    unsafe_traits.crate.isin(unsafe_traits_500_set)\n",
    "]\n",
    "\n",
    "unsafe_traits_1000_set = set([\n",
    "    x\n",
    "    for x in unsafe_traits.crate\n",
    "    if x in sorted_crates[:1000]\n",
    "])\n",
    "unsafe_traits_1000 = unsafe_traits[\n",
    "    unsafe_traits.crate.isin(unsafe_traits_1000_set)\n",
    "]\n",
    "\n",
    "print(len(unsafe_traits_250))\n",
    "print(len(unsafe_traits_500))\n",
    "print(len(unsafe_traits_1000))\n",
    "print(len(unsafe_traits))"
   ]
  },
  {
   "cell_type": "code",
   "execution_count": 15,
   "metadata": {},
   "outputs": [
    {
     "name": "stdout",
     "output_type": "stream",
     "text": [
      "732\n",
      "937\n",
      "939\n",
      "1431\n"
     ]
    }
   ],
   "source": [
    "# Unsafe Trait Implementations\n",
    "unsafe_traits_impls_250_set = set([\n",
    "    x\n",
    "    for x in unsafe_traits_impls.crate\n",
    "    if x in sorted_crates[:250]\n",
    "])\n",
    "unsafe_traits_impls_250 = unsafe_traits_impls[\n",
    "    unsafe_traits_impls.crate.isin(unsafe_traits_impls_250_set)\n",
    "]\n",
    "\n",
    "unsafe_traits_impls_500_set = set([\n",
    "    x\n",
    "    for x in unsafe_traits_impls.crate\n",
    "    if x in sorted_crates[:500]\n",
    "])\n",
    "unsafe_traits_impls_500 = unsafe_traits_impls[\n",
    "    unsafe_traits_impls.crate.isin(unsafe_traits_impls_500_set)\n",
    "]\n",
    "\n",
    "unsafe_traits_impls_1000_set = set([\n",
    "    x\n",
    "    for x in unsafe_traits_impls.crate\n",
    "    if x in sorted_crates[:1000]\n",
    "])\n",
    "unsafe_traits_impls_1000 = unsafe_traits_impls[\n",
    "    unsafe_traits_impls.crate.isin(unsafe_traits_impls_1000_set)\n",
    "]\n",
    "\n",
    "print(len(unsafe_traits_impls_250))\n",
    "print(len(unsafe_traits_impls_500))\n",
    "print(len(unsafe_traits_impls_1000))\n",
    "print(len(unsafe_traits_impls))"
   ]
  },
  {
   "cell_type": "code",
   "execution_count": 16,
   "metadata": {},
   "outputs": [
    {
     "name": "stdout",
     "output_type": "stream",
     "text": [
      "2860\n",
      "5817\n",
      "5829\n",
      "27736\n"
     ]
    }
   ],
   "source": [
    "# Const Calls\n",
    "const_calls_250_set = set([\n",
    "    x\n",
    "    for x in const_calls.crate_defsite\n",
    "    if x in sorted_crates[:250]\n",
    "])\n",
    "const_calls_250 = const_calls[\n",
    "    const_calls.crate_defsite.isin(const_calls_250_set)\n",
    "]\n",
    "\n",
    "const_calls_500_set = set([\n",
    "    x\n",
    "    for x in const_calls.crate_defsite\n",
    "    if x in sorted_crates[:500]\n",
    "])\n",
    "const_calls_500 = const_calls[\n",
    "    const_calls.crate_defsite.isin(const_calls_500_set)\n",
    "]\n",
    "\n",
    "const_calls_1000_set = set([\n",
    "    x\n",
    "    for x in const_calls.crate_defsite\n",
    "    if x in sorted_crates[:1000]\n",
    "])\n",
    "const_calls_1000 = const_calls[\n",
    "    const_calls.crate_defsite.isin(const_calls_1000_set)\n",
    "]\n",
    "\n",
    "print(len(const_calls_250))\n",
    "print(len(const_calls_500))\n",
    "print(len(const_calls_1000))\n",
    "print(len(const_calls))"
   ]
  },
  {
   "cell_type": "code",
   "execution_count": 17,
   "metadata": {},
   "outputs": [
    {
     "name": "stdout",
     "output_type": "stream",
     "text": [
      "2860\n",
      "5817\n",
      "5829\n",
      "27736\n"
     ]
    }
   ],
   "source": [
    "# Unsafe Block Const Calls\n",
    "unsafe_block_const_calls_250_set = set([\n",
    "    x\n",
    "    for x in unsafe_block_const_calls.crate_defsite\n",
    "    if x in sorted_crates[:250]\n",
    "])\n",
    "unsafe_block_const_calls_250 = unsafe_block_const_calls[\n",
    "    unsafe_block_const_calls.crate_defsite.isin(unsafe_block_const_calls_250_set)\n",
    "]\n",
    "\n",
    "unsafe_block_const_calls_500_set = set([\n",
    "    x\n",
    "    for x in unsafe_block_const_calls.crate_defsite\n",
    "    if x in sorted_crates[:500]\n",
    "])\n",
    "unsafe_block_const_calls_500 = unsafe_block_const_calls[\n",
    "    unsafe_block_const_calls.crate_defsite.isin(unsafe_block_const_calls_500_set)\n",
    "]\n",
    "\n",
    "unsafe_block_const_calls_1000_set = set([\n",
    "    x\n",
    "    for x in unsafe_block_const_calls.crate_defsite\n",
    "    if x in sorted_crates[:1000]\n",
    "])\n",
    "unsafe_block_const_calls_1000 = unsafe_block_const_calls[\n",
    "    unsafe_block_const_calls.crate_defsite.isin(unsafe_block_const_calls_1000_set)\n",
    "]\n",
    "\n",
    "print(len(unsafe_block_const_calls_250))\n",
    "print(len(unsafe_block_const_calls_500))\n",
    "print(len(unsafe_block_const_calls_1000))\n",
    "print(len(unsafe_block_const_calls))"
   ]
  },
  {
   "cell_type": "code",
   "execution_count": 18,
   "metadata": {},
   "outputs": [
    {
     "name": "stdout",
     "output_type": "stream",
     "text": [
      "ForeignItem    875\n",
      "Rust           754\n",
      "C               47\n",
      "Name: abi, dtype: int64\n",
      "ForeignItem    52.207637\n",
      "Rust           44.988067\n",
      "C               2.804296\n",
      "Name: abi, dtype: float64\n",
      "Unsafe function definitions: 1676\n"
     ]
    },
    {
     "data": {
      "image/png": "[encoded data removed]",
      "text/plain": [
       "<Figure size 1080x576 with 1 Axes>"
      ]
     },
     "metadata": {},
     "output_type": "display_data"
    }
   ],
   "source": [
    "# Frequency of abi DEFINITIONS - top 250\n",
    "values = unsafe_function_definitions_250.abi.value_counts()\n",
    "print(values)\n",
    "print(values / len(unsafe_function_definitions_250) * 100)\n",
    "print(\"Unsafe function definitions:\", len(unsafe_function_definitions_250))\n",
    "values.plot.pie()\n",
    "del values"
   ]
  },
  {
   "cell_type": "code",
   "execution_count": 19,
   "metadata": {},
   "outputs": [
    {
     "name": "stdout",
     "output_type": "stream",
     "text": [
      "Rust           1160\n",
      "ForeignItem     907\n",
      "C                78\n",
      "Name: abi, dtype: int64\n",
      "Rust           54.079254\n",
      "ForeignItem    42.284382\n",
      "C               3.636364\n",
      "Name: abi, dtype: float64\n",
      "Unsafe function definitions: 2145\n"
     ]
    },
    {
     "data": {
      "image/png": "[encoded data removed]",
      "text/plain": [
       "<Figure size 1080x576 with 1 Axes>"
      ]
     },
     "metadata": {},
     "output_type": "display_data"
    }
   ],
   "source": [
    "# Frequency of abi DEFINITIONS - top 500\n",
    "values = unsafe_function_definitions_500.abi.value_counts()\n",
    "print(values)\n",
    "print(values / len(unsafe_function_definitions_500) * 100)\n",
    "print(\"Unsafe function definitions:\", len(unsafe_function_definitions_500))\n",
    "values.plot.pie()\n",
    "del values"
   ]
  },
  {
   "cell_type": "code",
   "execution_count": 20,
   "metadata": {},
   "outputs": [
    {
     "name": "stdout",
     "output_type": "stream",
     "text": [
      "Rust           1161\n",
      "ForeignItem     907\n",
      "C                78\n",
      "Name: abi, dtype: int64\n",
      "Rust           54.100652\n",
      "ForeignItem    42.264678\n",
      "C               3.634669\n",
      "Name: abi, dtype: float64\n",
      "Unsafe function definitions: 2146\n"
     ]
    },
    {
     "data": {
      "image/png": "[encoded data removed]",
      "text/plain": [
       "<Figure size 1080x576 with 1 Axes>"
      ]
     },
     "metadata": {},
     "output_type": "display_data"
    }
   ],
   "source": [
    "# Frequency of abi DEFINITIONS - top 1000\n",
    "values = unsafe_function_definitions_1000.abi.value_counts()\n",
    "print(values)\n",
    "print(values / len(unsafe_function_definitions_1000) * 100)\n",
    "print(\"Unsafe function definitions:\", len(unsafe_function_definitions_1000))\n",
    "values.plot.pie()\n",
    "del values"
   ]
  },
  {
   "cell_type": "code",
   "execution_count": 21,
   "metadata": {},
   "outputs": [
    {
     "name": "stdout",
     "output_type": "stream",
     "text": [
      "ForeignItem    3478\n",
      "Rust           2699\n",
      "C               176\n",
      "Name: abi, dtype: int64\n",
      "ForeignItem    54.745789\n",
      "Rust           42.483866\n",
      "C               2.770345\n",
      "Name: abi, dtype: float64\n",
      "Unsafe function definitions: 6353\n"
     ]
    },
    {
     "data": {
      "image/png": "[encoded data removed]",
      "text/plain": [
       "<Figure size 1080x576 with 1 Axes>"
      ]
     },
     "metadata": {},
     "output_type": "display_data"
    }
   ],
   "source": [
    "# Frequency of abi DEFINITIONS - ALL\n",
    "values = unsafe_function_definitions.abi.value_counts()\n",
    "print(values)\n",
    "print(values / len(unsafe_function_definitions) * 100)\n",
    "print(\"Unsafe function definitions:\", len(unsafe_function_definitions))\n",
    "values.plot.pie()\n",
    "del values"
   ]
  },
  {
   "cell_type": "code",
   "execution_count": 22,
   "metadata": {},
   "outputs": [
    {
     "name": "stdout",
     "output_type": "stream",
     "text": [
      "Number of crates that define unsafe Rust functions:\t 54\n",
      "Names and counts of 20 crates with most defined unsafe Rust functions:\n",
      "\n",
      "tokio               84\n",
      "openssl             80\n",
      "nix                 79\n",
      "cloudabi            66\n",
      "wasi                45\n",
      "hashbrown           34\n",
      "bytes               33\n",
      "parking_lot         27\n",
      "memchr              26\n",
      "hyper               25\n",
      "lock_api            23\n",
      "parking_lot_core    21\n",
      "encoding_rs         20\n",
      "rand_chacha         18\n",
      "dtoa                14\n",
      "anyhow              11\n",
      "httparse            11\n",
      "ryu                  9\n",
      "backtrace            9\n",
      "smallvec             9\n",
      "Name: crate, dtype: int64\n"
     ]
    }
   ],
   "source": [
    "# Which crates define unsafe Rust functions? - top 250\n",
    "def_unsafe_rust_funcs_250 = unsafe_function_definitions_250[\n",
    "    unsafe_function_definitions_250.abi == \"Rust\"\n",
    "]\n",
    "\n",
    "values = def_unsafe_rust_funcs_250.crate.value_counts()\n",
    "\n",
    "print(\"Number of crates that define unsafe Rust functions:\\t\", len(values))\n",
    "print(\"Names and counts of 20 crates with most defined unsafe Rust functions:\")\n",
    "print()\n",
    "print(values[:20])\n",
    "del values"
   ]
  },
  {
   "cell_type": "code",
   "execution_count": 23,
   "metadata": {},
   "outputs": [
    {
     "name": "stdout",
     "output_type": "stream",
     "text": [
      "Number of crates that define unsafe Rust functions:\t 88\n",
      "Names and counts of 20 crates with most defined unsafe Rust functions:\n",
      "\n",
      "git2                108\n",
      "tokio                84\n",
      "openssl              80\n",
      "nix                  79\n",
      "blake2b_simd         77\n",
      "cloudabi             66\n",
      "wasi                 45\n",
      "tendril              40\n",
      "widestring           38\n",
      "hashbrown            34\n",
      "bytes                33\n",
      "ascii                33\n",
      "parking_lot          27\n",
      "memchr               26\n",
      "hyper                25\n",
      "lock_api             23\n",
      "parking_lot_core     21\n",
      "encoding_rs          20\n",
      "rand_chacha          18\n",
      "bumpalo              16\n",
      "Name: crate, dtype: int64\n"
     ]
    }
   ],
   "source": [
    "# Which crates define unsafe Rust functions? - top 500\n",
    "def_unsafe_rust_funcs_500 = unsafe_function_definitions_500[\n",
    "    unsafe_function_definitions_500.abi == \"Rust\"\n",
    "]\n",
    "\n",
    "values = def_unsafe_rust_funcs_500.crate.value_counts()\n",
    "\n",
    "print(\"Number of crates that define unsafe Rust functions:\\t\", len(values))\n",
    "print(\"Names and counts of 20 crates with most defined unsafe Rust functions:\")\n",
    "print()\n",
    "print(values[:20])\n",
    "del values"
   ]
  },
  {
   "cell_type": "code",
   "execution_count": 24,
   "metadata": {},
   "outputs": [
    {
     "name": "stdout",
     "output_type": "stream",
     "text": [
      "Number of crates that define unsafe Rust functions:\t 89\n",
      "Names and counts of 20 crates with most defined unsafe Rust functions:\n",
      "\n",
      "git2                108\n",
      "tokio                84\n",
      "openssl              80\n",
      "nix                  79\n",
      "blake2b_simd         77\n",
      "cloudabi             66\n",
      "wasi                 45\n",
      "tendril              40\n",
      "widestring           38\n",
      "hashbrown            34\n",
      "ascii                33\n",
      "bytes                33\n",
      "parking_lot          27\n",
      "memchr               26\n",
      "hyper                25\n",
      "lock_api             23\n",
      "parking_lot_core     21\n",
      "encoding_rs          20\n",
      "rand_chacha          18\n",
      "bumpalo              16\n",
      "Name: crate, dtype: int64\n"
     ]
    }
   ],
   "source": [
    "# Which crates define unsafe Rust functions? - top 1000\n",
    "def_unsafe_rust_funcs_1000 = unsafe_function_definitions_1000[\n",
    "    unsafe_function_definitions_1000.abi == \"Rust\"\n",
    "]\n",
    "\n",
    "values = def_unsafe_rust_funcs_1000.crate.value_counts()\n",
    "\n",
    "print(\"Number of crates that define unsafe Rust functions:\\t\", len(values))\n",
    "print(\"Names and counts of 20 crates with most defined unsafe Rust functions:\")\n",
    "print()\n",
    "print(values[:20])\n",
    "del values"
   ]
  },
  {
   "cell_type": "code",
   "execution_count": 25,
   "metadata": {},
   "outputs": [
    {
     "name": "stdout",
     "output_type": "stream",
     "text": [
      "Number of crates that define unsafe Rust functions:\t 146\n",
      "Names and counts of 20 crates with most defined unsafe Rust functions:\n",
      "\n",
      "js_sys             803\n",
      "futures_util       121\n",
      "git2               108\n",
      "tokio               84\n",
      "openssl             80\n",
      "nix                 79\n",
      "blake2b_simd        77\n",
      "wasm_bindgen        70\n",
      "cloudabi            66\n",
      "core_foundation     58\n",
      "wasi                45\n",
      "openssl_sys         42\n",
      "aho_corasick        41\n",
      "tendril             40\n",
      "hermit_abi          39\n",
      "widestring          38\n",
      "hashbrown           34\n",
      "bytes               33\n",
      "ascii               33\n",
      "rayon_core          33\n",
      "Name: crate, dtype: int64\n"
     ]
    }
   ],
   "source": [
    "# Which crates define unsafe Rust functions? - ALL\n",
    "def_unsafe_rust_funcs = unsafe_function_definitions[\n",
    "    unsafe_function_definitions.abi == \"Rust\"\n",
    "]\n",
    "\n",
    "values = def_unsafe_rust_funcs.crate.value_counts()\n",
    "\n",
    "print(\"Number of crates that define unsafe Rust functions:\\t\", len(values))\n",
    "print(\"Names and counts of 20 crates with most defined unsafe Rust functions:\")\n",
    "print()\n",
    "print(values[:20])\n",
    "del values"
   ]
  },
  {
   "cell_type": "code",
   "execution_count": 26,
   "metadata": {},
   "outputs": [
    {
     "name": "stdout",
     "output_type": "stream",
     "text": [
      "Number of crates that define C functions:\t 4\n",
      "Names and counts:\n",
      "\n",
      "libc         27\n",
      "openssl      18\n",
      "ring          1\n",
      "backtrace     1\n",
      "Name: crate, dtype: int64\n"
     ]
    }
   ],
   "source": [
    "# Which crates define C functions? - top 250\n",
    "def_c_funcs_250 = unsafe_function_definitions_250[\n",
    "    unsafe_function_definitions_250.abi == \"C\"\n",
    "]\n",
    "\n",
    "values = def_c_funcs_250.crate.value_counts()\n",
    "\n",
    "print(\"Number of crates that define C functions:\\t\", len(values))\n",
    "print(\"Names and counts:\")\n",
    "print()\n",
    "print(values)\n",
    "del values"
   ]
  },
  {
   "cell_type": "code",
   "execution_count": 27,
   "metadata": {},
   "outputs": [
    {
     "name": "stdout",
     "output_type": "stream",
     "text": [
      "Number of crates that define C functions:\t 5\n",
      "Names and counts:\n",
      "\n",
      "miniz_oxide_c_api    31\n",
      "libc                 27\n",
      "openssl              18\n",
      "ring                  1\n",
      "backtrace             1\n",
      "Name: crate, dtype: int64\n"
     ]
    }
   ],
   "source": [
    "# Which crates define C functions? - top 500\n",
    "def_c_funcs_500 = unsafe_function_definitions_500[\n",
    "    unsafe_function_definitions_500.abi == \"C\"\n",
    "]\n",
    "\n",
    "values = def_c_funcs_500.crate.value_counts()\n",
    "\n",
    "print(\"Number of crates that define C functions:\\t\", len(values))\n",
    "print(\"Names and counts:\")\n",
    "print()\n",
    "print(values)\n",
    "del values"
   ]
  },
  {
   "cell_type": "code",
   "execution_count": 28,
   "metadata": {},
   "outputs": [
    {
     "name": "stdout",
     "output_type": "stream",
     "text": [
      "Number of crates that define C functions:\t 5\n",
      "Names and counts:\n",
      "\n",
      "miniz_oxide_c_api    31\n",
      "libc                 27\n",
      "openssl              18\n",
      "ring                  1\n",
      "backtrace             1\n",
      "Name: crate, dtype: int64\n"
     ]
    }
   ],
   "source": [
    "# Which crates define C functions? - top 1000\n",
    "def_c_funcs_1000 = unsafe_function_definitions_1000[\n",
    "    unsafe_function_definitions_1000.abi == \"C\"\n",
    "]\n",
    "\n",
    "values = def_c_funcs_1000.crate.value_counts()\n",
    "\n",
    "print(\"Number of crates that define C functions:\\t\", len(values))\n",
    "print(\"Names and counts:\")\n",
    "print()\n",
    "print(values)\n",
    "del values"
   ]
  },
  {
   "cell_type": "code",
   "execution_count": 29,
   "metadata": {},
   "outputs": [
    {
     "name": "stdout",
     "output_type": "stream",
     "text": [
      "Number of crates that define C functions:\t 7\n",
      "Names and counts:\n",
      "\n",
      "wasm_bindgen          96\n",
      "miniz_oxide_c_api     31\n",
      "libc                  27\n",
      "openssl               18\n",
      "security_framework     2\n",
      "ring                   1\n",
      "backtrace              1\n",
      "Name: crate, dtype: int64\n"
     ]
    }
   ],
   "source": [
    "# Which crates define C functions? - ALL\n",
    "def_c_funcs = unsafe_function_definitions[\n",
    "    unsafe_function_definitions.abi == \"C\"\n",
    "]\n",
    "\n",
    "values = def_c_funcs.crate.value_counts()\n",
    "\n",
    "print(\"Number of crates that define C functions:\\t\", len(values))\n",
    "print(\"Names and counts:\")\n",
    "print()\n",
    "print(values)\n",
    "del values"
   ]
  },
  {
   "cell_type": "code",
   "execution_count": 30,
   "metadata": {},
   "outputs": [
    {
     "name": "stdout",
     "output_type": "stream",
     "text": [
      "Number of crates that define Foreign Items:\t 6\n",
      "Names and counts of 20 crates with most defined Foreign Items:\n",
      "\n",
      "libc         702\n",
      "ring          74\n",
      "cloudabi      49\n",
      "wasi          45\n",
      "backtrace      4\n",
      "time           1\n",
      "Name: crate, dtype: int64\n"
     ]
    }
   ],
   "source": [
    "# Which crates define Foreign Items? - top 250\n",
    "def_fi_funcs_250 = unsafe_function_definitions_250[\n",
    "    unsafe_function_definitions_250.abi == \"ForeignItem\"\n",
    "]\n",
    "\n",
    "values = def_fi_funcs_250.crate.value_counts()\n",
    "\n",
    "print(\"Number of crates that define Foreign Items:\\t\", len(values))\n",
    "print(\"Names and counts of 20 crates with most defined Foreign Items:\")\n",
    "print()\n",
    "print(values[:20])\n",
    "del values"
   ]
  },
  {
   "cell_type": "code",
   "execution_count": 31,
   "metadata": {},
   "outputs": [
    {
     "name": "stdout",
     "output_type": "stream",
     "text": [
      "Number of crates that define Foreign Items:\t 12\n",
      "Names and counts of 20 crates with most defined Foreign Items:\n",
      "\n",
      "libc          702\n",
      "ring           74\n",
      "cloudabi       49\n",
      "wasi           45\n",
      "termios        13\n",
      "xattr           8\n",
      "libloading      5\n",
      "backtrace       4\n",
      "termion         3\n",
      "errno           2\n",
      "term_size       1\n",
      "time            1\n",
      "Name: crate, dtype: int64\n"
     ]
    }
   ],
   "source": [
    "# Which crates define Foreign Items? - top 500\n",
    "def_fi_funcs_500 = unsafe_function_definitions_500[\n",
    "    unsafe_function_definitions_500.abi == \"ForeignItem\"\n",
    "]\n",
    "\n",
    "values = def_fi_funcs_500.crate.value_counts()\n",
    "\n",
    "print(\"Number of crates that define Foreign Items:\\t\", len(values))\n",
    "print(\"Names and counts of 20 crates with most defined Foreign Items:\")\n",
    "print()\n",
    "print(values[:20])\n",
    "del values"
   ]
  },
  {
   "cell_type": "code",
   "execution_count": 32,
   "metadata": {},
   "outputs": [
    {
     "name": "stdout",
     "output_type": "stream",
     "text": [
      "Number of crates that define Foreign Items:\t 12\n",
      "Names and counts of 20 crates with most defined Foreign Items:\n",
      "\n",
      "libc          702\n",
      "ring           74\n",
      "cloudabi       49\n",
      "wasi           45\n",
      "termios        13\n",
      "xattr           8\n",
      "libloading      5\n",
      "backtrace       4\n",
      "termion         3\n",
      "errno           2\n",
      "term_size       1\n",
      "time            1\n",
      "Name: crate, dtype: int64\n"
     ]
    }
   ],
   "source": [
    "# Which crates define Foreign Items? - top 1000\n",
    "def_fi_funcs_1000 = unsafe_function_definitions_1000[\n",
    "    unsafe_function_definitions_1000.abi == \"ForeignItem\"\n",
    "]\n",
    "\n",
    "values = def_fi_funcs_1000.crate.value_counts()\n",
    "\n",
    "print(\"Number of crates that define Foreign Items:\\t\", len(values))\n",
    "print(\"Names and counts of 20 crates with most defined Foreign Items:\")\n",
    "print()\n",
    "print(values[:20])\n",
    "del values"
   ]
  },
  {
   "cell_type": "code",
   "execution_count": 33,
   "metadata": {},
   "outputs": [
    {
     "name": "stdout",
     "output_type": "stream",
     "text": [
      "Number of crates that define Foreign Items:\t 31\n",
      "Names and counts of 20 crates with most defined Foreign Items:\n",
      "\n",
      "openssl_sys               733\n",
      "libc                      702\n",
      "libgit2_sys               593\n",
      "clang_sys                 288\n",
      "core_foundation_sys       230\n",
      "libsqlite3_sys            174\n",
      "fuchsia_zircon_sys        139\n",
      "libssh2_sys                96\n",
      "ring                       74\n",
      "security_framework_sys     57\n",
      "libz_sys                   56\n",
      "hermit_abi                 55\n",
      "lzma_sys                   52\n",
      "cloudabi                   49\n",
      "wasi                       45\n",
      "curl_sys                   44\n",
      "brotli_sys                 23\n",
      "termios                    13\n",
      "crypto                      9\n",
      "xattr                       8\n",
      "Name: crate, dtype: int64\n"
     ]
    }
   ],
   "source": [
    "# Which crates define Foreign Items? - ALL\n",
    "def_fi_funcs = unsafe_function_definitions[\n",
    "    unsafe_function_definitions.abi == \"ForeignItem\"\n",
    "]\n",
    "\n",
    "values = def_fi_funcs.crate.value_counts()\n",
    "\n",
    "print(\"Number of crates that define Foreign Items:\\t\", len(values))\n",
    "print(\"Names and counts of 20 crates with most defined Foreign Items:\")\n",
    "print()\n",
    "print(values[:20])\n",
    "del values"
   ]
  },
  {
   "cell_type": "code",
   "execution_count": 34,
   "metadata": {},
   "outputs": [
    {
     "name": "stdout",
     "output_type": "stream",
     "text": [
      "Rust    796\n",
      "C       561\n",
      "Name: abi, dtype: int64\n",
      "Rust    58.658806\n",
      "C       41.341194\n",
      "Name: abi, dtype: float64\n",
      "Unsafe calls: 1357\n"
     ]
    },
    {
     "data": {
      "image/png": "[encoded data removed]",
      "text/plain": [
       "<Figure size 1080x576 with 1 Axes>"
      ]
     },
     "metadata": {},
     "output_type": "display_data"
    }
   ],
   "source": [
    "# Frequency of abi CALLS - top 250\n",
    "unsafe_const_calls_250 = const_calls_250[\n",
    "    const_calls_250.unsafety == \"Unsafe\"\n",
    "]\n",
    "values = unsafe_const_calls_250.abi.value_counts()\n",
    "print(values)\n",
    "print(values / len(unsafe_const_calls_250) * 100)\n",
    "print(\"Unsafe calls:\", len(unsafe_const_calls_250))\n",
    "values.plot.pie()\n",
    "del values"
   ]
  },
  {
   "cell_type": "code",
   "execution_count": 35,
   "metadata": {},
   "outputs": [
    {
     "name": "stdout",
     "output_type": "stream",
     "text": [
      "Rust    1545\n",
      "C        587\n",
      "Name: abi, dtype: int64\n",
      "Rust    72.467167\n",
      "C       27.532833\n",
      "Name: abi, dtype: float64\n",
      "Unsafe calls: 2132\n"
     ]
    },
    {
     "data": {
      "image/png": "[encoded data removed]",
      "text/plain": [
       "<Figure size 1080x576 with 1 Axes>"
      ]
     },
     "metadata": {},
     "output_type": "display_data"
    }
   ],
   "source": [
    "# Frequency of abi CALLS - top 500\n",
    "unsafe_const_calls_500 = const_calls_500[\n",
    "    const_calls_500.unsafety == \"Unsafe\"\n",
    "]\n",
    "values = unsafe_const_calls_500.abi.value_counts()\n",
    "print(values)\n",
    "print(values / len(unsafe_const_calls_500) * 100)\n",
    "print(\"Unsafe calls:\", len(unsafe_const_calls_500))\n",
    "values.plot.pie()\n",
    "del values"
   ]
  },
  {
   "cell_type": "code",
   "execution_count": 36,
   "metadata": {},
   "outputs": [
    {
     "name": "stdout",
     "output_type": "stream",
     "text": [
      "Rust    1546\n",
      "C        587\n",
      "Name: abi, dtype: int64\n",
      "Rust    72.480075\n",
      "C       27.519925\n",
      "Name: abi, dtype: float64\n",
      "Unsafe calls: 2133\n"
     ]
    },
    {
     "data": {
      "image/png": "[encoded data removed]",
      "text/plain": [
       "<Figure size 1080x576 with 1 Axes>"
      ]
     },
     "metadata": {},
     "output_type": "display_data"
    }
   ],
   "source": [
    "# Frequency of abi CALLS - top 1000\n",
    "unsafe_const_calls_1000 = const_calls_1000[\n",
    "    const_calls_1000.unsafety == \"Unsafe\"\n",
    "]\n",
    "values = unsafe_const_calls_1000.abi.value_counts()\n",
    "print(values)\n",
    "print(values / len(unsafe_const_calls_1000) * 100)\n",
    "print(\"Unsafe calls:\", len(unsafe_const_calls_1000))\n",
    "values.plot.pie()\n",
    "del values"
   ]
  },
  {
   "cell_type": "code",
   "execution_count": 37,
   "metadata": {},
   "outputs": [
    {
     "name": "stdout",
     "output_type": "stream",
     "text": [
      "Rust              7844\n",
      "C                 2242\n",
      "rust-intrinsic     644\n",
      "Name: abi, dtype: int64\n",
      "Rust              73.103448\n",
      "C                 20.894688\n",
      "rust-intrinsic     6.001864\n",
      "Name: abi, dtype: float64\n",
      "Unsafe calls: 10730\n"
     ]
    },
    {
     "data": {
      "image/png": "[encoded data removed]",
      "text/plain": [
       "<Figure size 1080x576 with 1 Axes>"
      ]
     },
     "metadata": {},
     "output_type": "display_data"
    }
   ],
   "source": [
    "# Frequency of abi CALLS - ALL\n",
    "unsafe_const_calls = const_calls[\n",
    "    const_calls.unsafety == \"Unsafe\"\n",
    "]\n",
    "values = unsafe_const_calls.abi.value_counts()\n",
    "print(values)\n",
    "print(values / len(unsafe_const_calls) * 100)\n",
    "print(\"Unsafe calls:\", len(unsafe_const_calls))\n",
    "values.plot.pie()\n",
    "del values"
   ]
  },
  {
   "cell_type": "code",
   "execution_count": 38,
   "metadata": {},
   "outputs": [
    {
     "name": "stdout",
     "output_type": "stream",
     "text": [
      "Number of crates that call unsafe Rust functions:\t 41\n",
      "Names and counts of 20 crates with most unsafe Rust function calls:\n",
      "\n",
      "hashbrown           144\n",
      "nix                  90\n",
      "lock_api             70\n",
      "socket2              53\n",
      "encoding_rs          48\n",
      "tokio                46\n",
      "bytes                40\n",
      "parking_lot_core     31\n",
      "arrayvec             26\n",
      "openssl              24\n",
      "smallvec             20\n",
      "memchr               18\n",
      "rand_chacha          18\n",
      "httparse             18\n",
      "bstr                 15\n",
      "http                 14\n",
      "thread_local         12\n",
      "syn                  11\n",
      "byteorder            11\n",
      "regex                10\n",
      "Name: crate_defsite, dtype: int64\n",
      "Number of crates that call unsafe Rust functions from user-written blocks:\t 41\n",
      "Names and counts of 20 crates with most user-written unsafe Rust function calls:\n",
      "\n",
      "hashbrown           144\n",
      "nix                  90\n",
      "lock_api             70\n",
      "socket2              53\n",
      "encoding_rs          48\n",
      "tokio                46\n",
      "bytes                40\n",
      "parking_lot_core     31\n",
      "arrayvec             26\n",
      "openssl              24\n",
      "smallvec             20\n",
      "memchr               18\n",
      "rand_chacha          18\n",
      "httparse             18\n",
      "bstr                 15\n",
      "http                 14\n",
      "thread_local         12\n",
      "syn                  11\n",
      "byteorder            11\n",
      "regex                10\n",
      "Name: crate_defsite, dtype: int64\n"
     ]
    }
   ],
   "source": [
    "# Which crates call unsafe Rust functions? - top 250\n",
    "calls_unsafe_rust_funcs_250 = unsafe_const_calls_250[\n",
    "    unsafe_const_calls_250.abi == \"Rust\"\n",
    "]\n",
    "\n",
    "values = calls_unsafe_rust_funcs_250.crate_defsite.value_counts()\n",
    "\n",
    "print(\"Number of crates that call unsafe Rust functions:\\t\", len(values))\n",
    "print(\"Names and counts of 20 crates with most unsafe Rust function calls:\")\n",
    "print()\n",
    "print(values[:20])\n",
    "del values\n",
    "\n",
    "# Filter by user-written blocks\n",
    "uw_calls_unsafe_rust_funcs_250 = calls_unsafe_rust_funcs_250[\n",
    "    calls_unsafe_rust_funcs_250.check_mode == \"UnsafeBlockUserProvided\"\n",
    "]\n",
    "\n",
    "values = uw_calls_unsafe_rust_funcs_250.crate_defsite.value_counts()\n",
    "\n",
    "print(\"Number of crates that call unsafe Rust functions from user-written blocks:\\t\", len(values))\n",
    "print(\"Names and counts of 20 crates with most user-written unsafe Rust function calls:\")\n",
    "print()\n",
    "print(values[:20])\n",
    "del values"
   ]
  },
  {
   "cell_type": "code",
   "execution_count": 39,
   "metadata": {},
   "outputs": [
    {
     "name": "stdout",
     "output_type": "stream",
     "text": [
      "Number of crates that call unsafe Rust functions:\t 66\n",
      "Names and counts of 20 crates with most unsafe Rust function calls:\n",
      "\n",
      "git2                318\n",
      "combine             210\n",
      "hashbrown           144\n",
      "nix                  90\n",
      "lock_api             70\n",
      "tendril              56\n",
      "socket2              53\n",
      "encoding_rs          48\n",
      "tokio                46\n",
      "bytes                40\n",
      "parking_lot_core     31\n",
      "arrayvec             26\n",
      "openssl              24\n",
      "curl                 23\n",
      "smallvec             20\n",
      "json                 19\n",
      "httparse             18\n",
      "rand_chacha          18\n",
      "memchr               18\n",
      "tar                  16\n",
      "Name: crate_defsite, dtype: int64\n",
      "Number of crates that call unsafe Rust functions from user-written blocks:\t 66\n",
      "Names and counts of 20 crates with most user-written unsafe Rust function calls:\n",
      "\n",
      "git2                318\n",
      "combine             210\n",
      "hashbrown           144\n",
      "nix                  90\n",
      "lock_api             70\n",
      "tendril              56\n",
      "socket2              53\n",
      "encoding_rs          48\n",
      "tokio                46\n",
      "bytes                40\n",
      "parking_lot_core     31\n",
      "arrayvec             26\n",
      "openssl              24\n",
      "curl                 23\n",
      "smallvec             20\n",
      "json                 19\n",
      "httparse             18\n",
      "rand_chacha          18\n",
      "memchr               18\n",
      "tar                  16\n",
      "Name: crate_defsite, dtype: int64\n"
     ]
    }
   ],
   "source": [
    "# Which crates call unsafe Rust functions? - top 500\n",
    "calls_unsafe_rust_funcs_500 = unsafe_const_calls_500[\n",
    "    unsafe_const_calls_500.abi == \"Rust\"\n",
    "]\n",
    "\n",
    "values = calls_unsafe_rust_funcs_500.crate_defsite.value_counts()\n",
    "\n",
    "print(\"Number of crates that call unsafe Rust functions:\\t\", len(values))\n",
    "print(\"Names and counts of 20 crates with most unsafe Rust function calls:\")\n",
    "print()\n",
    "print(values[:20])\n",
    "del values\n",
    "\n",
    "# Filter by user-written blocks\n",
    "uw_calls_unsafe_rust_funcs_500 = calls_unsafe_rust_funcs_500[\n",
    "    calls_unsafe_rust_funcs_500.check_mode == \"UnsafeBlockUserProvided\"\n",
    "]\n",
    "\n",
    "values = uw_calls_unsafe_rust_funcs_500.crate_defsite.value_counts()\n",
    "\n",
    "print(\"Number of crates that call unsafe Rust functions from user-written blocks:\\t\", len(values))\n",
    "print(\"Names and counts of 20 crates with most user-written unsafe Rust function calls:\")\n",
    "print()\n",
    "print(values[:20])\n",
    "del values"
   ]
  },
  {
   "cell_type": "code",
   "execution_count": 40,
   "metadata": {},
   "outputs": [
    {
     "name": "stdout",
     "output_type": "stream",
     "text": [
      "Number of crates that call unsafe Rust functions:\t 67\n",
      "Names and counts of 20 crates with most unsafe Rust function calls:\n",
      "\n",
      "git2                318\n",
      "combine             210\n",
      "hashbrown           144\n",
      "nix                  90\n",
      "lock_api             70\n",
      "tendril              56\n",
      "socket2              53\n",
      "encoding_rs          48\n",
      "tokio                46\n",
      "bytes                40\n",
      "parking_lot_core     31\n",
      "arrayvec             26\n",
      "openssl              24\n",
      "curl                 23\n",
      "smallvec             20\n",
      "json                 19\n",
      "rand_chacha          18\n",
      "memchr               18\n",
      "httparse             18\n",
      "tar                  16\n",
      "Name: crate_defsite, dtype: int64\n",
      "Number of crates that call unsafe Rust functions from user-written blocks:\t 67\n",
      "Names and counts of 20 crates with most user-written unsafe Rust function calls:\n",
      "\n",
      "git2                318\n",
      "combine             210\n",
      "hashbrown           144\n",
      "nix                  90\n",
      "lock_api             70\n",
      "tendril              56\n",
      "socket2              53\n",
      "encoding_rs          48\n",
      "tokio                46\n",
      "bytes                40\n",
      "parking_lot_core     31\n",
      "arrayvec             26\n",
      "openssl              24\n",
      "curl                 23\n",
      "smallvec             20\n",
      "json                 19\n",
      "rand_chacha          18\n",
      "memchr               18\n",
      "httparse             18\n",
      "tar                  16\n",
      "Name: crate_defsite, dtype: int64\n"
     ]
    }
   ],
   "source": [
    "# Which crates call unsafe Rust functions? - 1000\n",
    "calls_unsafe_rust_funcs_1000 = unsafe_const_calls_1000[\n",
    "    unsafe_const_calls_1000.abi == \"Rust\"\n",
    "]\n",
    "\n",
    "values = calls_unsafe_rust_funcs_1000.crate_defsite.value_counts()\n",
    "\n",
    "print(\"Number of crates that call unsafe Rust functions:\\t\", len(values))\n",
    "print(\"Names and counts of 20 crates with most unsafe Rust function calls:\")\n",
    "print()\n",
    "print(values[:20])\n",
    "del values\n",
    "\n",
    "# Filter by user-written blocks\n",
    "uw_calls_unsafe_rust_funcs_1000 = calls_unsafe_rust_funcs_1000[\n",
    "    calls_unsafe_rust_funcs_1000.check_mode == \"UnsafeBlockUserProvided\"\n",
    "]\n",
    "\n",
    "values = uw_calls_unsafe_rust_funcs_1000.crate_defsite.value_counts()\n",
    "\n",
    "print(\"Number of crates that call unsafe Rust functions from user-written blocks:\\t\", len(values))\n",
    "print(\"Names and counts of 20 crates with most user-written unsafe Rust function calls:\")\n",
    "print()\n",
    "print(values[:20])\n",
    "del values"
   ]
  },
  {
   "cell_type": "code",
   "execution_count": 41,
   "metadata": {},
   "outputs": [
    {
     "name": "stdout",
     "output_type": "stream",
     "text": [
      "Number of crates that call unsafe Rust functions:\t 115\n",
      "Names and counts of 20 crates with most unsafe Rust function calls:\n",
      "\n",
      "core                    3695\n",
      "js_sys                   691\n",
      "wasm_bindgen             581\n",
      "git2                     318\n",
      "combine                  210\n",
      "foreign_types_shared     207\n",
      "alloc                    181\n",
      "std                      158\n",
      "generic_array            149\n",
      "hashbrown                144\n",
      "core_foundation          129\n",
      "clang_sys                115\n",
      "nix                       90\n",
      "lock_api                  70\n",
      "sized_chunks              62\n",
      "crossbeam_epoch           58\n",
      "tendril                   56\n",
      "socket2                   53\n",
      "encoding_rs               48\n",
      "tokio                     46\n",
      "Name: crate_defsite, dtype: int64\n",
      "Number of crates that call unsafe Rust functions from user-written blocks:\t 115\n",
      "Names and counts of 20 crates with most user-written unsafe Rust function calls:\n",
      "\n",
      "core                    3484\n",
      "js_sys                   691\n",
      "wasm_bindgen             581\n",
      "git2                     318\n",
      "combine                  210\n",
      "foreign_types_shared     207\n",
      "alloc                    181\n",
      "std                      158\n",
      "generic_array            149\n",
      "hashbrown                144\n",
      "core_foundation          129\n",
      "clang_sys                115\n",
      "nix                       90\n",
      "lock_api                  70\n",
      "sized_chunks              62\n",
      "crossbeam_epoch           58\n",
      "tendril                   56\n",
      "socket2                   53\n",
      "encoding_rs               48\n",
      "tokio                     46\n",
      "Name: crate_defsite, dtype: int64\n"
     ]
    }
   ],
   "source": [
    "# Which crates call unsafe Rust functions? - ALL\n",
    "calls_unsafe_rust_funcs = unsafe_const_calls[\n",
    "    unsafe_const_calls.abi == \"Rust\"\n",
    "]\n",
    "\n",
    "values = calls_unsafe_rust_funcs.crate_defsite.value_counts()\n",
    "\n",
    "print(\"Number of crates that call unsafe Rust functions:\\t\", len(values))\n",
    "print(\"Names and counts of 20 crates with most unsafe Rust function calls:\")\n",
    "print()\n",
    "print(values[:20])\n",
    "del values\n",
    "\n",
    "# Filter by user-written blocks\n",
    "uw_calls_unsafe_rust_funcs = calls_unsafe_rust_funcs[\n",
    "    calls_unsafe_rust_funcs.check_mode == \"UnsafeBlockUserProvided\"\n",
    "]\n",
    "\n",
    "values = uw_calls_unsafe_rust_funcs.crate_defsite.value_counts()\n",
    "\n",
    "print(\"Number of crates that call unsafe Rust functions from user-written blocks:\\t\", len(values))\n",
    "print(\"Names and counts of 20 crates with most user-written unsafe Rust function calls:\")\n",
    "print()\n",
    "print(values[:20])\n",
    "del values"
   ]
  },
  {
   "cell_type": "code",
   "execution_count": 42,
   "metadata": {},
   "outputs": [
    {
     "name": "stdout",
     "output_type": "stream",
     "text": [
      "Number of crates that call C functions:\t 4\n",
      "Names and counts of 20 crates with most C function calls:\n",
      "\n",
      "libc         504\n",
      "ring          53\n",
      "backtrace      3\n",
      "time           1\n",
      "Name: crate_defsite, dtype: int64\n"
     ]
    }
   ],
   "source": [
    "# Which crates call C functions? - top 250\n",
    "calls_c_funcs_250 = unsafe_const_calls_250[\n",
    "    unsafe_const_calls_250.abi == \"C\"\n",
    "]\n",
    "\n",
    "values = calls_c_funcs_250.crate_defsite.value_counts()\n",
    "\n",
    "print(\"Number of crates that call C functions:\\t\", len(values))\n",
    "print(\"Names and counts of 20 crates with most C function calls:\")\n",
    "print()\n",
    "print(values[:20])\n",
    "del values"
   ]
  },
  {
   "cell_type": "code",
   "execution_count": 43,
   "metadata": {},
   "outputs": [
    {
     "name": "stdout",
     "output_type": "stream",
     "text": [
      "Number of crates that call C functions:\t 9\n",
      "Names and counts of 20 crates with most C function calls:\n",
      "\n",
      "libc          504\n",
      "ring           53\n",
      "termios        13\n",
      "libloading      5\n",
      "termion         3\n",
      "errno           3\n",
      "backtrace       3\n",
      "xattr           2\n",
      "time            1\n",
      "Name: crate_defsite, dtype: int64\n"
     ]
    }
   ],
   "source": [
    "# Which crates call C functions? - top 500\n",
    "calls_c_funcs_500 = unsafe_const_calls_500[\n",
    "    unsafe_const_calls_500.abi == \"C\"\n",
    "]\n",
    "\n",
    "values = calls_c_funcs_500.crate_defsite.value_counts()\n",
    "\n",
    "print(\"Number of crates that call C functions:\\t\", len(values))\n",
    "print(\"Names and counts of 20 crates with most C function calls:\")\n",
    "print()\n",
    "print(values[:20])\n",
    "del values"
   ]
  },
  {
   "cell_type": "code",
   "execution_count": 44,
   "metadata": {},
   "outputs": [
    {
     "name": "stdout",
     "output_type": "stream",
     "text": [
      "Number of crates that call C functions:\t 9\n",
      "Names and counts of 20 crates with most C function calls:\n",
      "\n",
      "libc          504\n",
      "ring           53\n",
      "termios        13\n",
      "libloading      5\n",
      "termion         3\n",
      "errno           3\n",
      "backtrace       3\n",
      "xattr           2\n",
      "time            1\n",
      "Name: crate_defsite, dtype: int64\n"
     ]
    }
   ],
   "source": [
    "# Which crates call C functions? - top 1000\n",
    "calls_c_funcs_1000 = unsafe_const_calls_1000[\n",
    "    unsafe_const_calls_1000.abi == \"C\"\n",
    "]\n",
    "\n",
    "values = calls_c_funcs_1000.crate_defsite.value_counts()\n",
    "\n",
    "print(\"Number of crates that call C functions:\\t\", len(values))\n",
    "print(\"Names and counts of 20 crates with most C function calls:\")\n",
    "print()\n",
    "print(values[:20])\n",
    "del values"
   ]
  },
  {
   "cell_type": "code",
   "execution_count": 45,
   "metadata": {},
   "outputs": [
    {
     "name": "stdout",
     "output_type": "stream",
     "text": [
      "Number of crates that call C functions:\t 23\n",
      "Names and counts of 20 crates with most C function calls:\n",
      "\n",
      "openssl_sys               748\n",
      "libgit2_sys               544\n",
      "libc                      504\n",
      "core_foundation_sys       170\n",
      "security_framework_sys     66\n",
      "ring                       53\n",
      "curl_sys                   47\n",
      "wasm_bindgen               28\n",
      "brotli_sys                 16\n",
      "lzma_sys                   15\n",
      "termios                    13\n",
      "crypto                     11\n",
      "libloading                  5\n",
      "bzip2_sys                   4\n",
      "backtrace                   3\n",
      "inotify_sys                 3\n",
      "termion                     3\n",
      "errno                       3\n",
      "xattr                       2\n",
      "fuchsia_cprng               1\n",
      "Name: crate_defsite, dtype: int64\n"
     ]
    }
   ],
   "source": [
    "# Which crates call C functions? - ALL\n",
    "calls_c_funcs = unsafe_const_calls[\n",
    "    unsafe_const_calls.abi == \"C\"\n",
    "]\n",
    "\n",
    "values = calls_c_funcs.crate_defsite.value_counts()\n",
    "\n",
    "print(\"Number of crates that call C functions:\\t\", len(values))\n",
    "print(\"Names and counts of 20 crates with most C function calls:\")\n",
    "print()\n",
    "print(values[:20])\n",
    "del values"
   ]
  },
  {
   "cell_type": "code",
   "execution_count": 46,
   "metadata": {},
   "outputs": [
    {
     "name": "stdout",
     "output_type": "stream",
     "text": [
      "Total number of SIMD calls:\t 0\n",
      "Number of crates that call SIMD functions:\t 0\n",
      "Crates that call SIMD functions:\n",
      "[]\n"
     ]
    }
   ],
   "source": [
    "# SIMD const calls total - top 250\n",
    "simd_functions_250 = set([\n",
    "    x\n",
    "    for x in const_calls_250.def_path.unique()\n",
    "    if x.startswith('core[7bab]::core_arch')\n",
    "])\n",
    "simd_calls = const_calls_250[\n",
    "    const_calls_250.def_path.isin(simd_functions_250)\n",
    "]\n",
    "\n",
    "print(\"Total number of SIMD calls:\\t\", len(simd_calls))\n",
    "\n",
    "# Get names of unique SIMD-calling crates\n",
    "simd_crates = simd_calls.crate_callsite.unique()\n",
    "\n",
    "print(\"Number of crates that call SIMD functions:\\t\", len(simd_crates))\n",
    "print(\"Crates that call SIMD functions:\")\n",
    "print(simd_crates)\n",
    "del simd_calls, simd_crates"
   ]
  },
  {
   "cell_type": "code",
   "execution_count": 47,
   "metadata": {},
   "outputs": [
    {
     "name": "stdout",
     "output_type": "stream",
     "text": [
      "Total number of SIMD calls:\t 0\n",
      "Number of crates that call SIMD functions:\t 0\n",
      "Crates that call SIMD functions:\n",
      "[]\n"
     ]
    }
   ],
   "source": [
    "# SIMD const calls total - top 500\n",
    "simd_functions_500 = set([\n",
    "    x\n",
    "    for x in const_calls_500.def_path.unique()\n",
    "    if x.startswith('core[7bab]::core_arch')\n",
    "])\n",
    "simd_calls = const_calls_500[\n",
    "    const_calls_500.def_path.isin(simd_functions_500)\n",
    "]\n",
    "\n",
    "print(\"Total number of SIMD calls:\\t\", len(simd_calls))\n",
    "\n",
    "# Get names of unique SIMD-calling crates\n",
    "simd_crates = simd_calls.crate_callsite.unique()\n",
    "\n",
    "print(\"Number of crates that call SIMD functions:\\t\", len(simd_crates))\n",
    "print(\"Crates that call SIMD functions:\")\n",
    "print(simd_crates)\n",
    "del simd_calls, simd_crates"
   ]
  },
  {
   "cell_type": "code",
   "execution_count": 48,
   "metadata": {},
   "outputs": [
    {
     "name": "stdout",
     "output_type": "stream",
     "text": [
      "Total number of SIMD calls:\t 0\n",
      "Number of crates that call SIMD functions:\t 0\n",
      "Crates that call SIMD functions:\n",
      "[]\n"
     ]
    }
   ],
   "source": [
    "# SIMD const calls total - top 1000\n",
    "simd_functions_1000 = set([\n",
    "    x\n",
    "    for x in const_calls_1000.def_path.unique()\n",
    "    if x.startswith('core[7bab]::core_arch')\n",
    "])\n",
    "simd_calls = const_calls_1000[\n",
    "    const_calls_1000.def_path.isin(simd_functions_1000)\n",
    "]\n",
    "\n",
    "print(\"Total number of SIMD calls:\\t\", len(simd_calls))\n",
    "\n",
    "# Get names of unique SIMD-calling crates\n",
    "simd_crates = simd_calls.crate_callsite.unique()\n",
    "\n",
    "print(\"Number of crates that call SIMD functions:\\t\", len(simd_crates))\n",
    "print(\"Crates that call SIMD functions:\")\n",
    "print(simd_crates)\n",
    "del simd_calls, simd_crates"
   ]
  },
  {
   "cell_type": "code",
   "execution_count": 49,
   "metadata": {},
   "outputs": [
    {
     "name": "stdout",
     "output_type": "stream",
     "text": [
      "Total number of SIMD calls:\t 391\n",
      "Number of crates that call SIMD functions:\t 7\n",
      "Crates that call SIMD functions:\n",
      "['bstr' 'hashbrown' 'ahash' 'ppv_lite86' 'sha2' 'sha1' 'rdrand']\n"
     ]
    }
   ],
   "source": [
    "# SIMD const calls total\n",
    "simd_functions = set([\n",
    "    x\n",
    "    for x in const_calls.def_path.unique()\n",
    "    if x.startswith('core[7bab]::core_arch')\n",
    "])\n",
    "simd_calls = const_calls[\n",
    "    const_calls.def_path.isin(simd_functions)\n",
    "]\n",
    "\n",
    "print(\"Total number of SIMD calls:\\t\", len(simd_calls))\n",
    "\n",
    "# Get names of unique SIMD-calling crates\n",
    "simd_crates = simd_calls.crate_callsite.unique()\n",
    "\n",
    "print(\"Number of crates that call SIMD functions:\\t\", len(simd_crates))\n",
    "print(\"Crates that call SIMD functions:\")\n",
    "print(simd_crates)\n",
    "del simd_calls, simd_crates"
   ]
  },
  {
   "cell_type": "code",
   "execution_count": 50,
   "metadata": {},
   "outputs": [
    {
     "name": "stdout",
     "output_type": "stream",
     "text": [
      "Number of functions using inline assembly:\t 0\n"
     ]
    }
   ],
   "source": [
    "# Count functions with assembly code, per crate\n",
    "asm_fns = function_unsafe_reasons[function_unsafe_reasons[\"use of inline assembly\"]]\n",
    "print(\"Number of functions using inline assembly:\\t\", len(asm_fns))\n",
    "if len(asm_fns) > 0:\n",
    "    values = asm_fns[['crate_name', 'crate_hash']].apply(\n",
    "        lambda row: (row['crate_name'], row['crate_hash']), axis=1\n",
    "    ).squeeze().value_counts()\n",
    "    print(\"Number of crates:\", len(values))\n",
    "    print()\n",
    "    print('Percentage of functions with inline assembly among 10 top crates:', sum(values[:10])/len(asm_fns)*100)\n",
    "    print(\"Such functions per crate:\")\n",
    "    print(values[:10])\n",
    "    asm_fns\n",
    "    del values"
   ]
  },
  {
   "cell_type": "code",
   "execution_count": 51,
   "metadata": {},
   "outputs": [
    {
     "name": "stdout",
     "output_type": "stream",
     "text": [
      "unchecked_function_names_250:\t 109\n",
      "Calls to unchecked functions:\t 31\n",
      "Number of crates:\t\t 8\n",
      "Percentage:\t\t\t 3.2\n",
      "(http, 6808a9d62e774206)         14\n",
      "(arrayvec, 8c2a468fe9f17483)      6\n",
      "(h2, 4779d0bf4289d5ab)            4\n",
      "(once_cell, ed17a4b20f68f687)     2\n",
      "(petgraph, f3c73edaadc63bec)      2\n",
      "dtype: int64\n",
      "Percentage of unsafe blocks with an unchecked function call:\t 1.94601381042059\n"
     ]
    }
   ],
   "source": [
    "# Unchecked functions - top 250\n",
    "print(\"unchecked_function_names_250:\\t\", len(unchecked_function_names_250))\n",
    "\n",
    "const_unchecked_calls_250 = const_calls_250[\n",
    "    const_calls_250.def_path.isin(unchecked_function_names_250)\n",
    "]\n",
    "unchecked_calls_250 = unsafe_block_const_calls_250[\n",
    "    unsafe_block_const_calls_250.def_path.isin(unchecked_function_names_250)\n",
    "]\n",
    "assert(len(const_unchecked_calls_250) == len(unchecked_calls_250))\n",
    "\n",
    "print(\"Calls to unchecked functions:\\t\", len(unchecked_calls_250))\n",
    "#print(\"Percentage:\\t\\t\\t\", len(unchecked_calls_250)/len(unsafe_calls_250)*100)\n",
    "\n",
    "# Top unchecked() calling code\n",
    "values = unchecked_calls_250 [['crate_callsite', 'build_crate_hash']].apply(\n",
    "    lambda row: (row['crate_callsite'], row['build_crate_hash']), axis=1\n",
    ").squeeze().value_counts()\n",
    "print(\"Number of crates:\\t\\t\", len(values))\n",
    "print(\"Percentage:\\t\\t\\t\", len(values)/250*100)\n",
    "print(values[:5])\n",
    "\n",
    "# Used in Sec. 6.2\n",
    "print(\"Percentage of unsafe blocks with an unchecked function call:\\t\",\n",
    "    len(unchecked_calls_250.unsafe_scope.unique())/len(unsafe_block_const_calls_250.unsafe_scope.unique())*100\n",
    ")\n",
    "del values"
   ]
  },
  {
   "cell_type": "code",
   "execution_count": 52,
   "metadata": {},
   "outputs": [
    {
     "name": "stdout",
     "output_type": "stream",
     "text": [
      "unchecked_function_names_500:\t 216\n",
      "Calls to unchecked functions:\t 78\n",
      "Number of crates:\t\t 16\n",
      "Percentage:\t\t\t 3.2\n",
      "(http, 6808a9d62e774206)          14\n",
      "(json, 79b54c8356a47b67)          14\n",
      "(pest, 90a091c6ae19edc6)           8\n",
      "(criterion, 8abcfaebda0e558c)      7\n",
      "(widestring, 6d114c62fcc76497)     6\n",
      "dtype: int64\n",
      "Percentage of unsafe blocks with an unchecked function call:\t 2.9106029106029108\n"
     ]
    }
   ],
   "source": [
    "# Unchecked functions - top 500\n",
    "print(\"unchecked_function_names_500:\\t\", len(unchecked_function_names_500))\n",
    "\n",
    "const_unchecked_calls_500 = const_calls_500[\n",
    "    const_calls_500.def_path.isin(unchecked_function_names_500)\n",
    "]\n",
    "unchecked_calls_500 = unsafe_block_const_calls_500[\n",
    "    unsafe_block_const_calls_500.def_path.isin(unchecked_function_names_500)\n",
    "]\n",
    "assert(len(const_unchecked_calls_500) == len(unchecked_calls_500))\n",
    "\n",
    "print(\"Calls to unchecked functions:\\t\", len(unchecked_calls_500))\n",
    "#print(\"Percentage:\\t\\t\\t\", len(unchecked_calls)/len(unsafe_calls)*100)\n",
    "\n",
    "# Top unchecked() calling code\n",
    "values = unchecked_calls_500[['crate_callsite', 'build_crate_hash']].apply(\n",
    "    lambda row: (row['crate_callsite'], row['build_crate_hash']), axis=1\n",
    ").squeeze().value_counts()\n",
    "print(\"Number of crates:\\t\\t\", len(values))\n",
    "print(\"Percentage:\\t\\t\\t\", len(values)/500*100)\n",
    "print(values[:5])\n",
    "\n",
    "# Used in Sec. 6.2\n",
    "print(\"Percentage of unsafe blocks with an unchecked function call:\\t\",\n",
    "    len(unchecked_calls_500.unsafe_scope.unique())/len(unsafe_block_const_calls_500.unsafe_scope.unique())*100\n",
    ")\n",
    "del values"
   ]
  },
  {
   "cell_type": "code",
   "execution_count": 53,
   "metadata": {},
   "outputs": [
    {
     "name": "stdout",
     "output_type": "stream",
     "text": [
      "unchecked_function_names_1000:\t 216\n",
      "Calls to unchecked functions:\t 78\n",
      "Number of crates:\t\t 16\n",
      "Percentage:\t\t\t 1.6\n",
      "(http, 6808a9d62e774206)          14\n",
      "(json, 79b54c8356a47b67)          14\n",
      "(pest, 90a091c6ae19edc6)           8\n",
      "(criterion, 8abcfaebda0e558c)      7\n",
      "(widestring, 6d114c62fcc76497)     6\n",
      "dtype: int64\n",
      "Percentage of unsafe blocks with an unchecked function call:\t 2.898550724637681\n"
     ]
    }
   ],
   "source": [
    "# Unchecked functions - top 1000\n",
    "print(\"unchecked_function_names_1000:\\t\", len(unchecked_function_names_1000))\n",
    "\n",
    "const_unchecked_calls_1000 = const_calls_1000[\n",
    "    const_calls_1000.def_path.isin(unchecked_function_names_1000)\n",
    "]\n",
    "unchecked_calls_1000 = unsafe_block_const_calls_1000[\n",
    "    unsafe_block_const_calls_1000.def_path.isin(unchecked_function_names_1000)\n",
    "]\n",
    "assert(len(const_unchecked_calls_1000) == len(unchecked_calls_1000))\n",
    "\n",
    "print(\"Calls to unchecked functions:\\t\", len(unchecked_calls_1000))\n",
    "#print(\"Percentage:\\t\\t\\t\", len(unchecked_calls)/len(unsafe_calls)*100)\n",
    "\n",
    "# Top unchecked() calling code\n",
    "values = unchecked_calls_1000[['crate_callsite', 'build_crate_hash']].apply(\n",
    "    lambda row: (row['crate_callsite'], row['build_crate_hash']), axis=1\n",
    ").squeeze().value_counts()\n",
    "print(\"Number of crates:\\t\\t\", len(values))\n",
    "print(\"Percentage:\\t\\t\\t\", len(values)/1000*100)\n",
    "print(values[:5])\n",
    "\n",
    "# Used in Sec. 6.2\n",
    "print(\"Percentage of unsafe blocks with an unchecked function call:\\t\",\n",
    "    len(unchecked_calls_1000.unsafe_scope.unique())/len(unsafe_block_const_calls_1000.unsafe_scope.unique())*100\n",
    ")\n",
    "del values"
   ]
  },
  {
   "cell_type": "code",
   "execution_count": 54,
   "metadata": {},
   "outputs": [
    {
     "name": "stdout",
     "output_type": "stream",
     "text": [
      "unchecked_function_names:\t 366\n",
      "Calls to unchecked functions:\t 93\n",
      "Percentage:\t\t\t 0.0967812431706784\n",
      "Number of crates:\t\t 23\n",
      "Percentage:\t\t\t 4.509803921568627\n",
      "(json, 79b54c8356a47b67)          14\n",
      "(http, 6808a9d62e774206)          14\n",
      "(pest, 90a091c6ae19edc6)           8\n",
      "(criterion, 8abcfaebda0e558c)      7\n",
      "(widestring, 6d114c62fcc76497)     6\n",
      "dtype: int64\n",
      "Percentage of unsafe blocks with an unchecked function call:\t 0.7737119970872018\n"
     ]
    }
   ],
   "source": [
    "# Unchecked functions - ALL\n",
    "print(\"unchecked_function_names:\\t\", len(unchecked_function_names))\n",
    "\n",
    "const_unchecked_calls = const_calls[\n",
    "    const_calls.def_path.isin(unchecked_function_names)\n",
    "]\n",
    "unchecked_calls = unsafe_block_const_calls[\n",
    "    unsafe_block_const_calls.def_path.isin(unchecked_function_names)\n",
    "]\n",
    "assert(len(const_unchecked_calls) == len(unchecked_calls))\n",
    "\n",
    "print(\"Calls to unchecked functions:\\t\", len(unchecked_calls))\n",
    "print(\"Percentage:\\t\\t\\t\", len(unchecked_calls)/len(unsafe_calls)*100)\n",
    "\n",
    "# Top unchecked() calling code\n",
    "values = unchecked_calls[['crate_callsite', 'build_crate_hash']].apply(\n",
    "    lambda row: (row['crate_callsite'], row['build_crate_hash']), axis=1\n",
    ").squeeze().value_counts()\n",
    "print(\"Number of crates:\\t\\t\", len(values))\n",
    "print(\"Percentage:\\t\\t\\t\", len(values)/len(selected_builds)*100)\n",
    "print(values[:5])\n",
    "\n",
    "# Used in Sec. 6.2\n",
    "print(\"Percentage of unsafe blocks with an unchecked function call:\\t\",\n",
    "    len(unchecked_calls.unsafe_scope.unique())/len(unsafe_block_const_calls.unsafe_scope.unique())*100\n",
    ")\n",
    "del values"
   ]
  },
  {
   "cell_type": "code",
   "execution_count": 55,
   "metadata": {},
   "outputs": [
    {
     "name": "stdout",
     "output_type": "stream",
     "text": [
      "Number of crates:\t 9\n",
      "Percentage: 3.5999999999999996\n",
      "http[4a33]::byte_str[0]::{{impl}}[0]::from_utf8_unchecked[0]          14\n",
      "arrayvec[b80e]::{{impl}}[1]::get_unchecked_ptr[0]                      5\n",
      "h2[c34a]::hpack[0]::header[0]::{{impl}}[4]::from_utf8_unchecked[0]     4\n",
      "petgraph[aef9]::unionfind[0]::get_unchecked[0]                         2\n",
      "once_cell[1308]::sync[0]::{{impl}}[6]::get_unchecked[0]                2\n",
      "dtype: int64\n"
     ]
    }
   ],
   "source": [
    "# Top called unchecked() code - 250\n",
    "values = unchecked_calls_250[['def_path']].apply(\n",
    "    lambda row: (row['def_path']), axis=1\n",
    ").squeeze().value_counts()\n",
    "print(\"Number of crates:\\t\", len(values))\n",
    "print(\"Percentage:\", len(values)/250*100)\n",
    "print(values[:5])\n",
    "del values"
   ]
  },
  {
   "cell_type": "code",
   "execution_count": 56,
   "metadata": {},
   "outputs": [
    {
     "name": "stdout",
     "output_type": "stream",
     "text": [
      "Number of crates:\t 23\n",
      "Percentage: 4.6\n",
      "json[ceec]::number[0]::{{impl}}[0]::from_parts_unchecked[0]                               14\n",
      "http[4a33]::byte_str[0]::{{impl}}[0]::from_utf8_unchecked[0]                              14\n",
      "criterion[738c]::stats[0]::univariate[0]::percentiles[0]::{{impl}}[0]::at_unchecked[0]     7\n",
      "pest[3260]::position[0]::{{impl}}[0]::new_unchecked[0]                                     6\n",
      "bytecount[4446]::integer_simd[0]::usize_load_unchecked[0]                                  6\n",
      "dtype: int64\n"
     ]
    }
   ],
   "source": [
    "# Top called unchecked() code - 500\n",
    "values = unchecked_calls_500[['def_path']].apply(\n",
    "    lambda row: (row['def_path']), axis=1\n",
    ").squeeze().value_counts()\n",
    "print(\"Number of crates:\\t\", len(values))\n",
    "print(\"Percentage:\", len(values)/500*100)\n",
    "print(values[:5])\n",
    "del values"
   ]
  },
  {
   "cell_type": "code",
   "execution_count": 57,
   "metadata": {},
   "outputs": [
    {
     "name": "stdout",
     "output_type": "stream",
     "text": [
      "Number of crates:\t 23\n",
      "Percentage: 2.3\n",
      "json[ceec]::number[0]::{{impl}}[0]::from_parts_unchecked[0]                               14\n",
      "http[4a33]::byte_str[0]::{{impl}}[0]::from_utf8_unchecked[0]                              14\n",
      "criterion[738c]::stats[0]::univariate[0]::percentiles[0]::{{impl}}[0]::at_unchecked[0]     7\n",
      "pest[3260]::position[0]::{{impl}}[0]::new_unchecked[0]                                     6\n",
      "bytecount[4446]::integer_simd[0]::usize_load_unchecked[0]                                  6\n",
      "dtype: int64\n"
     ]
    }
   ],
   "source": [
    "# Top called unchecked() code - 1000\n",
    "values = unchecked_calls_1000[['def_path']].apply(\n",
    "    lambda row: (row['def_path']), axis=1\n",
    ").squeeze().value_counts()\n",
    "print(\"Number of crates:\\t\", len(values))\n",
    "print(\"Percentage:\", len(values)/1000*100)\n",
    "print(values[:5])\n",
    "del values"
   ]
  },
  {
   "cell_type": "code",
   "execution_count": 58,
   "metadata": {},
   "outputs": [
    {
     "name": "stdout",
     "output_type": "stream",
     "text": [
      "Number of crates:\t 32\n",
      "Percentage: 6.2745098039215685\n",
      "http[4a33]::byte_str[0]::{{impl}}[0]::from_utf8_unchecked[0]                              14\n",
      "json[ceec]::number[0]::{{impl}}[0]::from_parts_unchecked[0]                               14\n",
      "criterion[738c]::stats[0]::univariate[0]::percentiles[0]::{{impl}}[0]::at_unchecked[0]     7\n",
      "pest[3260]::position[0]::{{impl}}[0]::new_unchecked[0]                                     6\n",
      "bytecount[4446]::integer_simd[0]::usize_load_unchecked[0]                                  6\n",
      "dtype: int64\n"
     ]
    }
   ],
   "source": [
    "# Top called unchecked() code - ALL\n",
    "values = unchecked_calls[['def_path']].apply(\n",
    "    lambda row: (row['def_path']), axis=1\n",
    ").squeeze().value_counts()\n",
    "print(\"Number of crates:\\t\", len(values))\n",
    "print(\"Percentage:\", len(values)/len(selected_builds)*100)\n",
    "print(values[:5])\n",
    "del values"
   ]
  },
  {
   "cell_type": "code",
   "execution_count": 59,
   "metadata": {},
   "outputs": [
    {
     "name": "stdout",
     "output_type": "stream",
     "text": [
      "unguarded_function_names:\t 0\n",
      "Calls to unguarded functions:\t 0\n",
      "Percentage:\t\t\t 0.0\n",
      "Number of crates:\t\t 0\n",
      "Percentage:\t\t\t 0.0\n",
      "Series([], dtype: int64)\n",
      "Percentage of unsafe blocks with an unguarded function call:\t 0.0\n"
     ]
    }
   ],
   "source": [
    "# Unguarded functions\n",
    "print(\"unguarded_function_names:\\t\", len(unguarded_function_names))\n",
    "\n",
    "const_unguarded_calls = const_calls[\n",
    "    const_calls.def_path.isin(unguarded_function_names)\n",
    "]\n",
    "unguarded_calls = unsafe_block_const_calls[\n",
    "    unsafe_block_const_calls.def_path.isin(unguarded_function_names)\n",
    "]\n",
    "assert(len(const_unguarded_calls) == len(unguarded_calls))\n",
    "\n",
    "print(\"Calls to unguarded functions:\\t\", len(unguarded_calls))\n",
    "print(\"Percentage:\\t\\t\\t\", len(unguarded_calls)/len(unsafe_calls)*100)\n",
    "\n",
    "values = unguarded_calls[['crate_callsite', 'build_crate_hash']].apply(\n",
    "    lambda row: (row['crate_callsite'], row['build_crate_hash']), axis=1\n",
    ").squeeze().value_counts()\n",
    "print(\"Number of crates:\\t\\t\", len(values))\n",
    "print(\"Percentage:\\t\\t\\t\", len(values)/len(selected_builds)*100)\n",
    "print(values[:5])\n",
    "\n",
    "print(\"Percentage of unsafe blocks with an unguarded function call:\\t\",\n",
    "     len(unguarded_calls.unsafe_scope.unique())/len(unsafe_block_const_calls.unsafe_scope.unique())*100\n",
    ")\n",
    "del values"
   ]
  },
  {
   "cell_type": "code",
   "execution_count": 60,
   "metadata": {},
   "outputs": [],
   "source": [
    "### Filter by user-written unsafe code - 250\n",
    "user_written_unsafe_const_calls_250 = const_calls_250[\n",
    "    const_calls_250.check_mode == \"UnsafeBlockUserProvided\"\n",
    "]\n",
    "\n",
    "# Filter by target language\n",
    "user_written_unsafe_const_calls_rust_250 = user_written_unsafe_const_calls_250[\n",
    "    user_written_unsafe_const_calls_250.abi == \"Rust\"\n",
    "]\n",
    "user_written_unsafe_const_calls_fi_250 = user_written_unsafe_const_calls_250[\n",
    "    user_written_unsafe_const_calls_250.abi == \"ForeignItem\"\n",
    "]\n",
    "user_written_unsafe_const_calls_c_250 = user_written_unsafe_const_calls_250[\n",
    "    user_written_unsafe_const_calls_250.abi == \"C\"\n",
    "]\n",
    "\n",
    "# Filter for perf-mot functions within Rust\n",
    "perf_mot_unsafe_rust_250 = set([\n",
    "    x\n",
    "    for x in user_written_unsafe_const_calls_rust_250.def_path.unique()\n",
    "    if x.startswith('core[7bab]::core_arch') \n",
    "        or x.startswith('core[7bab]::intrinsics[0]::[1]::transmute[0]')\n",
    "        or x.startswith('core[7bab]::intrinsics[0]::write_bytes[0]')\n",
    "        or x.startswith('core[7bab]::intrinsics[0]::copy[0]')\n",
    "        or x.startswith('core[7bab]::intrinsics[0]::copy_nonoverlapping[0]')\n",
    "        or x.startswith('core[7bab]::mem[0]::transmute_copy[0]')\n",
    "        or x.startswith('core[7bab]::slice[0]::from_raw_parts[0]')\n",
    "        or x.startswith('core[7bab]::slice[0]::from_raw_parts_mut[0]')\n",
    "        or x.startswith('core[7bab]::slice[0]::{{impl}}[0]::as_ptr[0]')\n",
    "        or x.startswith('core[7bab]::slice[0]::{{impl}}[0]::as_mut_ptr[0]')\n",
    "        or (\"unchecked\" in x)\n",
    "        or (\"unguarded\" in x)\n",
    "        or (\"asm!\" in x) # FIXME\n",
    "])"
   ]
  },
  {
   "cell_type": "code",
   "execution_count": 61,
   "metadata": {},
   "outputs": [],
   "source": [
    "### Filter by user-written unsafe code - 500\n",
    "user_written_unsafe_const_calls_500 = const_calls_500[\n",
    "    const_calls_500.check_mode == \"UnsafeBlockUserProvided\"\n",
    "]\n",
    "\n",
    "# Filter by target language\n",
    "user_written_unsafe_const_calls_rust_500 = user_written_unsafe_const_calls_500[\n",
    "    user_written_unsafe_const_calls_500.abi == \"Rust\"\n",
    "]\n",
    "user_written_unsafe_const_calls_fi_500 = user_written_unsafe_const_calls_500[\n",
    "    user_written_unsafe_const_calls_500.abi == \"ForeignItem\"\n",
    "]\n",
    "user_written_unsafe_const_calls_c_500 = user_written_unsafe_const_calls_500[\n",
    "    user_written_unsafe_const_calls_500.abi == \"C\"\n",
    "]\n",
    "\n",
    "# Filter for perf-mot functions within Rust\n",
    "perf_mot_unsafe_rust_500 = set([\n",
    "    x\n",
    "    for x in user_written_unsafe_const_calls_rust_500.def_path.unique()\n",
    "    if x.startswith('core[7bab]::core_arch') \n",
    "        or x.startswith('core[7bab]::intrinsics[0]::[1]::transmute[0]')\n",
    "        or x.startswith('core[7bab]::intrinsics[0]::write_bytes[0]')\n",
    "        or x.startswith('core[7bab]::intrinsics[0]::copy[0]')\n",
    "        or x.startswith('core[7bab]::intrinsics[0]::copy_nonoverlapping[0]')\n",
    "        or x.startswith('core[7bab]::mem[0]::transmute_copy[0]')\n",
    "        or x.startswith('core[7bab]::slice[0]::from_raw_parts[0]')\n",
    "        or x.startswith('core[7bab]::slice[0]::from_raw_parts_mut[0]')\n",
    "        or x.startswith('core[7bab]::slice[0]::{{impl}}[0]::as_ptr[0]')\n",
    "        or x.startswith('core[7bab]::slice[0]::{{impl}}[0]::as_mut_ptr[0]')\n",
    "        or (\"unchecked\" in x)\n",
    "        or (\"unguarded\" in x)\n",
    "        or (\"asm!\" in x) # FIXME\n",
    "])"
   ]
  },
  {
   "cell_type": "code",
   "execution_count": 62,
   "metadata": {},
   "outputs": [],
   "source": [
    "### Filter by user-written unsafe code\n",
    "user_written_unsafe_const_calls = const_calls[\n",
    "    const_calls.check_mode == \"UnsafeBlockUserProvided\"\n",
    "]\n",
    "\n",
    "# Filter by target language\n",
    "user_written_unsafe_const_calls_rust = user_written_unsafe_const_calls[\n",
    "    user_written_unsafe_const_calls.abi == \"Rust\"\n",
    "]\n",
    "user_written_unsafe_const_calls_fi = user_written_unsafe_const_calls[\n",
    "    user_written_unsafe_const_calls.abi == \"ForeignItem\"\n",
    "]\n",
    "user_written_unsafe_const_calls_c = user_written_unsafe_const_calls[\n",
    "    user_written_unsafe_const_calls.abi == \"C\"\n",
    "]\n",
    "\n",
    "# Filter for perf-mot functions within Rust\n",
    "perf_mot_unsafe_rust = set([\n",
    "    x\n",
    "    for x in user_written_unsafe_const_calls_rust.def_path.unique()\n",
    "    if x.startswith('core[7bab]::core_arch') \n",
    "        or x.startswith('core[7bab]::intrinsics[0]::[1]::transmute[0]')\n",
    "        or x.startswith('core[7bab]::intrinsics[0]::write_bytes[0]')\n",
    "        or x.startswith('core[7bab]::intrinsics[0]::copy[0]')\n",
    "        or x.startswith('core[7bab]::intrinsics[0]::copy_nonoverlapping[0]')\n",
    "        or x.startswith('core[7bab]::mem[0]::transmute_copy[0]')\n",
    "        or x.startswith('core[7bab]::slice[0]::from_raw_parts[0]')\n",
    "        or x.startswith('core[7bab]::slice[0]::from_raw_parts_mut[0]')\n",
    "        or x.startswith('core[7bab]::slice[0]::{{impl}}[0]::as_ptr[0]')\n",
    "        or x.startswith('core[7bab]::slice[0]::{{impl}}[0]::as_mut_ptr[0]')\n",
    "        or (\"unchecked\" in x)\n",
    "        or (\"unguarded\" in x)\n",
    "        or (\"asm!\" in x) # FIXME\n",
    "])"
   ]
  },
  {
   "cell_type": "code",
   "execution_count": 63,
   "metadata": {},
   "outputs": [],
   "source": [
    "### Filter by user-written unsafe code - 1000\n",
    "user_written_unsafe_const_calls_1000 = const_calls_1000[\n",
    "    const_calls_1000.check_mode == \"UnsafeBlockUserProvided\"\n",
    "]\n",
    "\n",
    "# Filter by target language\n",
    "user_written_unsafe_const_calls_rust_1000 = user_written_unsafe_const_calls_1000[\n",
    "    user_written_unsafe_const_calls_1000.abi == \"Rust\"\n",
    "]\n",
    "user_written_unsafe_const_calls_fi_1000 = user_written_unsafe_const_calls_1000[\n",
    "    user_written_unsafe_const_calls_1000.abi == \"ForeignItem\"\n",
    "]\n",
    "user_written_unsafe_const_calls_c_1000 = user_written_unsafe_const_calls_1000[\n",
    "    user_written_unsafe_const_calls_1000.abi == \"C\"\n",
    "]\n",
    "\n",
    "# Filter for perf-mot functions within Rust\n",
    "perf_mot_unsafe_rust_1000 = set([\n",
    "    x\n",
    "    for x in user_written_unsafe_const_calls_rust_1000.def_path.unique()\n",
    "    if x.startswith('core[7bab]::core_arch') \n",
    "        or x.startswith('core[7bab]::intrinsics[0]::[1]::transmute[0]')\n",
    "        or x.startswith('core[7bab]::intrinsics[0]::write_bytes[0]')\n",
    "        or x.startswith('core[7bab]::intrinsics[0]::copy[0]')\n",
    "        or x.startswith('core[7bab]::intrinsics[0]::copy_nonoverlapping[0]')\n",
    "        or x.startswith('core[7bab]::mem[0]::transmute_copy[0]')\n",
    "        or x.startswith('core[7bab]::slice[0]::from_raw_parts[0]')\n",
    "        or x.startswith('core[7bab]::slice[0]::from_raw_parts_mut[0]')\n",
    "        or x.startswith('core[7bab]::slice[0]::{{impl}}[0]::as_ptr[0]')\n",
    "        or x.startswith('core[7bab]::slice[0]::{{impl}}[0]::as_mut_ptr[0]')\n",
    "        or (\"unchecked\" in x)\n",
    "        or (\"unguarded\" in x)\n",
    "        or (\"asm!\" in x) # FIXME\n",
    "])"
   ]
  },
  {
   "cell_type": "code",
   "execution_count": 64,
   "metadata": {},
   "outputs": [],
   "source": [
    "# Performance-motivated Rust calls\n",
    "# 250\n",
    "perf_mot_unsafe_rust_calls_250 = user_written_unsafe_const_calls_rust_250[\n",
    "    user_written_unsafe_const_calls_rust_250.def_path.isin(perf_mot_unsafe_rust_250)\n",
    "]\n",
    "pmu_rust_calls_250 = perf_mot_unsafe_rust_calls_250[['crate_callsite', 'build_crate_hash']].apply(\n",
    "    lambda row: (row['crate_callsite'], row['build_crate_hash']), axis=1\n",
    ")\n",
    "# 500\n",
    "perf_mot_unsafe_rust_calls_500 = user_written_unsafe_const_calls_rust_500[\n",
    "    user_written_unsafe_const_calls_rust_500.def_path.isin(perf_mot_unsafe_rust_500)\n",
    "]\n",
    "pmu_rust_calls_500 = perf_mot_unsafe_rust_calls_500[['crate_callsite', 'build_crate_hash']].apply(\n",
    "    lambda row: (row['crate_callsite'], row['build_crate_hash']), axis=1\n",
    ")\n",
    "# 1000\n",
    "perf_mot_unsafe_rust_calls_1000 = user_written_unsafe_const_calls_rust_1000[\n",
    "    user_written_unsafe_const_calls_rust_1000.def_path.isin(perf_mot_unsafe_rust_1000)\n",
    "]\n",
    "pmu_rust_calls_1000 = perf_mot_unsafe_rust_calls_1000[['crate_callsite', 'build_crate_hash']].apply(\n",
    "    lambda row: (row['crate_callsite'], row['build_crate_hash']), axis=1\n",
    ")\n",
    "# ALL\n",
    "perf_mot_unsafe_rust_calls = user_written_unsafe_const_calls_rust[\n",
    "    user_written_unsafe_const_calls_rust.def_path.isin(perf_mot_unsafe_rust)\n",
    "]\n",
    "pmu_rust_calls = perf_mot_unsafe_rust_calls[['crate_callsite', 'build_crate_hash']].apply(\n",
    "    lambda row: (row['crate_callsite'], row['build_crate_hash']), axis=1\n",
    ")\n",
    "\n",
    "# ForeignItem calls\n",
    "fi_calls_250 = user_written_unsafe_const_calls_fi_250[['crate_callsite', 'build_crate_hash']].apply(\n",
    "    lambda row: (row['crate_callsite'], row['build_crate_hash']), axis=1\n",
    ")\n",
    "fi_calls_500 = user_written_unsafe_const_calls_fi_500[['crate_callsite', 'build_crate_hash']].apply(\n",
    "    lambda row: (row['crate_callsite'], row['build_crate_hash']), axis=1\n",
    ")\n",
    "fi_calls_1000 = user_written_unsafe_const_calls_fi_1000[['crate_callsite', 'build_crate_hash']].apply(\n",
    "    lambda row: (row['crate_callsite'], row['build_crate_hash']), axis=1\n",
    ")\n",
    "fi_calls = user_written_unsafe_const_calls_fi[['crate_callsite', 'build_crate_hash']].apply(\n",
    "    lambda row: (row['crate_callsite'], row['build_crate_hash']), axis=1\n",
    ")\n",
    "\n",
    "# C calls\n",
    "c_calls_250 = user_written_unsafe_const_calls_c_250[['crate_callsite', 'build_crate_hash']].apply(\n",
    "    lambda row: (row['crate_callsite'], row['build_crate_hash']), axis=1\n",
    ")\n",
    "c_calls_500 = user_written_unsafe_const_calls_c_500[['crate_callsite', 'build_crate_hash']].apply(\n",
    "    lambda row: (row['crate_callsite'], row['build_crate_hash']), axis=1\n",
    ")\n",
    "c_calls_1000 = user_written_unsafe_const_calls_c_1000[['crate_callsite', 'build_crate_hash']].apply(\n",
    "    lambda row: (row['crate_callsite'], row['build_crate_hash']), axis=1\n",
    ")\n",
    "c_calls = user_written_unsafe_const_calls_c[['crate_callsite', 'build_crate_hash']].apply(\n",
    "    lambda row: (row['crate_callsite'], row['build_crate_hash']), axis=1\n",
    ")\n",
    "\n",
    "len_all = len(perf_mot_unsafe_rust_calls) + len(user_written_unsafe_const_calls_fi) + len(user_written_unsafe_const_calls_c)\n",
    "len_all_250 = len(perf_mot_unsafe_rust_calls_250) + len(user_written_unsafe_const_calls_fi_250) + len(user_written_unsafe_const_calls_c_250)\n",
    "len_all_500 = len(perf_mot_unsafe_rust_calls_500) + len(user_written_unsafe_const_calls_fi_500) + len(user_written_unsafe_const_calls_c_500)\n",
    "len_all_1000 = len(perf_mot_unsafe_rust_calls_1000) + len(user_written_unsafe_const_calls_fi_1000) + len(user_written_unsafe_const_calls_c_1000)\n",
    "#len_all_1000 = len(perf_mot_unsafe_rust_calls_1000) + len(user_written_unsafe_const_calls_fi_1000 + len(user_written_unsafe_const_calls_c_1000)"
   ]
  },
  {
   "cell_type": "code",
   "execution_count": 65,
   "metadata": {},
   "outputs": [
    {
     "name": "stdout",
     "output_type": "stream",
     "text": [
      "Total number of (user-written) PMU Rust calls:\t 45\n",
      "Percent out of unsafe const calls:\t\t 1.5734265734265735\n",
      "Number of crates:\t 10\n",
      "Percentage:\t\t 4.0\n",
      "\n",
      "Total number of ForeignItem calls:\t 0\n",
      "Percent out of unsafe const calls:\t 0.0\n",
      "Number of crates:\t 0\n",
      "Percentage:\t\t 0.0\n",
      "\n",
      "Total number of C calls:\t\t 571\n",
      "Percent out of unsafe const calls:\t 19.965034965034963\n",
      "Number of crates:\t 34\n",
      "Percentage:\t\t 13.600000000000001\n",
      "\n",
      "Total number of (user-written) PMU calls:\t\t 616\n",
      "Out of total number user-written unsafe const calls:\t 2860\n",
      "Percent user-written PMU out of const calls:\t\t 21.53846153846154\n",
      "Number of crates:\t 44\n",
      "Percentage:\t\t 17.599999999999998\n"
     ]
    }
   ],
   "source": [
    "# 250\n",
    "print(\"Total number of (user-written) PMU Rust calls:\\t\", len(perf_mot_unsafe_rust_calls_250))\n",
    "print(\"Percent out of unsafe const calls:\\t\\t\", len(perf_mot_unsafe_rust_calls_250)/len(user_written_unsafe_const_calls_250)*100)\n",
    "print(\"Number of crates:\\t\", len(pmu_rust_calls_250.value_counts()))\n",
    "print(\"Percentage:\\t\\t\", len(pmu_rust_calls_250.value_counts())/250*100)\n",
    "print()\n",
    "\n",
    "print(\"Total number of ForeignItem calls:\\t\", len(user_written_unsafe_const_calls_fi_250))\n",
    "print(\"Percent out of unsafe const calls:\\t\", len(user_written_unsafe_const_calls_fi_250)/len(user_written_unsafe_const_calls_250)*100)\n",
    "print(\"Number of crates:\\t\", len(fi_calls_250.value_counts()))\n",
    "print(\"Percentage:\\t\\t\", len(fi_calls_250.value_counts())/250*100)\n",
    "print()\n",
    "\n",
    "print(\"Total number of C calls:\\t\\t\", len(user_written_unsafe_const_calls_c_250))\n",
    "print(\"Percent out of unsafe const calls:\\t\", len(user_written_unsafe_const_calls_c_250)/len(user_written_unsafe_const_calls_250)*100)\n",
    "print(\"Number of crates:\\t\", len(c_calls_250.value_counts()))\n",
    "print(\"Percentage:\\t\\t\", len(c_calls_250.value_counts())/250*100)\n",
    "print()\n",
    "\n",
    "print(\"Total number of (user-written) PMU calls:\\t\\t\", len_all_250)\n",
    "print(\"Out of total number user-written unsafe const calls:\\t\", len(user_written_unsafe_const_calls_250))\n",
    "print(\"Percent user-written PMU out of const calls:\\t\\t\", len_all_250/len(user_written_unsafe_const_calls_250)*100)\n",
    "\n",
    "block_frames = [pmu_rust_calls_250, fi_calls_250, c_calls_250]\n",
    "block_values = pd.concat(block_frames)[0].value_counts()\n",
    "print(\"Number of crates:\\t\", len(block_values))\n",
    "print(\"Percentage:\\t\\t\", len(block_values)/250*100)\n",
    "del len_all_250, block_frames, block_values"
   ]
  },
  {
   "cell_type": "code",
   "execution_count": 66,
   "metadata": {},
   "outputs": [
    {
     "name": "stdout",
     "output_type": "stream",
     "text": [
      "Total number of (user-written) PMU Rust calls:\t 101\n",
      "Percent out of unsafe const calls:\t\t 1.7362901839436136\n",
      "Number of crates:\t 18\n",
      "Percentage:\t\t 3.5999999999999996\n",
      "\n",
      "Total number of ForeignItem calls:\t 0\n",
      "Percent out of unsafe const calls:\t 0.0\n",
      "Number of crates:\t 0\n",
      "Percentage:\t\t 0.0\n",
      "\n",
      "Total number of C calls:\t\t 597\n",
      "Percent out of unsafe const calls:\t 10.263022176379577\n",
      "Number of crates:\t 38\n",
      "Percentage:\t\t 7.6\n",
      "\n",
      "Total number of (user-written) PMU calls:\t\t 698\n",
      "Out of total number user-written unsafe const calls:\t 5817\n",
      "Percent user-written PMU out of const calls:\t\t 11.99931236032319\n",
      "Number of crates:\t 56\n",
      "Percentage:\t\t 11.200000000000001\n"
     ]
    }
   ],
   "source": [
    "# 500\n",
    "print(\"Total number of (user-written) PMU Rust calls:\\t\", len(perf_mot_unsafe_rust_calls_500))\n",
    "print(\"Percent out of unsafe const calls:\\t\\t\", len(perf_mot_unsafe_rust_calls_500)/len(user_written_unsafe_const_calls_500)*100)\n",
    "print(\"Number of crates:\\t\", len(pmu_rust_calls_500.value_counts()))\n",
    "print(\"Percentage:\\t\\t\", len(pmu_rust_calls_500.value_counts())/500*100)\n",
    "print()\n",
    "\n",
    "print(\"Total number of ForeignItem calls:\\t\", len(user_written_unsafe_const_calls_fi_500))\n",
    "print(\"Percent out of unsafe const calls:\\t\", len(user_written_unsafe_const_calls_fi_500)/len(user_written_unsafe_const_calls_500)*100)\n",
    "print(\"Number of crates:\\t\", len(fi_calls_500.value_counts()))\n",
    "print(\"Percentage:\\t\\t\", len(fi_calls_500.value_counts())/500*100)\n",
    "print()\n",
    "\n",
    "print(\"Total number of C calls:\\t\\t\", len(user_written_unsafe_const_calls_c_500))\n",
    "print(\"Percent out of unsafe const calls:\\t\", len(user_written_unsafe_const_calls_c_500)/len(user_written_unsafe_const_calls_500)*100)\n",
    "print(\"Number of crates:\\t\", len(c_calls_500.value_counts()))\n",
    "print(\"Percentage:\\t\\t\", len(c_calls_500.value_counts())/500*100)\n",
    "print()\n",
    "\n",
    "print(\"Total number of (user-written) PMU calls:\\t\\t\", len_all_500)\n",
    "print(\"Out of total number user-written unsafe const calls:\\t\", len(user_written_unsafe_const_calls_500))\n",
    "print(\"Percent user-written PMU out of const calls:\\t\\t\", len_all_500/len(user_written_unsafe_const_calls_500)*100)\n",
    "\n",
    "block_frames = [pmu_rust_calls_500, fi_calls_500, c_calls_500]\n",
    "block_values = pd.concat(block_frames)[0].value_counts()\n",
    "print(\"Number of crates:\\t\", len(block_values))\n",
    "print(\"Percentage:\\t\\t\", len(block_values)/500*100)\n",
    "del len_all_500, block_frames, block_values"
   ]
  },
  {
   "cell_type": "code",
   "execution_count": 67,
   "metadata": {},
   "outputs": [
    {
     "name": "stdout",
     "output_type": "stream",
     "text": [
      "Total number of (user-written) PMU Rust calls:\t 101\n",
      "Percent out of unsafe const calls:\t\t 1.7327157316863955\n",
      "Number of crates:\t 18\n",
      "Percentage:\t\t 1.7999999999999998\n",
      "\n",
      "Total number of ForeignItem calls:\t 0\n",
      "Percent out of unsafe const calls:\t 0.0\n",
      "Number of crates:\t 0\n",
      "Percentage:\t\t 0.0\n",
      "\n",
      "Total number of C calls:\t\t 597\n",
      "Percent out of unsafe const calls:\t 10.241893978383942\n",
      "Number of crates:\t 38\n",
      "Percentage:\t\t 3.8\n",
      "\n",
      "Total number of (user-written) PMU calls:\t\t 698\n",
      "Out of total number user-written unsafe const calls:\t 5829\n",
      "Percent user-written PMU out of const calls:\t\t 11.97460971007034\n",
      "Number of crates:\t 56\n",
      "Percentage:\t\t 5.6000000000000005\n"
     ]
    }
   ],
   "source": [
    "# 1000\n",
    "print(\"Total number of (user-written) PMU Rust calls:\\t\", len(perf_mot_unsafe_rust_calls_1000))\n",
    "print(\"Percent out of unsafe const calls:\\t\\t\", len(perf_mot_unsafe_rust_calls_1000)/len(user_written_unsafe_const_calls_1000)*100)\n",
    "print(\"Number of crates:\\t\", len(pmu_rust_calls_1000.value_counts()))\n",
    "print(\"Percentage:\\t\\t\", len(pmu_rust_calls_1000.value_counts())/1000*100)\n",
    "print()\n",
    "\n",
    "print(\"Total number of ForeignItem calls:\\t\", len(user_written_unsafe_const_calls_fi_1000))\n",
    "print(\"Percent out of unsafe const calls:\\t\", len(user_written_unsafe_const_calls_fi_1000)/len(user_written_unsafe_const_calls_1000)*100)\n",
    "print(\"Number of crates:\\t\", len(fi_calls_1000.value_counts()))\n",
    "print(\"Percentage:\\t\\t\", len(fi_calls_1000.value_counts())/1000*100)\n",
    "print()\n",
    "\n",
    "print(\"Total number of C calls:\\t\\t\", len(user_written_unsafe_const_calls_c_1000))\n",
    "print(\"Percent out of unsafe const calls:\\t\", len(user_written_unsafe_const_calls_c_1000)/len(user_written_unsafe_const_calls_1000)*100)\n",
    "print(\"Number of crates:\\t\", len(c_calls_1000.value_counts()))\n",
    "print(\"Percentage:\\t\\t\", len(c_calls_1000.value_counts())/1000*100)\n",
    "print()\n",
    "\n",
    "print(\"Total number of (user-written) PMU calls:\\t\\t\", len_all_1000)\n",
    "print(\"Out of total number user-written unsafe const calls:\\t\", len(user_written_unsafe_const_calls_1000))\n",
    "print(\"Percent user-written PMU out of const calls:\\t\\t\", len_all_1000/len(user_written_unsafe_const_calls_1000)*100)\n",
    "\n",
    "block_frames = [pmu_rust_calls_1000, fi_calls_1000, c_calls_1000]\n",
    "block_values = pd.concat(block_frames)[0].value_counts()\n",
    "print(\"Number of crates:\\t\", len(block_values))\n",
    "print(\"Percentage:\\t\\t\", len(block_values)/1000*100)\n",
    "del len_all_1000, block_frames, block_values"
   ]
  },
  {
   "cell_type": "code",
   "execution_count": 68,
   "metadata": {},
   "outputs": [
    {
     "name": "stdout",
     "output_type": "stream",
     "text": [
      "Total number of (user-written) PMU Rust calls:\t 3394\n",
      "Percent out of unsafe const calls:\t\t 14.300160107862139\n",
      "Number of crates:\t 133\n",
      "Percentage:\t\t 26.078431372549023\n",
      "\n",
      "Total number of ForeignItem calls:\t 0\n",
      "Percent out of unsafe const calls:\t 0.0\n",
      "Number of crates:\t 0\n",
      "Percentage:\t\t 0.0\n",
      "\n",
      "Total number of C calls:\t\t 2252\n",
      "Percent out of unsafe const calls:\t 9.488497514114771\n",
      "Number of crates:\t 51\n",
      "Percentage:\t\t 10.0\n",
      "\n",
      "Total number of (user-written) PMU calls:\t\t 5646\n",
      "Out of total number user-written unsafe const calls:\t 23734\n",
      "Percent user-written PMU out of const calls:\t\t 23.78865762197691\n",
      "Number of crates:\t 155\n",
      "Percentage:\t\t 30.392156862745097\n"
     ]
    }
   ],
   "source": [
    "# ALL\n",
    "print(\"Total number of (user-written) PMU Rust calls:\\t\", len(perf_mot_unsafe_rust_calls))\n",
    "print(\"Percent out of unsafe const calls:\\t\\t\", len(perf_mot_unsafe_rust_calls)/len(user_written_unsafe_const_calls)*100)\n",
    "print(\"Number of crates:\\t\", len(pmu_rust_calls.value_counts()))\n",
    "print(\"Percentage:\\t\\t\", len(pmu_rust_calls.value_counts())/len(selected_builds)*100)\n",
    "print()\n",
    "\n",
    "print(\"Total number of ForeignItem calls:\\t\", len(user_written_unsafe_const_calls_fi))\n",
    "print(\"Percent out of unsafe const calls:\\t\", len(user_written_unsafe_const_calls_fi)/len(user_written_unsafe_const_calls)*100)\n",
    "print(\"Number of crates:\\t\", len(fi_calls.value_counts()))\n",
    "print(\"Percentage:\\t\\t\", len(fi_calls.value_counts())/len(selected_builds)*100)\n",
    "print()\n",
    "\n",
    "print(\"Total number of C calls:\\t\\t\", len(user_written_unsafe_const_calls_c))\n",
    "print(\"Percent out of unsafe const calls:\\t\", len(user_written_unsafe_const_calls_c)/len(user_written_unsafe_const_calls)*100)\n",
    "print(\"Number of crates:\\t\", len(c_calls.value_counts()))\n",
    "print(\"Percentage:\\t\\t\", len(c_calls.value_counts())/len(selected_builds)*100)\n",
    "print()\n",
    "\n",
    "print(\"Total number of (user-written) PMU calls:\\t\\t\", len_all)\n",
    "print(\"Out of total number user-written unsafe const calls:\\t\", len(user_written_unsafe_const_calls))\n",
    "print(\"Percent user-written PMU out of const calls:\\t\\t\", len_all/len(user_written_unsafe_const_calls)*100)\n",
    "\n",
    "block_frames = [pmu_rust_calls, fi_calls, c_calls]\n",
    "block_values = pd.concat(block_frames)[0].value_counts()\n",
    "print(\"Number of crates:\\t\", len(block_values))\n",
    "print(\"Percentage:\\t\\t\", len(block_values)/len(selected_builds)*100)\n",
    "del len_all, block_frames, block_values"
   ]
  },
  {
   "cell_type": "code",
   "execution_count": 69,
   "metadata": {},
   "outputs": [
    {
     "name": "stdout",
     "output_type": "stream",
     "text": [
      "Total number of ForeignItem definitions: 875\n",
      "Percent out of unsafe definitions:\t 52.207637231503575\n",
      "Number of crates:\t 6\n",
      "Percentage:\t\t 2.4\n",
      "\n",
      "Total number of C definitions:\t\t 47\n",
      "Percent out of unsafe definitions:\t 2.8042959427207634\n",
      "Number of crates:\t 4\n",
      "Percentage:\t\t 1.6\n",
      "\n",
      "Total number of PMU definitions:\t 922\n",
      "Total number of unsafe function defs:\t 1676\n",
      "Percent PMU out of unsafe definitions:\t 55.011933174224346\n",
      "Number of crates:\t 7\n",
      "Percentage:\t\t 2.8000000000000003\n"
     ]
    }
   ],
   "source": [
    "# 250\n",
    "len_all = len(def_c_funcs_250) + len(def_fi_funcs_250)\n",
    "\n",
    "print(\"Total number of ForeignItem definitions:\", len(def_fi_funcs_250))\n",
    "print(\"Percent out of unsafe definitions:\\t\", len(def_fi_funcs_250)/len(unsafe_function_definitions_250)*100)\n",
    "print(\"Number of crates:\\t\", len(def_fi_funcs_250.crate.value_counts()))\n",
    "print(\"Percentage:\\t\\t\", len(def_fi_funcs_250.crate.value_counts())/250*100)\n",
    "print()\n",
    "\n",
    "print(\"Total number of C definitions:\\t\\t\", len(def_c_funcs_250))\n",
    "print(\"Percent out of unsafe definitions:\\t\", len(def_c_funcs_250)/len(unsafe_function_definitions_250)*100)\n",
    "print(\"Number of crates:\\t\", len(def_c_funcs_250.crate.value_counts()))\n",
    "print(\"Percentage:\\t\\t\", len(def_c_funcs_250.crate.value_counts())/250*100)\n",
    "print()\n",
    "\n",
    "print(\"Total number of PMU definitions:\\t\", len_all)\n",
    "print(\"Total number of unsafe function defs:\\t\", len(unsafe_function_definitions_250))\n",
    "print(\"Percent PMU out of unsafe definitions:\\t\", len_all/len(unsafe_function_definitions_250)*100)\n",
    "\n",
    "block_frames = [def_c_funcs_250, def_fi_funcs_250]\n",
    "block_values = pd.concat(block_frames).crate.value_counts()\n",
    "print(\"Number of crates:\\t\", len(block_values))\n",
    "print(\"Percentage:\\t\\t\", len(block_values)/250*100)\n",
    "del len_all, block_frames, block_values"
   ]
  },
  {
   "cell_type": "code",
   "execution_count": 70,
   "metadata": {},
   "outputs": [
    {
     "name": "stdout",
     "output_type": "stream",
     "text": [
      "Total number of ForeignItem definitions: 907\n",
      "Percent out of unsafe definitions:\t 42.28438228438228\n",
      "Number of crates:\t 12\n",
      "Percentage:\t\t 2.4\n",
      "\n",
      "Total number of C definitions:\t\t 78\n",
      "Percent out of unsafe definitions:\t 3.6363636363636362\n",
      "Number of crates:\t 5\n",
      "Percentage:\t\t 1.0\n",
      "\n",
      "Total number of PMU definitions:\t 985\n",
      "Total number of unsafe function defs:\t 2145\n",
      "Percent PMU out of unsafe definitions:\t 45.92074592074592\n",
      "Number of crates:\t 14\n",
      "Percentage:\t\t 2.8000000000000003\n"
     ]
    }
   ],
   "source": [
    "# 500\n",
    "len_all = len(def_c_funcs_500) + len(def_fi_funcs_500)\n",
    "\n",
    "print(\"Total number of ForeignItem definitions:\", len(def_fi_funcs_500))\n",
    "print(\"Percent out of unsafe definitions:\\t\", len(def_fi_funcs_500)/len(unsafe_function_definitions_500)*100)\n",
    "print(\"Number of crates:\\t\", len(def_fi_funcs_500.crate.value_counts()))\n",
    "print(\"Percentage:\\t\\t\", len(def_fi_funcs_500.crate.value_counts())/500*100)\n",
    "print()\n",
    "\n",
    "print(\"Total number of C definitions:\\t\\t\", len(def_c_funcs_500))\n",
    "print(\"Percent out of unsafe definitions:\\t\", len(def_c_funcs_500)/len(unsafe_function_definitions_500)*100)\n",
    "print(\"Number of crates:\\t\", len(def_c_funcs_500.crate.value_counts()))\n",
    "print(\"Percentage:\\t\\t\", len(def_c_funcs_500.crate.value_counts())/500*100)\n",
    "print()\n",
    "\n",
    "print(\"Total number of PMU definitions:\\t\", len_all)\n",
    "print(\"Total number of unsafe function defs:\\t\", len(unsafe_function_definitions_500))\n",
    "print(\"Percent PMU out of unsafe definitions:\\t\", len_all/len(unsafe_function_definitions_500)*100)\n",
    "\n",
    "block_frames = [def_c_funcs_500, def_fi_funcs_500]\n",
    "block_values = pd.concat(block_frames).crate.value_counts()\n",
    "print(\"Number of crates:\\t\", len(block_values))\n",
    "print(\"Percentage:\\t\\t\", len(block_values)/500*100)\n",
    "del len_all, block_frames, block_values"
   ]
  },
  {
   "cell_type": "code",
   "execution_count": 71,
   "metadata": {},
   "outputs": [
    {
     "name": "stdout",
     "output_type": "stream",
     "text": [
      "Total number of ForeignItem definitions: 907\n",
      "Percent out of unsafe definitions:\t 42.264678471575024\n",
      "Number of crates:\t 12\n",
      "Percentage:\t\t 1.2\n",
      "\n",
      "Total number of C definitions:\t\t 78\n",
      "Percent out of unsafe definitions:\t 3.6346691519105314\n",
      "Number of crates:\t 5\n",
      "Percentage:\t\t 0.5\n",
      "\n",
      "Total number of PMU definitions:\t 985\n",
      "Total number of unsafe function defs:\t 2146\n",
      "Percent PMU out of unsafe definitions:\t 45.89934762348555\n",
      "Number of crates:\t 14\n",
      "Percentage:\t\t 1.4000000000000001\n"
     ]
    }
   ],
   "source": [
    "# 1000\n",
    "len_all = len(def_c_funcs_1000) + len(def_fi_funcs_1000)\n",
    "\n",
    "print(\"Total number of ForeignItem definitions:\", len(def_fi_funcs_1000))\n",
    "print(\"Percent out of unsafe definitions:\\t\", len(def_fi_funcs_1000)/len(unsafe_function_definitions_1000)*100)\n",
    "print(\"Number of crates:\\t\", len(def_fi_funcs_1000.crate.value_counts()))\n",
    "print(\"Percentage:\\t\\t\", len(def_fi_funcs_1000.crate.value_counts())/1000*100)\n",
    "print()\n",
    "\n",
    "print(\"Total number of C definitions:\\t\\t\", len(def_c_funcs_1000))\n",
    "print(\"Percent out of unsafe definitions:\\t\", len(def_c_funcs_1000)/len(unsafe_function_definitions_1000)*100)\n",
    "print(\"Number of crates:\\t\", len(def_c_funcs_1000.crate.value_counts()))\n",
    "print(\"Percentage:\\t\\t\", len(def_c_funcs_1000.crate.value_counts())/1000*100)\n",
    "print()\n",
    "\n",
    "print(\"Total number of PMU definitions:\\t\", len_all)\n",
    "print(\"Total number of unsafe function defs:\\t\", len(unsafe_function_definitions_1000))\n",
    "print(\"Percent PMU out of unsafe definitions:\\t\", len_all/len(unsafe_function_definitions_1000)*100)\n",
    "\n",
    "block_frames = [def_c_funcs_1000, def_fi_funcs_1000]\n",
    "block_values = pd.concat(block_frames).crate.value_counts()\n",
    "print(\"Number of crates:\\t\", len(block_values))\n",
    "print(\"Percentage:\\t\\t\", len(block_values)/1000*100)\n",
    "del len_all, block_frames, block_values"
   ]
  },
  {
   "cell_type": "code",
   "execution_count": 72,
   "metadata": {},
   "outputs": [
    {
     "name": "stdout",
     "output_type": "stream",
     "text": [
      "Total number of ForeignItem definitions: 3478\n",
      "Percent out of unsafe definitions:\t 54.74578939083897\n",
      "Number of crates:\t 31\n",
      "Percentage:\t\t 6.078431372549019\n",
      "\n",
      "Total number of C definitions:\t\t 176\n",
      "Percent out of unsafe definitions:\t 2.7703447190303794\n",
      "Number of crates:\t 7\n",
      "Percentage:\t\t 1.3725490196078431\n",
      "\n",
      "Total number of PMU definitions:\t 3654\n",
      "Total number of unsafe function defs:\t 6353\n",
      "Percent PMU out of unsafe definitions:\t 57.516134109869355\n",
      "Number of crates:\t 35\n",
      "Percentage:\t\t 6.862745098039216\n"
     ]
    }
   ],
   "source": [
    "# ALL\n",
    "len_all = len(def_c_funcs) + len(def_fi_funcs)\n",
    "\n",
    "print(\"Total number of ForeignItem definitions:\", len(def_fi_funcs))\n",
    "print(\"Percent out of unsafe definitions:\\t\", len(def_fi_funcs)/len(unsafe_function_definitions)*100)\n",
    "print(\"Number of crates:\\t\", len(def_fi_funcs.crate.value_counts()))\n",
    "print(\"Percentage:\\t\\t\", len(def_fi_funcs.crate.value_counts())/len(selected_builds)*100)\n",
    "print()\n",
    "\n",
    "print(\"Total number of C definitions:\\t\\t\", len(def_c_funcs))\n",
    "print(\"Percent out of unsafe definitions:\\t\", len(def_c_funcs)/len(unsafe_function_definitions)*100)\n",
    "print(\"Number of crates:\\t\", len(def_c_funcs.crate.value_counts()))\n",
    "print(\"Percentage:\\t\\t\", len(def_c_funcs.crate.value_counts())/len(selected_builds)*100)\n",
    "print()\n",
    "\n",
    "print(\"Total number of PMU definitions:\\t\", len_all)\n",
    "print(\"Total number of unsafe function defs:\\t\", len(unsafe_function_definitions))\n",
    "print(\"Percent PMU out of unsafe definitions:\\t\", len_all/len(unsafe_function_definitions)*100)\n",
    "\n",
    "block_frames = [def_c_funcs, def_fi_funcs]\n",
    "block_values = pd.concat(block_frames).crate.value_counts()\n",
    "print(\"Number of crates:\\t\", len(block_values))\n",
    "print(\"Percentage:\\t\\t\", len(block_values)/len(selected_builds)*100)\n",
    "del len_all, block_frames, block_values"
   ]
  },
  {
   "cell_type": "code",
   "execution_count": 73,
   "metadata": {},
   "outputs": [
    {
     "name": "stdout",
     "output_type": "stream",
     "text": [
      "Number of crates:\t 44\n",
      "Percentage:\t\t 17.599999999999998\n",
      "\n",
      "List of 20 crates with the most performance-motivated unsafe code:\n",
      "(nix, 887ec1e304ae466c)                     361\n",
      "(ring, 57d7c3f120e595e4)                     55\n",
      "(socket2, 6869bbcc40c6bc36)                  24\n",
      "(mio_uds, e228ae90eac32a2f)                  17\n",
      "(http, 6808a9d62e774206)                     14\n",
      "(net2, ba284078fdc84fc3)                     13\n",
      "(thread_local, 34efe6da1e3a2913)             12\n",
      "(signal_hook, 2b414ebdbbd10809)              10\n",
      "(inotify, c46328d0c3387f4)                    9\n",
      "(console, 2b9352d588c33c7a)                   9\n",
      "(signal_hook_registry, b1e43c155a08b3f2)      8\n",
      "(jobserver, 1654b3ded9fdd17e)                 6\n",
      "(memmap, bb65f38020be9e9d)                    6\n",
      "(arrayvec, 8c2a468fe9f17483)                  6\n",
      "(filetime, cf26ac4be91f847a)                  5\n",
      "(backtrace, 75be4f73c27229b0)                 5\n",
      "(getrandom, 223655fb17bc169d)                 5\n",
      "(h2, 4779d0bf4289d5ab)                        4\n",
      "(fs2, f0009d4c0770462b)                       4\n",
      "(num_cpus, 65825e109015cc49)                  3\n",
      "Name: 0, dtype: int64\n"
     ]
    }
   ],
   "source": [
    "# Total PMU code - top 250\n",
    "block_frames = [pmu_rust_calls_250, c_calls_250, fi_calls_250, def_c_funcs_250, def_fi_funcs_250] # defs actually make no difference\n",
    "block_values = pd.concat(block_frames)[0].value_counts()\n",
    "\n",
    "print(\"Number of crates:\\t\", len(block_values))\n",
    "print(\"Percentage:\\t\\t\", len(block_values)/250*100)\n",
    "print()\n",
    "print(\"List of 20 crates with the most performance-motivated unsafe code:\")\n",
    "print(block_values[:20])\n",
    "del block_frames, block_values"
   ]
  },
  {
   "cell_type": "code",
   "execution_count": 74,
   "metadata": {},
   "outputs": [
    {
     "name": "stdout",
     "output_type": "stream",
     "text": [
      "Number of crates:\t 56\n",
      "Percentage:\t\t 11.200000000000001\n",
      "\n",
      "List of 20 crates with the most performance-motivated unsafe code:\n",
      "(nix, 887ec1e304ae466c)                     361\n",
      "(ring, 57d7c3f120e595e4)                     55\n",
      "(socket2, 6869bbcc40c6bc36)                  24\n",
      "(mio_uds, e228ae90eac32a2f)                  17\n",
      "(http, 6808a9d62e774206)                     14\n",
      "(json, 79b54c8356a47b67)                     14\n",
      "(termios, 13531b8948f1d924)                  13\n",
      "(net2, ba284078fdc84fc3)                     13\n",
      "(thread_local, 34efe6da1e3a2913)             12\n",
      "(signal_hook, 2b414ebdbbd10809)              10\n",
      "(console, 2b9352d588c33c7a)                   9\n",
      "(inotify, c46328d0c3387f4)                    9\n",
      "(signal_hook_registry, b1e43c155a08b3f2)      8\n",
      "(pest, 90a091c6ae19edc6)                      8\n",
      "(criterion, 8abcfaebda0e558c)                 7\n",
      "(encode_unicode, 299827f135e2155b)            7\n",
      "(ascii, a5f83482bb64d06b)                     7\n",
      "(arrayvec, 8c2a468fe9f17483)                  6\n",
      "(termion, cfcbc4e8a00e7eaa)                   6\n",
      "(bytecount, f10097f5caefdc70)                 6\n",
      "Name: 0, dtype: int64\n"
     ]
    }
   ],
   "source": [
    "# Total PMU code - top 500\n",
    "block_frames = [pmu_rust_calls_500, c_calls_500, fi_calls_500, def_c_funcs_500, def_fi_funcs_500] # defs actually make no difference\n",
    "block_values = pd.concat(block_frames)[0].value_counts()\n",
    "\n",
    "print(\"Number of crates:\\t\", len(block_values))\n",
    "print(\"Percentage:\\t\\t\", len(block_values)/500*100)\n",
    "print()\n",
    "print(\"List of 20 crates with the most performance-motivated unsafe code:\")\n",
    "print(block_values[:20])\n",
    "del block_frames, block_values"
   ]
  },
  {
   "cell_type": "code",
   "execution_count": 75,
   "metadata": {},
   "outputs": [
    {
     "name": "stdout",
     "output_type": "stream",
     "text": [
      "Number of crates:\t 56\n",
      "Percentage:\t\t 5.6000000000000005\n",
      "\n",
      "List of 20 crates with the most performance-motivated unsafe code:\n",
      "(nix, 887ec1e304ae466c)                     361\n",
      "(ring, 57d7c3f120e595e4)                     55\n",
      "(socket2, 6869bbcc40c6bc36)                  24\n",
      "(mio_uds, e228ae90eac32a2f)                  17\n",
      "(http, 6808a9d62e774206)                     14\n",
      "(json, 79b54c8356a47b67)                     14\n",
      "(termios, 13531b8948f1d924)                  13\n",
      "(net2, ba284078fdc84fc3)                     13\n",
      "(thread_local, 34efe6da1e3a2913)             12\n",
      "(signal_hook, 2b414ebdbbd10809)              10\n",
      "(console, 2b9352d588c33c7a)                   9\n",
      "(inotify, c46328d0c3387f4)                    9\n",
      "(signal_hook_registry, b1e43c155a08b3f2)      8\n",
      "(pest, 90a091c6ae19edc6)                      8\n",
      "(criterion, 8abcfaebda0e558c)                 7\n",
      "(encode_unicode, 299827f135e2155b)            7\n",
      "(ascii, a5f83482bb64d06b)                     7\n",
      "(arrayvec, 8c2a468fe9f17483)                  6\n",
      "(termion, cfcbc4e8a00e7eaa)                   6\n",
      "(bytecount, f10097f5caefdc70)                 6\n",
      "Name: 0, dtype: int64\n"
     ]
    }
   ],
   "source": [
    "# Total PMU code - top 1000\n",
    "block_frames = [pmu_rust_calls_1000, c_calls_1000, fi_calls_1000, def_c_funcs_1000, def_fi_funcs_1000] # defs actually make no difference\n",
    "block_values = pd.concat(block_frames)[0].value_counts()\n",
    "\n",
    "print(\"Number of crates:\\t\", len(block_values))\n",
    "print(\"Percentage:\\t\\t\", len(block_values)/1000*100)\n",
    "print()\n",
    "print(\"List of 20 crates with the most performance-motivated unsafe code:\")\n",
    "print(block_values[:20])\n",
    "del block_frames, block_values"
   ]
  },
  {
   "cell_type": "code",
   "execution_count": 76,
   "metadata": {},
   "outputs": [
    {
     "name": "stdout",
     "output_type": "stream",
     "text": [
      "Number of crates:\t 155\n",
      "Percentage:\t\t 30.392156862745097\n",
      "\n",
      "List of 20 crates with the most performance-motivated unsafe code:\n",
      "(openssl, e0a61a472766a940)               903\n",
      "(git2, 1f7321677b9caa95)                  578\n",
      "(futures_util, 12b18cbb38d82e85)          455\n",
      "(nix, 887ec1e304ae466c)                   414\n",
      "(ppv_lite86, 8f7f8b0411c06b17)            366\n",
      "(lexical_core, e1470018361eb732)          258\n",
      "(tokio, 8c26b051124c49b3)                 221\n",
      "(actix_web, baf8718645b0d8b)              190\n",
      "(encoding_rs, 31e96fc597d9d5fc)           178\n",
      "(core_foundation, fd9e7bfc17ad8030)       170\n",
      "(ring, 57d7c3f120e595e4)                  164\n",
      "(byteorder, 6c647b065da2cdba)             142\n",
      "(generic_array, de092b675d6ebae)           82\n",
      "(security_framework, 870f742179095607)     81\n",
      "(ahash, d6afb292932ea61a)                  77\n",
      "(crypto, 44cdc7433e3acc7d)                 76\n",
      "(hyper, 7113324d1b5fa109)                  71\n",
      "(rand, 7ee2ef94785bad32)                   68\n",
      "(rayon, adfcf1b0135a2616)                  63\n",
      "(itoa, cd6daa548f6d5ead)                   60\n",
      "Name: 0, dtype: int64\n"
     ]
    }
   ],
   "source": [
    "# Total PMU code - ALL\n",
    "block_frames = [pmu_rust_calls, c_calls, fi_calls, def_c_funcs, def_fi_funcs] # defs actually make no difference\n",
    "block_values = pd.concat(block_frames)[0].value_counts()\n",
    "\n",
    "print(\"Number of crates:\\t\", len(block_values))\n",
    "print(\"Percentage:\\t\\t\", len(block_values)/len(selected_builds)*100)\n",
    "print()\n",
    "print(\"List of 20 crates with the most performance-motivated unsafe code:\")\n",
    "print(block_values[:20])\n",
    "del block_frames, block_values"
   ]
  },
  {
   "cell_type": "code",
   "execution_count": 77,
   "metadata": {},
   "outputs": [
    {
     "name": "stdout",
     "output_type": "stream",
     "text": [
      "Number of crates that use get_unchecked[_mut]:\t 3\n"
     ]
    },
    {
     "data": {
      "text/plain": [
       "(arrayvec, 0.5.1)     5\n",
       "(petgraph, 0.5.1)     2\n",
       "(once_cell, 1.4.1)    2\n",
       "dtype: int64"
      ]
     },
     "execution_count": 77,
     "metadata": {},
     "output_type": "execute_result"
    }
   ],
   "source": [
    "# Filter for perf-mot functions within Rust - 250\n",
    "unchecked_250 = set([\n",
    "    x\n",
    "    for x in user_written_unsafe_const_calls_rust_250.def_path.unique()\n",
    "    if (\"get_unchecked\" in x)\n",
    "])\n",
    "\n",
    "unchecked_calls_250 = user_written_unsafe_const_calls_rust_250[\n",
    "    user_written_unsafe_const_calls_rust_250.def_path.isin(unchecked_250)\n",
    "]\n",
    "cleaned_unchecked_calls_250 = unchecked_calls_250[['crate_callsite', 'package_version']].apply(\n",
    "    lambda row: (row['crate_callsite'], row['package_version']), axis=1\n",
    ").squeeze().value_counts()\n",
    "print(\"Number of crates that use get_unchecked[_mut]:\\t\", len(cleaned_unchecked_calls_250))\n",
    "cleaned_unchecked_calls_250"
   ]
  },
  {
   "cell_type": "code",
   "execution_count": 78,
   "metadata": {},
   "outputs": [
    {
     "name": "stdout",
     "output_type": "stream",
     "text": [
      "Number of crates that use get_unchecked[_mut]:\t 3\n"
     ]
    },
    {
     "data": {
      "text/plain": [
       "(arrayvec, 0.5.1)     5\n",
       "(petgraph, 0.5.1)     2\n",
       "(once_cell, 1.4.1)    2\n",
       "dtype: int64"
      ]
     },
     "execution_count": 78,
     "metadata": {},
     "output_type": "execute_result"
    }
   ],
   "source": [
    "# Filter for perf-mot functions within Rust - 500\n",
    "unchecked_500 = set([\n",
    "    x\n",
    "    for x in user_written_unsafe_const_calls_rust_500.def_path.unique()\n",
    "    if (\"get_unchecked\" in x)\n",
    "])\n",
    "\n",
    "unchecked_calls_500 = user_written_unsafe_const_calls_rust_500[\n",
    "    user_written_unsafe_const_calls_rust_500.def_path.isin(unchecked_500)\n",
    "]\n",
    "cleaned_unchecked_calls_500 = unchecked_calls_500[['crate_callsite', 'package_version']].apply(\n",
    "    lambda row: (row['crate_callsite'], row['package_version']), axis=1\n",
    ").squeeze().value_counts()\n",
    "print(\"Number of crates that use get_unchecked[_mut]:\\t\", len(cleaned_unchecked_calls_500))\n",
    "cleaned_unchecked_calls_500"
   ]
  },
  {
   "cell_type": "code",
   "execution_count": 79,
   "metadata": {},
   "outputs": [
    {
     "name": "stdout",
     "output_type": "stream",
     "text": [
      "Number of crates that use get_unchecked[_mut]:\t 3\n"
     ]
    },
    {
     "data": {
      "text/plain": [
       "(arrayvec, 0.5.1)     5\n",
       "(petgraph, 0.5.1)     2\n",
       "(once_cell, 1.4.1)    2\n",
       "dtype: int64"
      ]
     },
     "execution_count": 79,
     "metadata": {},
     "output_type": "execute_result"
    }
   ],
   "source": [
    "# Filter for perf-mot functions within Rust - 1000\n",
    "unchecked_1000 = set([\n",
    "    x\n",
    "    for x in user_written_unsafe_const_calls_rust_1000.def_path.unique()\n",
    "    if (\"get_unchecked\" in x)\n",
    "])\n",
    "\n",
    "unchecked_calls_1000 = user_written_unsafe_const_calls_rust_1000[\n",
    "    user_written_unsafe_const_calls_rust_1000.def_path.isin(unchecked_1000)\n",
    "]\n",
    "cleaned_unchecked_calls_1000 = unchecked_calls_1000[['crate_callsite', 'package_version']].apply(\n",
    "    lambda row: (row['crate_callsite'], row['package_version']), axis=1\n",
    ").squeeze().value_counts()\n",
    "print(\"Number of crates that use get_unchecked[_mut]:\\t\", len(cleaned_unchecked_calls_1000))\n",
    "cleaned_unchecked_calls_1000"
   ]
  },
  {
   "cell_type": "code",
   "execution_count": 80,
   "metadata": {},
   "outputs": [
    {
     "name": "stdout",
     "output_type": "stream",
     "text": [
      "Number of crates that use get_unchecked[_mut]:\t 38\n"
     ]
    },
    {
     "data": {
      "text/plain": [
       "(lexical_core, 0.7.4)         245\n",
       "(futures_util, 0.3.6)         119\n",
       "(encoding_rs, 0.8.24)         113\n",
       "(tokio, 0.2.22)                68\n",
       "(priority_queue, 1.0.2)        54\n",
       "(actix_web, 3.1.0)             31\n",
       "(rayon, 1.4.1)                 30\n",
       "(crypto, 0.2.36)               24\n",
       "(hyper, 0.13.8)                21\n",
       "(combine, 4.3.2)               17\n",
       "(rand_hc, 0.2.0)               16\n",
       "(json, 0.12.4)                 12\n",
       "(fixedbitset, 0.3.1)           10\n",
       "(crossbeam_deque, 0.8.0)       10\n",
       "(httparse, 1.3.4)               9\n",
       "(tokio_util, 0.3.1)             6\n",
       "(petgraph, 0.5.1)               5\n",
       "(arrayvec, 0.5.1)               5\n",
       "(futures_task, 0.3.6)           5\n",
       "(reqwest, 0.10.8)               5\n",
       "(ryu, 1.0.5)                    4\n",
       "(siphasher, 0.3.3)              4\n",
       "(crossbeam_queue, 0.3.0)        3\n",
       "(sized_chunks, 0.6.2)           3\n",
       "(bstr, 0.2.13)                  3\n",
       "(rand_core, 0.5.1)              2\n",
       "(futf, 0.1.4)                   2\n",
       "(criterion, 0.3.3)              2\n",
       "(generic_array, 0.14.4)         2\n",
       "(tracing, 0.1.21)               2\n",
       "(futures_sink, 0.3.6)           2\n",
       "(once_cell, 1.4.1)              2\n",
       "(core_foundation, 0.9.1)        1\n",
       "(prost, 0.6.1)                  1\n",
       "(aho_corasick, 0.7.14)          1\n",
       "(copyless, 0.1.5)               1\n",
       "(crossbeam_channel, 0.5.0)      1\n",
       "(widestring, 0.4.3)             1\n",
       "dtype: int64"
      ]
     },
     "execution_count": 80,
     "metadata": {},
     "output_type": "execute_result"
    }
   ],
   "source": [
    "# Filter for perf-mot functions within Rust\n",
    "unchecked = set([\n",
    "    x\n",
    "    for x in user_written_unsafe_const_calls_rust.def_path.unique()\n",
    "    if (\"get_unchecked\" in x)\n",
    "])\n",
    "\n",
    "unchecked_calls = user_written_unsafe_const_calls_rust[\n",
    "    user_written_unsafe_const_calls_rust.def_path.isin(unchecked)\n",
    "]\n",
    "cleaned_unchecked_calls = unchecked_calls[['crate_callsite', 'package_version']].apply(\n",
    "    lambda row: (row['crate_callsite'], row['package_version']), axis=1\n",
    ").squeeze().value_counts()\n",
    "print(\"Number of crates that use get_unchecked[_mut]:\\t\", len(cleaned_unchecked_calls))\n",
    "cleaned_unchecked_calls"
   ]
  },
  {
   "cell_type": "code",
   "execution_count": null,
   "metadata": {},
   "outputs": [],
   "source": []
  }
 ],
 "metadata": {
  "kernelspec": {
   "display_name": "Python 3",
   "language": "python",
   "name": "python3"
  },
  "language_info": {
   "codemirror_mode": {
    "name": "ipython",
    "version": 3
   },
   "file_extension": ".py",
   "mimetype": "text/x-python",
   "name": "python",
   "nbconvert_exporter": "python",
   "pygments_lexer": "ipython3",
   "version": "3.8.6"
  }
 },
 "nbformat": 4,
 "nbformat_minor": 4
}
