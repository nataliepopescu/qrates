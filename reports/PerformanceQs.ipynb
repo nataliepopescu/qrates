{
 "cells": [
  {
   "cell_type": "code",
   "execution_count": 1,
   "metadata": {},
   "outputs": [],
   "source": [
    "import matplotlib.pyplot as plt\n",
    "import pandas as pd\n",
    "import utils\n",
    "from whitelists import *\n",
    "import top_crates\n",
    "import functools\n",
    "\n",
    "# Configure pyplot: enlarge plots \n",
    "plt.rcParams['figure.figsize'] = [15, 8]\n",
    "# Configure pandas: show all columns when printing a dataframe\n",
    "pd.set_option('display.max_columns', None)\n",
    "# Configure pandas: show more rows when printing a dataframe\n",
    "pd.set_option('display.min_rows', 20)"
   ]
  },
  {
   "cell_type": "code",
   "execution_count": 2,
   "metadata": {},
   "outputs": [],
   "source": [
    "# Load tables\n",
    "function_definitions = utils.load_selected_function_definitions()\n",
    "raw_function_unsafe_reasons = utils.load_unsafe_reasons_in_function_definitions()\n",
    "unsafe_block_calls = utils.load_unsafe_block_calls()\n",
    "const_calls = utils.load_const_calls()\n",
    "unsafe_blocks = utils.load_unsafe_blocks()\n",
    "traits = utils.load_selected_traits()\n",
    "traits_impls = utils.load_selected_impl_definitions()\n",
    "type_defs = utils.load_selected_type_defs()\n",
    "adts = utils.load_selected_adts()\n",
    "adt_field_types = utils.load_selected_adt_field_types()\n",
    "selected_builds = utils.load_selected_builds()"
   ]
  },
  {
   "cell_type": "code",
   "execution_count": 3,
   "metadata": {},
   "outputs": [],
   "source": [
    "# Cleanup: remove duplicates\n",
    "raw_function_unsafe_reasons = raw_function_unsafe_reasons.drop_duplicates()\n",
    "\n",
    "# Remove functions that are not in function_definitions\n",
    "raw_function_unsafe_reasons = raw_function_unsafe_reasons[\n",
    "    raw_function_unsafe_reasons.def_path.isin(set(function_definitions.def_path.unique()))\n",
    "]\n",
    "\n",
    "possible_unsafe_reasons = [\n",
    "    \"call to unsafe function\",\n",
    "    \"use of inline assembly\",\n",
    "    \"initializing type with `rustc_layout_scalar_valid_range` attr\",\n",
    "    \"cast of pointer to int\",\n",
    "    \"pointer operation\",\n",
    "    \"borrow of packed field\",\n",
    "    \"use of mutable static\",\n",
    "    \"use of extern static\",\n",
    "    \"dereference of raw pointer\",\n",
    "    \"assignment to non-`Copy` union field\",\n",
    "    \"access to union field\",\n",
    "    \"mutation of layout constrained field\",\n",
    "    \"borrow of layout constrained field with interior mutability\",\n",
    "]\n",
    "\n",
    "# Map reasons -> number\n",
    "function_unsafe_reasons = raw_function_unsafe_reasons[\n",
    "    [\"crate_name\", \"crate_hash\", \"def_path\", \"unsafe_reason\"]\n",
    "].groupby(\"def_path\").agg(frozenset).rename(\n",
    "    columns={'unsafe_reason': 'unsafe_reasons'}\n",
    ")\n",
    "\n",
    "function_unsafe_reasons[\"unsafe_reasons_vec\"] = function_unsafe_reasons.unsafe_reasons.map(\n",
    "    lambda x: [reason in x for reason in possible_unsafe_reasons]\n",
    ")\n",
    "function_unsafe_reasons[\"num_unsafe_reasons\"] = function_unsafe_reasons.unsafe_reasons_vec.map(sum)\n",
    "\n",
    "for reason in possible_unsafe_reasons:\n",
    "    function_unsafe_reasons[reason] = function_unsafe_reasons.unsafe_reasons.map(\n",
    "        lambda x: reason in x\n",
    "    )\n",
    "\n",
    "# Augment const calls made from unsafe blocks\n",
    "unsafe_block_const_calls = unsafe_block_calls.join(\n",
    "    const_calls.set_index(\"call\"),\n",
    "    on=\"call\",\n",
    "    how=\"inner\",\n",
    "    rsuffix=\"_defsite\",\n",
    ")\n",
    "# Rename confusing columns\n",
    "unsafe_block_const_calls.rename(\n",
    "    columns={\"crate_name\": \"crate_callsite\", \"crate\": \"crate_defsite\"},\n",
    "    inplace=True\n",
    ")\n",
    "\n",
    "# Preprocessing\n",
    "crates = pd.DataFrame({\n",
    "    \"crate\": selected_builds.crate,\n",
    "    \"crate_hash\": selected_builds.crate_hash,\n",
    "    \"package\": selected_builds.package.map(lambda x: str(x).lower().replace(\"-\", \"_\")),\n",
    "})\n",
    "user_written_unsafe_blocks = unsafe_blocks[unsafe_blocks.check_mode == \"UnsafeBlockUserProvided\"]\n",
    "unsafe_function_definitions = function_definitions[function_definitions.unsafety == \"Unsafe\"]\n",
    "unsafe_traits = traits[traits.unsafety == \"Unsafe\"]\n",
    "unsafe_traits_impls = traits_impls[traits_impls.unsafety == \"Unsafe\"]\n",
    "\n",
    "# Whitelists\n",
    "all_function_names = set(function_definitions.def_path.unique())\n",
    "unchecked_function_names = get_unchecked_function_names(all_function_names)\n",
    "unguarded_function_names = get_unguarded_function_names(all_function_names)\n",
    "\n",
    "all_calls = utils.load_all_calls()\n",
    "unsafe_calls = all_calls.query(\"unsafety != 'Normal'\")\n",
    "assert len(pd.unique(unsafe_calls.unsafety)) == 1"
   ]
  },
  {
   "cell_type": "code",
   "execution_count": 4,
   "metadata": {},
   "outputs": [
    {
     "data": {
      "text/plain": [
       "510"
      ]
     },
     "execution_count": 4,
     "metadata": {},
     "output_type": "execute_result"
    }
   ],
   "source": [
    "len(selected_builds)"
   ]
  },
  {
   "cell_type": "code",
   "execution_count": 5,
   "metadata": {},
   "outputs": [
    {
     "name": "stdout",
     "output_type": "stream",
     "text": [
      "Number of crates: 510\n",
      "has_no_unsafe             259\n",
      "has_unsafe                251\n",
      "has_unsafe_blocks         220\n",
      "has_unsafe_functions      165\n",
      "has_unsafe_trait_impls     73\n",
      "has_unsafe_traits          25\n",
      "dtype: int64\n",
      "has_no_unsafe             50.784314\n",
      "has_unsafe                49.215686\n",
      "has_unsafe_blocks         43.137255\n",
      "has_unsafe_functions      32.352941\n",
      "has_unsafe_trait_impls    14.313725\n",
      "has_unsafe_traits          4.901961\n",
      "dtype: float64\n"
     ]
    },
    {
     "data": {
      "image/png": "[encoded data removed]",
      "text/plain": [
       "<Figure size 1080x576 with 1 Axes>"
      ]
     },
     "metadata": {
      "needs_background": "light"
     },
     "output_type": "display_data"
    }
   ],
   "source": [
    "join_key = \"crate_hash\"\n",
    "crates[\"has_unsafe_blocks\"] = crates[join_key].isin(set(user_written_unsafe_blocks[join_key].unique()))\n",
    "crates[\"has_unsafe_functions\"] = crates[join_key].isin(set(unsafe_function_definitions[join_key].unique()))\n",
    "crates[\"has_unsafe_traits\"] = crates[join_key].isin(set(unsafe_traits[join_key].unique()))\n",
    "crates[\"has_unsafe_trait_impls\"] = crates[join_key].isin(set(unsafe_traits_impls[join_key].unique()))\n",
    "\n",
    "feature_names = [\n",
    "    \"has_unsafe_blocks\",\n",
    "    \"has_unsafe_functions\",\n",
    "    \"has_unsafe_traits\",\n",
    "    \"has_unsafe_trait_impls\",\n",
    "]\n",
    "\n",
    "crates[\"has_unsafe\"] = functools.reduce(lambda x, y: x | y, [crates[f] for f in feature_names])\n",
    "feature_names.append(\"has_unsafe\")\n",
    "\n",
    "crates[\"has_no_unsafe\"] = ~crates[\"has_unsafe\"]\n",
    "feature_names.append(\"has_no_unsafe\")\n",
    "\n",
    "print(\"Number of crates: {}\".format(len(crates)))\n",
    "\n",
    "feature_freq = crates[feature_names].apply(sum).sort_values(ascending=False)\n",
    "feature_freq.plot.bar(subplots=True, color=\"blue\", title=\"Features per crate\")\n",
    "print(feature_freq)\n",
    "print(feature_freq / len(crates) * 100)"
   ]
  },
  {
   "cell_type": "code",
   "execution_count": 6,
   "metadata": {},
   "outputs": [
    {
     "name": "stdout",
     "output_type": "stream",
     "text": [
      "11333\n",
      "7331\n",
      "6353\n",
      "64\n",
      "1431\n"
     ]
    }
   ],
   "source": [
    "print(len(unsafe_blocks))\n",
    "print(len(user_written_unsafe_blocks))\n",
    "print(len(unsafe_function_definitions))\n",
    "print(len(unsafe_traits))\n",
    "print(len(unsafe_traits_impls))"
   ]
  },
  {
   "cell_type": "code",
   "execution_count": 7,
   "metadata": {},
   "outputs": [
    {
     "name": "stdout",
     "output_type": "stream",
     "text": [
      "ForeignItem    3478\n",
      "Rust           2699\n",
      "C               176\n",
      "Name: abi, dtype: int64\n",
      "ForeignItem    54.745789\n",
      "Rust           42.483866\n",
      "C               2.770345\n",
      "Name: abi, dtype: float64\n",
      "Unsafe function definitions: 6353\n"
     ]
    },
    {
     "data": {
      "image/png": "[encoded data removed]",
      "text/plain": [
       "<Figure size 1080x576 with 1 Axes>"
      ]
     },
     "metadata": {},
     "output_type": "display_data"
    }
   ],
   "source": [
    "# Frequency of abi DEFINITIONS\n",
    "values = unsafe_function_definitions.abi.value_counts()\n",
    "print(values)\n",
    "print(values / len(unsafe_function_definitions) * 100)\n",
    "print(\"Unsafe function definitions:\", len(unsafe_function_definitions))\n",
    "values.plot.pie()\n",
    "del values"
   ]
  },
  {
   "cell_type": "code",
   "execution_count": 8,
   "metadata": {},
   "outputs": [
    {
     "name": "stdout",
     "output_type": "stream",
     "text": [
      "Number of crates that define unsafe Rust functions:\t 146\n",
      "Names and counts of 20 crates with most defined unsafe Rust functions:\n",
      "\n",
      "js_sys             803\n",
      "futures_util       121\n",
      "git2               108\n",
      "tokio               84\n",
      "openssl             80\n",
      "nix                 79\n",
      "blake2b_simd        77\n",
      "wasm_bindgen        70\n",
      "cloudabi            66\n",
      "core_foundation     58\n",
      "wasi                45\n",
      "openssl_sys         42\n",
      "aho_corasick        41\n",
      "tendril             40\n",
      "hermit_abi          39\n",
      "widestring          38\n",
      "hashbrown           34\n",
      "rayon_core          33\n",
      "ascii               33\n",
      "bytes               33\n",
      "Name: crate, dtype: int64\n"
     ]
    }
   ],
   "source": [
    "# Which crates define unsafe Rust functions?\n",
    "def_unsafe_rust_funcs = unsafe_function_definitions[\n",
    "    unsafe_function_definitions.abi == \"Rust\"\n",
    "]\n",
    "\n",
    "values = def_unsafe_rust_funcs.crate.value_counts()\n",
    "\n",
    "print(\"Number of crates that define unsafe Rust functions:\\t\", len(values))\n",
    "print(\"Names and counts of 20 crates with most defined unsafe Rust functions:\")\n",
    "print()\n",
    "print(values[:20])\n",
    "del values"
   ]
  },
  {
   "cell_type": "code",
   "execution_count": 9,
   "metadata": {},
   "outputs": [
    {
     "name": "stdout",
     "output_type": "stream",
     "text": [
      "Number of crates that define C functions:\t 7\n",
      "Names and counts:\n",
      "\n",
      "wasm_bindgen          96\n",
      "miniz_oxide_c_api     31\n",
      "libc                  27\n",
      "openssl               18\n",
      "security_framework     2\n",
      "backtrace              1\n",
      "ring                   1\n",
      "Name: crate, dtype: int64\n"
     ]
    }
   ],
   "source": [
    "# Which crates define C functions?\n",
    "def_c_funcs = unsafe_function_definitions[\n",
    "    unsafe_function_definitions.abi == \"C\"\n",
    "]\n",
    "\n",
    "values = def_c_funcs.crate.value_counts()\n",
    "\n",
    "print(\"Number of crates that define C functions:\\t\", len(values))\n",
    "print(\"Names and counts:\")\n",
    "print()\n",
    "print(values)\n",
    "del values"
   ]
  },
  {
   "cell_type": "code",
   "execution_count": 10,
   "metadata": {},
   "outputs": [
    {
     "name": "stdout",
     "output_type": "stream",
     "text": [
      "Number of crates that define Foreign Items:\t 31\n",
      "Names and counts of 20 crates with most defined Foreign Items:\n",
      "\n",
      "openssl_sys               733\n",
      "libc                      702\n",
      "libgit2_sys               593\n",
      "clang_sys                 288\n",
      "core_foundation_sys       230\n",
      "libsqlite3_sys            174\n",
      "fuchsia_zircon_sys        139\n",
      "libssh2_sys                96\n",
      "ring                       74\n",
      "security_framework_sys     57\n",
      "libz_sys                   56\n",
      "hermit_abi                 55\n",
      "lzma_sys                   52\n",
      "cloudabi                   49\n",
      "wasi                       45\n",
      "curl_sys                   44\n",
      "brotli_sys                 23\n",
      "termios                    13\n",
      "crypto                      9\n",
      "xattr                       8\n",
      "Name: crate, dtype: int64\n"
     ]
    }
   ],
   "source": [
    "# Which crates define Foreign Items?\n",
    "def_fi_funcs = unsafe_function_definitions[\n",
    "    unsafe_function_definitions.abi == \"ForeignItem\"\n",
    "]\n",
    "\n",
    "values = def_fi_funcs.crate.value_counts()\n",
    "\n",
    "print(\"Number of crates that define Foreign Items:\\t\", len(values))\n",
    "print(\"Names and counts of 20 crates with most defined Foreign Items:\")\n",
    "print()\n",
    "print(values[:20])\n",
    "del values"
   ]
  },
  {
   "cell_type": "code",
   "execution_count": 11,
   "metadata": {},
   "outputs": [
    {
     "name": "stdout",
     "output_type": "stream",
     "text": [
      "Rust              7844\n",
      "C                 2242\n",
      "rust-intrinsic     644\n",
      "Name: abi, dtype: int64\n",
      "Rust              73.103448\n",
      "C                 20.894688\n",
      "rust-intrinsic     6.001864\n",
      "Name: abi, dtype: float64\n",
      "Unsafe calls: 10730\n"
     ]
    },
    {
     "data": {
      "image/png": "[encoded data removed]",
      "text/plain": [
       "<Figure size 1080x576 with 1 Axes>"
      ]
     },
     "metadata": {},
     "output_type": "display_data"
    }
   ],
   "source": [
    "# Frequency of abi CALLS\n",
    "unsafe_const_calls = const_calls[\n",
    "    const_calls.unsafety == \"Unsafe\"\n",
    "]\n",
    "values = unsafe_const_calls.abi.value_counts()\n",
    "print(values)\n",
    "print(values / len(unsafe_const_calls) * 100)\n",
    "print(\"Unsafe calls:\", len(unsafe_const_calls))\n",
    "values.plot.pie()\n",
    "del values"
   ]
  },
  {
   "cell_type": "code",
   "execution_count": 12,
   "metadata": {},
   "outputs": [
    {
     "name": "stdout",
     "output_type": "stream",
     "text": [
      "Number of crates that call unsafe Rust functions:\t 115\n",
      "Names and counts of 20 crates with most unsafe Rust function calls:\n",
      "\n",
      "core                    3695\n",
      "js_sys                   691\n",
      "wasm_bindgen             581\n",
      "git2                     318\n",
      "combine                  210\n",
      "foreign_types_shared     207\n",
      "alloc                    181\n",
      "std                      158\n",
      "generic_array            149\n",
      "hashbrown                144\n",
      "core_foundation          129\n",
      "clang_sys                115\n",
      "nix                       90\n",
      "lock_api                  70\n",
      "sized_chunks              62\n",
      "crossbeam_epoch           58\n",
      "tendril                   56\n",
      "socket2                   53\n",
      "encoding_rs               48\n",
      "tokio                     46\n",
      "Name: crate, dtype: int64\n"
     ]
    }
   ],
   "source": [
    "# Which crates call unsafe Rust functions?\n",
    "calls_unsafe_rust_funcs = unsafe_const_calls[\n",
    "    unsafe_const_calls.abi == \"Rust\"\n",
    "]\n",
    "\n",
    "values = calls_unsafe_rust_funcs.crate.value_counts()\n",
    "\n",
    "print(\"Number of crates that call unsafe Rust functions:\\t\", len(values))\n",
    "print(\"Names and counts of 20 crates with most unsafe Rust function calls:\")\n",
    "print()\n",
    "print(values[:20])\n",
    "del values"
   ]
  },
  {
   "cell_type": "code",
   "execution_count": 13,
   "metadata": {},
   "outputs": [
    {
     "name": "stdout",
     "output_type": "stream",
     "text": [
      "Number of crates that call unsafe Rust functions from user-written blocks:\t 115\n",
      "Names and counts of 20 crates with most user-written unsafe Rust function calls:\n",
      "\n",
      "core                    3484\n",
      "js_sys                   691\n",
      "wasm_bindgen             581\n",
      "git2                     318\n",
      "combine                  210\n",
      "foreign_types_shared     207\n",
      "alloc                    181\n",
      "std                      158\n",
      "generic_array            149\n",
      "hashbrown                144\n",
      "core_foundation          129\n",
      "clang_sys                115\n",
      "nix                       90\n",
      "lock_api                  70\n",
      "sized_chunks              62\n",
      "crossbeam_epoch           58\n",
      "tendril                   56\n",
      "socket2                   53\n",
      "encoding_rs               48\n",
      "tokio                     46\n",
      "Name: crate, dtype: int64\n"
     ]
    }
   ],
   "source": [
    "# Filter by user-written blocks\n",
    "uw_calls_unsafe_rust_funcs = calls_unsafe_rust_funcs[\n",
    "    calls_unsafe_rust_funcs.check_mode == \"UnsafeBlockUserProvided\"\n",
    "]\n",
    "\n",
    "values = uw_calls_unsafe_rust_funcs.crate.value_counts()\n",
    "\n",
    "print(\"Number of crates that call unsafe Rust functions from user-written blocks:\\t\", len(values))\n",
    "print(\"Names and counts of 20 crates with most user-written unsafe Rust function calls:\")\n",
    "print()\n",
    "print(values[:20])\n",
    "del values"
   ]
  },
  {
   "cell_type": "code",
   "execution_count": 14,
   "metadata": {},
   "outputs": [
    {
     "name": "stdout",
     "output_type": "stream",
     "text": [
      "Number of crates that call C functions:\t 23\n",
      "Names and counts of 20 crates with most C function calls:\n",
      "\n",
      "openssl_sys               748\n",
      "libgit2_sys               544\n",
      "libc                      504\n",
      "core_foundation_sys       170\n",
      "security_framework_sys     66\n",
      "ring                       53\n",
      "curl_sys                   47\n",
      "wasm_bindgen               28\n",
      "brotli_sys                 16\n",
      "lzma_sys                   15\n",
      "termios                    13\n",
      "crypto                     11\n",
      "libloading                  5\n",
      "bzip2_sys                   4\n",
      "inotify_sys                 3\n",
      "backtrace                   3\n",
      "termion                     3\n",
      "errno                       3\n",
      "xattr                       2\n",
      "hermit_abi                  1\n",
      "Name: crate, dtype: int64\n"
     ]
    }
   ],
   "source": [
    "# Which crates call C functions?\n",
    "calls_c_funcs = unsafe_const_calls[\n",
    "    unsafe_const_calls.abi == \"C\"\n",
    "]\n",
    "\n",
    "values = calls_c_funcs.crate.value_counts()\n",
    "\n",
    "print(\"Number of crates that call C functions:\\t\", len(values))\n",
    "print(\"Names and counts of 20 crates with most C function calls:\")\n",
    "print()\n",
    "print(values[:20])\n",
    "del values"
   ]
  },
  {
   "cell_type": "code",
   "execution_count": 15,
   "metadata": {},
   "outputs": [
    {
     "name": "stdout",
     "output_type": "stream",
     "text": [
      "Number of crates that call Foreign Items:\t 0\n",
      "Names and counts of 20 crates with most Foreign Item calls:\n",
      "\n",
      "Series([], Name: crate, dtype: int64)\n"
     ]
    }
   ],
   "source": [
    "# Which crates call Foreign Items?\n",
    "calls_fi_funcs = unsafe_const_calls[\n",
    "    unsafe_const_calls.abi == \"ForeignItem\"\n",
    "]\n",
    "\n",
    "values = calls_fi_funcs.crate.value_counts()\n",
    "\n",
    "print(\"Number of crates that call Foreign Items:\\t\", len(values))\n",
    "print(\"Names and counts of 20 crates with most Foreign Item calls:\")\n",
    "print()\n",
    "print(values[:20])\n",
    "del values"
   ]
  },
  {
   "cell_type": "code",
   "execution_count": 16,
   "metadata": {},
   "outputs": [
    {
     "name": "stdout",
     "output_type": "stream",
     "text": [
      "Total number of SIMD calls:\t 391\n",
      "Number of crates that call SIMD functions:\t 7\n",
      "Crates that call SIMD functions:\n",
      "['bstr' 'hashbrown' 'ahash' 'ppv_lite86' 'sha2' 'sha1' 'rdrand']\n"
     ]
    }
   ],
   "source": [
    "# SIMD const calls total\n",
    "const_calls_loaded = utils.load_const_calls()\n",
    "const_calls_loaded.rename(\n",
    "    columns={\"crate_name\": \"crate_callsite\", \"crate\": \"crate_defsite\"},\n",
    "    inplace=True\n",
    ")\n",
    "simd_functions = set([\n",
    "    x\n",
    "    for x in const_calls_loaded.def_path.unique()\n",
    "    if x.startswith('core[7bab]::core_arch')\n",
    "])\n",
    "simd_calls = const_calls_loaded[\n",
    "    const_calls_loaded.def_path.isin(simd_functions)\n",
    "]\n",
    "\n",
    "# SIMD const calls unsafe only\n",
    "unsafe_simd_functions = set([\n",
    "    x\n",
    "    for x in unsafe_block_const_calls.def_path.unique()\n",
    "    if x.startswith('core[7bab]::core_arch')\n",
    "])\n",
    "unsafe_simd_calls = unsafe_block_const_calls[\n",
    "    unsafe_block_const_calls.def_path.isin(unsafe_simd_functions)\n",
    "]\n",
    "\n",
    "# Both should be equal since can only call SIMD in unsafe blocks; \n",
    "# don't anticipate SIMD called from unsafe functions, but its possible\n",
    "assert len(unsafe_simd_calls) == len(simd_calls)\n",
    "\n",
    "print(\"Total number of SIMD calls:\\t\", len(simd_calls))\n",
    "\n",
    "# Get names of unique SIMD-calling crates\n",
    "simd_crates = simd_calls.crate_callsite.unique()\n",
    "\n",
    "print(\"Number of crates that call SIMD functions:\\t\", len(simd_crates))\n",
    "print(\"Crates that call SIMD functions:\")\n",
    "print(simd_crates)\n",
    "del simd_calls, unsafe_simd_calls, simd_crates"
   ]
  },
  {
   "cell_type": "code",
   "execution_count": 17,
   "metadata": {},
   "outputs": [
    {
     "name": "stdout",
     "output_type": "stream",
     "text": [
      "Number of functions using inline assembly:\t 0\n"
     ]
    }
   ],
   "source": [
    "# Count functions with assembly code, per crate\n",
    "asm_fns = function_unsafe_reasons[function_unsafe_reasons[\"use of inline assembly\"]]\n",
    "print(\"Number of functions using inline assembly:\\t\", len(asm_fns))\n",
    "if len(asm_fns) > 0:\n",
    "    values = asm_fns[['crate_name', 'crate_hash']].apply(\n",
    "        lambda row: (row['crate_name'], row['crate_hash']), axis=1\n",
    "    ).squeeze().value_counts()\n",
    "    print(\"Number of crates:\", len(values))\n",
    "    print()\n",
    "    print('Percentage of functions with inline assembly among 10 top crates:', sum(values[:10])/len(asm_fns)*100)\n",
    "    print(\"Such functions per crate:\")\n",
    "    print(values[:10])\n",
    "    asm_fns\n",
    "    del values"
   ]
  },
  {
   "cell_type": "code",
   "execution_count": 18,
   "metadata": {},
   "outputs": [
    {
     "name": "stdout",
     "output_type": "stream",
     "text": [
      "unchecked_function_names:\t 366\n",
      "Calls to unchecked functions:\t 93\n",
      "Percentage:\t\t\t 0.0967812431706784\n",
      "Number of crates:\t\t 23\n",
      "Percentage:\t\t\t 4.509803921568627\n",
      "(json, 79b54c8356a47b67)         14\n",
      "(http, 6808a9d62e774206)         14\n",
      "(pest, 90a091c6ae19edc6)          8\n",
      "(criterion, 8abcfaebda0e558c)     7\n",
      "(arrayvec, 8c2a468fe9f17483)      6\n",
      "dtype: int64\n",
      "Percentage of unsafe blocks with an unchecked function call:\t 0.7737119970872018\n"
     ]
    }
   ],
   "source": [
    "# Unchecked functions\n",
    "print(\"unchecked_function_names:\\t\", len(unchecked_function_names))\n",
    "\n",
    "const_unchecked_calls = const_calls_loaded[\n",
    "    const_calls_loaded.def_path.isin(unchecked_function_names)\n",
    "]\n",
    "unchecked_calls = unsafe_block_const_calls[\n",
    "    unsafe_block_const_calls.def_path.isin(unchecked_function_names)\n",
    "]\n",
    "assert(len(const_unchecked_calls) == len(unchecked_calls))\n",
    "\n",
    "print(\"Calls to unchecked functions:\\t\", len(unchecked_calls))\n",
    "print(\"Percentage:\\t\\t\\t\", len(unchecked_calls)/len(unsafe_calls)*100)\n",
    "\n",
    "# Top unchecked() calling code\n",
    "values = unchecked_calls[['crate_callsite', 'build_crate_hash']].apply(\n",
    "    lambda row: (row['crate_callsite'], row['build_crate_hash']), axis=1\n",
    ").squeeze().value_counts()\n",
    "print(\"Number of crates:\\t\\t\", len(values))\n",
    "print(\"Percentage:\\t\\t\\t\", len(values)/len(selected_builds)*100)\n",
    "print(values[:5])\n",
    "\n",
    "# Used in Sec. 6.2\n",
    "print(\"Percentage of unsafe blocks with an unchecked function call:\\t\",\n",
    "    len(unchecked_calls.unsafe_scope.unique())/len(unsafe_block_const_calls.unsafe_scope.unique())*100\n",
    ")\n",
    "del values"
   ]
  },
  {
   "cell_type": "code",
   "execution_count": 19,
   "metadata": {},
   "outputs": [
    {
     "name": "stdout",
     "output_type": "stream",
     "text": [
      "Number of crates:\t 32\n",
      "Percentage: 6.2745098039215685\n",
      "http[4a33]::byte_str[0]::{{impl}}[0]::from_utf8_unchecked[0]                              14\n",
      "json[ceec]::number[0]::{{impl}}[0]::from_parts_unchecked[0]                               14\n",
      "criterion[738c]::stats[0]::univariate[0]::percentiles[0]::{{impl}}[0]::at_unchecked[0]     7\n",
      "bytecount[4446]::integer_simd[0]::usize_load_unchecked[0]                                  6\n",
      "pest[3260]::position[0]::{{impl}}[0]::new_unchecked[0]                                     6\n",
      "dtype: int64\n"
     ]
    }
   ],
   "source": [
    "# Top called unchecked() code\n",
    "values = unchecked_calls[['def_path']].apply(\n",
    "    lambda row: (row['def_path']), axis=1\n",
    ").squeeze().value_counts()\n",
    "print(\"Number of crates:\\t\", len(values))\n",
    "print(\"Percentage:\", len(values)/len(selected_builds)*100)\n",
    "print(values[:5])\n",
    "del values"
   ]
  },
  {
   "cell_type": "code",
   "execution_count": 20,
   "metadata": {},
   "outputs": [
    {
     "name": "stdout",
     "output_type": "stream",
     "text": [
      "unguarded_function_names:\t 0\n",
      "Calls to unguarded functions:\t 0\n",
      "Percentage:\t\t\t 0.0\n",
      "Number of crates:\t\t 0\n",
      "Percentage:\t\t\t 0.0\n",
      "Series([], dtype: int64)\n",
      "Percentage of unsafe blocks with an unguarded function call:\t 0.0\n"
     ]
    }
   ],
   "source": [
    "# Unguarded functions\n",
    "print(\"unguarded_function_names:\\t\", len(unguarded_function_names))\n",
    "\n",
    "const_unguarded_calls = const_calls_loaded[\n",
    "    const_calls_loaded.def_path.isin(unguarded_function_names)\n",
    "]\n",
    "unguarded_calls = unsafe_block_const_calls[\n",
    "    unsafe_block_const_calls.def_path.isin(unguarded_function_names)\n",
    "]\n",
    "assert(len(const_unguarded_calls) == len(unguarded_calls))\n",
    "\n",
    "print(\"Calls to unguarded functions:\\t\", len(unguarded_calls))\n",
    "print(\"Percentage:\\t\\t\\t\", len(unguarded_calls)/len(unsafe_calls)*100)\n",
    "\n",
    "values = unguarded_calls[['crate_callsite', 'build_crate_hash']].apply(\n",
    "    lambda row: (row['crate_callsite'], row['build_crate_hash']), axis=1\n",
    ").squeeze().value_counts()\n",
    "print(\"Number of crates:\\t\\t\", len(values))\n",
    "print(\"Percentage:\\t\\t\\t\", len(values)/len(selected_builds)*100)\n",
    "print(values[:5])\n",
    "\n",
    "print(\"Percentage of unsafe blocks with an unguarded function call:\\t\",\n",
    "     len(unguarded_calls.unsafe_scope.unique())/len(unsafe_block_const_calls.unsafe_scope.unique())*100\n",
    ")\n",
    "del values"
   ]
  },
  {
   "cell_type": "code",
   "execution_count": 21,
   "metadata": {},
   "outputs": [],
   "source": [
    "# Filter by user-written unsafe code\n",
    "user_written_unsafe_const_calls = const_calls_loaded[\n",
    "    const_calls_loaded.check_mode == \"UnsafeBlockUserProvided\"\n",
    "]\n",
    "\n",
    "# Filter by target language\n",
    "user_written_unsafe_const_calls_rust = user_written_unsafe_const_calls[\n",
    "    user_written_unsafe_const_calls.abi == \"Rust\"\n",
    "]\n",
    "user_written_unsafe_const_calls_fi = user_written_unsafe_const_calls[\n",
    "    user_written_unsafe_const_calls.abi == \"ForeignItem\"\n",
    "]\n",
    "user_written_unsafe_const_calls_c = user_written_unsafe_const_calls[\n",
    "    user_written_unsafe_const_calls.abi == \"C\"\n",
    "]\n",
    "\n",
    "# Filter for perf-mot functions within Rust\n",
    "perf_mot_unsafe_rust = set([\n",
    "    x\n",
    "    for x in user_written_unsafe_const_calls_rust.def_path.unique()\n",
    "    if x.startswith('core[7bab]::core_arch') \n",
    "        or x.startswith('core[7bab]::intrinsics[0]::[1]::transmute[0]')\n",
    "        or x.startswith('core[7bab]::intrinsics[0]::write_bytes[0]')\n",
    "        or x.startswith('core[7bab]::intrinsics[0]::copy[0]')\n",
    "        or x.startswith('core[7bab]::intrinsics[0]::copy_nonoverlapping[0]')\n",
    "        or x.startswith('core[7bab]::mem[0]::transmute_copy[0]')\n",
    "        or x.startswith('core[7bab]::slice[0]::from_raw_parts[0]')\n",
    "        or x.startswith('core[7bab]::slice[0]::from_raw_parts_mut[0]')\n",
    "        or x.startswith('core[7bab]::slice[0]::{{impl}}[0]::as_ptr[0]')\n",
    "        or x.startswith('core[7bab]::slice[0]::{{impl}}[0]::as_mut_ptr[0]')\n",
    "        or (\"unchecked\" in x)\n",
    "        or (\"unguarded\" in x)\n",
    "        #or (\"asm!\" in x) # FIXME\n",
    "])"
   ]
  },
  {
   "cell_type": "code",
   "execution_count": 22,
   "metadata": {},
   "outputs": [
    {
     "name": "stdout",
     "output_type": "stream",
     "text": [
      "Total number of (user-written) PMU Rust calls:\t 3394\n",
      "Percent out of unsafe const calls:\t\t 14.300160107862139\n",
      "Number of crates:\t 133\n",
      "Percentage:\t\t 26.078431372549023\n",
      "\n",
      "Total number of ForeignItem calls:\t 0\n",
      "Percent out of unsafe const calls:\t 0.0\n",
      "Number of crates:\t 0\n",
      "Percentage:\t\t 0.0\n",
      "\n",
      "Total number of C calls:\t\t 2252\n",
      "Percent out of unsafe const calls:\t 9.488497514114771\n",
      "Number of crates:\t 51\n",
      "Percentage:\t\t 10.0\n",
      "\n",
      "Total number of (user-written) PMU calls:\t\t 5646\n",
      "Out of total number user-written unsafe const calls:\t 23734\n",
      "Percent user-written PMU out of const calls:\t\t 23.78865762197691\n",
      "Number of crates:\t 155\n",
      "Percentage:\t\t 30.392156862745097\n"
     ]
    }
   ],
   "source": [
    "# Performance-motivated Rust calls\n",
    "perf_mot_unsafe_rust_calls = user_written_unsafe_const_calls_rust[\n",
    "    user_written_unsafe_const_calls_rust.def_path.isin(perf_mot_unsafe_rust)\n",
    "]\n",
    "pmu_rust_calls = perf_mot_unsafe_rust_calls[['crate_callsite', 'build_crate_hash']].apply(\n",
    "    lambda row: (row['crate_callsite'], row['build_crate_hash']), axis=1\n",
    ")\n",
    "\n",
    "# ForeignItem calls\n",
    "fi_calls = user_written_unsafe_const_calls_fi[['crate_callsite', 'build_crate_hash']].apply(\n",
    "    lambda row: (row['crate_callsite'], row['build_crate_hash']), axis=1\n",
    ")\n",
    "\n",
    "# C calls\n",
    "c_calls = user_written_unsafe_const_calls_c[['crate_callsite', 'build_crate_hash']].apply(\n",
    "    lambda row: (row['crate_callsite'], row['build_crate_hash']), axis=1\n",
    ")\n",
    "\n",
    "len_all = len(perf_mot_unsafe_rust_calls) + len(user_written_unsafe_const_calls_fi) + len(user_written_unsafe_const_calls_c)\n",
    "\n",
    "print(\"Total number of (user-written) PMU Rust calls:\\t\", len(perf_mot_unsafe_rust_calls))\n",
    "print(\"Percent out of unsafe const calls:\\t\\t\", len(perf_mot_unsafe_rust_calls)/len(user_written_unsafe_const_calls)*100)\n",
    "print(\"Number of crates:\\t\", len(pmu_rust_calls.value_counts()))\n",
    "print(\"Percentage:\\t\\t\", len(pmu_rust_calls.value_counts())/len(selected_builds)*100)\n",
    "print()\n",
    "\n",
    "print(\"Total number of ForeignItem calls:\\t\", len(user_written_unsafe_const_calls_fi))\n",
    "print(\"Percent out of unsafe const calls:\\t\", len(user_written_unsafe_const_calls_fi)/len(user_written_unsafe_const_calls)*100)\n",
    "print(\"Number of crates:\\t\", len(fi_calls.value_counts()))\n",
    "print(\"Percentage:\\t\\t\", len(fi_calls.value_counts())/len(selected_builds)*100)\n",
    "print()\n",
    "\n",
    "print(\"Total number of C calls:\\t\\t\", len(user_written_unsafe_const_calls_c))\n",
    "print(\"Percent out of unsafe const calls:\\t\", len(user_written_unsafe_const_calls_c)/len(user_written_unsafe_const_calls)*100)\n",
    "print(\"Number of crates:\\t\", len(c_calls.value_counts()))\n",
    "print(\"Percentage:\\t\\t\", len(c_calls.value_counts())/len(selected_builds)*100)\n",
    "print()\n",
    "\n",
    "print(\"Total number of (user-written) PMU calls:\\t\\t\", len_all)\n",
    "print(\"Out of total number user-written unsafe const calls:\\t\", len(user_written_unsafe_const_calls))\n",
    "print(\"Percent user-written PMU out of const calls:\\t\\t\", len_all/len(user_written_unsafe_const_calls)*100)\n",
    "\n",
    "block_frames = [pmu_rust_calls, fi_calls, c_calls]\n",
    "block_values = pd.concat(block_frames)[0].value_counts()\n",
    "print(\"Number of crates:\\t\", len(block_values))\n",
    "print(\"Percentage:\\t\\t\", len(block_values)/len(selected_builds)*100)\n",
    "del len_all, block_frames, block_values"
   ]
  },
  {
   "cell_type": "code",
   "execution_count": 23,
   "metadata": {},
   "outputs": [
    {
     "name": "stdout",
     "output_type": "stream",
     "text": [
      "Total number of ForeignItem definitions: 3478\n",
      "Percent out of unsafe definitions:\t 54.74578939083897\n",
      "Number of crates:\t 31\n",
      "Percentage:\t\t 6.078431372549019\n",
      "\n",
      "Total number of C definitions:\t\t 176\n",
      "Percent out of unsafe definitions:\t 2.7703447190303794\n",
      "Number of crates:\t 7\n",
      "Percentage:\t\t 1.3725490196078431\n",
      "\n",
      "Total number of PMU definitions:\t 3654\n",
      "Total number of unsafe function defs:\t 6353\n",
      "Percent PMU out of unsafe definitions:\t 57.516134109869355\n",
      "Number of crates:\t 35\n",
      "Percentage:\t\t 6.862745098039216\n"
     ]
    }
   ],
   "source": [
    "len_all = len(def_c_funcs) + len(def_fi_funcs)\n",
    "\n",
    "print(\"Total number of ForeignItem definitions:\", len(def_fi_funcs))\n",
    "print(\"Percent out of unsafe definitions:\\t\", len(def_fi_funcs)/len(unsafe_function_definitions)*100)\n",
    "print(\"Number of crates:\\t\", len(def_fi_funcs.crate.value_counts()))\n",
    "print(\"Percentage:\\t\\t\", len(def_fi_funcs.crate.value_counts())/len(selected_builds)*100)\n",
    "print()\n",
    "\n",
    "print(\"Total number of C definitions:\\t\\t\", len(def_c_funcs))\n",
    "print(\"Percent out of unsafe definitions:\\t\", len(def_c_funcs)/len(unsafe_function_definitions)*100)\n",
    "print(\"Number of crates:\\t\", len(def_c_funcs.crate.value_counts()))\n",
    "print(\"Percentage:\\t\\t\", len(def_c_funcs.crate.value_counts())/len(selected_builds)*100)\n",
    "print()\n",
    "\n",
    "print(\"Total number of PMU definitions:\\t\", len_all)\n",
    "print(\"Total number of unsafe function defs:\\t\", len(unsafe_function_definitions))\n",
    "print(\"Percent PMU out of unsafe definitions:\\t\", len_all/len(unsafe_function_definitions)*100)\n",
    "\n",
    "block_frames = [def_c_funcs, def_fi_funcs]\n",
    "block_values = pd.concat(block_frames).crate.value_counts()\n",
    "print(\"Number of crates:\\t\", len(block_values))\n",
    "print(\"Percentage:\\t\\t\", len(block_values)/len(selected_builds)*100)\n",
    "del len_all, block_frames, block_values"
   ]
  },
  {
   "cell_type": "code",
   "execution_count": 24,
   "metadata": {},
   "outputs": [
    {
     "name": "stdout",
     "output_type": "stream",
     "text": [
      "Number of crates:\t 155\n",
      "Percentage:\t\t 30.392156862745097\n",
      "\n",
      "List of 20 crates with the most performance-motivated unsafe code:\n",
      "(openssl, e0a61a472766a940)               903\n",
      "(git2, 1f7321677b9caa95)                  578\n",
      "(futures_util, 12b18cbb38d82e85)          455\n",
      "(nix, 887ec1e304ae466c)                   414\n",
      "(ppv_lite86, 8f7f8b0411c06b17)            366\n",
      "(lexical_core, e1470018361eb732)          258\n",
      "(tokio, 8c26b051124c49b3)                 221\n",
      "(actix_web, baf8718645b0d8b)              190\n",
      "(encoding_rs, 31e96fc597d9d5fc)           178\n",
      "(core_foundation, fd9e7bfc17ad8030)       170\n",
      "(ring, 57d7c3f120e595e4)                  164\n",
      "(byteorder, 6c647b065da2cdba)             142\n",
      "(generic_array, de092b675d6ebae)           82\n",
      "(security_framework, 870f742179095607)     81\n",
      "(ahash, d6afb292932ea61a)                  77\n",
      "(crypto, 44cdc7433e3acc7d)                 76\n",
      "(hyper, 7113324d1b5fa109)                  71\n",
      "(rand, 7ee2ef94785bad32)                   68\n",
      "(rayon, adfcf1b0135a2616)                  63\n",
      "(itoa, cd6daa548f6d5ead)                   60\n",
      "Name: 0, dtype: int64\n"
     ]
    }
   ],
   "source": [
    "# Total PMU code\n",
    "block_frames = [pmu_rust_calls, c_calls, fi_calls, def_c_funcs, def_fi_funcs] # defs actually make no difference\n",
    "block_values = pd.concat(block_frames)[0].value_counts()\n",
    "\n",
    "print(\"Number of crates:\\t\", len(block_values))\n",
    "print(\"Percentage:\\t\\t\", len(block_values)/len(selected_builds)*100)\n",
    "print()\n",
    "print(\"List of 20 crates with the most performance-motivated unsafe code:\")\n",
    "print(block_values[:20])\n",
    "del block_frames, block_values"
   ]
  },
  {
   "cell_type": "code",
   "execution_count": null,
   "metadata": {},
   "outputs": [],
   "source": []
  }
 ],
 "metadata": {
  "kernelspec": {
   "display_name": "Python 3",
   "language": "python",
   "name": "python3"
  },
  "language_info": {
   "codemirror_mode": {
    "name": "ipython",
    "version": 3
   },
   "file_extension": ".py",
   "mimetype": "text/x-python",
   "name": "python",
   "nbconvert_exporter": "python",
   "pygments_lexer": "ipython3",
   "version": "3.8.6"
  }
 },
 "nbformat": 4,
 "nbformat_minor": 4
}
