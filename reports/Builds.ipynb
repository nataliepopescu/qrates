{
 "cells": [
  {
   "cell_type": "markdown",
   "metadata": {},
   "source": [
    "# Information about the current dataset\n",
    "\n",
    "This worksheet analyses some basic properties of the dataset we use.\n",
    "We highlight numbers referred to in the paper by quoting the corresponding sentences from Section 5.1, which explains our experimental setup.\n",
    "\n",
    "## Setup"
   ]
  },
  {
   "cell_type": "code",
   "execution_count": 1,
   "metadata": {},
   "outputs": [],
   "source": [
    "import pandas as pd\n",
    "import matplotlib.pyplot as plt\n",
    "import utils"
   ]
  },
  {
   "cell_type": "code",
   "execution_count": 2,
   "metadata": {},
   "outputs": [],
   "source": [
    "selected_builds = utils.load_selected_builds()"
   ]
  },
  {
   "cell_type": "markdown",
   "metadata": {},
   "source": [
    "## Number of Builds\n",
    "\n",
    "The number of crates we managed to successfully build:"
   ]
  },
  {
   "cell_type": "code",
   "execution_count": 3,
   "metadata": {},
   "outputs": [
    {
     "data": {
      "text/plain": [
       "510"
      ]
     },
     "execution_count": 3,
     "metadata": {},
     "output_type": "execute_result"
    }
   ],
   "source": [
    "len(selected_builds)"
   ]
  },
  {
   "cell_type": "code",
   "execution_count": 4,
   "metadata": {},
   "outputs": [
    {
     "data": {
      "text/html": [
       "<div>\n",
       "<style scoped>\n",
       "    .dataframe tbody tr th:only-of-type {\n",
       "        vertical-align: middle;\n",
       "    }\n",
       "\n",
       "    .dataframe tbody tr th {\n",
       "        vertical-align: top;\n",
       "    }\n",
       "\n",
       "    .dataframe thead th {\n",
       "        text-align: right;\n",
       "    }\n",
       "</style>\n",
       "<table border=\"1\" class=\"dataframe\">\n",
       "  <thead>\n",
       "    <tr style=\"text-align: right;\">\n",
       "      <th></th>\n",
       "      <th>build</th>\n",
       "      <th>package</th>\n",
       "      <th>version</th>\n",
       "      <th>crate</th>\n",
       "      <th>crate_hash</th>\n",
       "      <th>edition</th>\n",
       "      <th>crate_types</th>\n",
       "    </tr>\n",
       "  </thead>\n",
       "  <tbody>\n",
       "    <tr>\n",
       "      <th>0</th>\n",
       "      <td>1</td>\n",
       "      <td>hostname</td>\n",
       "      <td>0.3.1</td>\n",
       "      <td>hostname</td>\n",
       "      <td>7d24e7bf196f8468</td>\n",
       "      <td>2015</td>\n",
       "      <td>rlib</td>\n",
       "    </tr>\n",
       "    <tr>\n",
       "      <th>1</th>\n",
       "      <td>4</td>\n",
       "      <td>rustc_version</td>\n",
       "      <td>0.2.3</td>\n",
       "      <td>rustc_version</td>\n",
       "      <td>e7a6ad26a2154927</td>\n",
       "      <td>2015</td>\n",
       "      <td>rlib</td>\n",
       "    </tr>\n",
       "    <tr>\n",
       "      <th>2</th>\n",
       "      <td>6</td>\n",
       "      <td>tinyvec</td>\n",
       "      <td>1.0.1</td>\n",
       "      <td>tinyvec</td>\n",
       "      <td>71ef93374e1c0780</td>\n",
       "      <td>2018</td>\n",
       "      <td>rlib</td>\n",
       "    </tr>\n",
       "    <tr>\n",
       "      <th>3</th>\n",
       "      <td>7</td>\n",
       "      <td>md5</td>\n",
       "      <td>0.7.0</td>\n",
       "      <td>md5</td>\n",
       "      <td>52b68823a0dc0c42</td>\n",
       "      <td>2015</td>\n",
       "      <td>rlib</td>\n",
       "    </tr>\n",
       "    <tr>\n",
       "      <th>4</th>\n",
       "      <td>10</td>\n",
       "      <td>object</td>\n",
       "      <td>0.21.1</td>\n",
       "      <td>object</td>\n",
       "      <td>3f7d31cb03159107</td>\n",
       "      <td>2018</td>\n",
       "      <td>rlib</td>\n",
       "    </tr>\n",
       "    <tr>\n",
       "      <th>...</th>\n",
       "      <td>...</td>\n",
       "      <td>...</td>\n",
       "      <td>...</td>\n",
       "      <td>...</td>\n",
       "      <td>...</td>\n",
       "      <td>...</td>\n",
       "      <td>...</td>\n",
       "    </tr>\n",
       "    <tr>\n",
       "      <th>505</th>\n",
       "      <td>2118</td>\n",
       "      <td>owning_ref</td>\n",
       "      <td>0.4.1</td>\n",
       "      <td>owning_ref</td>\n",
       "      <td>35803e692910b68</td>\n",
       "      <td>2015</td>\n",
       "      <td>rlib</td>\n",
       "    </tr>\n",
       "    <tr>\n",
       "      <th>506</th>\n",
       "      <td>2121</td>\n",
       "      <td>ring</td>\n",
       "      <td>0.17.0-alpha.4</td>\n",
       "      <td>ring</td>\n",
       "      <td>57d7c3f120e595e4</td>\n",
       "      <td>2018</td>\n",
       "      <td>rlib</td>\n",
       "    </tr>\n",
       "    <tr>\n",
       "      <th>507</th>\n",
       "      <td>2125</td>\n",
       "      <td>difference</td>\n",
       "      <td>2.0.0</td>\n",
       "      <td>difference</td>\n",
       "      <td>1604b5f77078947f</td>\n",
       "      <td>2015</td>\n",
       "      <td>rlib</td>\n",
       "    </tr>\n",
       "    <tr>\n",
       "      <th>508</th>\n",
       "      <td>2127</td>\n",
       "      <td>pretty_assertions</td>\n",
       "      <td>0.6.1</td>\n",
       "      <td>pretty_assertions</td>\n",
       "      <td>f3ce7e520d654cc8</td>\n",
       "      <td>2018</td>\n",
       "      <td>rlib</td>\n",
       "    </tr>\n",
       "    <tr>\n",
       "      <th>509</th>\n",
       "      <td>2131</td>\n",
       "      <td>rand_xoshiro</td>\n",
       "      <td>0.4.0</td>\n",
       "      <td>rand_xoshiro</td>\n",
       "      <td>96b0e0a3234b9086</td>\n",
       "      <td>2018</td>\n",
       "      <td>rlib</td>\n",
       "    </tr>\n",
       "  </tbody>\n",
       "</table>\n",
       "<p>510 rows × 7 columns</p>\n",
       "</div>"
      ],
      "text/plain": [
       "     build            package         version              crate  \\\n",
       "0        1           hostname           0.3.1           hostname   \n",
       "1        4      rustc_version           0.2.3      rustc_version   \n",
       "2        6            tinyvec           1.0.1            tinyvec   \n",
       "3        7                md5           0.7.0                md5   \n",
       "4       10             object          0.21.1             object   \n",
       "..     ...                ...             ...                ...   \n",
       "505   2118         owning_ref           0.4.1         owning_ref   \n",
       "506   2121               ring  0.17.0-alpha.4               ring   \n",
       "507   2125         difference           2.0.0         difference   \n",
       "508   2127  pretty_assertions           0.6.1  pretty_assertions   \n",
       "509   2131       rand_xoshiro           0.4.0       rand_xoshiro   \n",
       "\n",
       "           crate_hash  edition crate_types  \n",
       "0    7d24e7bf196f8468     2015        rlib  \n",
       "1    e7a6ad26a2154927     2015        rlib  \n",
       "2    71ef93374e1c0780     2018        rlib  \n",
       "3    52b68823a0dc0c42     2015        rlib  \n",
       "4    3f7d31cb03159107     2018        rlib  \n",
       "..                ...      ...         ...  \n",
       "505   35803e692910b68     2015        rlib  \n",
       "506  57d7c3f120e595e4     2018        rlib  \n",
       "507  1604b5f77078947f     2015        rlib  \n",
       "508  f3ce7e520d654cc8     2018        rlib  \n",
       "509  96b0e0a3234b9086     2018        rlib  \n",
       "\n",
       "[510 rows x 7 columns]"
      ]
     },
     "execution_count": 4,
     "metadata": {},
     "output_type": "execute_result"
    }
   ],
   "source": [
    "selected_builds"
   ]
  },
  {
   "cell_type": "code",
   "execution_count": 5,
   "metadata": {},
   "outputs": [
    {
     "data": {
      "text/plain": [
       "'rustc_version'"
      ]
     },
     "execution_count": 5,
     "metadata": {},
     "output_type": "execute_result"
    }
   ],
   "source": [
    "selected_builds.at[1,'package']"
   ]
  },
  {
   "cell_type": "code",
   "execution_count": 6,
   "metadata": {
    "scrolled": true
   },
   "outputs": [
    {
     "name": "stdout",
     "output_type": "stream",
     "text": [
      "Found: ppv_lite86\n",
      "Found hash: 8f7f8b0411c06b17\n",
      "\n",
      "Found this series:\n",
      "build                        52\n",
      "package         core-foundation\n",
      "version                   0.9.1\n",
      "crate           core_foundation\n",
      "crate_hash     fd9e7bfc17ad8030\n",
      "edition                    2015\n",
      "crate_types                rlib\n",
      "Name: 31, dtype: object\n",
      "\n",
      "Found this series:\n",
      "build                           53\n",
      "package        core-foundation-sys\n",
      "version                      0.8.1\n",
      "crate          core_foundation_sys\n",
      "crate_hash        3ad5e02c9fe93a19\n",
      "edition                       2015\n",
      "crate_types                   rlib\n",
      "Name: 32, dtype: object\n",
      "\n",
      "Found this series:\n",
      "build                        96\n",
      "package              rayon-core\n",
      "version                   1.8.1\n",
      "crate                rayon_core\n",
      "crate_hash     d7dd626bcc745a48\n",
      "edition                    2018\n",
      "crate_types                rlib\n",
      "Name: 54, dtype: object\n",
      "\n",
      "Found this series:\n",
      "build                       102\n",
      "package        parking_lot_core\n",
      "version                   0.8.0\n",
      "crate          parking_lot_core\n",
      "crate_hash     39fa5491c5ac06f0\n",
      "edition                    2018\n",
      "crate_types                rlib\n",
      "Name: 59, dtype: object\n",
      "\n",
      "Found this series:\n",
      "build                      425\n",
      "package           futures-core\n",
      "version                  0.3.6\n",
      "crate             futures_core\n",
      "crate_hash     58e7150433c4f6e\n",
      "edition                   2018\n",
      "crate_types               rlib\n",
      "Name: 189, dtype: object\n",
      "\n",
      "Found this series:\n",
      "build                       446\n",
      "package            lexical-core\n",
      "version                   0.7.4\n",
      "crate              lexical_core\n",
      "crate_hash     e1470018361eb732\n",
      "edition                    2018\n",
      "crate_types                rlib\n",
      "Name: 195, dtype: object\n",
      "\n",
      "Found this series:\n",
      "build                       494\n",
      "package               rand_core\n",
      "version                   0.5.1\n",
      "crate                 rand_core\n",
      "crate_hash     7b47d95740c23b17\n",
      "edition                    2018\n",
      "crate_types                rlib\n",
      "Name: 208, dtype: object\n",
      "\n",
      "Found this series:\n",
      "build                      500\n",
      "package           tracing-core\n",
      "version                 0.1.17\n",
      "crate             tracing_core\n",
      "crate_hash     c56d4491878f0b6\n",
      "edition                   2018\n",
      "crate_types               rlib\n",
      "Name: 211, dtype: object\n",
      "\n",
      "Found this series:\n",
      "build                       961\n",
      "package            darling_core\n",
      "version                  0.10.2\n",
      "crate              darling_core\n",
      "crate_hash     80b830f57ba2cbd9\n",
      "edition                    2015\n",
      "crate_types                rlib\n",
      "Name: 331, dtype: object\n",
      "\n",
      "Found this series:\n",
      "build                     1203\n",
      "package               csv-core\n",
      "version                 0.1.10\n",
      "crate                 csv_core\n",
      "crate_hash     5c37bc141567824\n",
      "edition                   2018\n",
      "crate_types               rlib\n",
      "Name: 376, dtype: object\n",
      "\n",
      "Found this series:\n",
      "build                      1254\n",
      "package            jsonrpc-core\n",
      "version                  15.1.0\n",
      "crate              jsonrpc_core\n",
      "crate_hash     be2792edf5939928\n",
      "edition                    2018\n",
      "crate_types                rlib\n",
      "Name: 384, dtype: object\n"
     ]
    }
   ],
   "source": [
    "#for name in selected_builds.crate:\n",
    "#    if 'core' in name:\n",
    "#        print(\"Found:\", name)\n",
    "\n",
    "for name in selected_builds.crate:\n",
    "    if name == 'ppv_lite86':\n",
    "        print(\"Found:\", name)\n",
    "\n",
    "for hash in selected_builds.crate_hash:\n",
    "    if hash == '8f7f8b0411c06b17':\n",
    "        print(\"Found hash:\", hash)\n",
    "        \n",
    "for i, s in selected_builds.iterrows():\n",
    "    if 'core' in s.crate:\n",
    "        print(\"\")\n",
    "        print(\"Found this series:\")\n",
    "        print(s)"
   ]
  },
  {
   "cell_type": "code",
   "execution_count": 7,
   "metadata": {},
   "outputs": [
    {
     "data": {
      "text/plain": [
       "Series([], Name: crate, dtype: object)"
      ]
     },
     "execution_count": 7,
     "metadata": {},
     "output_type": "execute_result"
    }
   ],
   "source": [
    "selected_builds.query(\"crate=='core_arch'\").crate"
   ]
  },
  {
   "cell_type": "markdown",
   "metadata": {},
   "source": [
    "## Crate Names"
   ]
  },
  {
   "cell_type": "markdown",
   "metadata": {},
   "source": [
    "The most popular crate names are:"
   ]
  },
  {
   "cell_type": "code",
   "execution_count": 8,
   "metadata": {},
   "outputs": [
    {
     "data": {
      "text/plain": [
       "probe1            4\n",
       "mdbook            2\n",
       "open              2\n",
       "sha1              2\n",
       "pulldown_cmark    2\n",
       "semver_parser     2\n",
       "gcc_shim          2\n",
       "bindgen           2\n",
       "rustversion       1\n",
       "native_tls        1\n",
       "Name: crate, dtype: int64"
      ]
     },
     "execution_count": 8,
     "metadata": {},
     "output_type": "execute_result"
    }
   ],
   "source": [
    "selected_builds.crate.value_counts()[:10]"
   ]
  },
  {
   "cell_type": "markdown",
   "metadata": {},
   "source": [
    "The crate names `build_script_<file>` indicate that the crate is a build script; `<file>` is the name of the actual build script without the `.rs` suffix. We have omited the build scripts from our analysis; that is why they are not shown in `selected_builds`.\n",
    "\n",
    "The crate names that often repeat such as `main`, `example`, `test`, and `demo` typically belong to binaries as can be seen from the following frequence table:"
   ]
  },
  {
   "cell_type": "code",
   "execution_count": 9,
   "metadata": {},
   "outputs": [
    {
     "data": {
      "text/plain": [
       "gcc_shim           2\n",
       "cat                1\n",
       "mdbook             1\n",
       "bindgen            1\n",
       "xml_analyze        1\n",
       "exit               1\n",
       "semver_parser      1\n",
       "open               1\n",
       "process_cert       1\n",
       "handlebars_cli     1\n",
       "pulldown_cmark     1\n",
       "docopt_wordlist    1\n",
       "Name: crate, dtype: int64"
      ]
     },
     "execution_count": 9,
     "metadata": {},
     "output_type": "execute_result"
    }
   ],
   "source": [
    "selected_builds.query(\"crate_types=='bin'\").crate.value_counts()"
   ]
  },
  {
   "cell_type": "markdown",
   "metadata": {},
   "source": [
    "## Crate Types\n",
    "\n",
    "We first check what crate types exist:"
   ]
  },
  {
   "cell_type": "code",
   "execution_count": 10,
   "metadata": {},
   "outputs": [
    {
     "data": {
      "text/plain": [
       "array(['rlib', 'proc-macro', 'bin'], dtype=object)"
      ]
     },
     "execution_count": 10,
     "metadata": {},
     "output_type": "execute_result"
    }
   ],
   "source": [
    "pd.unique(selected_builds.crate_types)"
   ]
  },
  {
   "cell_type": "markdown",
   "metadata": {},
   "source": [
    "Count how many crates of each type we have:"
   ]
  },
  {
   "cell_type": "code",
   "execution_count": 11,
   "metadata": {
    "scrolled": false
   },
   "outputs": [
    {
     "name": "stdout",
     "output_type": "stream",
     "text": [
      "{'rlib': 472, 'proc-macro': 25, 'bin': 13}\n"
     ]
    }
   ],
   "source": [
    "import utils\n",
    "crate_type_counts = utils.count_builds_per_type(selected_builds)\n",
    "print(crate_type_counts)"
   ]
  },
  {
   "cell_type": "markdown",
   "metadata": {},
   "source": [
    "The three builds with missing type are Rust files [generated](https://gitlab.com/tspiteri/rug/-/blob/834cbefbce178a67bd97cc93ab1f88f262bd6126/build.rs#L27-29) by the `rug` package build.rs file to check what features are supported by the Rust compiler."
   ]
  },
  {
   "cell_type": "code",
   "execution_count": 12,
   "metadata": {},
   "outputs": [
    {
     "data": {
      "text/html": [
       "<div>\n",
       "<style scoped>\n",
       "    .dataframe tbody tr th:only-of-type {\n",
       "        vertical-align: middle;\n",
       "    }\n",
       "\n",
       "    .dataframe tbody tr th {\n",
       "        vertical-align: top;\n",
       "    }\n",
       "\n",
       "    .dataframe thead th {\n",
       "        text-align: right;\n",
       "    }\n",
       "</style>\n",
       "<table border=\"1\" class=\"dataframe\">\n",
       "  <thead>\n",
       "    <tr style=\"text-align: right;\">\n",
       "      <th></th>\n",
       "      <th>build</th>\n",
       "      <th>package</th>\n",
       "      <th>version</th>\n",
       "      <th>crate</th>\n",
       "      <th>crate_hash</th>\n",
       "      <th>edition</th>\n",
       "      <th>crate_types</th>\n",
       "    </tr>\n",
       "  </thead>\n",
       "  <tbody>\n",
       "  </tbody>\n",
       "</table>\n",
       "</div>"
      ],
      "text/plain": [
       "Empty DataFrame\n",
       "Columns: [build, package, version, crate, crate_hash, edition, crate_types]\n",
       "Index: []"
      ]
     },
     "execution_count": 12,
     "metadata": {},
     "output_type": "execute_result"
    }
   ],
   "source": [
    "selected_builds.query(\"crate_types == ''\")"
   ]
  },
  {
   "cell_type": "markdown",
   "metadata": {},
   "source": [
    "## Editions"
   ]
  },
  {
   "cell_type": "code",
   "execution_count": 13,
   "metadata": {},
   "outputs": [
    {
     "data": {
      "text/plain": [
       "2018    256\n",
       "2015    254\n",
       "Name: edition, dtype: int64"
      ]
     },
     "execution_count": 13,
     "metadata": {},
     "output_type": "execute_result"
    }
   ],
   "source": [
    "selected_builds.edition.value_counts()"
   ]
  },
  {
   "cell_type": "markdown",
   "metadata": {},
   "source": [
    "## `-sys` packages\n",
    "\n",
    "Check what portion of `-sys` crates have matching non`-sys` crates:"
   ]
  },
  {
   "cell_type": "code",
   "execution_count": 14,
   "metadata": {},
   "outputs": [
    {
     "name": "stdout",
     "output_type": "stream",
     "text": [
      "Total:  21\n",
      "Percent of -sys crates that have matching non-sys crates: 42.86%\n"
     ]
    }
   ],
   "source": [
    "# Validation: check that for each `-sys` crate there is one without the suffix.\n",
    "def check_sys_crates():\n",
    "    packages = utils.load_original_crates_list()\n",
    "    assert len(packages[packages.isnull().any(axis=1)]) == 0\n",
    "    all_crate_names = set(packages['package'])\n",
    "    not_found = []\n",
    "    found = []\n",
    "    for crate_name in all_crate_names:\n",
    "        if crate_name.endswith('-sys'):\n",
    "            if crate_name[:-4] not in all_crate_names:\n",
    "                not_found.append(crate_name)\n",
    "            else:\n",
    "                found.append(crate_name)\n",
    "    print(\"Total: \", (len(found)+len(not_found)))\n",
    "    print(\"Percent of -sys crates that have matching non-sys crates: {:.2f}%\".format(\n",
    "        100*len(found) / (len(found)+len(not_found))))\n",
    "check_sys_crates()"
   ]
  },
  {
   "cell_type": "code",
   "execution_count": 15,
   "metadata": {},
   "outputs": [
    {
     "name": "stdout",
     "output_type": "stream",
     "text": [
      "Total:  21\n",
      "Percent of -sys crates that have relaxed-matching non-sys crates: 61.90%\n"
     ]
    }
   ],
   "source": [
    "# Validation: check that for each `-sys` crate there is one wit the same prefix.\n",
    "def check_sys_crates_relaxed():\n",
    "    packages = utils.load_original_crates_list()\n",
    "    assert len(packages[packages.isnull().any(axis=1)]) == 0\n",
    "    all_crate_names = set(packages['package'])\n",
    "    not_found = []\n",
    "    found = []\n",
    "    for crate_name in all_crate_names:\n",
    "        if crate_name.endswith('-sys'):\n",
    "            base_name = crate_name[:-4]\n",
    "            # Quadratic... well\n",
    "            if any(\n",
    "                map(\n",
    "                    lambda x: (\n",
    "                        x != crate_name\n",
    "                        and not x.endswith('-sys')\n",
    "                        and x.startswith(base_name)\n",
    "                    ),\n",
    "                    all_crate_names\n",
    "                )\n",
    "            ):\n",
    "                found.append(crate_name)\n",
    "            else:\n",
    "                not_found.append(crate_name)\n",
    "    print(\"Total: \", (len(found)+len(not_found)))\n",
    "    print(\"Percent of -sys crates that have relaxed-matching non-sys crates: {:.2f}%\".format(\n",
    "        100*len(found) / (len(found)+len(not_found))))\n",
    "check_sys_crates_relaxed()"
   ]
  },
  {
   "cell_type": "markdown",
   "metadata": {},
   "source": [
    "# Basics about Packages\n",
    "\n",
    "> We evaluated our queries on a dataset that comprises the most-recent version (as of 2020-01-14) of all 34445 packages published on central Rust repository crates.io. The implementation of a package can be composed of multiple crates, one of which is usually primary and determines the name of the package.\n",
    "> We excluded 5459 packages (16%) whose most recent version did not successfully compile.\n",
    "> For packages with conditional compilation features, we used the default flags specified in the manifest.\n",
    "> In cases when a package failed to compile with the default flags, but succeeded with different ones (when compiled as a dependency of another package) we selected a random build for analysis.\n",
    "> As a result, our dataset consists of 31867 crates."
   ]
  },
  {
   "cell_type": "code",
   "execution_count": 16,
   "metadata": {},
   "outputs": [
    {
     "name": "stdout",
     "output_type": "stream",
     "text": [
      "Number of original packages: 500\n",
      "Number of compiling packages: 488 0.976\n",
      "Number of non-compiling packages: 12 0.024\n",
      "Number of crates: 510\n",
      "Number of unique crate names (don't use this number): 500\n"
     ]
    }
   ],
   "source": [
    "print(\"Number of original packages:\", len(utils.load_original_crates_list()))\n",
    "print(\"Number of compiling packages:\", len(selected_builds.package.unique()),\n",
    "      len(selected_builds.package.unique()) / len(utils.load_original_crates_list()))\n",
    "print(\"Number of non-compiling packages:\",\n",
    "      len(utils.load_original_crates_list()) - len(selected_builds.package.unique()),\n",
    "     (len(utils.load_original_crates_list()) - len(selected_builds.package.unique())) / len(utils.load_original_crates_list()))\n",
    "print(\"Number of crates:\", len(selected_builds))\n",
    "print(\"Number of unique crate names (don't use this number):\", len(selected_builds.crate.unique()))"
   ]
  },
  {
   "cell_type": "markdown",
   "metadata": {},
   "source": [
    "> Most of these crates are compiled to Rust libraries, namely 76%, or binaries, namely 20%.\n",
    "The other crates are procedural macros (4%)."
   ]
  },
  {
   "cell_type": "code",
   "execution_count": 17,
   "metadata": {},
   "outputs": [
    {
     "name": "stdout",
     "output_type": "stream",
     "text": [
      "Crates\n",
      "rlib          472\n",
      "proc-macro     25\n",
      "bin            13\n",
      "Name: crate_types, dtype: int64\n",
      "\n",
      "Libs: 472 0.9254901960784314\n",
      "Bin: 13 0.025490196078431372\n",
      "proc-macro: 25 0.049019607843137254\n",
      "Others: 0 0.0\n"
     ]
    }
   ],
   "source": [
    "print(\"Crates\")\n",
    "print(selected_builds.crate_types.value_counts())\n",
    "print()\n",
    "print(\"Libs:\",\n",
    "      sum(selected_builds.crate_types.str.contains(\"lib\")),\n",
    "      sum(selected_builds.crate_types.str.contains(\"lib\")) / len(selected_builds)\n",
    ")\n",
    "print(\"Bin:\",\n",
    "      sum(selected_builds.crate_types.str.contains(\"bin\")),\n",
    "      sum(selected_builds.crate_types.str.contains(\"bin\")) / len(selected_builds)\n",
    ")\n",
    "print(\"proc-macro:\",\n",
    "      sum(selected_builds.crate_types.str.contains(\"proc-macro\")),\n",
    "      sum(selected_builds.crate_types.str.contains(\"proc-macro\")) / len(selected_builds)\n",
    ")\n",
    "others = (\n",
    "    ~selected_builds.crate_types.str.contains(\"bin\")\n",
    "    & ~selected_builds.crate_types.str.contains(\"proc-macro\")\n",
    "    & ~selected_builds.crate_types.str.contains(\"lib\")\n",
    ")\n",
    "print(\"Others:\",\n",
    "      sum(others),\n",
    "      sum(others) / len(selected_builds)\n",
    ")"
   ]
  },
  {
   "cell_type": "markdown",
   "metadata": {},
   "source": [
    "## Search for specific crates"
   ]
  },
  {
   "cell_type": "code",
   "execution_count": 18,
   "metadata": {},
   "outputs": [
    {
     "name": "stdout",
     "output_type": "stream",
     "text": [
      "sys crates: 19\n",
      "sys crates (with manual): 32\n"
     ]
    }
   ],
   "source": [
    "from whitelists import *\n",
    "print(\"sys crates:\", len([\n",
    "    x\n",
    "    for x in selected_builds.crate\n",
    "    if x.lower().replace(\"-\", \"_\").endswith(\"_sys\")\n",
    "]))\n",
    "print(\"sys crates (with manual):\", len(get_sys_crate_names(selected_builds.crate.unique())))"
   ]
  },
  {
   "cell_type": "code",
   "execution_count": 19,
   "metadata": {},
   "outputs": [
    {
     "name": "stdout",
     "output_type": "stream",
     "text": [
      "hardware crates 10\n"
     ]
    }
   ],
   "source": [
    "print(\"hardware crates\", len(hardware_crate_names))"
   ]
  },
  {
   "cell_type": "code",
   "execution_count": 20,
   "metadata": {},
   "outputs": [
    {
     "name": "stdout",
     "output_type": "stream",
     "text": [
      "top_500_crates: 500\n",
      "top_500_packages compiling: 461\n",
      "top_500_crates compiling: 461\n",
      "Crates\n",
      "rlib          472\n",
      "proc-macro     25\n",
      "bin            13\n",
      "Name: crate_types, dtype: int64\n",
      "\n",
      "Libs: 440 0.8627450980392157\n",
      "Bin: 3 0.0058823529411764705\n",
      "proc-macro: 18 0.03529411764705882\n",
      "Others: 0 0.0\n"
     ]
    }
   ],
   "source": [
    "from top_crates import *\n",
    "print(\"top_500_crates:\", len(set(top_500_crates)))\n",
    "\n",
    "def norm(x):\n",
    "    return x.lower().replace(\"-\", \"_\")\n",
    "\n",
    "top_500_compiling_crates = set(map(norm, top_500_crates)) & set(map(norm, selected_builds.package.unique()))\n",
    "top_500_crates_set = set(top_500_crates)\n",
    "top_500_mask = selected_builds.package.map(lambda x: x.replace(\"-\", \"_\") in top_500_crates_set)\n",
    "top_500_builds = selected_builds[top_500_mask][\n",
    "    ~selected_builds[top_500_mask][\"package\"].duplicated()\n",
    "]\n",
    "\n",
    "print(\"top_500_packages compiling:\", len(top_500_compiling_crates))\n",
    "\n",
    "print(\"top_500_crates compiling:\", len(top_500_builds))\n",
    "\n",
    "print(\"Crates\")\n",
    "print(selected_builds.crate_types.value_counts())\n",
    "print()\n",
    "print(\"Libs:\",\n",
    "      sum(top_500_builds.crate_types.str.contains(\"rlib\")),\n",
    "      sum(top_500_builds.crate_types.str.contains(\"rlib\")) / len(selected_builds)\n",
    ")\n",
    "print(\"Bin:\",\n",
    "      sum(top_500_builds.crate_types.str.contains(\"bin\")),\n",
    "      sum(top_500_builds.crate_types.str.contains(\"bin\")) / len(selected_builds)\n",
    ")\n",
    "print(\"proc-macro:\",\n",
    "      sum(top_500_builds.crate_types.str.contains(\"proc-macro\")),\n",
    "      sum(top_500_builds.crate_types.str.contains(\"proc-macro\")) / len(selected_builds)\n",
    ")\n",
    "others = (\n",
    "    ~top_500_builds.crate_types.str.contains(\"bin\")\n",
    "    & ~top_500_builds.crate_types.str.contains(\"proc-macro\")\n",
    "    & ~top_500_builds.crate_types.str.contains(\"rlib\")\n",
    ")\n",
    "print(\"Others:\",\n",
    "      sum(others),\n",
    "      sum(others) / len(top_500_builds)\n",
    ")"
   ]
  }
 ],
 "metadata": {
  "kernelspec": {
   "display_name": "Python 3",
   "language": "python",
   "name": "python3"
  },
  "language_info": {
   "codemirror_mode": {
    "name": "ipython",
    "version": 3
   },
   "file_extension": ".py",
   "mimetype": "text/x-python",
   "name": "python",
   "nbconvert_exporter": "python",
   "pygments_lexer": "ipython3",
   "version": "3.8.6"
  }
 },
 "nbformat": 4,
 "nbformat_minor": 2
}
