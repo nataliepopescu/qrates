{
 "cells": [
  {
   "cell_type": "markdown",
   "metadata": {},
   "source": [
    "# RQ 2 (Size)\n",
    "\n",
    "> What is the size of unsafe blocks that programmers write?"
   ]
  },
  {
   "cell_type": "markdown",
   "metadata": {},
   "source": [
    "## Setup"
   ]
  },
  {
   "cell_type": "code",
   "execution_count": 1,
   "metadata": {},
   "outputs": [],
   "source": [
    "# import libraries\n",
    "import itertools\n",
    "import functools\n",
    "import numpy as np\n",
    "import pandas as pd\n",
    "import matplotlib.pyplot as plt\n",
    "from sklearn import tree\n",
    "\n",
    "import utils\n",
    "import top_crates\n",
    "from whitelists import *\n",
    "from drawing import *\n",
    "\n",
    "# Configure pyplot: enlarge plots \n",
    "plt.rcParams['figure.figsize'] = [15/1.5, 8/1.4]\n",
    "# Configure pandas: show all columns when printing a dataframe\n",
    "pd.set_option('display.max_columns', None)\n",
    "# Configure pandas: show more rows when printing a dataframe\n",
    "pd.set_option('display.min_rows', 20)\n",
    "# Font for paper\n",
    "plt.rc('font', family='serif')"
   ]
  },
  {
   "cell_type": "code",
   "execution_count": 2,
   "metadata": {},
   "outputs": [],
   "source": [
    "# Load tables\n",
    "unsafe_blocks = utils.load_unsafe_blocks()\n",
    "unsafe_block_sizes = utils.load_unsafe_block_sizes()\n",
    "\n",
    "# Preprocessing\n",
    "user_written_unsafe_blocks = unsafe_blocks[unsafe_blocks.check_mode == \"UnsafeBlockUserProvided\"].copy()"
   ]
  },
  {
   "cell_type": "markdown",
   "metadata": {},
   "source": [
    "## Query 3\n",
    "\n",
    "> how many MIR statements does the compiler generate for user-written unsafe blocks\n",
    "\n",
    "#### Results from the paper for comparison (Fig. 3)\n",
    "\n",
    "![Fig. 3](pics/unsafe_blocks_size_cumulative.png)"
   ]
  },
  {
   "cell_type": "code",
   "execution_count": 3,
   "metadata": {},
   "outputs": [
    {
     "data": {
      "text/html": [
       "<div>\n",
       "<style scoped>\n",
       "    .dataframe tbody tr th:only-of-type {\n",
       "        vertical-align: middle;\n",
       "    }\n",
       "\n",
       "    .dataframe tbody tr th {\n",
       "        vertical-align: top;\n",
       "    }\n",
       "\n",
       "    .dataframe thead th {\n",
       "        text-align: right;\n",
       "    }\n",
       "</style>\n",
       "<table border=\"1\" class=\"dataframe\">\n",
       "  <thead>\n",
       "    <tr style=\"text-align: right;\">\n",
       "      <th></th>\n",
       "      <th>scope</th>\n",
       "      <th>mir_statements_count</th>\n",
       "      <th>mir_terminators_count</th>\n",
       "      <th>mir_items_count</th>\n",
       "    </tr>\n",
       "  </thead>\n",
       "  <tbody>\n",
       "    <tr>\n",
       "      <th>0</th>\n",
       "      <td>38</td>\n",
       "      <td>3</td>\n",
       "      <td>1</td>\n",
       "      <td>4</td>\n",
       "    </tr>\n",
       "    <tr>\n",
       "      <th>1</th>\n",
       "      <td>41</td>\n",
       "      <td>11</td>\n",
       "      <td>2</td>\n",
       "      <td>13</td>\n",
       "    </tr>\n",
       "    <tr>\n",
       "      <th>47</th>\n",
       "      <td>18870</td>\n",
       "      <td>5</td>\n",
       "      <td>1</td>\n",
       "      <td>6</td>\n",
       "    </tr>\n",
       "    <tr>\n",
       "      <th>48</th>\n",
       "      <td>18885</td>\n",
       "      <td>8</td>\n",
       "      <td>2</td>\n",
       "      <td>10</td>\n",
       "    </tr>\n",
       "    <tr>\n",
       "      <th>49</th>\n",
       "      <td>18889</td>\n",
       "      <td>16</td>\n",
       "      <td>4</td>\n",
       "      <td>20</td>\n",
       "    </tr>\n",
       "    <tr>\n",
       "      <th>67</th>\n",
       "      <td>32588</td>\n",
       "      <td>4</td>\n",
       "      <td>1</td>\n",
       "      <td>5</td>\n",
       "    </tr>\n",
       "    <tr>\n",
       "      <th>68</th>\n",
       "      <td>33385</td>\n",
       "      <td>24</td>\n",
       "      <td>3</td>\n",
       "      <td>27</td>\n",
       "    </tr>\n",
       "    <tr>\n",
       "      <th>69</th>\n",
       "      <td>32609</td>\n",
       "      <td>6</td>\n",
       "      <td>1</td>\n",
       "      <td>7</td>\n",
       "    </tr>\n",
       "    <tr>\n",
       "      <th>70</th>\n",
       "      <td>32613</td>\n",
       "      <td>6</td>\n",
       "      <td>1</td>\n",
       "      <td>7</td>\n",
       "    </tr>\n",
       "    <tr>\n",
       "      <th>71</th>\n",
       "      <td>32618</td>\n",
       "      <td>5</td>\n",
       "      <td>2</td>\n",
       "      <td>7</td>\n",
       "    </tr>\n",
       "    <tr>\n",
       "      <th>...</th>\n",
       "      <td>...</td>\n",
       "      <td>...</td>\n",
       "      <td>...</td>\n",
       "      <td>...</td>\n",
       "    </tr>\n",
       "    <tr>\n",
       "      <th>11313</th>\n",
       "      <td>2943914</td>\n",
       "      <td>27</td>\n",
       "      <td>4</td>\n",
       "      <td>31</td>\n",
       "    </tr>\n",
       "    <tr>\n",
       "      <th>11314</th>\n",
       "      <td>2943929</td>\n",
       "      <td>27</td>\n",
       "      <td>4</td>\n",
       "      <td>31</td>\n",
       "    </tr>\n",
       "    <tr>\n",
       "      <th>11315</th>\n",
       "      <td>2943954</td>\n",
       "      <td>18</td>\n",
       "      <td>3</td>\n",
       "      <td>21</td>\n",
       "    </tr>\n",
       "    <tr>\n",
       "      <th>11316</th>\n",
       "      <td>2943970</td>\n",
       "      <td>19</td>\n",
       "      <td>3</td>\n",
       "      <td>22</td>\n",
       "    </tr>\n",
       "    <tr>\n",
       "      <th>11317</th>\n",
       "      <td>2943973</td>\n",
       "      <td>19</td>\n",
       "      <td>3</td>\n",
       "      <td>22</td>\n",
       "    </tr>\n",
       "    <tr>\n",
       "      <th>11322</th>\n",
       "      <td>2944804</td>\n",
       "      <td>9</td>\n",
       "      <td>1</td>\n",
       "      <td>10</td>\n",
       "    </tr>\n",
       "    <tr>\n",
       "      <th>11323</th>\n",
       "      <td>2944806</td>\n",
       "      <td>6</td>\n",
       "      <td>1</td>\n",
       "      <td>7</td>\n",
       "    </tr>\n",
       "    <tr>\n",
       "      <th>11324</th>\n",
       "      <td>2945033</td>\n",
       "      <td>8</td>\n",
       "      <td>2</td>\n",
       "      <td>10</td>\n",
       "    </tr>\n",
       "    <tr>\n",
       "      <th>11325</th>\n",
       "      <td>2945035</td>\n",
       "      <td>2</td>\n",
       "      <td>1</td>\n",
       "      <td>3</td>\n",
       "    </tr>\n",
       "    <tr>\n",
       "      <th>11326</th>\n",
       "      <td>2945298</td>\n",
       "      <td>36</td>\n",
       "      <td>7</td>\n",
       "      <td>43</td>\n",
       "    </tr>\n",
       "  </tbody>\n",
       "</table>\n",
       "<p>7331 rows × 4 columns</p>\n",
       "</div>"
      ],
      "text/plain": [
       "         scope  mir_statements_count  mir_terminators_count  mir_items_count\n",
       "0           38                     3                      1                4\n",
       "1           41                    11                      2               13\n",
       "47       18870                     5                      1                6\n",
       "48       18885                     8                      2               10\n",
       "49       18889                    16                      4               20\n",
       "67       32588                     4                      1                5\n",
       "68       33385                    24                      3               27\n",
       "69       32609                     6                      1                7\n",
       "70       32613                     6                      1                7\n",
       "71       32618                     5                      2                7\n",
       "...        ...                   ...                    ...              ...\n",
       "11313  2943914                    27                      4               31\n",
       "11314  2943929                    27                      4               31\n",
       "11315  2943954                    18                      3               21\n",
       "11316  2943970                    19                      3               22\n",
       "11317  2943973                    19                      3               22\n",
       "11322  2944804                     9                      1               10\n",
       "11323  2944806                     6                      1                7\n",
       "11324  2945033                     8                      2               10\n",
       "11325  2945035                     2                      1                3\n",
       "11326  2945298                    36                      7               43\n",
       "\n",
       "[7331 rows x 4 columns]"
      ]
     },
     "execution_count": 3,
     "metadata": {},
     "output_type": "execute_result"
    }
   ],
   "source": [
    "# Count MIR elements\n",
    "sizes_df = user_written_unsafe_blocks[['scope']].join(\n",
    "    unsafe_block_sizes[['unsafe_scope', 'statement_count', 'terminator_count']].set_index('unsafe_scope'),\n",
    "    on='scope',\n",
    "    how='left',\n",
    ")\n",
    "user_written_unsafe_blocks[\"mir_statements_count\"] = sizes_df.statement_count\n",
    "user_written_unsafe_blocks[\"mir_terminators_count\"] = sizes_df.terminator_count\n",
    "user_written_unsafe_blocks[\"mir_items_count\"] = sizes_df.statement_count + sizes_df.terminator_count\n",
    "user_written_unsafe_blocks[[\"scope\", \"mir_statements_count\", \"mir_terminators_count\", \"mir_items_count\"]]"
   ]
  },
  {
   "cell_type": "code",
   "execution_count": 4,
   "metadata": {
    "scrolled": false
   },
   "outputs": [
    {
     "data": {
      "image/png": "[encoded data removed]",
      "text/plain": [
       "<Figure size 635.294x384 with 1 Axes>"
      ]
     },
     "metadata": {
      "needs_background": "light"
     },
     "output_type": "display_data"
    },
    {
     "data": {
      "image/png": "[encoded data removed]",
      "text/plain": [
       "<Figure size 635.294x384 with 1 Axes>"
      ]
     },
     "metadata": {
      "needs_background": "light"
     },
     "output_type": "display_data"
    },
    {
     "name": "stderr",
     "output_type": "stream",
     "text": [
      "<ipython-input-4-faaef121a7ec>:38: UserWarning: FixedFormatter should only be used together with FixedLocator\n",
      "  ax.set_yticklabels(['{:,.0%}'.format(x) for x in ax.get_yticks()])\n"
     ]
    },
    {
     "data": {
      "image/png": "[encoded data removed]",
      "text/plain": [
       "<Figure size 635.294x384 with 1 Axes>"
      ]
     },
     "metadata": {
      "needs_background": "light"
     },
     "output_type": "display_data"
    },
    {
     "name": "stdout",
     "output_type": "stream",
     "text": [
      "The portion of unsafe blocks covered in the depicted graph: 95.22575364888829 %\n",
      "The portion of unsafe blocks with #21 MIR or less: 60.36011458191243 %\n",
      "Mean size of a unsafe block: 28.66321102168872\n",
      "Median size of a unsafe block: 16.0\n"
     ]
    }
   ],
   "source": [
    "# Plot histograms\n",
    "\n",
    "# Configure pyplot: enlarge plots \n",
    "plt.rcParams['figure.figsize'] = [15/1.7, 8/1.5]\n",
    "\n",
    "user_written_unsafe_blocks.mir_items_count.plot.hist(\n",
    "    bins=500,\n",
    "    log=True,\n",
    "    xlim=(0, user_written_unsafe_blocks.mir_items_count.max())\n",
    ")\n",
    "plt.show()\n",
    "\n",
    "user_written_unsafe_blocks.mir_items_count.describe()\n",
    "\n",
    "user_written_unsafe_blocks[\n",
    "    user_written_unsafe_blocks.mir_items_count <= 100\n",
    "].mir_items_count.plot.hist(\n",
    "    bins=100,\n",
    "    xlim=(0, 100)\n",
    ")\n",
    "plt.show()\n",
    "\n",
    "ax = user_written_unsafe_blocks.mir_items_count.plot.hist(\n",
    "    cumulative=True,\n",
    "    density=1,\n",
    "    bins=int(user_written_unsafe_blocks.mir_items_count.max()),\n",
    "    xlim=(0, 100),\n",
    "    ylim=(0, 1),\n",
    "    histtype=\"step\",\n",
    "    linewidth=2,\n",
    "    fontsize=12,\n",
    "    # title=\"Cumulative distribution\",\n",
    ")\n",
    "ax.title.set_size(20)\n",
    "ax.set_xlabel(\"Unsafe block size (MIR items)\", fontsize=16)\n",
    "ax.set_ylabel(\"Percentage of unsafe blocks\", fontsize=16)\n",
    "ax.set_axisbelow(True)\n",
    "ax.set_yticklabels(['{:,.0%}'.format(x) for x in ax.get_yticks()])\n",
    "ax.set_xticks(range(0, 100, 10), minor=True)\n",
    "ax.set_xticks(range(0, 100, 20))\n",
    "ax.grid(True, linestyle='dotted')\n",
    "plt.show()\n",
    "print(\"The portion of unsafe blocks covered in the depicted graph:\",\n",
    "    100 * len(user_written_unsafe_blocks.query(\"mir_items_count <= 100\"))\n",
    "    /len(user_written_unsafe_blocks), \"%\"\n",
    ")\n",
    "print(\"The portion of unsafe blocks with #21 MIR or less:\",\n",
    "    100 * len(user_written_unsafe_blocks.query(\"mir_items_count <= 21\"))\n",
    "    /len(user_written_unsafe_blocks), \"%\"\n",
    ")\n",
    "print(\"Mean size of a unsafe block:\", user_written_unsafe_blocks.mir_items_count.mean())\n",
    "print(\"Median size of a unsafe block:\", user_written_unsafe_blocks.mir_items_count.median())"
   ]
  },
  {
   "cell_type": "markdown",
   "metadata": {},
   "source": [
    "## Follow-ups"
   ]
  },
  {
   "cell_type": "markdown",
   "metadata": {},
   "source": [
    "> there is a significant share, namely 14.4% of tiny unsafe blocks that either wrap an expression (without function calls) or call a single unsafe function without changing any of its arguments"
   ]
  },
  {
   "cell_type": "code",
   "execution_count": 5,
   "metadata": {},
   "outputs": [
    {
     "name": "stdout",
     "output_type": "stream",
     "text": [
      "2.4% of the user-written unsafe blocks just call an unsafe functions, whithout evaluationg expressions for the arguments\n",
      "4.3% of the user-written unsafe blocks just evaluates an expression, whithout calling any function\n",
      "sum: 6.7%\n"
     ]
    }
   ],
   "source": [
    "print(\"{:.1%} of the user-written unsafe blocks just call an unsafe functions, whithout evaluationg expressions for the arguments\".format(\n",
    "    sum(user_written_unsafe_blocks.mir_statements_count == 0) / len(user_written_unsafe_blocks)\n",
    "))\n",
    "print(\"{:.1%} of the user-written unsafe blocks just evaluates an expression, whithout calling any function\".format(\n",
    "    sum(user_written_unsafe_blocks.mir_terminators_count == 0) / len(user_written_unsafe_blocks)\n",
    "))\n",
    "print(\"sum: {:.1%}\".format(\n",
    "    (sum(user_written_unsafe_blocks.mir_statements_count == 0) +\n",
    "     sum(user_written_unsafe_blocks.mir_terminators_count == 0)) /\n",
    "    len(user_written_unsafe_blocks)\n",
    "))"
   ]
  },
  {
   "cell_type": "markdown",
   "metadata": {},
   "source": [
    "> Conversely, there is a small number (78 or 0.02%) of huge outliers whose size ranges from 2000 to 21306 #MIR.\n",
    "\n",
    "Note: 0.02% of unsafe blocks corresponds to 78 of which\n",
    "- 28 are generated by macros, \n",
    "- 16 are generated at compile time, and\n",
    "- 34 appear to be user written."
   ]
  },
  {
   "cell_type": "code",
   "execution_count": 6,
   "metadata": {},
   "outputs": [
    {
     "name": "stdout",
     "output_type": "stream",
     "text": [
      "Count of huge outliers: 0\n",
      "Percentage: 0.0\n",
      "Largest: 753\n"
     ]
    }
   ],
   "source": [
    "large_blocks = user_written_unsafe_blocks.query(\"mir_items_count >= 2000\")\n",
    "print(\"Count of huge outliers:\", len(large_blocks))\n",
    "print(\"Percentage:\", 100*len(large_blocks)/len(user_written_unsafe_blocks))\n",
    "print(\"Largest:\", user_written_unsafe_blocks.mir_items_count.max())"
   ]
  },
  {
   "cell_type": "code",
   "execution_count": 7,
   "metadata": {},
   "outputs": [
    {
     "name": "stdout",
     "output_type": "stream",
     "text": [
      "gen by macros: 0\n",
      "Series([], Name: crate, dtype: int64)\n"
     ]
    }
   ],
   "source": [
    "data = user_written_unsafe_blocks[\n",
    "    (user_written_unsafe_blocks.mir_items_count >= 2000)\n",
    "    & (user_written_unsafe_blocks.expansion_kind != \"Root\")\n",
    "]\n",
    "print(\"gen by macros:\", len(data))\n",
    "print(data.crate.value_counts())\n",
    "del data"
   ]
  },
  {
   "cell_type": "code",
   "execution_count": 8,
   "metadata": {},
   "outputs": [
    {
     "name": "stdout",
     "output_type": "stream",
     "text": [
      "gen at compile time: 0\n",
      "Series([], Name: crate, dtype: int64)\n"
     ]
    }
   ],
   "source": [
    "data = user_written_unsafe_blocks[\n",
    "    (user_written_unsafe_blocks.mir_items_count >= 2000)\n",
    "    & (user_written_unsafe_blocks.expansion_kind == \"Root\")\n",
    "    & (user_written_unsafe_blocks.file_name.str.contains(\"out/\"))\n",
    "]\n",
    "print(\"gen at compile time:\", len(data))\n",
    "print(data.crate.value_counts())\n",
    "del data"
   ]
  },
  {
   "cell_type": "code",
   "execution_count": 9,
   "metadata": {
    "scrolled": true
   },
   "outputs": [
    {
     "name": "stdout",
     "output_type": "stream",
     "text": [
      "not gen at compile time or by macros: 0\n",
      "Series([], Name: crate, dtype: int64)\n",
      "top cases:\n"
     ]
    },
    {
     "data": {
      "text/html": [
       "<div>\n",
       "<style scoped>\n",
       "    .dataframe tbody tr th:only-of-type {\n",
       "        vertical-align: middle;\n",
       "    }\n",
       "\n",
       "    .dataframe tbody tr th {\n",
       "        vertical-align: top;\n",
       "    }\n",
       "\n",
       "    .dataframe thead th {\n",
       "        text-align: right;\n",
       "    }\n",
       "</style>\n",
       "<table border=\"1\" class=\"dataframe\">\n",
       "  <thead>\n",
       "    <tr style=\"text-align: right;\">\n",
       "      <th></th>\n",
       "      <th>build</th>\n",
       "      <th>crate</th>\n",
       "      <th>crate_hash</th>\n",
       "      <th>def_path</th>\n",
       "      <th>def_path_hash</th>\n",
       "      <th>summary_key</th>\n",
       "      <th>scope</th>\n",
       "      <th>check_mode</th>\n",
       "      <th>span</th>\n",
       "      <th>expansion_kind</th>\n",
       "      <th>expansion_kind_descr</th>\n",
       "      <th>file_name</th>\n",
       "      <th>line</th>\n",
       "      <th>col</th>\n",
       "      <th>mir_statements_count</th>\n",
       "      <th>mir_terminators_count</th>\n",
       "      <th>mir_items_count</th>\n",
       "    </tr>\n",
       "  </thead>\n",
       "  <tbody>\n",
       "  </tbody>\n",
       "</table>\n",
       "</div>"
      ],
      "text/plain": [
       "Empty DataFrame\n",
       "Columns: [build, crate, crate_hash, def_path, def_path_hash, summary_key, scope, check_mode, span, expansion_kind, expansion_kind_descr, file_name, line, col, mir_statements_count, mir_terminators_count, mir_items_count]\n",
       "Index: []"
      ]
     },
     "execution_count": 9,
     "metadata": {},
     "output_type": "execute_result"
    }
   ],
   "source": [
    "data = user_written_unsafe_blocks[\n",
    "    (user_written_unsafe_blocks.mir_items_count >= 2000)\n",
    "    & (user_written_unsafe_blocks.expansion_kind == \"Root\")\n",
    "    & (~user_written_unsafe_blocks.file_name.str.contains(\"out/\"))\n",
    "]\n",
    "print(\"not gen at compile time or by macros:\", len(data))\n",
    "print(data.crate.value_counts())\n",
    "print(\"top cases:\")\n",
    "data[\n",
    "    data.mir_items_count >= 12000\n",
    "]"
   ]
  },
  {
   "cell_type": "code",
   "execution_count": null,
   "metadata": {},
   "outputs": [],
   "source": []
  }
 ],
 "metadata": {
  "kernelspec": {
   "display_name": "Python 3",
   "language": "python",
   "name": "python3"
  },
  "language_info": {
   "codemirror_mode": {
    "name": "ipython",
    "version": 3
   },
   "file_extension": ".py",
   "mimetype": "text/x-python",
   "name": "python",
   "nbconvert_exporter": "python",
   "pygments_lexer": "ipython3",
   "version": "3.8.6"
  }
 },
 "nbformat": 4,
 "nbformat_minor": 4
}
